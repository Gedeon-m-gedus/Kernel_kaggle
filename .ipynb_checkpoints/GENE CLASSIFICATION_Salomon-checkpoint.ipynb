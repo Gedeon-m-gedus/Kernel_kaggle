{
 "cells": [
  {
   "cell_type": "code",
   "execution_count": 1,
   "metadata": {
    "_cell_guid": "79c7e3d0-c299-4dcb-8224-4455121ee9b0",
    "_uuid": "d629ff2d2480ee46fbb7e2d37f6b5fab8052498a"
   },
   "outputs": [
    {
     "name": "stdout",
     "output_type": "stream",
     "text": [
      "  Building wheel for ipdb (setup.py) ... \u001b[?25l\u001b[?25hdone\n",
      "  Building wheel for ipython-autotime (setup.py) ... \u001b[?25l\u001b[?25hdone\n",
      "\u001b[K     |████████████████████████████████| 184kB 6.2MB/s eta 0:00:01\n",
      "\u001b[K     |████████████████████████████████| 1.1MB 8.4MB/s eta 0:00:01\n",
      "\u001b[?25h  Installing build dependencies ... \u001b[?25l\u001b[?25hdone\n",
      "  Getting requirements to build wheel ... \u001b[?25l\u001b[?25hdone\n",
      "    Preparing wheel metadata ... \u001b[?25l\u001b[?25hdone\n",
      "\u001b[K     |████████████████████████████████| 81kB 9.1MB/s  eta 0:00:01\n",
      "\u001b[K     |████████████████████████████████| 81kB 8.3MB/s  eta 0:00:01\n",
      "\u001b[K     |████████████████████████████████| 51kB 6.0MB/s  eta 0:00:01\n",
      "\u001b[K     |████████████████████████████████| 61kB 6.3MB/s  eta 0:00:01\n",
      "\u001b[K     |████████████████████████████████| 112kB 36.5MB/s eta 0:00:01\n",
      "\u001b[?25h  Building wheel for alembic (PEP 517) ... \u001b[?25l\u001b[?25hdone\n",
      "  Building wheel for optuna (setup.py) ... \u001b[?25l\u001b[?25hdone\n",
      "  Building wheel for pyperclip (setup.py) ... \u001b[?25l\u001b[?25hdone\n"
     ]
    }
   ],
   "source": [
    "#@title Installation\n",
    "!pip install --quie ipdb # debug\n",
    "!pip install --quie ipython-autotime  # timming\n",
    "!pip install --quie optuna  # hyperparaeters"
   ]
  },
  {
   "cell_type": "code",
   "execution_count": 2,
   "metadata": {},
   "outputs": [
    {
     "name": "stderr",
     "output_type": "stream",
     "text": [
      "/usr/local/lib/python3.6/dist-packages/statsmodels/tools/_testing.py:19: FutureWarning: pandas.util.testing is deprecated. Use the functions in the public API at pandas.testing instead.\n",
      "  import pandas.util.testing as tm\n"
     ]
    }
   ],
   "source": [
    "# @title Imports\n",
    "\n",
    "import pandas as pd\n",
    "import seaborn as sns\n",
    "import numpy as np\n",
    "import matplotlib.pyplot as plt\n",
    "import cvxopt\n",
    "np.random.seed(54321)\n",
    "\n",
    "import ipdb\n",
    "\n",
    "import optuna\n",
    "\n",
    "from sklearn.model_selection import KFold \n",
    "from sklearn.preprocessing import MinMaxScaler, StandardScaler\n",
    "\n",
    "from sklearn.preprocessing import OneHotEncoder\n",
    "\n",
    "%load_ext autotime"
   ]
  },
  {
   "cell_type": "code",
   "execution_count": 3,
   "metadata": {},
   "outputs": [
    {
     "name": "stdout",
     "output_type": "stream",
     "text": [
      "time: 26.3 ms\n"
     ]
    }
   ],
   "source": [
    "X_train=pd.read_csv('./data/Xtr.csv', sep=',') #we use this dataset to train our model\n",
    "Y_train=pd.read_csv('./data/Ytr.csv', sep=',') #we use this dataset to train our model\n",
    "X_test=pd.read_csv('./data/Xte.csv', sep=',') #we will use this data set later to validate our model\n",
    "\n",
    "# X_train_mat=pd.read_csv('./data/Xtr_mat100.csv', sep=',') #we use this dataset to train our model\n",
    "# X_test_mat=pd.read_csv('./data/Xte_mat100.csv', sep=',') #we will use this data set later to validate our model"
   ]
  },
  {
   "cell_type": "code",
   "execution_count": 4,
   "metadata": {},
   "outputs": [
    {
     "data": {
      "text/html": [
       "<div>\n",
       "<style scoped>\n",
       "    .dataframe tbody tr th:only-of-type {\n",
       "        vertical-align: middle;\n",
       "    }\n",
       "\n",
       "    .dataframe tbody tr th {\n",
       "        vertical-align: top;\n",
       "    }\n",
       "\n",
       "    .dataframe thead th {\n",
       "        text-align: right;\n",
       "    }\n",
       "</style>\n",
       "<table border=\"1\" class=\"dataframe\">\n",
       "  <thead>\n",
       "    <tr style=\"text-align: right;\">\n",
       "      <th></th>\n",
       "      <th>Id</th>\n",
       "      <th>seq</th>\n",
       "    </tr>\n",
       "  </thead>\n",
       "  <tbody>\n",
       "    <tr>\n",
       "      <th>1995</th>\n",
       "      <td>1995</td>\n",
       "      <td>TAACTTTTGACAGGTCAGAATACAAAACTGATTTATTTACAGTGTC...</td>\n",
       "    </tr>\n",
       "    <tr>\n",
       "      <th>1996</th>\n",
       "      <td>1996</td>\n",
       "      <td>ACGCCCATTCCGCCCTGCTAAGCCTCGCCCATTACATCCAGACTGC...</td>\n",
       "    </tr>\n",
       "    <tr>\n",
       "      <th>1997</th>\n",
       "      <td>1997</td>\n",
       "      <td>TGGCTACTAGCTAGAGATAGCATCTCTCTGTGGACAACTCTCCAGC...</td>\n",
       "    </tr>\n",
       "    <tr>\n",
       "      <th>1998</th>\n",
       "      <td>1998</td>\n",
       "      <td>CCCAGCTGTCAAAAAGCAGCCCAAAGGAAGCTCACGGTGTGCCGGC...</td>\n",
       "    </tr>\n",
       "    <tr>\n",
       "      <th>1999</th>\n",
       "      <td>1999</td>\n",
       "      <td>TGCTAGTTGATGAAACAATAACTGCTAAAAGGTATACAGCCATGTC...</td>\n",
       "    </tr>\n",
       "  </tbody>\n",
       "</table>\n",
       "</div>"
      ],
      "text/plain": [
       "        Id                                                seq\n",
       "1995  1995  TAACTTTTGACAGGTCAGAATACAAAACTGATTTATTTACAGTGTC...\n",
       "1996  1996  ACGCCCATTCCGCCCTGCTAAGCCTCGCCCATTACATCCAGACTGC...\n",
       "1997  1997  TGGCTACTAGCTAGAGATAGCATCTCTCTGTGGACAACTCTCCAGC...\n",
       "1998  1998  CCCAGCTGTCAAAAAGCAGCCCAAAGGAAGCTCACGGTGTGCCGGC...\n",
       "1999  1999  TGCTAGTTGATGAAACAATAACTGCTAAAAGGTATACAGCCATGTC..."
      ]
     },
     "execution_count": 4,
     "metadata": {},
     "output_type": "execute_result"
    },
    {
     "name": "stdout",
     "output_type": "stream",
     "text": [
      "time: 17.8 ms\n"
     ]
    }
   ],
   "source": [
    "X_train.tail()"
   ]
  },
  {
   "cell_type": "code",
   "execution_count": 5,
   "metadata": {},
   "outputs": [
    {
     "name": "stdout",
     "output_type": "stream",
     "text": [
      "The shape of the X_train dataset is: (2000, 2)\n",
      "The shape of the Y_train dataset is: (2000, 2)\n",
      "time: 1.05 ms\n"
     ]
    }
   ],
   "source": [
    "print('The shape of the X_train dataset is:',X_train.shape)\n",
    "print('The shape of the Y_train dataset is:',Y_train.shape)"
   ]
  },
  {
   "cell_type": "code",
   "execution_count": 6,
   "metadata": {},
   "outputs": [
    {
     "name": "stdout",
     "output_type": "stream",
     "text": [
      "time: 653 µs\n"
     ]
    }
   ],
   "source": [
    "# X_train['len'] = X_train.seq.apply(lambda x : len(x))"
   ]
  },
  {
   "cell_type": "code",
   "execution_count": 7,
   "metadata": {},
   "outputs": [
    {
     "data": {
      "text/html": [
       "<div>\n",
       "<style scoped>\n",
       "    .dataframe tbody tr th:only-of-type {\n",
       "        vertical-align: middle;\n",
       "    }\n",
       "\n",
       "    .dataframe tbody tr th {\n",
       "        vertical-align: top;\n",
       "    }\n",
       "\n",
       "    .dataframe thead th {\n",
       "        text-align: right;\n",
       "    }\n",
       "</style>\n",
       "<table border=\"1\" class=\"dataframe\">\n",
       "  <thead>\n",
       "    <tr style=\"text-align: right;\">\n",
       "      <th></th>\n",
       "      <th>Id</th>\n",
       "      <th>seq</th>\n",
       "    </tr>\n",
       "  </thead>\n",
       "  <tbody>\n",
       "    <tr>\n",
       "      <th>0</th>\n",
       "      <td>0</td>\n",
       "      <td>GAGGGGCTGGGGAGGGGGCTGGCCCAGAGGCACCAGACTCTGCAGA...</td>\n",
       "    </tr>\n",
       "    <tr>\n",
       "      <th>1</th>\n",
       "      <td>1</td>\n",
       "      <td>CGGCCTGGGGGCCACATGTGAGTGCTTACCTGTGTGGGGATGAGGG...</td>\n",
       "    </tr>\n",
       "    <tr>\n",
       "      <th>2</th>\n",
       "      <td>2</td>\n",
       "      <td>GACAACGCCGCTGTCAGCCGCCTTCGACTCACCTGGGAGGTGATGA...</td>\n",
       "    </tr>\n",
       "    <tr>\n",
       "      <th>3</th>\n",
       "      <td>3</td>\n",
       "      <td>GCCTCCCTTGGCACCACGGGAGACCAGTTTTGGAGGGGCGGGGCTG...</td>\n",
       "    </tr>\n",
       "    <tr>\n",
       "      <th>4</th>\n",
       "      <td>4</td>\n",
       "      <td>GCACTACTACACCCATTGCTGTAATAGTAAGTGCCGGTGCCTTCAC...</td>\n",
       "    </tr>\n",
       "  </tbody>\n",
       "</table>\n",
       "</div>"
      ],
      "text/plain": [
       "   Id                                                seq\n",
       "0   0  GAGGGGCTGGGGAGGGGGCTGGCCCAGAGGCACCAGACTCTGCAGA...\n",
       "1   1  CGGCCTGGGGGCCACATGTGAGTGCTTACCTGTGTGGGGATGAGGG...\n",
       "2   2  GACAACGCCGCTGTCAGCCGCCTTCGACTCACCTGGGAGGTGATGA...\n",
       "3   3  GCCTCCCTTGGCACCACGGGAGACCAGTTTTGGAGGGGCGGGGCTG...\n",
       "4   4  GCACTACTACACCCATTGCTGTAATAGTAAGTGCCGGTGCCTTCAC..."
      ]
     },
     "execution_count": 7,
     "metadata": {},
     "output_type": "execute_result"
    },
    {
     "name": "stdout",
     "output_type": "stream",
     "text": [
      "time: 9.25 ms\n"
     ]
    }
   ],
   "source": [
    "X_train.head()"
   ]
  },
  {
   "cell_type": "code",
   "execution_count": 8,
   "metadata": {},
   "outputs": [
    {
     "data": {
      "text/html": [
       "<div>\n",
       "<style scoped>\n",
       "    .dataframe tbody tr th:only-of-type {\n",
       "        vertical-align: middle;\n",
       "    }\n",
       "\n",
       "    .dataframe tbody tr th {\n",
       "        vertical-align: top;\n",
       "    }\n",
       "\n",
       "    .dataframe thead th {\n",
       "        text-align: right;\n",
       "    }\n",
       "</style>\n",
       "<table border=\"1\" class=\"dataframe\">\n",
       "  <thead>\n",
       "    <tr style=\"text-align: right;\">\n",
       "      <th></th>\n",
       "      <th>Id</th>\n",
       "      <th>seq</th>\n",
       "    </tr>\n",
       "  </thead>\n",
       "  <tbody>\n",
       "    <tr>\n",
       "      <th>0</th>\n",
       "      <td>0</td>\n",
       "      <td>GAGGGGCTGGGGAGGGGGCTGGCCCAGAGGCACCAGACTCTGCAGA...</td>\n",
       "    </tr>\n",
       "    <tr>\n",
       "      <th>1</th>\n",
       "      <td>1</td>\n",
       "      <td>CGGCCTGGGGGCCACATGTGAGTGCTTACCTGTGTGGGGATGAGGG...</td>\n",
       "    </tr>\n",
       "    <tr>\n",
       "      <th>2</th>\n",
       "      <td>2</td>\n",
       "      <td>GACAACGCCGCTGTCAGCCGCCTTCGACTCACCTGGGAGGTGATGA...</td>\n",
       "    </tr>\n",
       "    <tr>\n",
       "      <th>3</th>\n",
       "      <td>3</td>\n",
       "      <td>GCCTCCCTTGGCACCACGGGAGACCAGTTTTGGAGGGGCGGGGCTG...</td>\n",
       "    </tr>\n",
       "    <tr>\n",
       "      <th>4</th>\n",
       "      <td>4</td>\n",
       "      <td>GCACTACTACACCCATTGCTGTAATAGTAAGTGCCGGTGCCTTCAC...</td>\n",
       "    </tr>\n",
       "  </tbody>\n",
       "</table>\n",
       "</div>"
      ],
      "text/plain": [
       "   Id                                                seq\n",
       "0   0  GAGGGGCTGGGGAGGGGGCTGGCCCAGAGGCACCAGACTCTGCAGA...\n",
       "1   1  CGGCCTGGGGGCCACATGTGAGTGCTTACCTGTGTGGGGATGAGGG...\n",
       "2   2  GACAACGCCGCTGTCAGCCGCCTTCGACTCACCTGGGAGGTGATGA...\n",
       "3   3  GCCTCCCTTGGCACCACGGGAGACCAGTTTTGGAGGGGCGGGGCTG...\n",
       "4   4  GCACTACTACACCCATTGCTGTAATAGTAAGTGCCGGTGCCTTCAC..."
      ]
     },
     "execution_count": 8,
     "metadata": {},
     "output_type": "execute_result"
    },
    {
     "name": "stdout",
     "output_type": "stream",
     "text": [
      "time: 10.1 ms\n"
     ]
    }
   ],
   "source": [
    "X_train.head()"
   ]
  },
  {
   "cell_type": "code",
   "execution_count": 9,
   "metadata": {},
   "outputs": [
    {
     "name": "stdout",
     "output_type": "stream",
     "text": [
      "time: 886 µs\n"
     ]
    }
   ],
   "source": [
    "# X = X_train.drop(['seq', 'Id'], axis=1)\n",
    "# X_t = X_test.drop(['seq', 'Id'], axis=1)\n",
    "# y = Y_train.Bound"
   ]
  },
  {
   "cell_type": "markdown",
   "metadata": {},
   "source": [
    "## Models"
   ]
  },
  {
   "cell_type": "code",
   "execution_count": 10,
   "metadata": {},
   "outputs": [
    {
     "name": "stdout",
     "output_type": "stream",
     "text": [
      "time: 49.7 ms\n"
     ]
    }
   ],
   "source": [
    "class LogisticRegressionBinary():\n",
    "    def __init__(self, lr=0.1, num_iter=100000, batch_size=1, verbose=False):\n",
    "        self.lr = lr\n",
    "        self.num_iter = num_iter\n",
    "        self.batch_size = batch_size\n",
    "        self.verbose = verbose\n",
    "    \n",
    "    def __add_intercept(self, X):\n",
    "        intercept = np.ones((X.shape[0], 1))\n",
    "        return np.concatenate((intercept, X), axis=1)\n",
    "    \n",
    "    def __sigmoid_func(self, z):\n",
    "        return 1 / (1 + np.exp(-z))\n",
    "    \n",
    "    def __loss(self, h, y):\n",
    "        return (-y * np.log(h) - (1 - y) * np.log(1 - h)).mean()\n",
    "    \n",
    "    def fit(self, X, y):\n",
    "        y = self.trans_y(y)\n",
    "        X = self.__add_intercept(X)\n",
    "        self.theta = np.zeros(X.shape[1])\n",
    "        \n",
    "        for i in range(self.num_iter):\n",
    "            z = np.dot(X, self.theta)\n",
    "            h = self.__sigmoid_func(z)\n",
    "                        \n",
    "            rand = np.random.choice(y.size, self.batch_size).squeeze()\n",
    "            gradient = np.dot(X[rand].T, (h[rand] - y[rand]))/y.size   \n",
    "        \n",
    "            self.theta -= self.lr * gradient\n",
    "            #print('theta and grad',self.theta.shape ,  gradient.shape )\n",
    "            if(self.verbose == True and i % 100 == 0):\n",
    "                z = np.dot(X, self.theta)\n",
    "                h = self.__sigmoid(z)\n",
    "                print(f'loss: {self.__loss(h, y)} \\t')\n",
    "    \n",
    "    def predict_probability(self, X):\n",
    "        X = self.__add_intercept(X)\n",
    "    \n",
    "        return self.__sigmoid_func(np.dot(X, self.theta))\n",
    "    \n",
    "    def predict(self, X, threshold=.5):\n",
    "          return np.where(self.predict_probability(X) >= 0.5, 1, 0)\n",
    "        \n",
    "          \n",
    "    def Accuracy_check(self, X, y, threshold = 0.5):\n",
    "        return np.mean(self.predict(X, threshold)==y)\n",
    "    \n",
    "    def trans_y(self, y):\n",
    "        if isinstance(y, pd.Series):\n",
    "            y = y.values\n",
    "        if isinstance(y, list):\n",
    "            y = np.array(y)\n",
    "        return y"
   ]
  },
  {
   "cell_type": "code",
   "execution_count": 11,
   "metadata": {},
   "outputs": [
    {
     "name": "stdout",
     "output_type": "stream",
     "text": [
      "time: 122 ms\n"
     ]
    }
   ],
   "source": [
    "# Ridge Regression (RR)\n",
    "\n",
    "class solveRR():\n",
    "    def __init__(self, X, y, lam=0.1):\n",
    "        self.beta = None\n",
    "        self.X = X\n",
    "        self.y = y\n",
    "        self.lam = lam\n",
    "            \n",
    "    def fit(self):\n",
    "        \n",
    "        X = self.X\n",
    "        y = self.y\n",
    "        lam = self.lam \n",
    "        \n",
    "        n, p = X.shape\n",
    "        assert (len(y) == n)\n",
    "\n",
    "        A = (X.T.dot(X)) + np.eye(p)*lam*n\n",
    "        b = X.T.dot(y)\n",
    "        \n",
    "        self.beta = np.linalg.solve(A, b)\n",
    "        \n",
    "        return self.beta\n",
    "    \n",
    "        \n",
    "    def predict(self, X, threshold=.5):\n",
    "        return np.where(X.dot(self.beta) >= threshold, 1, 0)\n",
    "        \n",
    "          \n",
    "    def Accuracy_check(self,X, y, threshold=.5):\n",
    "        return np.mean(self.predict(X, threshold)==y)\n",
    "    \n",
    "\n",
    "# Weighted Ridge Regression (WRR)\n",
    "class solveWRR():\n",
    "    def __init__(self, X, y, w, lam=0.1):\n",
    "        self.beta = None\n",
    "        self.X = X\n",
    "        self.y = y\n",
    "        self.lam = lam\n",
    "        self.w = w\n",
    "    \n",
    "    def fit(self):\n",
    "        \n",
    "        X = self.X\n",
    "        y = self.y\n",
    "        lam = self.lam \n",
    "        w = self.w\n",
    "        \n",
    "        n, p = X.shape\n",
    "        assert (len(y) == len(w) == n)\n",
    "\n",
    "        y1 = np.sqrt(w) * y\n",
    "        X1 = (np.sqrt(w) * X.T).T\n",
    "        \n",
    "        # Hint:\n",
    "        # Find y1 and X1 such that:\n",
    "        \n",
    "        self.beta = solveRR(X1, y1, lam).fit()\n",
    "                \n",
    "        return self.beta\n",
    "    \n",
    "        \n",
    "    def predict(self, X, threshold):\n",
    "        return np.where(X.dot(self.beta) >= threshold, 1, 0)\n",
    "        \n",
    "          \n",
    "    def Accuracy_check(self,X, y, threshold=.5):\n",
    "        return np.mean(self.predict(X, threshold)==y)\n",
    "    \n",
    "\n",
    "# Logistic Ridge Regression (LRR)\n",
    "class solveLRR():\n",
    "    def __init__(self, X, y, lam=0.1):\n",
    "        self.beta = None\n",
    "        self.X = X\n",
    "        self.y = y\n",
    "        self.lam = lam\n",
    "    \n",
    "    def fit(self):\n",
    "        \n",
    "        X = self.X\n",
    "        y = self.y\n",
    "        \n",
    "        n, p = X.shape\n",
    "        assert (len(y) == n)\n",
    "    \n",
    "        lam = self.lam \n",
    "        max_iter = 50\n",
    "        eps = 1e-3\n",
    "        sigmoid = lambda a: 1/(1 + np.exp(-a))\n",
    "        \n",
    "        \n",
    "        \n",
    "        # Initialize\n",
    "        self.beta = np.zeros(p)\n",
    "\n",
    "        # Hint: Use IRLS\n",
    "        for i in range(max_iter):\n",
    "            beta_old = self.beta\n",
    "            f = X.dot(beta_old)\n",
    "            w = sigmoid(f) * sigmoid(-f)\n",
    "            z = f + y / sigmoid(y*f)\n",
    "            self.beta = solveWRR(X, z, w, 2*lam).fit()\n",
    "            # Break condition (achieved convergence)\n",
    "            #if np.sum((beta-beta_old)**2) < eps:\n",
    "            #    break                \n",
    "        return self.beta\n",
    "    \n",
    "        \n",
    "    def predict(self, X, threshold):\n",
    "        return np.where(X.dot(self.beta) >= threshold, 1, 0)\n",
    "        \n",
    "          \n",
    "    def Accuracy_check(self,X, y, threshold=.5):\n",
    "        return np.mean(self.predict(X, threshold)==y)"
   ]
  },
  {
   "cell_type": "markdown",
   "metadata": {},
   "source": [
    "# Kernel"
   ]
  },
  {
   "cell_type": "code",
   "execution_count": 12,
   "metadata": {},
   "outputs": [
    {
     "name": "stdout",
     "output_type": "stream",
     "text": [
      "time: 28.7 ms\n"
     ]
    }
   ],
   "source": [
    "import numpy as np\n",
    "\n",
    "### Functions for you to fill in ###\n",
    "\n",
    "def polynomial_kernel(X, Y, c, p):\n",
    "    \"\"\"\n",
    "        Compute the polynomial kernel between two matrices X and Y::\n",
    "            K(x, y) = (<x, y> + c)^p\n",
    "        for each pair of rows x in X and y in Y.\n",
    "\n",
    "        Args:\n",
    "            X - (n, d) NumPy array (n datapoints each with d features)\n",
    "            Y - (m, d) NumPy array (m datapoints each with d features)\n",
    "            c - a coefficient to trade off high-order and low-order terms (scalar)\n",
    "            p - the degree of the polynomial kernel\n",
    "\n",
    "        Returns:\n",
    "            kernel_matrix - (n, m) Numpy array containing the kernel matrix\n",
    "    \"\"\"\n",
    "    # YOUR CODE HERE\n",
    "    # raise NotImplementedError\n",
    "    kernel_matrix = (X.dot(Y.T) + c)**p\n",
    "    \n",
    "    return kernel_matrix\n",
    "\n",
    "\n",
    "def rbf_kernel_element_wise(x, y, sigma=1):\n",
    "    '''\n",
    "    returns the RBF (Gaussian) kernel k(x, y)\n",
    "    \n",
    "    Input:\n",
    "    ------\n",
    "    x and y are p-dimensional vectors \n",
    "    '''\n",
    "    K = np.exp(- np.sum((x - y)**2) / (2 * sigma ** 2))\n",
    "    return K\n",
    "\n",
    "def rbf_kernel(X1, X2, sigma=10):\n",
    "    '''\n",
    "    Returns the kernel matrix K(X1_i, X2_j): size (n1, n2)\n",
    "    \n",
    "    Input:\n",
    "    ------\n",
    "    X1: an (n1, p) matrix\n",
    "    X2: an (n2, p) matrix\n",
    "    '''\n",
    "    # For loop with rbf_kernel_element works but is slow in python\n",
    "    # Use matrix operations!\n",
    "    X2_norm = np.sum(X2 ** 2, axis=-1)\n",
    "    X1_norm = np.sum(X1 ** 2, axis=-1)\n",
    "    gamma = 1 / (2 * sigma ** 2)\n",
    "    K = np.exp(- gamma * (X1_norm[:, None] + X2_norm[None, :] - 2 * np.dot(X1, X2.T)))\n",
    "    return K\n",
    "\n",
    "def laplace(X1, X2, alpha=10):\n",
    "    return np.exp(-alpha*np.abs(X1-X2))\n",
    "\n",
    "\n",
    "def linear_kernel(X1, X2):\n",
    "    '''\n",
    "    Returns the kernel matrix K(X1_i, X2_j): size (n1, n2)\n",
    "    where K is the linear kernel\n",
    "    \n",
    "    Input:\n",
    "    ------\n",
    "    X1: an (n1, p) matrix\n",
    "    X2: an (n2, p) matrix\n",
    "    '''\n",
    "    return X1.dot(X2.T)\n",
    "\n",
    "def quadratic_kernel(X1, X2, power=2):\n",
    "    '''\n",
    "    Returns the kernel matrix K(X1_i, X2_j): size (n1, n2)\n",
    "    where K is the quadratic kernel\n",
    "    \n",
    "    Input:\n",
    "    ------\n",
    "    X1: an (n1, p) matrix\n",
    "    X2: an (n2, p) matrix\n",
    "    '''\n",
    "    return (1 + linear_kernel(X1, X2))**power\n",
    "\n",
    "def rbf_poly_kernel(X1, X2, sigma=10, d=2, rbf=1.0, poly=1.0):\n",
    "    '''\n",
    "    Returns the kernel matrix K(X1_i, X2_j): size (n1, n2)\n",
    "    \n",
    "    Input:\n",
    "    ------\n",
    "    X1: an (n1, p) matrix\n",
    "    X2: an (n2, p) matrix\n",
    "    '''\n",
    "    # For loop with rbf_kernel_element works but is slow in python\n",
    "    # Use matrix operations!\n",
    "    X2_norm = np.sum(X2 ** 2, axis=-1)\n",
    "    X1_norm = np.sum(X1 ** 2, axis=-1)\n",
    "    gamma = 1 / (2 * sigma ** 2)\n",
    "    K = np.exp(- gamma * (X1_norm[:, None] + X2_norm[None, :] - 2 * np.dot(X1, X2.T)))\n",
    "    \n",
    "    return rbf*K + poly*(X1.dot(X2.T) +1)**d"
   ]
  },
  {
   "cell_type": "code",
   "execution_count": null,
   "metadata": {},
   "outputs": [],
   "source": []
  },
  {
   "cell_type": "code",
   "execution_count": 13,
   "metadata": {},
   "outputs": [
    {
     "name": "stdout",
     "output_type": "stream",
     "text": [
      "time: 17.1 ms\n"
     ]
    }
   ],
   "source": [
    "class ksolveRR_2():\n",
    "    def __init__(self, X, y, lam= 0.0001, sigma=0.5, sample_weights = None, kernel = rbf_kernel):\n",
    "        self.alpha = None\n",
    "        self.X = X\n",
    "        self.y = y\n",
    "        self.lam = lam\n",
    "        self.sigma = sigma\n",
    "        self.kernel = kernel\n",
    "        self.sample_weights = sample_weights\n",
    "            \n",
    "    \n",
    "    def fit(self):\n",
    "        if self.sample_weights is not None:\n",
    "            self.X *= self.sample_weights[:, None]\n",
    "        \n",
    "        X = self.X\n",
    "        y = self.y\n",
    "        lam = self.lam\n",
    "        \n",
    "        n, p = X.shape\n",
    "        assert (len(y) == n)\n",
    "        \n",
    "        A = self.kernel(X, X, self.sigma)+n*self.lam*np.eye(n)\n",
    "        self.alpha = np.linalg.solve(A, y)\n",
    "        \n",
    "        return self\n",
    "    \n",
    "        \n",
    "    def predict(self, X, threshold=.5):\n",
    "        K_x = self.kernel(X, self.X, self.sigma)\n",
    "        return np.where(K_x.dot(self.alpha) >= threshold, 1, 0)\n",
    "        \n",
    "          \n",
    "    def Accuracy_check(self,X, y, threshold=.5):\n",
    "        return np.mean(self.predict(X, threshold)==y)"
   ]
  },
  {
   "cell_type": "code",
   "execution_count": 26,
   "metadata": {},
   "outputs": [
    {
     "name": "stdout",
     "output_type": "stream",
     "text": [
      "time: 14.8 ms\n"
     ]
    }
   ],
   "source": [
    "class ksolveRR():\n",
    "    def __init__(self, X, y, lam= 0.0001, kernel=rbf_kernel):\n",
    "        self.beta = None\n",
    "        self.X = X\n",
    "        self.y = y\n",
    "        self.lam = lam\n",
    "        self.kernel = kernel\n",
    "            \n",
    "    \n",
    "    def fit(self):\n",
    "        X = self.X\n",
    "        y = self.y\n",
    "        lam = self.lam \n",
    "        \n",
    "        n, p = X.shape\n",
    "        assert (len(y) == n)\n",
    "        \n",
    "#         if self.sigma is None:\n",
    "#             self.sigma = sigma_from_median(X)\n",
    "            \n",
    "#         A = self.kernel(X, X, self.sigma)+n*self.lam*np.eye(n)\n",
    "        A = self.kernel(X, X) + n*self.lam*np.eye(n)\n",
    "        self.alpha = np.linalg.solve(A, y)\n",
    "        \n",
    "        return self.beta\n",
    "    \n",
    "        \n",
    "    def predict(self, X, threshold=.5):\n",
    "#         K_x = self.kernel(X, self.X, self.sigma)\n",
    "        K_x = self.kernel(X, self.X)\n",
    "        return np.where(K_x.dot(self.alpha) >= threshold, 1, 0)\n",
    "        \n",
    "          \n",
    "    def Accuracy_check(self,X, y, threshold=.5):\n",
    "        return np.mean(self.predict(X, threshold)==y)"
   ]
  },
  {
   "cell_type": "code",
   "execution_count": 15,
   "metadata": {},
   "outputs": [
    {
     "name": "stdout",
     "output_type": "stream",
     "text": [
      "time: 32.3 ms\n"
     ]
    }
   ],
   "source": [
    "# Logistic Ridge Regression (LRR)\n",
    "class ksolveLRR():\n",
    "    def __init__(self, X, y, lam = 0.1, sigma = 4, max_iter=100, tol=1e-5, kernel=rbf_kernel):\n",
    "        self.alpha = None\n",
    "        self.X = X\n",
    "        self.y = y\n",
    "        self.lam = lam\n",
    "        \n",
    "        self.kernel = kernel\n",
    "        \n",
    "        self.sigma = sigma\n",
    "        self.max_iter = max_iter\n",
    "        self.tol = tol\n",
    "        \n",
    "    \n",
    "    def fit(self):\n",
    "        \n",
    "        X = self.X\n",
    "        y = self.y\n",
    "        \n",
    "        n, p = X.shape\n",
    "        assert (len(y) == n)\n",
    "\n",
    "        sigmoid = lambda a: 1/(1 + np.exp(-a))\n",
    "        \n",
    "        K = self.kernel(X, X)\n",
    "\n",
    "        # Initialize\n",
    "        alpha = np.zeros(n)\n",
    "        \n",
    "        # Hint: Use IRLS\n",
    "        for n_iter in range(self.max_iter):\n",
    "            alpha_old = alpha\n",
    "            f = K.dot(alpha_old)\n",
    "            w = sigmoid(f) * sigmoid(-f)\n",
    "            z = f + y / sigmoid(y*(f))\n",
    "            \n",
    "            alpha = ksolveRR_2(X, y, lam = 2*self.lam, \\\n",
    "                               sigma=self.sigma, sample_weights = w).fit().alpha\n",
    "            \n",
    "            # Break condition (achieved convergence)\n",
    "            if np.sum((alpha-alpha_old)**2) < self.tol:\n",
    "                break  \n",
    "                \n",
    "                \n",
    "        self.n_iter = n_iter\n",
    "        self.alpha = alpha\n",
    "        \n",
    "        return self\n",
    "    \n",
    "        \n",
    "    def predict(self, X, threshold):\n",
    "        K_x = self.kernel(X, self.X)\n",
    "        return np.where(K_x.dot(self.alpha) >= threshold, 1, 0)\n",
    "        \n",
    "          \n",
    "    def Accuracy_check(self,X, y, threshold=.5):\n",
    "        return np.mean(self.predict(X, threshold)==y)"
   ]
  },
  {
   "cell_type": "code",
   "execution_count": 16,
   "metadata": {},
   "outputs": [
    {
     "name": "stdout",
     "output_type": "stream",
     "text": [
      "time: 129 ms\n"
     ]
    }
   ],
   "source": [
    "# You don't need to look at this, this is just to adapt our matrices\n",
    "# to the solver being used\n",
    "solver='cvxopt'\n",
    "\n",
    "import cvxopt\n",
    "\n",
    "def cvxopt_qp(P, q, G, h, A, b):\n",
    "    P = .5 * (P + P.T)\n",
    "    cvx_matrices = [\n",
    "        cvxopt.matrix(M) if M is not None else None for M in [P, q, G, h, A, b] \n",
    "    ]\n",
    "    #cvxopt.solvers.options['show_progress'] = False\n",
    "    solution = cvxopt.solvers.qp(*cvx_matrices, options={'show_progress': False})\n",
    "    return np.array(solution['x']).flatten()\n",
    "\n",
    "solve_qp = cvxopt_qp\n",
    "\n",
    "def quadprog_solve_qp(P, q, G=None, h=None, A=None, b=None):\n",
    "    qp_G = .5 * (P + P.T)   # make sure P is symmetric\n",
    "    qp_a = -q\n",
    "    if A is not None:\n",
    "        qp_C = -np.vstack([A, G]).T\n",
    "        qp_b = -np.hstack([b, h])\n",
    "        meq = A.shape[0]\n",
    "    else:  # no equality constraint\n",
    "        qp_C = - G.T\n",
    "        qp_b = - h\n",
    "        meq = 0\n",
    "    return quadprog.solve_qp(qp_G, qp_a, qp_C, qp_b, meq)[0]\n",
    "\n",
    "def cvxopt_qp(P, q, G, h, A, b):\n",
    "    P = .5 * (P + P.T)\n",
    "    cvx_matrices = [\n",
    "        cvxopt.matrix(M) if M is not None else None for M in [P, q, G, h, A, b] \n",
    "    ]\n",
    "    solution = cvxopt.solvers.qp(*cvx_matrices)\n",
    "    return np.array(solution['x']).flatten()\n",
    "\n",
    "solve_qp = {'quadprog': quadprog_solve_qp, 'cvxopt': cvxopt_qp}[solver]\n",
    "\n",
    "def svm_dual_soft_to_qp_kernel(K, y, C=1):\n",
    "    n = K.shape[0]\n",
    "    assert (len(y) == n)\n",
    "        \n",
    "    # Dual formulation, soft margin\n",
    "    P = np.diag(y).dot(K).dot(np.diag(y))\n",
    "    # As a regularization, we add epsilon * identity to P\n",
    "    eps = 1e-12\n",
    "    P += eps * np.eye(n)\n",
    "    q = - np.ones(n)\n",
    "    G = np.vstack([-np.eye(n), np.eye(n)])\n",
    "    h = np.hstack([np.zeros(n), C * np.ones(n)])\n",
    "    A = y[np.newaxis, :]\n",
    "    A = A.astype('float')\n",
    "    b = np.array([0.])\n",
    "    return P, q, G, h, A, b\n",
    "\n",
    "# SVM primal soft\n",
    "class KernelSVM():\n",
    "    def __init__(self, X, y, C=0.1, lam = 0.1, sigma = 4, tol = 1e-1, kernel=rbf_kernel):\n",
    "        self.alpha = None\n",
    "        self.X = X\n",
    "        self.y = y\n",
    "        self.w = None\n",
    "        self.b = None\n",
    "        self.C = C\n",
    "        self.kernel = kernel\n",
    "        self.lam = lam        \n",
    "        self.sigma = sigma\n",
    "        self.tol = tol\n",
    "    \n",
    "    def fit(self):\n",
    "        \n",
    "        X = self.X\n",
    "        y = self.y\n",
    "        C = self.C\n",
    "        \n",
    "        n, p = X.shape\n",
    "        assert (len(y) == n)\n",
    "        K = self.kernel(X, X)\n",
    "        \n",
    "        # Solve dual problem\n",
    "        self.alpha = solve_qp(*svm_dual_soft_to_qp_kernel(K, y, C=self.C))\n",
    "        \n",
    "        \n",
    "       # Compute support vectors and bias b\n",
    "        sv = np.logical_and((self.alpha>self.tol), (self.C - self.alpha > self.tol))\n",
    "        self.bias = y[sv] - K[sv].dot(self.alpha*y)\n",
    "        self.bias =  self.bias.mean()\n",
    "\n",
    "        self.support_vector_indices = np.nonzero(sv)[0]\n",
    "        \n",
    "        return self\n",
    "        \n",
    "        \n",
    "        \n",
    "    def predict(self, X, threshold):\n",
    "#         y_pred = self.kernel(X, self.X_).dot(self.alphas* seld.y_)\n",
    "        K_x = self.kernel(X, self.X)\n",
    "        return np.where((K_x.dot(self.alpha * self.y) +  self.bias) >= threshold, 1, 0)\n",
    "        \n",
    "          \n",
    "    def Accuracy_check(self,X, y, threshold=.5):\n",
    "        return np.mean(self.predict(X, threshold)==y)"
   ]
  },
  {
   "cell_type": "markdown",
   "metadata": {},
   "source": [
    "# Cross Validation"
   ]
  },
  {
   "cell_type": "code",
   "execution_count": 17,
   "metadata": {},
   "outputs": [
    {
     "name": "stdout",
     "output_type": "stream",
     "text": [
      "time: 68.7 ms\n"
     ]
    }
   ],
   "source": [
    "X_train_ = pd.read_csv('./data/Xtr.csv', sep=',') #we use this dataset to train our model\n",
    "Y_train_ = pd.read_csv('./data/Ytr.csv', sep=',') #we use this dataset to train our model\n",
    "X_test_ = pd.read_csv('./data/Xte.csv', sep=',')\n",
    "\n",
    "kfold=KFold(n_splits=5)\n",
    "\n",
    "def spectrum_kernal(X_train, y, X_test, n=2, encoder=4, one_hot = True, normalise = False):\n",
    "    \n",
    "    d = {'A': 0.1, 'C':0.2, 'G':0.3, 'T':0.4}\n",
    "    \n",
    "    for i in range(0, 101-n+1, 1):\n",
    "        X_train['seq_'+str(i)] = X_train.seq.apply(lambda x :x[i:i+n])\n",
    "        X_test['seq_'+str(i)] = X_test.seq.apply(lambda x :x[i:i+n])\n",
    "        \n",
    "        X_train['seq_'+str(i)] = X_train['seq_'+str(i)].apply(lambda x : sum([d[x[ii]]*encoder**(ii+1) for ii in range(n)]))\n",
    "        X_test['seq_'+str(i)] = X_test['seq_'+str(i)].apply(lambda x : sum([d[x[ii]]*encoder**(ii+1) for ii in range(n)]))\n",
    "        \n",
    "        \n",
    "        \n",
    "    X = X_train.drop(['seq', 'Id'], axis=1)\n",
    "    X_t = X_test.drop(['seq', 'Id'], axis=1)\n",
    "    y = Y_train.Bound\n",
    "    \n",
    "#     print(f'Train: \\n{X.tail()}\\n -----------------------\\n')\n",
    "#     print(f'Test: \\n {X_t.tail()}')\n",
    "\n",
    "    if one_hot:\n",
    "        onehot_encoder = OneHotEncoder(sparse=False, categories='auto', handle_unknown='ignore')\n",
    "\n",
    "        X_cross = X.values\n",
    "        X_t = X_t.values\n",
    "        \n",
    "        enc = onehot_encoder.fit(X)\n",
    "        X_cross = enc.transform(X)\n",
    "        X_t_enc = enc.transform(X_t)\n",
    "        \n",
    "    elif normalise:\n",
    "        scaler = MinMaxScaler()#MinMaxScaler() # StandardScaler()\n",
    "        scaler.fit(X)\n",
    "        \n",
    "        X_cross = scaler.transform(X)\n",
    "        X_t_enc = scaler.transform(X_t)\n",
    "        \n",
    "    else :\n",
    "        \n",
    "        X_cross = X.values\n",
    "        X_t_enc = X_t.values\n",
    "    \n",
    "    y_cross = y.values\n",
    "    \n",
    "    return X_cross, y_cross, X_t_enc\n",
    "\n",
    "# X_cross, y_cross, X_t_enc = spectrum_kernal(X_train, Y_train, X_test, n=5, encoder=3, one_hot = True, normalise = False)"
   ]
  },
  {
   "cell_type": "code",
   "execution_count": 18,
   "metadata": {},
   "outputs": [
    {
     "name": "stdout",
     "output_type": "stream",
     "text": [
      "time: 862 µs\n"
     ]
    }
   ],
   "source": [
    "# X_train_ = pd.read_csv('./data/Xtr.csv', sep=',') #we use this dataset to train our model\n",
    "# Y_train_ = pd.read_csv('./data/Ytr.csv', sep=',') #we use this dataset to train our model\n",
    "# X_test_ = pd.read_csv('./data/Xte.csv', sep=',')\n",
    "\n",
    "# X_cross, y_cross, X_t_enc = spectrum_kernal(X_train_, Y_train_, X_test_, n=1, encoder=8, one_hot = True, normalise = False)"
   ]
  },
  {
   "cell_type": "code",
   "execution_count": null,
   "metadata": {},
   "outputs": [],
   "source": [
    "# rbf_kernel(X_cross, X_cross)"
   ]
  },
  {
   "cell_type": "code",
   "execution_count": null,
   "metadata": {},
   "outputs": [],
   "source": [
    "# k = RBF(gamma=2)\n",
    "# k(X_cross, X_cross)"
   ]
  },
  {
   "cell_type": "code",
   "execution_count": 23,
   "metadata": {},
   "outputs": [
    {
     "name": "stdout",
     "output_type": "stream",
     "text": [
      "time: 558 µs\n"
     ]
    }
   ],
   "source": [
    "# Laplacian"
   ]
  },
  {
   "cell_type": "code",
   "execution_count": 25,
   "metadata": {},
   "outputs": [
    {
     "data": {
      "text/plain": [
       "1.0"
      ]
     },
     "execution_count": 25,
     "metadata": {},
     "output_type": "execute_result"
    },
    {
     "name": "stdout",
     "output_type": "stream",
     "text": [
      "time: 2.18 ms\n"
     ]
    }
   ],
   "source": [
    "1e+0"
   ]
  },
  {
   "cell_type": "code",
   "execution_count": null,
   "metadata": {},
   "outputs": [
    {
     "name": "stderr",
     "output_type": "stream",
     "text": [
      "/usr/local/lib/python3.6/dist-packages/optuna/_experimental.py:90: ExperimentalWarning:\n",
      "\n",
      "Progress bar is experimental (supported from v1.2.0). The interface can change in the future.\n",
      "\n"
     ]
    },
    {
     "data": {
      "application/vnd.jupyter.widget-view+json": {
       "model_id": "0bbf4d6651bd471baa1cff642864c6a1",
       "version_major": 2,
       "version_minor": 0
      },
      "text/plain": [
       "HBox(children=(FloatProgress(value=0.0, max=1500.0), HTML(value='')))"
      ]
     },
     "metadata": {},
     "output_type": "display_data"
    },
    {
     "name": "stdout",
     "output_type": "stream",
     "text": [
      "\u001b[32m[I 2020-05-30 12:41:06,264]\u001b[0m Finished trial#0 with value: 0.634 with parameters: {'q': 0.005973938799092833, 'sigma': 1.453176101201371, 'kenel': 5, 'lam': 2.856340815701155e-09, 'd': 4, 'c': 5, 'degree': 8}. Best is trial#0 with value: 0.634.\u001b[0m\n",
      "\u001b[32m[I 2020-05-30 12:41:08,355]\u001b[0m Finished trial#1 with value: 0.634 with parameters: {'q': 0.001418954482165801, 'sigma': 3.2910835793575304, 'kenel': 7, 'lam': 5.556519911379216e-14, 'd': 11, 'c': 6, 'degree': 6}. Best is trial#0 with value: 0.634.\u001b[0m\n",
      "\u001b[32m[I 2020-05-30 12:41:10,510]\u001b[0m Finished trial#2 with value: 0.634 with parameters: {'q': 0.37025419374170027, 'sigma': 0.03301033570818309, 'kenel': 8, 'lam': 4.4388976808760184e-11, 'd': 4, 'c': 4, 'degree': 4}. Best is trial#0 with value: 0.634.\u001b[0m\n",
      "\u001b[32m[I 2020-05-30 12:41:12,600]\u001b[0m Finished trial#3 with value: 0.634 with parameters: {'q': 0.00029139256524342386, 'sigma': 0.014135435454970617, 'kenel': 6, 'lam': 2.164636474593164e-14, 'd': 7, 'c': 8, 'degree': 10}. Best is trial#0 with value: 0.634.\u001b[0m\n",
      "\u001b[32m[I 2020-05-30 12:41:14,703]\u001b[0m Finished trial#4 with value: 0.501 with parameters: {'q': 5.96823265624034e-05, 'sigma': 0.11138472296161853, 'kenel': 7, 'lam': 0.08575418279397459, 'd': 5, 'c': 5, 'degree': 8}. Best is trial#0 with value: 0.634.\u001b[0m\n",
      "\u001b[32m[I 2020-05-30 12:41:16,815]\u001b[0m Finished trial#5 with value: 0.634 with parameters: {'q': 0.0016887783649949066, 'sigma': 0.084721090387331, 'kenel': 7, 'lam': 1.5922051500101685e-10, 'd': 15, 'c': 4, 'degree': 5}. Best is trial#0 with value: 0.634.\u001b[0m\n",
      "\u001b[32m[I 2020-05-30 12:41:18,913]\u001b[0m Finished trial#6 with value: 0.634 with parameters: {'q': 0.009099223180788846, 'sigma': 0.30623766275041175, 'kenel': 2, 'lam': 0.0079849596558872, 'd': 2, 'c': 1, 'degree': 10}. Best is trial#0 with value: 0.634.\u001b[0m\n",
      "\u001b[32m[I 2020-05-30 12:41:20,991]\u001b[0m Finished trial#7 with value: 0.634 with parameters: {'q': 0.0025958995669560373, 'sigma': 0.21596732755851372, 'kenel': 5, 'lam': 1.1325332134623653e-14, 'd': 8, 'c': 7, 'degree': 10}. Best is trial#0 with value: 0.634.\u001b[0m\n",
      "\u001b[32m[I 2020-05-30 12:41:23,074]\u001b[0m Finished trial#8 with value: 0.6365 with parameters: {'q': 4.326216945195192e-05, 'sigma': 0.08840794910003391, 'kenel': 4, 'lam': 2.038665303193613e-05, 'd': 3, 'c': 4, 'degree': 5}. Best is trial#8 with value: 0.6365.\u001b[0m\n",
      "\u001b[32m[I 2020-05-30 12:41:25,177]\u001b[0m Finished trial#9 with value: 0.634 with parameters: {'q': 0.0016143995919258487, 'sigma': 0.01024055642353402, 'kenel': 7, 'lam': 2.8596360404629036e-15, 'd': 7, 'c': 10, 'degree': 2}. Best is trial#8 with value: 0.6365.\u001b[0m\n",
      "\u001b[32m[I 2020-05-30 12:41:27,287]\u001b[0m Finished trial#10 with value: 0.634 with parameters: {'q': 1.8381243667106453e-05, 'sigma': 0.7457729409748329, 'kenel': 4, 'lam': 0.00013945962033763977, 'd': 12, 'c': 1, 'degree': 2}. Best is trial#8 with value: 0.6365.\u001b[0m\n",
      "\u001b[32m[I 2020-05-30 12:41:29,428]\u001b[0m Finished trial#11 with value: 0.6345 with parameters: {'q': 0.04248751502730282, 'sigma': 3.6570824731621774, 'kenel': 5, 'lam': 1.3542393000832842e-06, 'd': 2, 'c': 3, 'degree': 7}. Best is trial#8 with value: 0.6365.\u001b[0m\n",
      "\u001b[32m[I 2020-05-30 12:41:31,580]\u001b[0m Finished trial#12 with value: 0.6359999999999999 with parameters: {'q': 0.14932011202636336, 'sigma': 0.04611625376944049, 'kenel': 4, 'lam': 3.3604324548006446e-06, 'd': 2, 'c': 3, 'degree': 7}. Best is trial#8 with value: 0.6365.\u001b[0m\n",
      "\u001b[32m[I 2020-05-30 12:41:33,683]\u001b[0m Finished trial#13 with value: 0.6355 with parameters: {'q': 0.8867844462513699, 'sigma': 0.03694590316716406, 'kenel': 4, 'lam': 1.9507956969693967e-06, 'd': 2, 'c': 2, 'degree': 4}. Best is trial#8 with value: 0.6365.\u001b[0m\n",
      "\u001b[32m[I 2020-05-30 12:41:35,826]\u001b[0m Finished trial#14 with value: 0.6355 with parameters: {'q': 0.07622019456264129, 'sigma': 0.03405647625018731, 'kenel': 4, 'lam': 1.8911071463094146e-05, 'd': 5, 'c': 3, 'degree': 6}. Best is trial#8 with value: 0.6365.\u001b[0m\n",
      "\u001b[32m[I 2020-05-30 12:41:37,971]\u001b[0m Finished trial#15 with value: 0.6385 with parameters: {'q': 0.00016442331892467093, 'sigma': 0.0805426365995949, 'kenel': 3, 'lam': 0.002026468951359647, 'd': 2, 'c': 3, 'degree': 4}. Best is trial#15 with value: 0.6385.\u001b[0m\n",
      "\u001b[32m[I 2020-05-30 12:41:40,077]\u001b[0m Finished trial#16 with value: 0.6359999999999999 with parameters: {'q': 1.2543285174062316e-05, 'sigma': 0.26626093483541546, 'kenel': 3, 'lam': 0.0019437219603002252, 'd': 10, 'c': 2, 'degree': 3}. Best is trial#15 with value: 0.6385.\u001b[0m\n",
      "\u001b[32m[I 2020-05-30 12:41:42,202]\u001b[0m Finished trial#17 with value: 0.501 with parameters: {'q': 0.0001776211435991007, 'sigma': 0.10384958631496648, 'kenel': 3, 'lam': 0.6928814223176705, 'd': 4, 'c': 6, 'degree': 4}. Best is trial#15 with value: 0.6385.\u001b[0m\n",
      "\u001b[32m[I 2020-05-30 12:41:44,308]\u001b[0m Finished trial#18 with value: 0.634 with parameters: {'q': 0.00010306686266220069, 'sigma': 0.01755788879920885, 'kenel': 0, 'lam': 5.911374851996219e-08, 'd': 6, 'c': 4, 'degree': 5}. Best is trial#15 with value: 0.6385.\u001b[0m\n",
      "\u001b[32m[I 2020-05-30 12:41:46,411]\u001b[0m Finished trial#19 with value: 0.638 with parameters: {'q': 2.8129198181438038e-05, 'sigma': 0.4710477568457379, 'kenel': 1, 'lam': 0.002113201639362751, 'd': 3, 'c': 8, 'degree': 3}. Best is trial#15 with value: 0.6385.\u001b[0m\n",
      "\u001b[32m[I 2020-05-30 12:41:48,515]\u001b[0m Finished trial#20 with value: 0.501 with parameters: {'q': 0.00037518025835552287, 'sigma': 0.5959145149367692, 'kenel': 1, 'lam': 0.38828768116317836, 'd': 15, 'c': 10, 'degree': 3}. Best is trial#15 with value: 0.6385.\u001b[0m\n",
      "\u001b[32m[I 2020-05-30 12:41:50,624]\u001b[0m Finished trial#21 with value: 0.635 with parameters: {'q': 3.2263144526589094e-05, 'sigma': 0.15361720751786828, 'kenel': 1, 'lam': 0.0004446170710390936, 'd': 3, 'c': 9, 'degree': 3}. Best is trial#15 with value: 0.6385.\u001b[0m\n",
      "\u001b[32m[I 2020-05-30 12:41:52,721]\u001b[0m Finished trial#22 with value: 0.6325 with parameters: {'q': 4.5081880229268425e-05, 'sigma': 0.5090445606697154, 'kenel': 9, 'lam': 0.006346056322401194, 'd': 3, 'c': 7, 'degree': 5}. Best is trial#15 with value: 0.6385.\u001b[0m\n",
      "\u001b[32m[I 2020-05-30 12:41:54,830]\u001b[0m Finished trial#23 with value: 0.634 with parameters: {'q': 1.353036464062109e-05, 'sigma': 0.07906373299938045, 'kenel': 3, 'lam': 7.124278482521069e-05, 'd': 3, 'c': 8, 'degree': 4}. Best is trial#15 with value: 0.6385.\u001b[0m\n",
      "\u001b[32m[I 2020-05-30 12:41:56,949]\u001b[0m Finished trial#24 with value: 0.518 with parameters: {'q': 0.000757448115047547, 'sigma': 0.4027353578994162, 'kenel': 1, 'lam': 0.03354261301123131, 'd': 5, 'c': 2, 'degree': 2}. Best is trial#15 with value: 0.6385.\u001b[0m\n",
      "\u001b[32m[I 2020-05-30 12:41:59,045]\u001b[0m Finished trial#25 with value: 0.634 with parameters: {'q': 0.00011194812266780807, 'sigma': 1.1266878969850784, 'kenel': 6, 'lam': 8.530186207011386e-08, 'd': 6, 'c': 5, 'degree': 3}. Best is trial#15 with value: 0.6385.\u001b[0m\n",
      "\u001b[32m[I 2020-05-30 12:42:01,151]\u001b[0m Finished trial#26 with value: 0.634 with parameters: {'q': 2.891646019909765e-05, 'sigma': 0.059031154586021026, 'kenel': 3, 'lam': 0.00024555315237442983, 'd': 3, 'c': 4, 'degree': 5}. Best is trial#15 with value: 0.6385.\u001b[0m\n",
      "\u001b[32m[I 2020-05-30 12:42:03,281]\u001b[0m Finished trial#27 with value: 0.638 with parameters: {'q': 0.0004475960389520608, 'sigma': 0.16331723792107028, 'kenel': 0, 'lam': 0.0016291085501378292, 'd': 9, 'c': 7, 'degree': 4}. Best is trial#15 with value: 0.6385.\u001b[0m\n",
      "\u001b[32m[I 2020-05-30 12:42:05,379]\u001b[0m Finished trial#28 with value: 0.501 with parameters: {'q': 0.00029105793701832583, 'sigma': 0.16366208206002647, 'kenel': 0, 'lam': 0.09244544863173351, 'd': 9, 'c': 8, 'degree': 3}. Best is trial#15 with value: 0.6385.\u001b[0m\n",
      "\u001b[32m[I 2020-05-30 12:42:07,525]\u001b[0m Finished trial#29 with value: 0.634 with parameters: {'q': 0.0005119102203035688, 'sigma': 1.8979974253509513, 'kenel': 0, 'lam': 3.8547100644982384e-09, 'd': 12, 'c': 7, 'degree': 4}. Best is trial#15 with value: 0.6385.\u001b[0m\n",
      "\u001b[32m[I 2020-05-30 12:42:09,698]\u001b[0m Finished trial#30 with value: 0.6365000000000001 with parameters: {'q': 0.006947556044611709, 'sigma': 0.9823110457259477, 'kenel': 2, 'lam': 0.002197936779642189, 'd': 9, 'c': 9, 'degree': 2}. Best is trial#15 with value: 0.6385.\u001b[0m\n",
      "\u001b[32m[I 2020-05-30 12:42:11,865]\u001b[0m Finished trial#31 with value: 0.636 with parameters: {'q': 0.0074232886027634625, 'sigma': 1.029560039256738, 'kenel': 2, 'lam': 0.0018698707746613137, 'd': 9, 'c': 9, 'degree': 2}. Best is trial#15 with value: 0.6385.\u001b[0m\n",
      "\u001b[32m[I 2020-05-30 12:42:13,967]\u001b[0m Finished trial#32 with value: 0.501 with parameters: {'q': 0.003908943013929626, 'sigma': 1.9981907401062955, 'kenel': 2, 'lam': 0.8426689610243228, 'd': 10, 'c': 9, 'degree': 3}. Best is trial#15 with value: 0.6385.\u001b[0m\n",
      "\u001b[32m[I 2020-05-30 12:42:16,062]\u001b[0m Finished trial#33 with value: 0.5265000000000001 with parameters: {'q': 0.013902257520233824, 'sigma': 0.38862915507400986, 'kenel': 8, 'lam': 0.03211904982220455, 'd': 11, 'c': 8, 'degree': 2}. Best is trial#15 with value: 0.6385.\u001b[0m\n",
      "\u001b[32m[I 2020-05-30 12:42:18,169]\u001b[0m Finished trial#34 with value: 0.634 with parameters: {'q': 0.0007273305875606989, 'sigma': 0.19490548174593772, 'kenel': 2, 'lam': 7.180625246440432e-13, 'd': 8, 'c': 6, 'degree': 4}. Best is trial#15 with value: 0.6385.\u001b[0m\n",
      "\u001b[32m[I 2020-05-30 12:42:20,305]\u001b[0m Finished trial#35 with value: 0.6345 with parameters: {'q': 0.00011196720737298077, 'sigma': 0.7208438765476882, 'kenel': 0, 'lam': 0.001155570175802893, 'd': 13, 'c': 9, 'degree': 6}. Best is trial#15 with value: 0.6385.\u001b[0m\n",
      "\u001b[32m[I 2020-05-30 12:42:22,393]\u001b[0m Finished trial#36 with value: 0.626 with parameters: {'q': 0.017900690454425387, 'sigma': 0.02155438651992409, 'kenel': 1, 'lam': 0.009609017020477595, 'd': 10, 'c': 7, 'degree': 3}. Best is trial#15 with value: 0.6385.\u001b[0m\n",
      "\u001b[32m[I 2020-05-30 12:42:24,489]\u001b[0m Finished trial#37 with value: 0.6345000000000001 with parameters: {'q': 0.0009349021659060075, 'sigma': 1.9229940466044044, 'kenel': 9, 'lam': 1.6366063715067282e-05, 'd': 7, 'c': 8, 'degree': 2}. Best is trial#15 with value: 0.6385.\u001b[0m\n",
      "\u001b[32m[I 2020-05-30 12:42:26,581]\u001b[0m Finished trial#38 with value: 0.634 with parameters: {'q': 0.003478654306890748, 'sigma': 0.13730703519136592, 'kenel': 8, 'lam': 3.780152571871514e-07, 'd': 8, 'c': 10, 'degree': 4}. Best is trial#15 with value: 0.6385.\u001b[0m\n",
      "\u001b[32m[I 2020-05-30 12:42:28,673]\u001b[0m Finished trial#39 with value: 0.501 with parameters: {'q': 0.00017897724524830873, 'sigma': 0.27751030785293385, 'kenel': 2, 'lam': 0.07601604710208612, 'd': 11, 'c': 6, 'degree': 5}. Best is trial#15 with value: 0.6385.\u001b[0m\n",
      "\u001b[32m[I 2020-05-30 12:42:30,783]\u001b[0m Finished trial#40 with value: 0.6319999999999999 with parameters: {'q': 6.974571450246002e-05, 'sigma': 1.11832867859859, 'kenel': 6, 'lam': 0.004551982764279618, 'd': 9, 'c': 7, 'degree': 4}. Best is trial#15 with value: 0.6385.\u001b[0m\n",
      "\u001b[32m[I 2020-05-30 12:42:32,877]\u001b[0m Finished trial#41 with value: 0.6385 with parameters: {'q': 2.4280637339835592e-05, 'sigma': 0.06274068368941237, 'kenel': 4, 'lam': 2.960284068055216e-05, 'd': 4, 'c': 5, 'degree': 5}. Best is trial#15 with value: 0.6385.\u001b[0m\n",
      "\u001b[32m[I 2020-05-30 12:42:35,044]\u001b[0m Finished trial#42 with value: 0.633 with parameters: {'q': 2.032310307361297e-05, 'sigma': 0.06996867333604362, 'kenel': 3, 'lam': 7.610945812397535e-05, 'd': 4, 'c': 5, 'degree': 6}. Best is trial#15 with value: 0.6385.\u001b[0m\n",
      "\u001b[32m[I 2020-05-30 12:42:37,153]\u001b[0m Finished trial#43 with value: 0.639 with parameters: {'q': 1.0029659469467685e-05, 'sigma': 0.12696439426792025, 'kenel': 1, 'lam': 0.0006505309968110562, 'd': 6, 'c': 9, 'degree': 5}. Best is trial#43 with value: 0.639.\u001b[0m\n",
      "\u001b[32m[I 2020-05-30 12:42:39,261]\u001b[0m Finished trial#44 with value: 0.637 with parameters: {'q': 1.000087737606307e-05, 'sigma': 0.05435514722130894, 'kenel': 1, 'lam': 2.4083062805559567e-05, 'd': 4, 'c': 6, 'degree': 5}. Best is trial#43 with value: 0.639.\u001b[0m\n",
      "\u001b[32m[I 2020-05-30 12:42:41,354]\u001b[0m Finished trial#45 with value: 0.637 with parameters: {'q': 6.640220642563214e-05, 'sigma': 0.11183661217661188, 'kenel': 1, 'lam': 0.000686387143383118, 'd': 6, 'c': 7, 'degree': 5}. Best is trial#43 with value: 0.639.\u001b[0m\n",
      "\u001b[32m[I 2020-05-30 12:42:43,450]\u001b[0m Finished trial#46 with value: 0.6365 with parameters: {'q': 2.616527112117274e-05, 'sigma': 0.11772389209601271, 'kenel': 5, 'lam': 3.76408174828615e-06, 'd': 5, 'c': 8, 'degree': 6}. Best is trial#43 with value: 0.639.\u001b[0m\n",
      "\u001b[32m[I 2020-05-30 12:42:45,551]\u001b[0m Finished trial#47 with value: 0.6174999999999999 with parameters: {'q': 1.0020685332598647e-05, 'sigma': 0.21252832576315492, 'kenel': 4, 'lam': 0.01521285343686795, 'd': 2, 'c': 5, 'degree': 7}. Best is trial#43 with value: 0.639.\u001b[0m\n",
      "\u001b[32m[I 2020-05-30 12:42:47,642]\u001b[0m Finished trial#48 with value: 0.501 with parameters: {'q': 5.0793372111288336e-05, 'sigma': 0.026647961880629283, 'kenel': 7, 'lam': 0.18794655179297387, 'd': 7, 'c': 3, 'degree': 4}. Best is trial#43 with value: 0.639.\u001b[0m\n",
      "\u001b[32m[I 2020-05-30 12:42:49,772]\u001b[0m Finished trial#49 with value: 0.6345 with parameters: {'q': 0.0001568212619824708, 'sigma': 0.046223270061021476, 'kenel': 1, 'lam': 5.585176394936715e-07, 'd': 5, 'c': 10, 'degree': 5}. Best is trial#43 with value: 0.639.\u001b[0m\n",
      "\u001b[32m[I 2020-05-30 12:42:51,888]\u001b[0m Finished trial#50 with value: 0.636 with parameters: {'q': 0.00027614267768083696, 'sigma': 0.08914907947166151, 'kenel': 4, 'lam': 8.659447822903573e-06, 'd': 4, 'c': 6, 'degree': 9}. Best is trial#43 with value: 0.639.\u001b[0m\n",
      "\u001b[32m[I 2020-05-30 12:42:53,966]\u001b[0m Finished trial#51 with value: 0.6355000000000001 with parameters: {'q': 6.660781870242174e-05, 'sigma': 0.11238862950017023, 'kenel': 1, 'lam': 0.0004288442779959685, 'd': 6, 'c': 7, 'degree': 5}. Best is trial#43 with value: 0.639.\u001b[0m\n",
      "\u001b[32m[I 2020-05-30 12:42:56,075]\u001b[0m Finished trial#52 with value: 0.6365000000000001 with parameters: {'q': 1.748436052889028e-05, 'sigma': 0.17581915508319676, 'kenel': 1, 'lam': 0.0006923560251788268, 'd': 6, 'c': 8, 'degree': 6}. Best is trial#43 with value: 0.639.\u001b[0m\n",
      "\u001b[32m[I 2020-05-30 12:42:58,234]\u001b[0m Finished trial#53 with value: 0.634 with parameters: {'q': 7.746343256993797e-05, 'sigma': 0.3582690265178917, 'kenel': 1, 'lam': 6.820708377091958e-05, 'd': 7, 'c': 7, 'degree': 5}. Best is trial#43 with value: 0.639.\u001b[0m\n",
      "\u001b[32m[I 2020-05-30 12:43:00,375]\u001b[0m Finished trial#54 with value: 0.6325000000000001 with parameters: {'q': 3.277084556531316e-05, 'sigma': 0.06533079983274062, 'kenel': 0, 'lam': 0.0001872174796156063, 'd': 3, 'c': 7, 'degree': 4}. Best is trial#43 with value: 0.639.\u001b[0m\n",
      "\u001b[32m[I 2020-05-30 12:43:02,512]\u001b[0m Finished trial#55 with value: 0.552 with parameters: {'q': 0.00021278300053136643, 'sigma': 0.0922888887533374, 'kenel': 1, 'lam': 0.0276335667822235, 'd': 2, 'c': 4, 'degree': 5}. Best is trial#43 with value: 0.639.\u001b[0m\n",
      "\u001b[32m[I 2020-05-30 12:43:04,616]\u001b[0m Finished trial#56 with value: 0.6325000000000001 with parameters: {'q': 4.260942016779585e-05, 'sigma': 0.12756987779263548, 'kenel': 3, 'lam': 0.00618129189188207, 'd': 8, 'c': 8, 'degree': 4}. Best is trial#43 with value: 0.639.\u001b[0m\n",
      "\u001b[32m[I 2020-05-30 12:43:06,718]\u001b[0m Finished trial#57 with value: 0.6385 with parameters: {'q': 1.065492998209422e-05, 'sigma': 0.06078709294110423, 'kenel': 1, 'lam': 3.96114340582435e-05, 'd': 5, 'c': 6, 'degree': 3}. Best is trial#43 with value: 0.639.\u001b[0m\n",
      "\u001b[32m[I 2020-05-30 12:43:08,853]\u001b[0m Finished trial#58 with value: 0.634 with parameters: {'q': 2.010068880684446e-05, 'sigma': 0.0425853059926212, 'kenel': 4, 'lam': 1.0581761228322653e-08, 'd': 5, 'c': 5, 'degree': 3}. Best is trial#43 with value: 0.639.\u001b[0m\n",
      "\u001b[32m[I 2020-05-30 12:43:10,955]\u001b[0m Finished trial#59 with value: 0.6369999999999999 with parameters: {'q': 1.3117694629156043e-05, 'sigma': 0.026660206390114943, 'kenel': 0, 'lam': 4.282143485471548e-05, 'd': 4, 'c': 1, 'degree': 3}. Best is trial#43 with value: 0.639.\u001b[0m\n",
      "\u001b[32m[I 2020-05-30 12:43:13,056]\u001b[0m Finished trial#60 with value: 0.634 with parameters: {'q': 0.0005011444185393589, 'sigma': 0.23750700295745011, 'kenel': 5, 'lam': 2.347567992486975e-07, 'd': 5, 'c': 3, 'degree': 3}. Best is trial#43 with value: 0.639.\u001b[0m\n",
      "\u001b[32m[I 2020-05-30 12:43:15,162]\u001b[0m Finished trial#61 with value: 0.6359999999999999 with parameters: {'q': 1.0584334039815952e-05, 'sigma': 0.05572829583974909, 'kenel': 1, 'lam': 1.837872678448443e-05, 'd': 4, 'c': 6, 'degree': 4}. Best is trial#43 with value: 0.639.\u001b[0m\n",
      "\u001b[32m[I 2020-05-30 12:43:17,302]\u001b[0m Finished trial#62 with value: 0.6325 with parameters: {'q': 0.0001093464224016993, 'sigma': 0.07529597780830373, 'kenel': 1, 'lam': 0.00026131973224061806, 'd': 6, 'c': 7, 'degree': 5}. Best is trial#43 with value: 0.639.\u001b[0m\n",
      "\u001b[32m[I 2020-05-30 12:43:19,421]\u001b[0m Finished trial#63 with value: 0.6355000000000001 with parameters: {'q': 1.5611594169779574e-05, 'sigma': 0.049827461731345515, 'kenel': 1, 'lam': 6.442670270777381e-06, 'd': 3, 'c': 6, 'degree': 4}. Best is trial#43 with value: 0.639.\u001b[0m\n",
      "\u001b[32m[I 2020-05-30 12:43:21,522]\u001b[0m Finished trial#64 with value: 0.6345 with parameters: {'q': 1.0047751467475888e-05, 'sigma': 0.03354279848115167, 'kenel': 1, 'lam': 1.0978444183756279e-06, 'd': 2, 'c': 5, 'degree': 5}. Best is trial#43 with value: 0.639.\u001b[0m\n",
      "\u001b[32m[I 2020-05-30 12:43:23,693]\u001b[0m Finished trial#65 with value: 0.634 with parameters: {'q': 3.7217562594725655e-05, 'sigma': 0.14456317345084804, 'kenel': 3, 'lam': 2.579462109468582e-10, 'd': 6, 'c': 9, 'degree': 6}. Best is trial#43 with value: 0.639.\u001b[0m\n",
      "\u001b[32m[I 2020-05-30 12:43:27,709]\u001b[0m Finished trial#66 with value: 0.634 with parameters: {'q': 2.549575754111346e-05, 'sigma': 0.058176479472541634, 'kenel': 9, 'lam': 0.0033860994496505833, 'd': 4, 'c': 6, 'degree': 7}. Best is trial#43 with value: 0.639.\u001b[0m\n",
      "\u001b[32m[I 2020-05-30 12:43:31,929]\u001b[0m Finished trial#67 with value: 0.636 with parameters: {'q': 0.0012984919476589475, 'sigma': 0.01235296773198839, 'kenel': 7, 'lam': 4.799604402513836e-05, 'd': 3, 'c': 4, 'degree': 4}. Best is trial#43 with value: 0.639.\u001b[0m\n",
      "\u001b[32m[I 2020-05-30 12:43:35,551]\u001b[0m Finished trial#68 with value: 0.6335 with parameters: {'q': 2.2848675403355282e-05, 'sigma': 0.04113075785956994, 'kenel': 1, 'lam': 0.00014423247680193737, 'd': 3, 'c': 6, 'degree': 3}. Best is trial#43 with value: 0.639.\u001b[0m\n",
      "\u001b[32m[I 2020-05-30 12:43:39,054]\u001b[0m Finished trial#69 with value: 0.635 with parameters: {'q': 9.122038378285033e-05, 'sigma': 0.46969976150784226, 'kenel': 6, 'lam': 0.0011299686322273003, 'd': 5, 'c': 8, 'degree': 5}. Best is trial#43 with value: 0.639.\u001b[0m\n",
      "\u001b[32m[I 2020-05-30 12:43:42,990]\u001b[0m Finished trial#70 with value: 0.635 with parameters: {'q': 0.0024960352136055644, 'sigma': 0.09856626793935665, 'kenel': 4, 'lam': 1.5084845502451342e-06, 'd': 4, 'c': 2, 'degree': 4}. Best is trial#43 with value: 0.639.\u001b[0m\n",
      "\u001b[32m[I 2020-05-30 12:43:45,245]\u001b[0m Finished trial#71 with value: 0.6375 with parameters: {'q': 4.116459232300205e-05, 'sigma': 0.07542029676314678, 'kenel': 1, 'lam': 0.0006728883110196273, 'd': 5, 'c': 7, 'degree': 5}. Best is trial#43 with value: 0.639.\u001b[0m\n",
      "\u001b[32m[I 2020-05-30 12:43:47,355]\u001b[0m Finished trial#72 with value: 0.6345 with parameters: {'q': 1.4598620876333807e-05, 'sigma': 0.07685421051924875, 'kenel': 1, 'lam': 0.002567087721725471, 'd': 5, 'c': 6, 'degree': 5}. Best is trial#43 with value: 0.639.\u001b[0m\n",
      "\u001b[32m[I 2020-05-30 12:43:49,481]\u001b[0m Finished trial#73 with value: 0.6355000000000001 with parameters: {'q': 5.454271447938511e-05, 'sigma': 0.06731252606281798, 'kenel': 1, 'lam': 0.0004143352553075771, 'd': 4, 'c': 7, 'degree': 6}. Best is trial#43 with value: 0.639.\u001b[0m\n",
      "\u001b[32m[I 2020-05-30 12:43:51,669]\u001b[0m Finished trial#74 with value: 0.6385 with parameters: {'q': 0.00013995422081026986, 'sigma': 0.1756622544582831, 'kenel': 1, 'lam': 3.323213376875128e-05, 'd': 3, 'c': 5, 'degree': 5}. Best is trial#43 with value: 0.639.\u001b[0m\n",
      "\u001b[32m[I 2020-05-30 12:43:53,814]\u001b[0m Finished trial#75 with value: 0.626 with parameters: {'q': 0.0001429766624139033, 'sigma': 0.17877827083395592, 'kenel': 8, 'lam': 0.009368294776666806, 'd': 3, 'c': 5, 'degree': 4}. Best is trial#43 with value: 0.639.\u001b[0m\n",
      "\u001b[32m[I 2020-05-30 12:43:55,946]\u001b[0m Finished trial#76 with value: 0.634 with parameters: {'q': 0.00022589178480606455, 'sigma': 0.24614911402591957, 'kenel': 0, 'lam': 0.00011248693542773983, 'd': 2, 'c': 4, 'degree': 3}. Best is trial#43 with value: 0.639.\u001b[0m\n",
      "\u001b[32m[I 2020-05-30 12:43:58,083]\u001b[0m Finished trial#77 with value: 0.501 with parameters: {'q': 0.0004201159037081613, 'sigma': 0.30273651965366294, 'kenel': 1, 'lam': 0.06658057806365857, 'd': 3, 'c': 8, 'degree': 6}. Best is trial#43 with value: 0.639.\u001b[0m\n",
      "\u001b[32m[I 2020-05-30 12:44:00,213]\u001b[0m Finished trial#78 with value: 0.6375 with parameters: {'q': 3.842525024783243e-05, 'sigma': 0.15823134652777276, 'kenel': 3, 'lam': 0.0016760993894788774, 'd': 5, 'c': 9, 'degree': 5}. Best is trial#43 with value: 0.639.\u001b[0m\n",
      "\u001b[32m[I 2020-05-30 12:44:02,371]\u001b[0m Finished trial#79 with value: 0.6184999999999999 with parameters: {'q': 8.542470545605521e-05, 'sigma': 0.13442732531251667, 'kenel': 3, 'lam': 0.01526673941488427, 'd': 2, 'c': 9, 'degree': 3}. Best is trial#43 with value: 0.639.\u001b[0m\n",
      "\u001b[32m[I 2020-05-30 12:44:04,479]\u001b[0m Finished trial#80 with value: 0.636 with parameters: {'q': 0.00012813657435712007, 'sigma': 4.841676990747913, 'kenel': 1, 'lam': 9.31138955020809e-06, 'd': 10, 'c': 5, 'degree': 4}. Best is trial#43 with value: 0.639.\u001b[0m\n",
      "\u001b[32m[I 2020-05-30 12:44:06,655]\u001b[0m Finished trial#81 with value: 0.635 with parameters: {'q': 3.338471153161372e-05, 'sigma': 0.19708540228107413, 'kenel': 3, 'lam': 0.0010268830608655295, 'd': 5, 'c': 9, 'degree': 5}. Best is trial#43 with value: 0.639.\u001b[0m\n",
      "\u001b[32m[I 2020-05-30 12:44:08,774]\u001b[0m Finished trial#82 with value: 0.6365000000000001 with parameters: {'q': 3.649859961163396e-05, 'sigma': 0.1639283591252966, 'kenel': 3, 'lam': 0.002191497456951595, 'd': 4, 'c': 9, 'degree': 5}. Best is trial#43 with value: 0.639.\u001b[0m\n",
      "\u001b[32m[I 2020-05-30 12:44:10,887]\u001b[0m Finished trial#83 with value: 0.634 with parameters: {'q': 5.266697214470359e-05, 'sigma': 0.08564369366776978, 'kenel': 3, 'lam': 0.00023574123314275687, 'd': 5, 'c': 8, 'degree': 4}. Best is trial#43 with value: 0.639.\u001b[0m\n",
      "\u001b[32m[I 2020-05-30 12:44:12,998]\u001b[0m Finished trial#84 with value: 0.501 with parameters: {'q': 2.059056297009457e-05, 'sigma': 0.10739734705023622, 'kenel': 4, 'lam': 0.28329389566989366, 'd': 7, 'c': 7, 'degree': 6}. Best is trial#43 with value: 0.639.\u001b[0m\n",
      "\u001b[32m[I 2020-05-30 12:44:15,136]\u001b[0m Finished trial#85 with value: 0.6375 with parameters: {'q': 0.0003396944420995296, 'sigma': 0.15138898016150976, 'kenel': 0, 'lam': 2.6325584071909923e-05, 'd': 6, 'c': 10, 'degree': 5}. Best is trial#43 with value: 0.639.\u001b[0m\n",
      "\u001b[32m[I 2020-05-30 12:44:17,255]\u001b[0m Finished trial#86 with value: 0.639 with parameters: {'q': 0.0003190710649360304, 'sigma': 0.1475437732883405, 'kenel': 0, 'lam': 4.019357610732662e-05, 'd': 8, 'c': 10, 'degree': 5}. Best is trial#43 with value: 0.639.\u001b[0m\n",
      "\u001b[32m[I 2020-05-30 12:44:19,375]\u001b[0m Finished trial#87 with value: 0.6355 with parameters: {'q': 0.0006738087290459215, 'sigma': 0.33525070310043165, 'kenel': 1, 'lam': 2.8232653930476933e-06, 'd': 8, 'c': 10, 'degree': 5}. Best is trial#43 with value: 0.639.\u001b[0m\n",
      "\u001b[32m[I 2020-05-30 12:44:21,487]\u001b[0m Finished trial#88 with value: 0.6344999999999998 with parameters: {'q': 0.0011543738772124364, 'sigma': 0.06318002394145808, 'kenel': 0, 'lam': 0.00045783428589401897, 'd': 9, 'c': 3, 'degree': 2}. Best is trial#43 with value: 0.639.\u001b[0m\n",
      "\u001b[32m[I 2020-05-30 12:44:23,599]\u001b[0m Finished trial#89 with value: 0.6379999999999999 with parameters: {'q': 0.0003554789494446669, 'sigma': 0.1300081147657103, 'kenel': 0, 'lam': 2.907089603119054e-05, 'd': 7, 'c': 10, 'degree': 4}. Best is trial#43 with value: 0.639.\u001b[0m\n",
      "\u001b[32m[I 2020-05-30 12:44:25,738]\u001b[0m Finished trial#90 with value: 0.634 with parameters: {'q': 0.0002478573447446377, 'sigma': 0.12375425041824273, 'kenel': 0, 'lam': 1.2094656966222566e-07, 'd': 7, 'c': 10, 'degree': 4}. Best is trial#43 with value: 0.639.\u001b[0m\n",
      "\u001b[32m[I 2020-05-30 12:44:27,856]\u001b[0m Finished trial#91 with value: 0.6385 with parameters: {'q': 0.00018957122030860367, 'sigma': 0.20746763281068278, 'kenel': 0, 'lam': 4.0835427310320494e-05, 'd': 8, 'c': 10, 'degree': 4}. Best is trial#43 with value: 0.639.\u001b[0m\n",
      "\u001b[32m[I 2020-05-30 12:44:29,969]\u001b[0m Finished trial#92 with value: 0.6359999999999999 with parameters: {'q': 0.0003468908934997607, 'sigma': 0.2653249531390793, 'kenel': 0, 'lam': 7.3567242749346085e-06, 'd': 8, 'c': 10, 'degree': 3}. Best is trial#43 with value: 0.639.\u001b[0m\n",
      "\u001b[32m[I 2020-05-30 12:44:32,096]\u001b[0m Finished trial#93 with value: 0.6365 with parameters: {'q': 0.000610346862902114, 'sigma': 0.20836380806754778, 'kenel': 0, 'lam': 4.380352268155753e-05, 'd': 8, 'c': 10, 'degree': 4}. Best is trial#43 with value: 0.639.\u001b[0m\n",
      "\u001b[32m[I 2020-05-30 12:44:34,216]\u001b[0m Finished trial#94 with value: 0.6355000000000001 with parameters: {'q': 0.0001852423780917161, 'sigma': 0.09885191051328754, 'kenel': 0, 'lam': 9.89080441442361e-05, 'd': 9, 'c': 10, 'degree': 4}. Best is trial#43 with value: 0.639.\u001b[0m\n",
      "\u001b[32m[I 2020-05-30 12:44:36,353]\u001b[0m Finished trial#95 with value: 0.6359999999999999 with parameters: {'q': 0.0019088998528167958, 'sigma': 0.6362909082997298, 'kenel': 0, 'lam': 1.827443775836299e-05, 'd': 7, 'c': 9, 'degree': 3}. Best is trial#43 with value: 0.639.\u001b[0m\n",
      "\u001b[32m[I 2020-05-30 12:44:38,461]\u001b[0m Finished trial#96 with value: 0.632 with parameters: {'q': 0.00044764231637532356, 'sigma': 0.22871116954993975, 'kenel': 0, 'lam': 0.0002637832925176703, 'd': 9, 'c': 10, 'degree': 4}. Best is trial#43 with value: 0.639.\u001b[0m\n",
      "\u001b[32m[I 2020-05-30 12:44:40,573]\u001b[0m Finished trial#97 with value: 0.639 with parameters: {'q': 0.00026149532804213706, 'sigma': 0.18545033588047374, 'kenel': 0, 'lam': 4.070679332417843e-05, 'd': 8, 'c': 5, 'degree': 3}. Best is trial#43 with value: 0.639.\u001b[0m\n",
      "\u001b[32m[I 2020-05-30 12:44:42,674]\u001b[0m Finished trial#98 with value: 0.636 with parameters: {'q': 0.00015030316630382028, 'sigma': 0.1819934279075592, 'kenel': 9, 'lam': 4.241215181115575e-06, 'd': 10, 'c': 5, 'degree': 3}. Best is trial#43 with value: 0.639.\u001b[0m\n",
      "\u001b[32m[I 2020-05-30 12:44:44,811]\u001b[0m Finished trial#99 with value: 0.6345 with parameters: {'q': 0.0010431323748508262, 'sigma': 0.45400159378009153, 'kenel': 0, 'lam': 7.871104360874443e-07, 'd': 8, 'c': 4, 'degree': 2}. Best is trial#43 with value: 0.639.\u001b[0m\n",
      "\u001b[32m[I 2020-05-30 12:44:46,962]\u001b[0m Finished trial#100 with value: 0.6345000000000001 with parameters: {'q': 0.0002159253609882438, 'sigma': 0.31454224464326547, 'kenel': 5, 'lam': 8.668211495218988e-05, 'd': 8, 'c': 5, 'degree': 3}. Best is trial#43 with value: 0.639.\u001b[0m\n",
      "\u001b[32m[I 2020-05-30 12:44:49,140]\u001b[0m Finished trial#101 with value: 0.6375 with parameters: {'q': 0.0003201230449904532, 'sigma': 0.13107750770456023, 'kenel': 0, 'lam': 3.841821981122633e-05, 'd': 7, 'c': 5, 'degree': 3}. Best is trial#43 with value: 0.639.\u001b[0m\n",
      "\u001b[32m[I 2020-05-30 12:44:51,365]\u001b[0m Finished trial#102 with value: 0.6355 with parameters: {'q': 0.0006067699012298315, 'sigma': 0.20314858095680194, 'kenel': 0, 'lam': 1.4045854853336763e-05, 'd': 9, 'c': 2, 'degree': 4}. Best is trial#43 with value: 0.639.\u001b[0m\n",
      "\u001b[32m[I 2020-05-30 12:44:53,504]\u001b[0m Finished trial#103 with value: 0.634 with parameters: {'q': 0.00012248713524346693, 'sigma': 0.11485530261872944, 'kenel': 0, 'lam': 0.0001372350860500191, 'd': 7, 'c': 9, 'degree': 3}. Best is trial#43 with value: 0.639.\u001b[0m\n",
      "\u001b[32m[I 2020-05-30 12:44:55,626]\u001b[0m Finished trial#104 with value: 0.6325 with parameters: {'q': 0.0007903837994652232, 'sigma': 0.27103408728805145, 'kenel': 0, 'lam': 0.004084535864169711, 'd': 8, 'c': 5, 'degree': 4}. Best is trial#43 with value: 0.639.\u001b[0m\n",
      "\u001b[32m[I 2020-05-30 12:44:57,740]\u001b[0m Finished trial#105 with value: 0.6359999999999999 with parameters: {'q': 0.00027387098612262605, 'sigma': 0.14020748747757397, 'kenel': 7, 'lam': 3.134020930549869e-06, 'd': 7, 'c': 4, 'degree': 4}. Best is trial#43 with value: 0.639.\u001b[0m\n",
      "\u001b[32m[I 2020-05-30 12:44:59,955]\u001b[0m Finished trial#106 with value: 0.6385 with parameters: {'q': 0.00018103756209437243, 'sigma': 0.08512351377717275, 'kenel': 6, 'lam': 3.367243039511126e-05, 'd': 6, 'c': 6, 'degree': 5}. Best is trial#43 with value: 0.639.\u001b[0m\n",
      "\u001b[32m[I 2020-05-30 12:45:02,081]\u001b[0m Finished trial#107 with value: 0.6355 with parameters: {'q': 0.0001680106500893864, 'sigma': 0.08489572028310752, 'kenel': 6, 'lam': 1.1181618654965298e-05, 'd': 3, 'c': 6, 'degree': 5}. Best is trial#43 with value: 0.639.\u001b[0m\n",
      "\u001b[32m[I 2020-05-30 12:45:04,218]\u001b[0m Finished trial#108 with value: 0.6014999999999999 with parameters: {'q': 0.00010001395008836606, 'sigma': 0.09768893873685162, 'kenel': 6, 'lam': 0.019347277007032163, 'd': 2, 'c': 6, 'degree': 6}. Best is trial#43 with value: 0.639.\u001b[0m\n",
      "\u001b[32m[I 2020-05-30 12:45:06,360]\u001b[0m Finished trial#109 with value: 0.6325 with parameters: {'q': 1.2004780511732456e-05, 'sigma': 0.1676897549836225, 'kenel': 6, 'lam': 0.00034580627787461, 'd': 9, 'c': 6, 'degree': 5}. Best is trial#43 with value: 0.639.\u001b[0m\n",
      "\u001b[32m[I 2020-05-30 12:45:08,512]\u001b[0m Finished trial#110 with value: 0.635 with parameters: {'q': 7.818052544768286e-05, 'sigma': 0.04858451322345918, 'kenel': 4, 'lam': 0.0010204170042065741, 'd': 6, 'c': 5, 'degree': 2}. Best is trial#43 with value: 0.639.\u001b[0m\n",
      "\u001b[32m[I 2020-05-30 12:45:10,698]\u001b[0m Finished trial#111 with value: 0.6385 with parameters: {'q': 0.00018742397292680635, 'sigma': 0.10880233584937472, 'kenel': 0, 'lam': 3.168544370430564e-05, 'd': 6, 'c': 10, 'degree': 5}. Best is trial#43 with value: 0.639.\u001b[0m\n",
      "\u001b[32m[I 2020-05-30 12:45:12,874]\u001b[0m Finished trial#112 with value: 0.6359999999999999 with parameters: {'q': 0.00018400797557889173, 'sigma': 0.069198558443006, 'kenel': 8, 'lam': 5.241974814189606e-05, 'd': 3, 'c': 6, 'degree': 5}. Best is trial#43 with value: 0.639.\u001b[0m\n",
      "\u001b[32m[I 2020-05-30 12:45:15,007]\u001b[0m Finished trial#113 with value: 0.634 with parameters: {'q': 0.0002363801895840913, 'sigma': 0.11662274793553536, 'kenel': 6, 'lam': 0.00014188295376746428, 'd': 6, 'c': 8, 'degree': 5}. Best is trial#43 with value: 0.639.\u001b[0m\n",
      "\u001b[32m[I 2020-05-30 12:45:17,131]\u001b[0m Finished trial#114 with value: 0.6355000000000001 with parameters: {'q': 0.00027177640989069164, 'sigma': 0.10266564555622947, 'kenel': 0, 'lam': 5.8535549234621355e-06, 'd': 6, 'c': 4, 'degree': 5}. Best is trial#43 with value: 0.639.\u001b[0m\n",
      "\u001b[32m[I 2020-05-30 12:45:19,290]\u001b[0m Finished trial#115 with value: 0.6335 with parameters: {'q': 0.00013197682672199583, 'sigma': 0.07833641189188448, 'kenel': 2, 'lam': 0.006499514937883612, 'd': 4, 'c': 5, 'degree': 5}. Best is trial#43 with value: 0.639.\u001b[0m\n",
      "\u001b[32m[I 2020-05-30 12:45:21,428]\u001b[0m Finished trial#116 with value: 0.637 with parameters: {'q': 0.6206314050147278, 'sigma': 0.15111285687692852, 'kenel': 1, 'lam': 0.0005158218129824471, 'd': 10, 'c': 10, 'degree': 6}. Best is trial#43 with value: 0.639.\u001b[0m\n",
      "\u001b[32m[I 2020-05-30 12:45:23,531]\u001b[0m Finished trial#117 with value: 0.6355000000000001 with parameters: {'q': 0.0004492854097353719, 'sigma': 0.1832321682747438, 'kenel': 1, 'lam': 5.687821327201877e-05, 'd': 8, 'c': 6, 'degree': 5}. Best is trial#43 with value: 0.639.\u001b[0m\n",
      "\u001b[32m[I 2020-05-30 12:45:25,656]\u001b[0m Finished trial#118 with value: 0.6355 with parameters: {'q': 6.479707142698387e-05, 'sigma': 0.037209321558155026, 'kenel': 4, 'lam': 1.7584908841271235e-06, 'd': 6, 'c': 9, 'degree': 3}. Best is trial#43 with value: 0.639.\u001b[0m\n",
      "\u001b[32m[I 2020-05-30 12:45:27,777]\u001b[0m Finished trial#119 with value: 0.635 with parameters: {'q': 9.148176156123743e-05, 'sigma': 0.05553011686777542, 'kenel': 0, 'lam': 0.00022774955250693115, 'd': 4, 'c': 7, 'degree': 6}. Best is trial#43 with value: 0.639.\u001b[0m\n",
      "\u001b[32m[I 2020-05-30 12:45:29,900]\u001b[0m Finished trial#120 with value: 0.637 with parameters: {'q': 2.6766204481767213e-05, 'sigma': 0.23008731524513562, 'kenel': 6, 'lam': 2.488070826919568e-05, 'd': 2, 'c': 6, 'degree': 5}. Best is trial#43 with value: 0.639.\u001b[0m\n",
      "\u001b[32m[I 2020-05-30 12:45:32,062]\u001b[0m Finished trial#121 with value: 0.6335 with parameters: {'q': 0.0003789389588102786, 'sigma': 0.1245221464228231, 'kenel': 0, 'lam': 7.980197382941517e-05, 'd': 7, 'c': 10, 'degree': 4}. Best is trial#43 with value: 0.639.\u001b[0m\n",
      "\u001b[32m[I 2020-05-30 12:45:34,200]\u001b[0m Finished trial#122 with value: 0.6379999999999999 with parameters: {'q': 0.0002101325196648711, 'sigma': 0.0858918832057431, 'kenel': 0, 'lam': 2.824383027909576e-05, 'd': 7, 'c': 10, 'degree': 4}. Best is trial#43 with value: 0.639.\u001b[0m\n",
      "\u001b[32m[I 2020-05-30 12:45:36,341]\u001b[0m Finished trial#123 with value: 0.6355 with parameters: {'q': 0.00014713090367919276, 'sigma': 0.1517122622992983, 'kenel': 0, 'lam': 1.1415608900372997e-05, 'd': 6, 'c': 10, 'degree': 4}. Best is trial#43 with value: 0.639.\u001b[0m\n",
      "\u001b[32m[I 2020-05-30 12:45:38,465]\u001b[0m Finished trial#124 with value: 0.6355000000000001 with parameters: {'q': 0.000216929589621713, 'sigma': 0.08944312802050321, 'kenel': 0, 'lam': 0.0012362466407505168, 'd': 8, 'c': 10, 'degree': 5}. Best is trial#43 with value: 0.639.\u001b[0m\n",
      "\u001b[32m[I 2020-05-30 12:45:40,666]\u001b[0m Finished trial#125 with value: 0.634 with parameters: {'q': 0.004534838320773328, 'sigma': 0.06131473864126229, 'kenel': 1, 'lam': 6.686439274066385e-13, 'd': 7, 'c': 1, 'degree': 4}. Best is trial#43 with value: 0.639.\u001b[0m\n",
      "\u001b[32m[I 2020-05-30 12:45:42,786]\u001b[0m Finished trial#126 with value: 0.6385 with parameters: {'q': 0.0005400108241819606, 'sigma': 0.07124565814083784, 'kenel': 0, 'lam': 2.921665514506876e-05, 'd': 6, 'c': 9, 'degree': 3}. Best is trial#43 with value: 0.639.\u001b[0m\n",
      "\u001b[32m[I 2020-05-30 12:45:45,026]\u001b[0m Finished trial#127 with value: 0.634 with parameters: {'q': 0.0005110909534550362, 'sigma': 0.06860066915298695, 'kenel': 9, 'lam': 0.0032212452291793385, 'd': 5, 'c': 9, 'degree': 3}. Best is trial#43 with value: 0.639.\u001b[0m\n",
      "\u001b[32m[I 2020-05-30 12:45:47,269]\u001b[0m Finished trial#128 with value: 0.6325 with parameters: {'q': 0.00011296046072627327, 'sigma': 0.052170105597871816, 'kenel': 1, 'lam': 0.0001510670109803161, 'd': 6, 'c': 8, 'degree': 3}. Best is trial#43 with value: 0.639.\u001b[0m\n",
      "\u001b[32m[I 2020-05-30 12:45:49,397]\u001b[0m Finished trial#129 with value: 0.5015 with parameters: {'q': 0.0008830557077864087, 'sigma': 0.04172366818250262, 'kenel': 0, 'lam': 0.0446359028460754, 'd': 14, 'c': 9, 'degree': 2}. Best is trial#43 with value: 0.639.\u001b[0m\n",
      "\u001b[32m[I 2020-05-30 12:45:51,522]\u001b[0m Finished trial#130 with value: 0.634 with parameters: {'q': 1.8161649205151966e-05, 'sigma': 0.10232157770099576, 'kenel': 4, 'lam': 3.086113568747472e-07, 'd': 3, 'c': 9, 'degree': 3}. Best is trial#43 with value: 0.639.\u001b[0m\n",
      "\u001b[32m[I 2020-05-30 12:45:53,622]\u001b[0m Finished trial#131 with value: 0.6375 with parameters: {'q': 0.00029272805682085116, 'sigma': 0.08188479701128745, 'kenel': 0, 'lam': 2.624744854764792e-05, 'd': 6, 'c': 10, 'degree': 4}. Best is trial#43 with value: 0.639.\u001b[0m\n",
      "\u001b[32m[I 2020-05-30 12:45:55,740]\u001b[0m Finished trial#132 with value: 0.6355000000000001 with parameters: {'q': 0.0001896496894298289, 'sigma': 0.07990316870853285, 'kenel': 0, 'lam': 6.284666483051429e-06, 'd': 5, 'c': 10, 'degree': 3}. Best is trial#43 with value: 0.639.\u001b[0m\n",
      "\u001b[32m[I 2020-05-30 12:45:57,884]\u001b[0m Finished trial#133 with value: 0.635 with parameters: {'q': 0.0005295248232880926, 'sigma': 0.09226219312145212, 'kenel': 0, 'lam': 1.720969229527192e-05, 'd': 7, 'c': 7, 'degree': 5}. Best is trial#43 with value: 0.639.\u001b[0m\n",
      "\u001b[32m[I 2020-05-30 12:45:59,998]\u001b[0m Finished trial#134 with value: 0.6365 with parameters: {'q': 0.0003731058588539767, 'sigma': 0.8833121145267384, 'kenel': 5, 'lam': 4.497783961915209e-05, 'd': 8, 'c': 5, 'degree': 4}. Best is trial#43 with value: 0.639.\u001b[0m\n",
      "\u001b[32m[I 2020-05-30 12:46:02,122]\u001b[0m Finished trial#135 with value: 0.6325 with parameters: {'q': 0.00016416540043696703, 'sigma': 0.11125790324380701, 'kenel': 0, 'lam': 0.0003328609860770758, 'd': 6, 'c': 8, 'degree': 3}. Best is trial#43 with value: 0.639.\u001b[0m\n",
      "\u001b[32m[I 2020-05-30 12:46:04,251]\u001b[0m Finished trial#136 with value: 0.6355 with parameters: {'q': 0.00025512221289580167, 'sigma': 1.457654819080149, 'kenel': 0, 'lam': 2.7029105260184012e-06, 'd': 7, 'c': 10, 'degree': 5}. Best is trial#43 with value: 0.639.\u001b[0m\n",
      "\u001b[32m[I 2020-05-30 12:46:06,378]\u001b[0m Finished trial#137 with value: 0.6365000000000001 with parameters: {'q': 0.0003401947374455413, 'sigma': 0.12909661090040056, 'kenel': 7, 'lam': 0.0007155088030229303, 'd': 5, 'c': 5, 'degree': 4}. Best is trial#43 with value: 0.639.\u001b[0m\n",
      "\u001b[32m[I 2020-05-30 12:46:08,504]\u001b[0m Finished trial#138 with value: 0.635 with parameters: {'q': 0.0006584429225467842, 'sigma': 0.18974953988181448, 'kenel': 1, 'lam': 0.00010327742978268753, 'd': 6, 'c': 9, 'degree': 3}. Best is trial#43 with value: 0.639.\u001b[0m\n",
      "\u001b[32m[I 2020-05-30 12:46:10,697]\u001b[0m Finished trial#139 with value: 0.6355 with parameters: {'q': 0.00039157537672041904, 'sigma': 0.14129187800670098, 'kenel': 0, 'lam': 1.0396987802124367e-05, 'd': 9, 'c': 4, 'degree': 5}. Best is trial#43 with value: 0.639.\u001b[0m\n",
      "\u001b[32m[I 2020-05-30 12:46:12,824]\u001b[0m Finished trial#140 with value: 0.634 with parameters: {'q': 0.0018147646886346777, 'sigma': 0.16268672407058415, 'kenel': 1, 'lam': 6.994608468107069e-05, 'd': 8, 'c': 6, 'degree': 2}. Best is trial#43 with value: 0.639.\u001b[0m\n",
      "\u001b[32m[I 2020-05-30 12:46:14,956]\u001b[0m Finished trial#141 with value: 0.6379999999999999 with parameters: {'q': 0.00021990654299151578, 'sigma': 0.06138318513887571, 'kenel': 0, 'lam': 2.7205129348291275e-05, 'd': 7, 'c': 10, 'degree': 4}. Best is trial#43 with value: 0.639.\u001b[0m\n",
      "\u001b[32m[I 2020-05-30 12:46:17,080]\u001b[0m Finished trial#142 with value: 0.6375 with parameters: {'q': 0.00015654646527956949, 'sigma': 0.07176916819224857, 'kenel': 0, 'lam': 3.548449243295348e-05, 'd': 7, 'c': 10, 'degree': 4}. Best is trial#43 with value: 0.639.\u001b[0m\n",
      "\u001b[32m[I 2020-05-30 12:46:19,205]\u001b[0m Finished trial#143 with value: 0.6325000000000001 with parameters: {'q': 0.00028868823687751494, 'sigma': 0.2119003335210703, 'kenel': 0, 'lam': 0.00019832723532471654, 'd': 8, 'c': 10, 'degree': 4}. Best is trial#43 with value: 0.639.\u001b[0m\n",
      "\u001b[32m[I 2020-05-30 12:46:21,317]\u001b[0m Finished trial#144 with value: 0.6365 with parameters: {'q': 0.0001085309278283344, 'sigma': 0.06051441643846747, 'kenel': 0, 'lam': 2.1217221786934074e-05, 'd': 6, 'c': 10, 'degree': 4}. Best is trial#43 with value: 0.639.\u001b[0m\n",
      "\u001b[32m[I 2020-05-30 12:46:23,435]\u001b[0m Finished trial#145 with value: 0.6355000000000001 with parameters: {'q': 0.0005095516176479027, 'sigma': 0.24739854054349106, 'kenel': 8, 'lam': 5.523940531234005e-06, 'd': 9, 'c': 9, 'degree': 5}. Best is trial#43 with value: 0.639.\u001b[0m\n",
      "\u001b[32m[I 2020-05-30 12:46:25,628]\u001b[0m Finished trial#146 with value: 0.636 with parameters: {'q': 0.00023311405901250048, 'sigma': 0.044610498077751005, 'kenel': 0, 'lam': 1.4367944848571475e-05, 'd': 7, 'c': 10, 'degree': 3}. Best is trial#43 with value: 0.639.\u001b[0m\n",
      "\u001b[32m[I 2020-05-30 12:46:27,828]\u001b[0m Finished trial#147 with value: 0.636 with parameters: {'q': 0.00018613070106654974, 'sigma': 0.09229008670942658, 'kenel': 3, 'lam': 0.0018594492883678788, 'd': 4, 'c': 5, 'degree': 3}. Best is trial#43 with value: 0.639.\u001b[0m\n",
      "\u001b[32m[I 2020-05-30 12:46:29,991]\u001b[0m Finished trial#148 with value: 0.634 with parameters: {'q': 1.0043047532641655e-05, 'sigma': 0.054768966269332496, 'kenel': 0, 'lam': 6.646002082482453e-05, 'd': 6, 'c': 2, 'degree': 4}. Best is trial#43 with value: 0.639.\u001b[0m\n",
      "\u001b[32m[I 2020-05-30 12:46:32,112]\u001b[0m Finished trial#149 with value: 0.635 with parameters: {'q': 0.00013154740473026266, 'sigma': 0.11498200107583341, 'kenel': 6, 'lam': 1.569508435236643e-06, 'd': 8, 'c': 7, 'degree': 5}. Best is trial#43 with value: 0.639.\u001b[0m\n",
      "\u001b[32m[I 2020-05-30 12:46:34,234]\u001b[0m Finished trial#150 with value: 0.64 with parameters: {'q': 8.09249017917846e-05, 'sigma': 0.07710461554918507, 'kenel': 2, 'lam': 0.0006135321278328168, 'd': 5, 'c': 3, 'degree': 4}. Best is trial#150 with value: 0.64.\u001b[0m\n",
      "\u001b[32m[I 2020-05-30 12:46:36,408]\u001b[0m Finished trial#151 with value: 0.6365000000000001 with parameters: {'q': 1.4072189247707056e-05, 'sigma': 0.07442496170791948, 'kenel': 2, 'lam': 0.0007021660019069037, 'd': 5, 'c': 3, 'degree': 4}. Best is trial#150 with value: 0.64.\u001b[0m\n",
      "\u001b[32m[I 2020-05-30 12:46:38,537]\u001b[0m Finished trial#152 with value: 0.6359999999999999 with parameters: {'q': 7.732391853741302e-05, 'sigma': 0.06454201417601688, 'kenel': 2, 'lam': 0.007465270621554324, 'd': 5, 'c': 3, 'degree': 4}. Best is trial#150 with value: 0.64.\u001b[0m\n",
      "\u001b[32m[I 2020-05-30 12:46:40,698]\u001b[0m Finished trial#153 with value: 0.6315 with parameters: {'q': 0.00030595016705355966, 'sigma': 0.17199351722426476, 'kenel': 2, 'lam': 0.000287184320635686, 'd': 5, 'c': 8, 'degree': 5}. Best is trial#150 with value: 0.64.\u001b[0m\n",
      "\u001b[32m[I 2020-05-30 12:46:42,808]\u001b[0m Finished trial#154 with value: 0.6335 with parameters: {'q': 5.226878331469376e-05, 'sigma': 0.1313129828827699, 'kenel': 1, 'lam': 0.00013268159202176128, 'd': 6, 'c': 3, 'degree': 4}. Best is trial#150 with value: 0.64.\u001b[0m\n",
      "\u001b[32m[I 2020-05-30 12:46:44,929]\u001b[0m Finished trial#155 with value: 0.6375 with parameters: {'q': 0.00022029609975491094, 'sigma': 0.08268288934328927, 'kenel': 2, 'lam': 2.6297516991979587e-05, 'd': 7, 'c': 3, 'degree': 4}. Best is trial#150 with value: 0.64.\u001b[0m\n",
      "\u001b[32m[I 2020-05-30 12:46:47,044]\u001b[0m Finished trial#156 with value: 0.6340000000000001 with parameters: {'q': 9.194807335026798e-05, 'sigma': 0.08982978950453932, 'kenel': 4, 'lam': 0.0029807212844890634, 'd': 3, 'c': 10, 'degree': 3}. Best is trial#150 with value: 0.64.\u001b[0m\n",
      "\u001b[32m[I 2020-05-30 12:46:49,185]\u001b[0m Finished trial#157 with value: 0.6395000000000001 with parameters: {'q': 0.00013308402345297305, 'sigma': 0.050250193374531404, 'kenel': 0, 'lam': 0.0005842086029544806, 'd': 4, 'c': 4, 'degree': 5}. Best is trial#150 with value: 0.64.\u001b[0m\n",
      "\u001b[32m[I 2020-05-30 12:46:51,296]\u001b[0m Finished trial#158 with value: 0.628 with parameters: {'q': 0.00012626004902393373, 'sigma': 0.027886277466552156, 'kenel': 1, 'lam': 0.010938996163461905, 'd': 4, 'c': 4, 'degree': 5}. Best is trial#150 with value: 0.64.\u001b[0m\n",
      "\u001b[32m[I 2020-05-30 12:46:53,489]\u001b[0m Finished trial#159 with value: 0.6385 with parameters: {'q': 6.917245968615815e-05, 'sigma': 0.049981659018658774, 'kenel': 0, 'lam': 0.0014349394590102496, 'd': 2, 'c': 3, 'degree': 5}. Best is trial#150 with value: 0.64.\u001b[0m\n",
      "\u001b[32m[I 2020-05-30 12:46:55,601]\u001b[0m Finished trial#160 with value: 0.6375 with parameters: {'q': 4.663428769016414e-05, 'sigma': 0.037365472303630284, 'kenel': 3, 'lam': 0.0012864869850905257, 'd': 2, 'c': 3, 'degree': 5}. Best is trial#150 with value: 0.64.\u001b[0m\n",
      "\u001b[32m[I 2020-05-30 12:46:57,709]\u001b[0m Finished trial#161 with value: 0.6395 with parameters: {'q': 9.721466774399433e-05, 'sigma': 0.04478525756683676, 'kenel': 0, 'lam': 0.0006250043326757201, 'd': 3, 'c': 4, 'degree': 5}. Best is trial#150 with value: 0.64.\u001b[0m\n",
      "\u001b[32m[I 2020-05-30 12:46:59,835]\u001b[0m Finished trial#162 with value: 0.637 with parameters: {'q': 6.21166498424268e-05, 'sigma': 0.05254331082041378, 'kenel': 0, 'lam': 0.0005129490469273697, 'd': 3, 'c': 4, 'degree': 5}. Best is trial#150 with value: 0.64.\u001b[0m\n",
      "\u001b[32m[I 2020-05-30 12:47:01,945]\u001b[0m Finished trial#163 with value: 0.6325 with parameters: {'q': 7.785702152662212e-05, 'sigma': 0.04726014841715772, 'kenel': 0, 'lam': 0.004897400682498881, 'd': 2, 'c': 3, 'degree': 6}. Best is trial#150 with value: 0.64.\u001b[0m\n",
      "\u001b[32m[I 2020-05-30 12:47:04,050]\u001b[0m Finished trial#164 with value: 0.638 with parameters: {'q': 0.00011079750951620328, 'sigma': 0.04271080021162919, 'kenel': 0, 'lam': 0.0016077618943388908, 'd': 2, 'c': 3, 'degree': 5}. Best is trial#150 with value: 0.64.\u001b[0m\n",
      "\u001b[32m[I 2020-05-30 12:47:06,221]\u001b[0m Finished trial#165 with value: 0.6345000000000001 with parameters: {'q': 0.00014428300135995193, 'sigma': 0.034613375877291234, 'kenel': 0, 'lam': 0.0009852309535696112, 'd': 3, 'c': 4, 'degree': 5}. Best is trial#150 with value: 0.64.\u001b[0m\n",
      "\u001b[32m[I 2020-05-30 12:47:08,348]\u001b[0m Finished trial#166 with value: 0.6345 with parameters: {'q': 0.0001181613816244405, 'sigma': 0.0422447007417883, 'kenel': 0, 'lam': 0.0026046873648099896, 'd': 2, 'c': 3, 'degree': 5}. Best is trial#150 with value: 0.64.\u001b[0m\n",
      "\u001b[32m[I 2020-05-30 12:47:10,466]\u001b[0m Finished trial#167 with value: 0.6355000000000001 with parameters: {'q': 2.670642790634456e-05, 'sigma': 0.05134947219922351, 'kenel': 1, 'lam': 0.00042572617171241953, 'd': 4, 'c': 2, 'degree': 5}. Best is trial#150 with value: 0.64.\u001b[0m\n",
      "\u001b[32m[I 2020-05-30 12:47:12,641]\u001b[0m Finished trial#168 with value: 0.6325000000000001 with parameters: {'q': 6.406431300920642e-05, 'sigma': 0.06616069181256871, 'kenel': 6, 'lam': 0.00017468424038712772, 'd': 3, 'c': 5, 'degree': 6}. Best is trial#150 with value: 0.64.\u001b[0m\n",
      "\u001b[32m[I 2020-05-30 12:47:14,780]\u001b[0m Finished trial#169 with value: 0.637 with parameters: {'q': 9.617269898237644e-05, 'sigma': 0.028851224141203367, 'kenel': 0, 'lam': 0.001721488244824067, 'd': 2, 'c': 3, 'degree': 5}. Best is trial#150 with value: 0.64.\u001b[0m\n",
      "\u001b[32m[I 2020-05-30 12:47:16,891]\u001b[0m Finished trial#170 with value: 0.638 with parameters: {'q': 0.00016828389302252445, 'sigma': 0.05926465411915005, 'kenel': 9, 'lam': 0.0006547951356047897, 'd': 4, 'c': 5, 'degree': 5}. Best is trial#150 with value: 0.64.\u001b[0m\n",
      "\u001b[32m[I 2020-05-30 12:47:19,005]\u001b[0m Finished trial#171 with value: 0.6325000000000001 with parameters: {'q': 0.00010684323520280288, 'sigma': 0.043425354640897806, 'kenel': 0, 'lam': 0.004397359514167537, 'd': 2, 'c': 3, 'degree': 5}. Best is trial#150 with value: 0.64.\u001b[0m\n",
      "\u001b[32m[I 2020-05-30 12:47:21,131]\u001b[0m Finished trial#172 with value: 0.6375000000000001 with parameters: {'q': 0.00017472082641631866, 'sigma': 0.04981772808341417, 'kenel': 9, 'lam': 0.000742362405165192, 'd': 4, 'c': 4, 'degree': 5}. Best is trial#150 with value: 0.64.\u001b[0m\n",
      "\u001b[32m[I 2020-05-30 12:47:23,236]\u001b[0m Finished trial#173 with value: 0.6335 with parameters: {'q': 8.488589947837889e-05, 'sigma': 0.061657619439081955, 'kenel': 4, 'lam': 0.0003991327369786744, 'd': 3, 'c': 5, 'degree': 5}. Best is trial#150 with value: 0.64.\u001b[0m\n",
      "\u001b[32m[I 2020-05-30 12:47:25,345]\u001b[0m Finished trial#174 with value: 0.6335000000000001 with parameters: {'q': 0.00012807716218497074, 'sigma': 0.037750981652484125, 'kenel': 9, 'lam': 7.448732347882204e-05, 'd': 4, 'c': 3, 'degree': 5}. Best is trial#150 with value: 0.64.\u001b[0m\n",
      "\u001b[32m[I 2020-05-30 12:47:27,533]\u001b[0m Finished trial#175 with value: 0.6385 with parameters: {'q': 0.0001449066783137072, 'sigma': 0.05590359329660536, 'kenel': 9, 'lam': 0.0014727583774619393, 'd': 4, 'c': 3, 'degree': 5}. Best is trial#150 with value: 0.64.\u001b[0m\n",
      "\u001b[32m[I 2020-05-30 12:47:29,642]\u001b[0m Finished trial#176 with value: 0.6385 with parameters: {'q': 7.189910884379583e-05, 'sigma': 0.07323113663201054, 'kenel': 9, 'lam': 0.0014223861188439346, 'd': 2, 'c': 3, 'degree': 5}. Best is trial#150 with value: 0.64.\u001b[0m\n"
     ]
    }
   ],
   "source": [
    "from kernels.basic import RBF, Linear, Polynomial\n",
    "from kernels.regular import Exponential, Laplacian, RationalQuadratic, \\\n",
    "                            InverseMultiquadratic, Cauchy, TStudent, ANOVA, Fourier, Tanimoto, Sorensen\n",
    "\n",
    "def objective_sgd(trial):\n",
    "    \n",
    "    q  = trial.suggest_loguniform('q', 1e-5, 1e+0)\n",
    "    \n",
    "    sigma  = trial.suggest_loguniform('sigma', 1e-2, 5e+0) # trial.suggest_float('sigma', 1e-5, 1e-3, log=True)\n",
    "    \n",
    "    kenel = trial.suggest_categorical('kenel', [0, 1, 2, 3, 4, 5, 6, 7, 8, 9])#[Exponential, Laplacian, RationalQuadratic, InverseMultiquadratic, \\\n",
    "                                               #Cauchy, TStudent, ANOVA, Fourier, Tanimoto, Sorensen])\n",
    "    \n",
    "    lam = trial.suggest_loguniform('lam', 1e-15, 1e-0)\n",
    "    \n",
    "    d = trial.suggest_int('d', 2, 15)\n",
    "    c = trial.suggest_int('c', 1, 10)\n",
    "    \n",
    "    degree = trial.suggest_int('degree', 2, 10)\n",
    "    \n",
    "    # trick to avoid warnning from opma that support only basic datatype\n",
    "    trick_list = [Exponential, Laplacian, RationalQuadratic, InverseMultiquadratic, \\\n",
    "                        Cauchy, TStudent, ANOVA, Fourier, Tanimoto, Sorensen]\n",
    "    \n",
    "#     tol = trial.suggest_loguniform('tol', 1e-7, 1e-0)\n",
    "\n",
    "#     sigma=10, d=2, rbf=1.0, poly=1.0\n",
    "    \n",
    "#     lr  = trial.suggest_loguniform('lr', 2e-5, 1e-1)\n",
    "    \n",
    "#     normalise = trial.suggest_categorical('normalise', [False , True])\n",
    "    \n",
    "#     rbf = trial.suggest_loguniform('rbf', 1e-3, 3e+0)\n",
    "    \n",
    "#     poly = trial.suggest_loguniform('poly', 1e-3, 3e+0)\n",
    "    \n",
    "    \n",
    "#     model = trial.suggest_categorical('models', [ksolveRR , ksolveRR_2, ksolveLRR, KernelSVM])\n",
    "    \n",
    "    # ksolveRR (self, X, y, lam= 0.0001, sigma=0.5, kernel=rbf_kernel)\n",
    "    # ksolveRR_2 (self, X, y, lam= 0.0001, sigma=0.5, sample_weights = None, kernel = rbf_kernel\n",
    "    # ksolveLRR (self, X, y, lam = 0.1, sigma = 4, max_iter=100, tol=1e-5, kernel=rbf_kernel\n",
    "    # KernelSVM (self, X, y, C=0.1, lam = 0.1, sigma = 4, tol = 1e-1, kernel=rbf_kernel\n",
    "    \n",
    "#     models = {ksolveRR : 'k Ridge Reg', ksolveRR_2: 'weigh Ridge Reg', \\\n",
    "#               ksolveLRR: 'k Logistic Ridge Reg', KernelSVM : 'Kernal SVM', LogisticRegressionBinary: 'log reg'} \n",
    "#     \n",
    "    kernels = {Exponential : 'Exponential kernel (self, sigma=None)',\n",
    "               Laplacian : 'Laplacian kernel (self, sigma=None)',\n",
    "               Cauchy : 'Cauchy kernel (self, sigma=None)',\n",
    "               \n",
    "               RationalQuadratic : 'Rational quadratic kernel (self, c=1)',\n",
    "               InverseMultiquadratic : 'Inverse multiquadratic kernel (self, c=1)',\n",
    "               \n",
    "               TStudent : 'T-Student kernel (self, degree=2)',\n",
    "               \n",
    "               ANOVA : 'ANOVA kernel (self, sigma=1., d=2)',\n",
    "               \n",
    "               Fourier : 'Fourier kernel (self, q=0.1)',\n",
    "               \n",
    "               Tanimoto : 'Tanimoto kernel',\n",
    "               Sorensen : 'Sorensen kernel'\n",
    "              }\n",
    "    \n",
    "    if kernels[trick_list[kenel]] == 'ANOVA kernel (self, sigma=sigma, d=d)':\n",
    "        kenel = trick_list[kenel](sigma=sigma, d=d)\n",
    "        \n",
    "    elif kernels[trick_list[kenel]] == 'Exponential kernel (self, sigma=None)' or \\\n",
    "                        kernels[trick_list[kenel]] == 'Laplacian kernel (self, sigma=None)' or \\\n",
    "                        kernels[trick_list[kenel]] == 'Cauchy kernel (self, sigma=None)':\n",
    "        kenel = trick_list[kenel](sigma=sigma)\n",
    "        \n",
    "    elif kernels[trick_list[kenel]] == 'Rational quadratic kernel (self, c=1)' or \\\n",
    "                        kernels[trick_list[kenel]] == 'Inverse multiquadratic kernel (self, c=1)':\n",
    "        kenel = trick_list[kenel](c=c)\n",
    "        \n",
    "    elif kernels[trick_list[kenel]] == 'T-Student kernel (self, degree=2)':\n",
    "        kenel = trick_list[kenel](degree=degree)\n",
    "        \n",
    "    elif kernels[trick_list[kenel]] == 'Fourier kernel (self, q=0.1)':\n",
    "        kenel = trick_list[kenel](q=q)\n",
    "        \n",
    "    else:\n",
    "        kenel = trick_list[kenel]()\n",
    "        \n",
    "    \n",
    "    n = 1\n",
    "    \n",
    "    models = {ksolveRR : 'k Ridge Reg'} \n",
    "      \n",
    "#     accuracy = []\n",
    "#     for model in models:\n",
    "#     ipdb.set_trace()\n",
    "    \n",
    "\n",
    "    X_cross, y_cross, X_t_enc = spectrum_kernal(X_train_, Y_train_, X_test_, n=n, encoder=8, one_hot = True, normalise = False)\n",
    "    \n",
    "    for model in models:\n",
    "        accuracy = []\n",
    "        for i, (train_index, validate_index) in enumerate(kfold.split(X_cross)):\n",
    "            X_train, y_train = X_cross[train_index], y_cross[train_index]\n",
    "            X_valid, y_valid = X_cross[validate_index], y_cross[validate_index]\n",
    "\n",
    "    #             ipdb.set_trace()\n",
    "            if models[model] == 'weigh Ridge Reg':\n",
    "                sample_weights = np.random.rand(len(y_train))\n",
    "                model_curr = model(X_train, y_train, lam = lam, sigma = sigma, sample_weights = sample_weights, kernel = kenel)\n",
    "\n",
    "            elif models[model] == 'k Logistic Ridge Reg':\n",
    "                model_curr = model(X_train, y_train, lam = lam, sigma = sigma, max_iter=100, tol = tol, kernel = kenel)\n",
    "            elif models[model] == 'k Ridge Reg':\n",
    "#                 model_curr = model(X_train, y_train, lam= lam, sigma = sigma, d=d, rbf=rbf, poly=poly, kernel=rbf_kernel)\n",
    "                \n",
    "                model_curr = model(X_train, y_train, lam= lam, kernel=rbf_kernel)\n",
    "            elif models[model] == 'log reg':\n",
    "                model_curr = model(lr=lr, num_iter=5000, batch_size=1)\n",
    "            else:\n",
    "                model_curr = model(X_train, y_train, C=c, lam = lam, sigma = sigma, tol= tol, kernel = kenel)\n",
    "                \n",
    "            if models[model] == 'log reg':\n",
    "                model_curr.fit(X_train, y_train)\n",
    "            else:\n",
    "                model_curr.fit()\n",
    "            \n",
    "\n",
    "            accuracy.append(model_curr.Accuracy_check(X_valid, y_valid, threshold=0.5))\n",
    "                \n",
    "    #       print(f'accurracy fold {i}: {accuracy[i]}')\n",
    "\n",
    "    #         print(f'\\nAverage accuracy {models[model]} is : {np.mean(accuracy)}\\n')\n",
    "\n",
    "    return np.mean(accuracy)\n",
    "\n",
    "sampler = optuna.samplers.TPESampler()\n",
    "\n",
    "study = optuna.create_study(sampler=sampler, direction='maximize')\n",
    "study.optimize(func=objective_sgd, n_trials=1500, show_progress_bar=True)\n",
    "\n",
    "\n",
    "trial = study.best_trial\n",
    "\n",
    "print('Accuracy: {}'.format(trial.value))\n",
    "print(\"Best hyperparameters: {}\".format(trial.params))"
   ]
  },
  {
   "cell_type": "code",
   "execution_count": 44,
   "metadata": {},
   "outputs": [
    {
     "name": "stdout",
     "output_type": "stream",
     "text": [
      "Accuracy: 0.657\n",
      "Best hyperparameters: {'sigma': 3.9997730778324994, 'lam': 1.9185820060536564e-15}\n",
      "time: 1.71 ms\n"
     ]
    }
   ],
   "source": [
    "print('Accuracy: {}'.format(trial.value))\n",
    "print(\"Best hyperparameters: {}\".format(trial.params))"
   ]
  },
  {
   "cell_type": "code",
   "execution_count": null,
   "metadata": {},
   "outputs": [],
   "source": []
  },
  {
   "cell_type": "code",
   "execution_count": null,
   "metadata": {},
   "outputs": [],
   "source": [
    "def objective_sgd(trial):\n",
    "#     c  = trial.suggest_loguniform('c', 1e-20, 2e1)\n",
    "    sigma  = trial.suggest_float('sigma', 1e-25, 25) # trial.suggest_float('sigma', 1e-5, 1e-3, log=True)\n",
    "#     kenel = trial.suggest_categorical('kenel', [rbf_kernel, quadratic_kernel])\n",
    "    lam = trial.suggest_float('lam', 1e-30, 1e-0)\n",
    "    tol = trial.suggest_loguniform('tol', 1e-10, 1e-0)\n",
    "    \n",
    "    # ksolveRR (self, X, y, lam= 0.0001, sigma=0.5, kernel=rbf_kernel)\n",
    "    # ksolveRR_2 (self, X, y, lam= 0.0001, sigma=0.5, sample_weights = None, kernel = rbf_kernel\n",
    "    # ksolveLRR (self, X, y, lam = 0.1, sigma = 4, max_iter=100, tol=1e-5, kernel=rbf_kernel\n",
    "    # KernelSVM (self, X, y, C=0.1, lam = 0.1, sigma = 4, tol = 1e-1, kernel=rbf_kernel\n",
    "    \n",
    "#     models = {ksolveRR : 'k Ridge Reg', ksolveRR_2: 'weigh Ridge Reg', \\\n",
    "#               ksolveLRR: 'k Logistic Ridge Reg', KernelSVM : 'Kernal SVM'} \n",
    "#     \n",
    "    kenel = rbf_kernel\n",
    "    models = {ksolveRR : 'k Ridge Reg} \n",
    "      \n",
    "#     accuracy = []\n",
    "    for model in models:\n",
    "        accuracy = []\n",
    "        for i, (train_index, validate_index) in enumerate(kfold.split(X_cross)):\n",
    "            X_train, y_train = X_cross[train_index], y_cross[train_index]\n",
    "            X_valid, y_valid = X_cross[validate_index], y_cross[validate_index]\n",
    "            \n",
    "            \n",
    "#             ipdb.set_trace()\n",
    "            if models[model] == 'weigh Ridge Reg':\n",
    "                sample_weights = np.random.rand(len(y_train))\n",
    "                model_curr = model(X_train, y_train, lam = lam, sigma = sigma, sample_weights = sample_weights, kernel = kenel)\n",
    "                \n",
    "            elif models[model] == 'k Logistic Ridge Reg':\n",
    "                model_curr = model(X_train, y_train, lam = lam, sigma = sigma, max_iter=500, tol = tol, kernel = kenel)\n",
    "            elif models[model] == 'k Ridge Reg':\n",
    "                model_curr = model(X_train, y_train, lam = lam, sigma = sigma, kernel = kenel)\n",
    "            else:\n",
    "                model_curr = model(X_train, y_train, C=c, lam = lam, sigma = sigma, tol= tol, kernel = kenel)\n",
    "            \n",
    "            model_curr.fit()\n",
    "            accuracy.append(model_curr.Accuracy_check(X_valid, y_valid, threshold=0.5))\n",
    "#             print(f'accurracy fold {i}: {accuracy[i]}')\n",
    "        \n",
    "#         print(f'\\nAverage accuracy {models[model]} is : {np.mean(accuracy)}\\n')\n",
    "\n",
    "    return np.mean(accuracy)\n",
    "\n",
    "sampler = optuna.samplers.TPESampler()\n",
    "\n",
    "study = optuna.create_study(sampler=sampler, direction='maximize')\n",
    "study.optimize(func=objective_sgd, n_trials=5500,show_progress_bar=True)\n",
    "\n",
    "\n",
    "trial = study.best_trial\n",
    "\n",
    "print('Accuracy: {}'.format(trial.value))\n",
    "print(\"Best hyperparameters: {}\".format(trial.params))"
   ]
  },
  {
   "cell_type": "code",
   "execution_count": null,
   "metadata": {},
   "outputs": [],
   "source": [
    "# Accuracy: 0.7025 (overfitting on accuracy 4)\n",
    "# Best hyperparameters: {'sigma': 4.133127895830191, 'lam': 6.196055115305764e-14}"
   ]
  },
  {
   "cell_type": "code",
   "execution_count": null,
   "metadata": {},
   "outputs": [],
   "source": [
    "# Augmented data\n",
    "\n",
    "# sigma  = trial.suggest_loguniform('sigma', 1e-20, 20)\n",
    "# lam = trial.suggest_loguniform('lam', 1e-20, 1e-1)\n",
    "\n",
    "# models = {ksolveRR: 'k Ridge Reg'} (Augmented data)\n",
    "    # kenel = quadratic_kernel\n",
    "    # Accuracy: 0.6555\n",
    "    # Best hyperparameters: {'sigma': 4.065620491225982, 'lam': 0.013374107290659768}\n",
    "    # time: 49min 21s\n",
    "    #----\n",
    "    # kenel = rbf_kernel\n",
    "    # Accuracy: 0.6575 # 0.6575000000000001\n",
    "    # Best hyperparameters: {'sigma': 4.119788517147901, 'lam': 1.2752298700618223e-14}, {'sigma': 4.063158315715049, 'lam': 8.30834772639223e-05}\n",
    "    # time: 32min 57s\n",
    "    \n",
    "    # ------\n",
    "    # kenel = rbf_kernel\n",
    "    # Accuracy: 0.6595000000000001\n",
    "    # Best hyperparameters: {'sigma': 4.1032895001889464, 'lam': 0.00014526367793975609}\n",
    "    # time: --\n",
    "\n",
    "    \n",
    "# sigma  = trial.suggest_loguniform('sigma', 1e-3, 20)\n",
    "# lam = trial.suggest_loguniform('lam', 1e-15, 1e-0)\n",
    "\n",
    "# models = {ksolveRR: 'k Ridge Reg'} (Non-Augmented data)\n",
    "    # kenel = quadratic_kernel\n",
    "    # Accuracy: 0.6555\n",
    "    # Best hyperparameters: {'sigma': 4.069738272304652, 'lam': 0.053817561640154984}\n",
    "    # time: 48min 12s\n",
    "    #----\n",
    "    # kenel = rbf_kernel\n",
    "    # Accuracy: 0.6575000000000001\n",
    "    # Best hyperparameters: {'sigma': 4.001185698777986, 'lam': 1.9770379950513775e-10}\n",
    "    # time: 29min 58s\n",
    "    \n",
    "\n",
    "# Accuracy: 0.6605000000000001\n",
    "# Best hyperparameters: {'sigma': 4.538118805230398, 'lam': 8.583924705371449e-15}\n",
    "# time: 1.32 ms\n",
    "\n",
    "# Original data\n",
    "\n",
    "# sigma  = trial.suggest_loguniform('sigma', 1e-3, 20)\n",
    "# lam = trial.suggest_loguniform('lam', 1e-15, 1e-0)\n",
    "  \n",
    "# models = {ksolveRR: 'k Ridge Reg'} (Non-Augmented data standardize)\n",
    "    # kenel = rbf_kernel\n",
    "    # Accuracy: 0.612\n",
    "    # Best hyperparameters: {'sigma': 2.8925324917718167, 'lam': 1.2575244169567934e-08}\n",
    "    # time: 28min 33s \n",
    "    #----\n",
    "    # kenel = quadratic_kernel\n",
    "    # Accuracy: EROOR LinearAlg\n",
    "    # Best hyperparameters: \n",
    "    # time: "
   ]
  },
  {
   "cell_type": "code",
   "execution_count": null,
   "metadata": {},
   "outputs": [],
   "source": [
    "# {'sigma': 4.119788517147901, 'lam': 1.2752298700618223e-14}    # time: 32min 57s BEST(69.4)\n",
    "# ksolveRR_65_cv_0.00000000001_4.csv Second (69.2)\n"
   ]
  },
  {
   "cell_type": "code",
   "execution_count": 44,
   "metadata": {},
   "outputs": [
    {
     "data": {
      "text/plain": [
       "{'sigma': 4.001616944273439, 'lam': 4.873253388094652e-09}"
      ]
     },
     "execution_count": 44,
     "metadata": {},
     "output_type": "execute_result"
    },
    {
     "name": "stdout",
     "output_type": "stream",
     "text": [
      "time: 6.78 ms\n"
     ]
    }
   ],
   "source": [
    "trial.params"
   ]
  },
  {
   "cell_type": "code",
   "execution_count": 45,
   "metadata": {},
   "outputs": [
    {
     "name": "stdout",
     "output_type": "stream",
     "text": [
      "accurracy fold 0: 0.6075\n",
      "accurracy fold 1: 0.6575\n",
      "accurracy fold 2: 0.675\n",
      "accurracy fold 3: 0.65\n",
      "accurracy fold 4: 0.6975\n",
      "\n",
      "Average accuracy k Ridge Reg is : 0.6575000000000001\n",
      "\n",
      "time: 1.89 s\n"
     ]
    }
   ],
   "source": [
    "#     models = {ksolveRR : 'k Ridge Reg', ksolveRR_2: 'weigh Ridge Reg', \\\n",
    "#               ksolveLRR: 'k Logistic Ridge Reg', KernelSVM : 'Kernal SVM'\n",
    "\n",
    "# c  = \n",
    "\n",
    "trial.params\n",
    "sigma  = trial.params['sigma'] #4.133127895830191 #4#4.119788517147901 #4.538118805230398\n",
    "kenel = rbf_kernel\n",
    "lam = trial.params['lam'] #6.196055115305764e-14#0.00000000001#1.2752298700618223e-14#8.583924705371449e-15 8.583924705371449e-15 #\n",
    "# tol = \n",
    "    \n",
    "#     ksolveRR (self, X, y, lam= 0.0001, sigma=0.5, kernel=rbf_kernel)\n",
    "#     ksolveRR_2 (self, X, y, lam= 0.0001, sigma=0.5, sample_weights = None, kernel = rbf_kernel\n",
    "#     ksolveLRR (self, X, y, lam = 0.1, sigma = 4, max_iter=100, tol=1e-5, kernel=rbf_kernel\n",
    "#     KernelSVM (self, X, y, C=0.1, lam = 0.1, sigma = 4, tol = 1e-1, kernel=rbf_kernel\n",
    "\n",
    "X_train_ = pd.read_csv('./data/Xtr.csv', sep=',') #we use this dataset to train our model\n",
    "Y_train_ = pd.read_csv('./data/Ytr.csv', sep=',') #we use this dataset to train our model\n",
    "X_test_ = pd.read_csv('./data/Xte.csv', sep=',')\n",
    "\n",
    "X_cross, y_cross, X_t_enc = spectrum_kernal(X_train_, Y_train_, X_test_, n=1, encoder=8, one_hot = True, normalise = False)\n",
    "\n",
    "    \n",
    "models = {ksolveRR : 'k Ridge Reg'}\n",
    "\n",
    "for model in models:\n",
    "    accuracy = []\n",
    "    for i, (train_index, validate_index) in enumerate(kfold.split(X_cross)):\n",
    "\n",
    "        X_train, y_train = X_cross[train_index], y_cross[train_index]\n",
    "        X_valid, y_valid = X_cross[validate_index], y_cross[validate_index]\n",
    "\n",
    "        if models[model] == 'weigh Ridge Reg':\n",
    "            sample_weights = np.random.rand(len(y_train))\n",
    "            model_curr = model(X_train, y_train, lam = lam, sigma = sigma, sample_weights = sample_weights, kernel = kenel)\n",
    "        elif models[model] == 'k Logistic Ridge Reg':\n",
    "            model_curr = model(X_train, y_train, lam = lam, sigma = sigma, max_iter=500, tol = tol, kernel = kenel)\n",
    "        \n",
    "        elif models[model] == 'k Ridge Reg':\n",
    "            model_curr = model(X_train, y_train, lam = lam, sigma = sigma, kernel = kenel)\n",
    "        else:\n",
    "            model_curr = model(X_train, y_train, C=c, lam = lam, sigma = sigma, tol= tol, kernel = kenel)\n",
    "            \n",
    "        model_curr.fit()\n",
    "\n",
    "        accuracy.append(model_curr.Accuracy_check(X_valid, y_valid, threshold=0.5))\n",
    "        print(f'accurracy fold {i}: {accuracy[i]}')\n",
    "    \n",
    "    print(f'\\nAverage accuracy {models[model]} is : {np.mean(accuracy)}\\n')"
   ]
  },
  {
   "cell_type": "code",
   "execution_count": 56,
   "metadata": {},
   "outputs": [
    {
     "name": "stdout",
     "output_type": "stream",
     "text": [
      "time: 525 µs\n"
     ]
    }
   ],
   "source": [
    "# 0.6535 = 0.68800\n",
    "# 0.657 = 0.69200"
   ]
  },
  {
   "cell_type": "code",
   "execution_count": 74,
   "metadata": {},
   "outputs": [
    {
     "data": {
      "text/plain": [
       "1.0"
      ]
     },
     "execution_count": 74,
     "metadata": {},
     "output_type": "execute_result"
    },
    {
     "name": "stdout",
     "output_type": "stream",
     "text": [
      "time: 544 ms\n"
     ]
    }
   ],
   "source": [
    "# Cehckinf full model\n",
    "model = ksolveRR(X_cross, y_cross, lam = lam, sigma = sigma, kernel = kenel)\n",
    "# model = svm_primal_soft_to_qp(X_cross, y_cross, C=1)\n",
    "\n",
    "model.fit()\n",
    "\n",
    "model.Accuracy_check(X_cross, y_cross, threshold=0.5)"
   ]
  },
  {
   "cell_type": "markdown",
   "metadata": {},
   "source": [
    "# Predictions"
   ]
  },
  {
   "cell_type": "code",
   "execution_count": 75,
   "metadata": {},
   "outputs": [
    {
     "name": "stdout",
     "output_type": "stream",
     "text": [
      "time: 443 ms\n"
     ]
    }
   ],
   "source": [
    "model = ksolveRR(X_cross, y_cross, lam = lam, sigma = sigma, kernel = kenel)\n",
    "model.fit()\n",
    "y_pred = model.predict(X_t_enc, 0.5)"
   ]
  },
  {
   "cell_type": "code",
   "execution_count": 76,
   "metadata": {},
   "outputs": [
    {
     "data": {
      "text/html": [
       "<div>\n",
       "<style scoped>\n",
       "    .dataframe tbody tr th:only-of-type {\n",
       "        vertical-align: middle;\n",
       "    }\n",
       "\n",
       "    .dataframe tbody tr th {\n",
       "        vertical-align: top;\n",
       "    }\n",
       "\n",
       "    .dataframe thead th {\n",
       "        text-align: right;\n",
       "    }\n",
       "</style>\n",
       "<table border=\"1\" class=\"dataframe\">\n",
       "  <thead>\n",
       "    <tr style=\"text-align: right;\">\n",
       "      <th></th>\n",
       "      <th>Id</th>\n",
       "    </tr>\n",
       "  </thead>\n",
       "  <tbody>\n",
       "    <tr>\n",
       "      <th>0</th>\n",
       "      <td>0</td>\n",
       "    </tr>\n",
       "    <tr>\n",
       "      <th>1</th>\n",
       "      <td>1</td>\n",
       "    </tr>\n",
       "    <tr>\n",
       "      <th>2</th>\n",
       "      <td>2</td>\n",
       "    </tr>\n",
       "    <tr>\n",
       "      <th>3</th>\n",
       "      <td>3</td>\n",
       "    </tr>\n",
       "    <tr>\n",
       "      <th>4</th>\n",
       "      <td>4</td>\n",
       "    </tr>\n",
       "  </tbody>\n",
       "</table>\n",
       "</div>"
      ],
      "text/plain": [
       "   Id\n",
       "0   0\n",
       "1   1\n",
       "2   2\n",
       "3   3\n",
       "4   4"
      ]
     },
     "execution_count": 76,
     "metadata": {},
     "output_type": "execute_result"
    },
    {
     "name": "stdout",
     "output_type": "stream",
     "text": [
      "time: 9.91 ms\n"
     ]
    }
   ],
   "source": [
    "X = np.arange(1000).reshape(-1, 1)\n",
    "sample = pd.DataFrame(data=X, columns=['Id'])\n",
    "sample.head()"
   ]
  },
  {
   "cell_type": "code",
   "execution_count": 77,
   "metadata": {},
   "outputs": [
    {
     "name": "stdout",
     "output_type": "stream",
     "text": [
      "time: 1.85 ms\n"
     ]
    }
   ],
   "source": [
    "sample['Bound'] = y_pred"
   ]
  },
  {
   "cell_type": "code",
   "execution_count": 78,
   "metadata": {},
   "outputs": [
    {
     "data": {
      "text/html": [
       "<div>\n",
       "<style scoped>\n",
       "    .dataframe tbody tr th:only-of-type {\n",
       "        vertical-align: middle;\n",
       "    }\n",
       "\n",
       "    .dataframe tbody tr th {\n",
       "        vertical-align: top;\n",
       "    }\n",
       "\n",
       "    .dataframe thead th {\n",
       "        text-align: right;\n",
       "    }\n",
       "</style>\n",
       "<table border=\"1\" class=\"dataframe\">\n",
       "  <thead>\n",
       "    <tr style=\"text-align: right;\">\n",
       "      <th></th>\n",
       "      <th>Id</th>\n",
       "      <th>Bound</th>\n",
       "    </tr>\n",
       "  </thead>\n",
       "  <tbody>\n",
       "    <tr>\n",
       "      <th>995</th>\n",
       "      <td>995</td>\n",
       "      <td>0</td>\n",
       "    </tr>\n",
       "    <tr>\n",
       "      <th>996</th>\n",
       "      <td>996</td>\n",
       "      <td>0</td>\n",
       "    </tr>\n",
       "    <tr>\n",
       "      <th>997</th>\n",
       "      <td>997</td>\n",
       "      <td>1</td>\n",
       "    </tr>\n",
       "    <tr>\n",
       "      <th>998</th>\n",
       "      <td>998</td>\n",
       "      <td>1</td>\n",
       "    </tr>\n",
       "    <tr>\n",
       "      <th>999</th>\n",
       "      <td>999</td>\n",
       "      <td>1</td>\n",
       "    </tr>\n",
       "  </tbody>\n",
       "</table>\n",
       "</div>"
      ],
      "text/plain": [
       "      Id  Bound\n",
       "995  995      0\n",
       "996  996      0\n",
       "997  997      1\n",
       "998  998      1\n",
       "999  999      1"
      ]
     },
     "execution_count": 78,
     "metadata": {},
     "output_type": "execute_result"
    },
    {
     "name": "stdout",
     "output_type": "stream",
     "text": [
      "time: 9.87 ms\n"
     ]
    }
   ],
   "source": [
    "sample.tail()"
   ]
  },
  {
   "cell_type": "code",
   "execution_count": 79,
   "metadata": {},
   "outputs": [
    {
     "name": "stdout",
     "output_type": "stream",
     "text": [
      "time: 3.99 ms\n"
     ]
    }
   ],
   "source": [
    "sample.to_csv('./ksolveRR_0.6625000000000001_cv_rbf_kernel_sigma_'+str(sigma)+'_lam_'+str(lam)+'.csv', index=False)"
   ]
  },
  {
   "cell_type": "code",
   "execution_count": null,
   "metadata": {},
   "outputs": [],
   "source": []
  }
 ],
 "metadata": {
  "kernelspec": {
   "display_name": "Python 3",
   "language": "python",
   "name": "python3"
  },
  "language_info": {
   "codemirror_mode": {
    "name": "ipython",
    "version": 3
   },
   "file_extension": ".py",
   "mimetype": "text/x-python",
   "name": "python",
   "nbconvert_exporter": "python",
   "pygments_lexer": "ipython3",
   "version": "3.6.9"
  }
 },
 "nbformat": 4,
 "nbformat_minor": 4
}
