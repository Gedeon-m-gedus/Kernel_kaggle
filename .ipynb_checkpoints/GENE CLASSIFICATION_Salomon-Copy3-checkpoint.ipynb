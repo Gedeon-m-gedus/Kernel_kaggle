{
 "cells": [
  {
   "cell_type": "code",
   "execution_count": 1,
   "metadata": {
    "_cell_guid": "79c7e3d0-c299-4dcb-8224-4455121ee9b0",
    "_uuid": "d629ff2d2480ee46fbb7e2d37f6b5fab8052498a"
   },
   "outputs": [],
   "source": [
    "#@title Installation\n",
    "!pip install --quie ipdb # debug\n",
    "!pip install --quie ipython-autotime  # timming\n",
    "!pip install --quie optuna  # hyperparaeters"
   ]
  },
  {
   "cell_type": "code",
   "execution_count": 2,
   "metadata": {},
   "outputs": [
    {
     "name": "stderr",
     "output_type": "stream",
     "text": [
      "/usr/local/lib/python3.6/dist-packages/statsmodels/tools/_testing.py:19: FutureWarning: pandas.util.testing is deprecated. Use the functions in the public API at pandas.testing instead.\n",
      "  import pandas.util.testing as tm\n"
     ]
    }
   ],
   "source": [
    "# @title Imports\n",
    "\n",
    "import pandas as pd\n",
    "import seaborn as sns\n",
    "import numpy as np\n",
    "import matplotlib.pyplot as plt\n",
    "import cvxopt\n",
    "np.random.seed(54321)\n",
    "\n",
    "import ipdb\n",
    "\n",
    "import optuna\n",
    "\n",
    "from sklearn.model_selection import KFold \n",
    "from sklearn.preprocessing import MinMaxScaler, StandardScaler\n",
    "\n",
    "from sklearn.preprocessing import OneHotEncoder\n",
    "\n",
    "%load_ext autotime"
   ]
  },
  {
   "cell_type": "code",
   "execution_count": 3,
   "metadata": {},
   "outputs": [
    {
     "name": "stdout",
     "output_type": "stream",
     "text": [
      "time: 17.1 ms\n"
     ]
    }
   ],
   "source": [
    "X_train=pd.read_csv('./data/Xtr.csv', sep=',') #we use this dataset to train our model\n",
    "Y_train=pd.read_csv('./data/Ytr.csv', sep=',') #we use this dataset to train our model\n",
    "X_test=pd.read_csv('./data/Xte.csv', sep=',') #we will use this data set later to validate our model\n",
    "\n",
    "# X_train_mat=pd.read_csv('./data/Xtr_mat100.csv', sep=',') #we use this dataset to train our model\n",
    "# X_test_mat=pd.read_csv('./data/Xte_mat100.csv', sep=',') #we will use this data set later to validate our model"
   ]
  },
  {
   "cell_type": "code",
   "execution_count": 4,
   "metadata": {},
   "outputs": [
    {
     "data": {
      "text/html": [
       "<div>\n",
       "<style scoped>\n",
       "    .dataframe tbody tr th:only-of-type {\n",
       "        vertical-align: middle;\n",
       "    }\n",
       "\n",
       "    .dataframe tbody tr th {\n",
       "        vertical-align: top;\n",
       "    }\n",
       "\n",
       "    .dataframe thead th {\n",
       "        text-align: right;\n",
       "    }\n",
       "</style>\n",
       "<table border=\"1\" class=\"dataframe\">\n",
       "  <thead>\n",
       "    <tr style=\"text-align: right;\">\n",
       "      <th></th>\n",
       "      <th>Id</th>\n",
       "      <th>seq</th>\n",
       "    </tr>\n",
       "  </thead>\n",
       "  <tbody>\n",
       "    <tr>\n",
       "      <th>1995</th>\n",
       "      <td>1995</td>\n",
       "      <td>TAACTTTTGACAGGTCAGAATACAAAACTGATTTATTTACAGTGTC...</td>\n",
       "    </tr>\n",
       "    <tr>\n",
       "      <th>1996</th>\n",
       "      <td>1996</td>\n",
       "      <td>ACGCCCATTCCGCCCTGCTAAGCCTCGCCCATTACATCCAGACTGC...</td>\n",
       "    </tr>\n",
       "    <tr>\n",
       "      <th>1997</th>\n",
       "      <td>1997</td>\n",
       "      <td>TGGCTACTAGCTAGAGATAGCATCTCTCTGTGGACAACTCTCCAGC...</td>\n",
       "    </tr>\n",
       "    <tr>\n",
       "      <th>1998</th>\n",
       "      <td>1998</td>\n",
       "      <td>CCCAGCTGTCAAAAAGCAGCCCAAAGGAAGCTCACGGTGTGCCGGC...</td>\n",
       "    </tr>\n",
       "    <tr>\n",
       "      <th>1999</th>\n",
       "      <td>1999</td>\n",
       "      <td>TGCTAGTTGATGAAACAATAACTGCTAAAAGGTATACAGCCATGTC...</td>\n",
       "    </tr>\n",
       "  </tbody>\n",
       "</table>\n",
       "</div>"
      ],
      "text/plain": [
       "        Id                                                seq\n",
       "1995  1995  TAACTTTTGACAGGTCAGAATACAAAACTGATTTATTTACAGTGTC...\n",
       "1996  1996  ACGCCCATTCCGCCCTGCTAAGCCTCGCCCATTACATCCAGACTGC...\n",
       "1997  1997  TGGCTACTAGCTAGAGATAGCATCTCTCTGTGGACAACTCTCCAGC...\n",
       "1998  1998  CCCAGCTGTCAAAAAGCAGCCCAAAGGAAGCTCACGGTGTGCCGGC...\n",
       "1999  1999  TGCTAGTTGATGAAACAATAACTGCTAAAAGGTATACAGCCATGTC..."
      ]
     },
     "execution_count": 4,
     "metadata": {},
     "output_type": "execute_result"
    },
    {
     "name": "stdout",
     "output_type": "stream",
     "text": [
      "time: 17.5 ms\n"
     ]
    }
   ],
   "source": [
    "X_train.tail()"
   ]
  },
  {
   "cell_type": "code",
   "execution_count": 5,
   "metadata": {},
   "outputs": [
    {
     "name": "stdout",
     "output_type": "stream",
     "text": [
      "The shape of the X_train dataset is: (2000, 2)\n",
      "The shape of the Y_train dataset is: (2000, 2)\n",
      "time: 1.16 ms\n"
     ]
    }
   ],
   "source": [
    "print('The shape of the X_train dataset is:',X_train.shape)\n",
    "print('The shape of the Y_train dataset is:',Y_train.shape)"
   ]
  },
  {
   "cell_type": "code",
   "execution_count": 6,
   "metadata": {},
   "outputs": [
    {
     "name": "stdout",
     "output_type": "stream",
     "text": [
      "time: 557 µs\n"
     ]
    }
   ],
   "source": [
    "# X_train['len'] = X_train.seq.apply(lambda x : len(x))"
   ]
  },
  {
   "cell_type": "code",
   "execution_count": 7,
   "metadata": {},
   "outputs": [
    {
     "data": {
      "text/html": [
       "<div>\n",
       "<style scoped>\n",
       "    .dataframe tbody tr th:only-of-type {\n",
       "        vertical-align: middle;\n",
       "    }\n",
       "\n",
       "    .dataframe tbody tr th {\n",
       "        vertical-align: top;\n",
       "    }\n",
       "\n",
       "    .dataframe thead th {\n",
       "        text-align: right;\n",
       "    }\n",
       "</style>\n",
       "<table border=\"1\" class=\"dataframe\">\n",
       "  <thead>\n",
       "    <tr style=\"text-align: right;\">\n",
       "      <th></th>\n",
       "      <th>Id</th>\n",
       "      <th>seq</th>\n",
       "    </tr>\n",
       "  </thead>\n",
       "  <tbody>\n",
       "    <tr>\n",
       "      <th>0</th>\n",
       "      <td>0</td>\n",
       "      <td>GAGGGGCTGGGGAGGGGGCTGGCCCAGAGGCACCAGACTCTGCAGA...</td>\n",
       "    </tr>\n",
       "    <tr>\n",
       "      <th>1</th>\n",
       "      <td>1</td>\n",
       "      <td>CGGCCTGGGGGCCACATGTGAGTGCTTACCTGTGTGGGGATGAGGG...</td>\n",
       "    </tr>\n",
       "    <tr>\n",
       "      <th>2</th>\n",
       "      <td>2</td>\n",
       "      <td>GACAACGCCGCTGTCAGCCGCCTTCGACTCACCTGGGAGGTGATGA...</td>\n",
       "    </tr>\n",
       "    <tr>\n",
       "      <th>3</th>\n",
       "      <td>3</td>\n",
       "      <td>GCCTCCCTTGGCACCACGGGAGACCAGTTTTGGAGGGGCGGGGCTG...</td>\n",
       "    </tr>\n",
       "    <tr>\n",
       "      <th>4</th>\n",
       "      <td>4</td>\n",
       "      <td>GCACTACTACACCCATTGCTGTAATAGTAAGTGCCGGTGCCTTCAC...</td>\n",
       "    </tr>\n",
       "  </tbody>\n",
       "</table>\n",
       "</div>"
      ],
      "text/plain": [
       "   Id                                                seq\n",
       "0   0  GAGGGGCTGGGGAGGGGGCTGGCCCAGAGGCACCAGACTCTGCAGA...\n",
       "1   1  CGGCCTGGGGGCCACATGTGAGTGCTTACCTGTGTGGGGATGAGGG...\n",
       "2   2  GACAACGCCGCTGTCAGCCGCCTTCGACTCACCTGGGAGGTGATGA...\n",
       "3   3  GCCTCCCTTGGCACCACGGGAGACCAGTTTTGGAGGGGCGGGGCTG...\n",
       "4   4  GCACTACTACACCCATTGCTGTAATAGTAAGTGCCGGTGCCTTCAC..."
      ]
     },
     "execution_count": 7,
     "metadata": {},
     "output_type": "execute_result"
    },
    {
     "name": "stdout",
     "output_type": "stream",
     "text": [
      "time: 9.65 ms\n"
     ]
    }
   ],
   "source": [
    "X_train.head()"
   ]
  },
  {
   "cell_type": "code",
   "execution_count": 8,
   "metadata": {},
   "outputs": [
    {
     "data": {
      "text/html": [
       "<div>\n",
       "<style scoped>\n",
       "    .dataframe tbody tr th:only-of-type {\n",
       "        vertical-align: middle;\n",
       "    }\n",
       "\n",
       "    .dataframe tbody tr th {\n",
       "        vertical-align: top;\n",
       "    }\n",
       "\n",
       "    .dataframe thead th {\n",
       "        text-align: right;\n",
       "    }\n",
       "</style>\n",
       "<table border=\"1\" class=\"dataframe\">\n",
       "  <thead>\n",
       "    <tr style=\"text-align: right;\">\n",
       "      <th></th>\n",
       "      <th>Id</th>\n",
       "      <th>seq</th>\n",
       "    </tr>\n",
       "  </thead>\n",
       "  <tbody>\n",
       "    <tr>\n",
       "      <th>0</th>\n",
       "      <td>0</td>\n",
       "      <td>GAGGGGCTGGGGAGGGGGCTGGCCCAGAGGCACCAGACTCTGCAGA...</td>\n",
       "    </tr>\n",
       "    <tr>\n",
       "      <th>1</th>\n",
       "      <td>1</td>\n",
       "      <td>CGGCCTGGGGGCCACATGTGAGTGCTTACCTGTGTGGGGATGAGGG...</td>\n",
       "    </tr>\n",
       "    <tr>\n",
       "      <th>2</th>\n",
       "      <td>2</td>\n",
       "      <td>GACAACGCCGCTGTCAGCCGCCTTCGACTCACCTGGGAGGTGATGA...</td>\n",
       "    </tr>\n",
       "    <tr>\n",
       "      <th>3</th>\n",
       "      <td>3</td>\n",
       "      <td>GCCTCCCTTGGCACCACGGGAGACCAGTTTTGGAGGGGCGGGGCTG...</td>\n",
       "    </tr>\n",
       "    <tr>\n",
       "      <th>4</th>\n",
       "      <td>4</td>\n",
       "      <td>GCACTACTACACCCATTGCTGTAATAGTAAGTGCCGGTGCCTTCAC...</td>\n",
       "    </tr>\n",
       "  </tbody>\n",
       "</table>\n",
       "</div>"
      ],
      "text/plain": [
       "   Id                                                seq\n",
       "0   0  GAGGGGCTGGGGAGGGGGCTGGCCCAGAGGCACCAGACTCTGCAGA...\n",
       "1   1  CGGCCTGGGGGCCACATGTGAGTGCTTACCTGTGTGGGGATGAGGG...\n",
       "2   2  GACAACGCCGCTGTCAGCCGCCTTCGACTCACCTGGGAGGTGATGA...\n",
       "3   3  GCCTCCCTTGGCACCACGGGAGACCAGTTTTGGAGGGGCGGGGCTG...\n",
       "4   4  GCACTACTACACCCATTGCTGTAATAGTAAGTGCCGGTGCCTTCAC..."
      ]
     },
     "execution_count": 8,
     "metadata": {},
     "output_type": "execute_result"
    },
    {
     "name": "stdout",
     "output_type": "stream",
     "text": [
      "time: 10.6 ms\n"
     ]
    }
   ],
   "source": [
    "X_train.head()"
   ]
  },
  {
   "cell_type": "code",
   "execution_count": 9,
   "metadata": {},
   "outputs": [
    {
     "name": "stdout",
     "output_type": "stream",
     "text": [
      "time: 1.02 ms\n"
     ]
    }
   ],
   "source": [
    "# X = X_train.drop(['seq', 'Id'], axis=1)\n",
    "# X_t = X_test.drop(['seq', 'Id'], axis=1)\n",
    "# y = Y_train.Bound"
   ]
  },
  {
   "cell_type": "markdown",
   "metadata": {},
   "source": [
    "## Models"
   ]
  },
  {
   "cell_type": "code",
   "execution_count": 10,
   "metadata": {},
   "outputs": [
    {
     "name": "stdout",
     "output_type": "stream",
     "text": [
      "time: 58.5 ms\n"
     ]
    }
   ],
   "source": [
    "class LogisticRegressionBinary():\n",
    "    def __init__(self, lr=0.1, num_iter=100000, batch_size=1, verbose=False):\n",
    "        self.lr = lr\n",
    "        self.num_iter = num_iter\n",
    "        self.batch_size = batch_size\n",
    "        self.verbose = verbose\n",
    "    \n",
    "    def __add_intercept(self, X):\n",
    "        intercept = np.ones((X.shape[0], 1))\n",
    "        return np.concatenate((intercept, X), axis=1)\n",
    "    \n",
    "    def __sigmoid_func(self, z):\n",
    "        return 1 / (1 + np.exp(-z))\n",
    "    \n",
    "    def __loss(self, h, y):\n",
    "        return (-y * np.log(h) - (1 - y) * np.log(1 - h)).mean()\n",
    "    \n",
    "    def fit(self, X, y):\n",
    "        y = self.trans_y(y)\n",
    "        X = self.__add_intercept(X)\n",
    "        self.theta = np.zeros(X.shape[1])\n",
    "        \n",
    "        for i in range(self.num_iter):\n",
    "            z = np.dot(X, self.theta)\n",
    "            h = self.__sigmoid_func(z)\n",
    "                        \n",
    "            rand = np.random.choice(y.size, self.batch_size).squeeze()\n",
    "            gradient = np.dot(X[rand].T, (h[rand] - y[rand]))/y.size   \n",
    "        \n",
    "            self.theta -= self.lr * gradient\n",
    "            #print('theta and grad',self.theta.shape ,  gradient.shape )\n",
    "            if(self.verbose == True and i % 100 == 0):\n",
    "                z = np.dot(X, self.theta)\n",
    "                h = self.__sigmoid(z)\n",
    "                print(f'loss: {self.__loss(h, y)} \\t')\n",
    "    \n",
    "    def predict_probability(self, X):\n",
    "        X = self.__add_intercept(X)\n",
    "    \n",
    "        return self.__sigmoid_func(np.dot(X, self.theta))\n",
    "    \n",
    "    def predict(self, X, threshold=.5):\n",
    "          return np.where(self.predict_probability(X) >= 0.5, 1, 0)\n",
    "        \n",
    "          \n",
    "    def Accuracy_check(self, X, y, threshold = 0.5):\n",
    "        return np.mean(self.predict(X, threshold)==y)\n",
    "    \n",
    "    def trans_y(self, y):\n",
    "        if isinstance(y, pd.Series):\n",
    "            y = y.values\n",
    "        if isinstance(y, list):\n",
    "            y = np.array(y)\n",
    "        return y"
   ]
  },
  {
   "cell_type": "code",
   "execution_count": 11,
   "metadata": {},
   "outputs": [
    {
     "name": "stdout",
     "output_type": "stream",
     "text": [
      "time: 126 ms\n"
     ]
    }
   ],
   "source": [
    "# Ridge Regression (RR)\n",
    "\n",
    "class solveRR():\n",
    "    def __init__(self, X, y, lam=0.1):\n",
    "        self.beta = None\n",
    "        self.X = X\n",
    "        self.y = y\n",
    "        self.lam = lam\n",
    "            \n",
    "    def fit(self):\n",
    "        \n",
    "        X = self.X\n",
    "        y = self.y\n",
    "        lam = self.lam \n",
    "        \n",
    "        n, p = X.shape\n",
    "        assert (len(y) == n)\n",
    "\n",
    "        A = (X.T.dot(X)) + np.eye(p)*lam*n\n",
    "        b = X.T.dot(y)\n",
    "        \n",
    "        self.beta = np.linalg.solve(A, b)\n",
    "        \n",
    "        return self.beta\n",
    "    \n",
    "        \n",
    "    def predict(self, X, threshold=.5):\n",
    "        return np.where(X.dot(self.beta) >= threshold, 1, 0)\n",
    "        \n",
    "          \n",
    "    def Accuracy_check(self,X, y, threshold=.5):\n",
    "        return np.mean(self.predict(X, threshold)==y)\n",
    "    \n",
    "\n",
    "# Weighted Ridge Regression (WRR)\n",
    "class solveWRR():\n",
    "    def __init__(self, X, y, w, lam=0.1):\n",
    "        self.beta = None\n",
    "        self.X = X\n",
    "        self.y = y\n",
    "        self.lam = lam\n",
    "        self.w = w\n",
    "    \n",
    "    def fit(self):\n",
    "        \n",
    "        X = self.X\n",
    "        y = self.y\n",
    "        lam = self.lam \n",
    "        w = self.w\n",
    "        \n",
    "        n, p = X.shape\n",
    "        assert (len(y) == len(w) == n)\n",
    "\n",
    "        y1 = np.sqrt(w) * y\n",
    "        X1 = (np.sqrt(w) * X.T).T\n",
    "        \n",
    "        # Hint:\n",
    "        # Find y1 and X1 such that:\n",
    "        \n",
    "        self.beta = solveRR(X1, y1, lam).fit()\n",
    "                \n",
    "        return self.beta\n",
    "    \n",
    "        \n",
    "    def predict(self, X, threshold):\n",
    "        return np.where(X.dot(self.beta) >= threshold, 1, 0)\n",
    "        \n",
    "          \n",
    "    def Accuracy_check(self,X, y, threshold=.5):\n",
    "        return np.mean(self.predict(X, threshold)==y)\n",
    "    \n",
    "\n",
    "# Logistic Ridge Regression (LRR)\n",
    "class solveLRR():\n",
    "    def __init__(self, X, y, lam=0.1):\n",
    "        self.beta = None\n",
    "        self.X = X\n",
    "        self.y = y\n",
    "        self.lam = lam\n",
    "    \n",
    "    def fit(self):\n",
    "        \n",
    "        X = self.X\n",
    "        y = self.y\n",
    "        \n",
    "        n, p = X.shape\n",
    "        assert (len(y) == n)\n",
    "    \n",
    "        lam = self.lam \n",
    "        max_iter = 50\n",
    "        eps = 1e-3\n",
    "        sigmoid = lambda a: 1/(1 + np.exp(-a))\n",
    "        \n",
    "        \n",
    "        \n",
    "        # Initialize\n",
    "        self.beta = np.zeros(p)\n",
    "\n",
    "        # Hint: Use IRLS\n",
    "        for i in range(max_iter):\n",
    "            beta_old = self.beta\n",
    "            f = X.dot(beta_old)\n",
    "            w = sigmoid(f) * sigmoid(-f)\n",
    "            z = f + y / sigmoid(y*f)\n",
    "            self.beta = solveWRR(X, z, w, 2*lam).fit()\n",
    "            # Break condition (achieved convergence)\n",
    "            #if np.sum((beta-beta_old)**2) < eps:\n",
    "            #    break                \n",
    "        return self.beta\n",
    "    \n",
    "        \n",
    "    def predict(self, X, threshold):\n",
    "        return np.where(X.dot(self.beta) >= threshold, 1, 0)\n",
    "        \n",
    "          \n",
    "    def Accuracy_check(self,X, y, threshold=.5):\n",
    "        return np.mean(self.predict(X, threshold)==y)"
   ]
  },
  {
   "cell_type": "markdown",
   "metadata": {},
   "source": [
    "# Kernel"
   ]
  },
  {
   "cell_type": "code",
   "execution_count": 12,
   "metadata": {},
   "outputs": [
    {
     "name": "stdout",
     "output_type": "stream",
     "text": [
      "time: 42.4 ms\n"
     ]
    }
   ],
   "source": [
    "import numpy as np\n",
    "\n",
    "### Functions for you to fill in ###\n",
    "\n",
    "def polynomial_kernel(X, Y, c, p):\n",
    "    \"\"\"\n",
    "        Compute the polynomial kernel between two matrices X and Y::\n",
    "            K(x, y) = (<x, y> + c)^p\n",
    "        for each pair of rows x in X and y in Y.\n",
    "\n",
    "        Args:\n",
    "            X - (n, d) NumPy array (n datapoints each with d features)\n",
    "            Y - (m, d) NumPy array (m datapoints each with d features)\n",
    "            c - a coefficient to trade off high-order and low-order terms (scalar)\n",
    "            p - the degree of the polynomial kernel\n",
    "\n",
    "        Returns:\n",
    "            kernel_matrix - (n, m) Numpy array containing the kernel matrix\n",
    "    \"\"\"\n",
    "    # YOUR CODE HERE\n",
    "    # raise NotImplementedError\n",
    "    kernel_matrix = (X.dot(Y.T) + c)**p\n",
    "    \n",
    "    return kernel_matrix\n",
    "\n",
    "\n",
    "def rbf_kernel_element_wise(x, y, sigma=1):\n",
    "    '''\n",
    "    returns the RBF (Gaussian) kernel k(x, y)\n",
    "    \n",
    "    Input:\n",
    "    ------\n",
    "    x and y are p-dimensional vectors \n",
    "    '''\n",
    "    K = np.exp(- np.sum((x - y)**2) / (2 * sigma ** 2))\n",
    "    return K\n",
    "\n",
    "def rbf_kernel(X1, X2, sigma=10):\n",
    "    '''\n",
    "    Returns the kernel matrix K(X1_i, X2_j): size (n1, n2)\n",
    "    \n",
    "    Input:\n",
    "    ------\n",
    "    X1: an (n1, p) matrix\n",
    "    X2: an (n2, p) matrix\n",
    "    '''\n",
    "    # For loop with rbf_kernel_element works but is slow in python\n",
    "    # Use matrix operations!\n",
    "    X2_norm = np.sum(X2 ** 2, axis=-1)\n",
    "    X1_norm = np.sum(X1 ** 2, axis=-1)\n",
    "    gamma = 1 / (2 * sigma ** 2)\n",
    "    K = np.exp(- gamma * (X1_norm[:, None] + X2_norm[None, :] - 2 * np.dot(X1, X2.T)))\n",
    "    return K\n",
    "\n",
    "def laplace(X1, X2, alpha=10):\n",
    "    return np.exp(-alpha*np.abs(X1-X2))\n",
    "\n",
    "\n",
    "def linear_kernel(X1, X2):\n",
    "    '''\n",
    "    Returns the kernel matrix K(X1_i, X2_j): size (n1, n2)\n",
    "    where K is the linear kernel\n",
    "    \n",
    "    Input:\n",
    "    ------\n",
    "    X1: an (n1, p) matrix\n",
    "    X2: an (n2, p) matrix\n",
    "    '''\n",
    "    return X1.dot(X2.T)\n",
    "\n",
    "def quadratic_kernel(X1, X2, power=2):\n",
    "    '''\n",
    "    Returns the kernel matrix K(X1_i, X2_j): size (n1, n2)\n",
    "    where K is the quadratic kernel\n",
    "    \n",
    "    Input:\n",
    "    ------\n",
    "    X1: an (n1, p) matrix\n",
    "    X2: an (n2, p) matrix\n",
    "    '''\n",
    "    return (1 + linear_kernel(X1, X2))**power\n",
    "\n",
    "def rbf_poly_kernel(X1, X2, sigma=10, d=2, rbf=1.0, poly=1.0):\n",
    "    '''\n",
    "    Returns the kernel matrix K(X1_i, X2_j): size (n1, n2)\n",
    "    \n",
    "    Input:\n",
    "    ------\n",
    "    X1: an (n1, p) matrix\n",
    "    X2: an (n2, p) matrix\n",
    "    '''\n",
    "    # For loop with rbf_kernel_element works but is slow in python\n",
    "    # Use matrix operations!\n",
    "    X2_norm = np.sum(X2 ** 2, axis=-1)\n",
    "    X1_norm = np.sum(X1 ** 2, axis=-1)\n",
    "    gamma = 1 / (2 * sigma ** 2)\n",
    "    K = np.exp(- gamma * (X1_norm[:, None] + X2_norm[None, :] - 2 * np.dot(X1, X2.T)))\n",
    "    \n",
    "    return rbf*K + poly*(X1.dot(X2.T) +1)**d"
   ]
  },
  {
   "cell_type": "code",
   "execution_count": 13,
   "metadata": {},
   "outputs": [
    {
     "name": "stdout",
     "output_type": "stream",
     "text": [
      "time: 19.3 ms\n"
     ]
    }
   ],
   "source": [
    "class ksolveRR_2():\n",
    "    def __init__(self, X, y, lam= 0.0001, sigma=0.5, sample_weights = None, kernel = rbf_kernel):\n",
    "        self.alpha = None\n",
    "        self.X = X\n",
    "        self.y = y\n",
    "        self.lam = lam\n",
    "        self.sigma = sigma\n",
    "        self.kernel = kernel\n",
    "        self.sample_weights = sample_weights\n",
    "            \n",
    "    \n",
    "    def fit(self):\n",
    "        if self.sample_weights is not None:\n",
    "            self.X *= self.sample_weights[:, None]\n",
    "        \n",
    "        X = self.X\n",
    "        y = self.y\n",
    "        lam = self.lam\n",
    "        \n",
    "        n, p = X.shape\n",
    "        assert (len(y) == n)\n",
    "        \n",
    "        A = self.kernel(X, X, self.sigma)+n*self.lam*np.eye(n)\n",
    "        self.alpha = np.linalg.solve(A, y)\n",
    "        \n",
    "        return self\n",
    "    \n",
    "        \n",
    "    def predict(self, X, threshold=.5):\n",
    "        K_x = self.kernel(X, self.X, self.sigma)\n",
    "        return np.where(K_x.dot(self.alpha) >= threshold, 1, 0)\n",
    "        \n",
    "          \n",
    "    def Accuracy_check(self,X, y, threshold=.5):\n",
    "        return np.mean(self.predict(X, threshold)==y)"
   ]
  },
  {
   "cell_type": "code",
   "execution_count": 14,
   "metadata": {},
   "outputs": [
    {
     "name": "stdout",
     "output_type": "stream",
     "text": [
      "time: 15.9 ms\n"
     ]
    }
   ],
   "source": [
    "class ksolveRR():\n",
    "    def __init__(self, X, y, lam= 0.0001, kernel=rbf_kernel):\n",
    "        self.beta = None\n",
    "        self.X = X\n",
    "        self.y = y\n",
    "        self.lam = lam\n",
    "        self.kernel = kernel\n",
    "            \n",
    "    \n",
    "    def fit(self):\n",
    "        X = self.X\n",
    "        y = self.y\n",
    "        lam = self.lam \n",
    "        \n",
    "        n, p = X.shape\n",
    "        assert (len(y) == n)\n",
    "        \n",
    "#         if self.sigma is None:\n",
    "#             self.sigma = sigma_from_median(X)\n",
    "            \n",
    "#         A = self.kernel(X, X, self.sigma)+n*self.lam*np.eye(n)\n",
    "        A = self.kernel(X, X) + n*self.lam*np.eye(n)\n",
    "        self.alpha = np.linalg.solve(A, y)\n",
    "        \n",
    "        return self.beta\n",
    "    \n",
    "        \n",
    "    def predict(self, X, threshold=.5):\n",
    "#         K_x = self.kernel(X, self.X, self.sigma)\n",
    "        K_x = self.kernel(X, self.X)\n",
    "        return np.where(K_x.dot(self.alpha) >= threshold, 1, 0)\n",
    "        \n",
    "          \n",
    "    def Accuracy_check(self,X, y, threshold=.5):\n",
    "        return np.mean(self.predict(X, threshold)==y)"
   ]
  },
  {
   "cell_type": "code",
   "execution_count": 15,
   "metadata": {},
   "outputs": [
    {
     "name": "stdout",
     "output_type": "stream",
     "text": [
      "time: 34.2 ms\n"
     ]
    }
   ],
   "source": [
    "# Logistic Ridge Regression (LRR)\n",
    "class ksolveLRR():\n",
    "    def __init__(self, X, y, lam = 0.1, sigma = 4, max_iter=100, tol=1e-5, kernel=rbf_kernel):\n",
    "        self.alpha = None\n",
    "        self.X = X\n",
    "        self.y = y\n",
    "        self.lam = lam\n",
    "        \n",
    "        self.kernel = kernel\n",
    "        \n",
    "        self.sigma = sigma\n",
    "        self.max_iter = max_iter\n",
    "        self.tol = tol\n",
    "        \n",
    "    \n",
    "    def fit(self):\n",
    "        \n",
    "        X = self.X\n",
    "        y = self.y\n",
    "        \n",
    "        n, p = X.shape\n",
    "        assert (len(y) == n)\n",
    "\n",
    "        sigmoid = lambda a: 1/(1 + np.exp(-a))\n",
    "        \n",
    "        K = self.kernel(X, X)\n",
    "\n",
    "        # Initialize\n",
    "        alpha = np.zeros(n)\n",
    "        \n",
    "        # Hint: Use IRLS\n",
    "        for n_iter in range(self.max_iter):\n",
    "            alpha_old = alpha\n",
    "            f = K.dot(alpha_old)\n",
    "            w = sigmoid(f) * sigmoid(-f)\n",
    "            z = f + y / sigmoid(y*(f))\n",
    "            \n",
    "            alpha = ksolveRR_2(X, y, lam = 2*self.lam, \\\n",
    "                               sigma=self.sigma, sample_weights = w).fit().alpha\n",
    "            \n",
    "            # Break condition (achieved convergence)\n",
    "            if np.sum((alpha-alpha_old)**2) < self.tol:\n",
    "                break  \n",
    "                \n",
    "                \n",
    "        self.n_iter = n_iter\n",
    "        self.alpha = alpha\n",
    "        \n",
    "        return self\n",
    "    \n",
    "        \n",
    "    def predict(self, X, threshold):\n",
    "        K_x = self.kernel(X, self.X)\n",
    "        return np.where(K_x.dot(self.alpha) >= threshold, 1, 0)\n",
    "        \n",
    "          \n",
    "    def Accuracy_check(self,X, y, threshold=.5):\n",
    "        return np.mean(self.predict(X, threshold)==y)"
   ]
  },
  {
   "cell_type": "code",
   "execution_count": 16,
   "metadata": {},
   "outputs": [
    {
     "name": "stdout",
     "output_type": "stream",
     "text": [
      "time: 132 ms\n"
     ]
    }
   ],
   "source": [
    "# You don't need to look at this, this is just to adapt our matrices\n",
    "# to the solver being used\n",
    "solver='cvxopt'\n",
    "\n",
    "import cvxopt\n",
    "\n",
    "def cvxopt_qp(P, q, G, h, A, b):\n",
    "    P = .5 * (P + P.T)\n",
    "    cvx_matrices = [\n",
    "        cvxopt.matrix(M) if M is not None else None for M in [P, q, G, h, A, b] \n",
    "    ]\n",
    "    #cvxopt.solvers.options['show_progress'] = False\n",
    "    solution = cvxopt.solvers.qp(*cvx_matrices, options={'show_progress': False})\n",
    "    return np.array(solution['x']).flatten()\n",
    "\n",
    "solve_qp = cvxopt_qp\n",
    "\n",
    "def quadprog_solve_qp(P, q, G=None, h=None, A=None, b=None):\n",
    "    qp_G = .5 * (P + P.T)   # make sure P is symmetric\n",
    "    qp_a = -q\n",
    "    if A is not None:\n",
    "        qp_C = -np.vstack([A, G]).T\n",
    "        qp_b = -np.hstack([b, h])\n",
    "        meq = A.shape[0]\n",
    "    else:  # no equality constraint\n",
    "        qp_C = - G.T\n",
    "        qp_b = - h\n",
    "        meq = 0\n",
    "    return quadprog.solve_qp(qp_G, qp_a, qp_C, qp_b, meq)[0]\n",
    "\n",
    "def cvxopt_qp(P, q, G, h, A, b):\n",
    "    P = .5 * (P + P.T)\n",
    "    cvx_matrices = [\n",
    "        cvxopt.matrix(M) if M is not None else None for M in [P, q, G, h, A, b] \n",
    "    ]\n",
    "    solution = cvxopt.solvers.qp(*cvx_matrices)\n",
    "    return np.array(solution['x']).flatten()\n",
    "\n",
    "solve_qp = {'quadprog': quadprog_solve_qp, 'cvxopt': cvxopt_qp}[solver]\n",
    "\n",
    "def svm_dual_soft_to_qp_kernel(K, y, C=1):\n",
    "    n = K.shape[0]\n",
    "    assert (len(y) == n)\n",
    "        \n",
    "    # Dual formulation, soft margin\n",
    "    P = np.diag(y).dot(K).dot(np.diag(y))\n",
    "    # As a regularization, we add epsilon * identity to P\n",
    "    eps = 1e-12\n",
    "    P += eps * np.eye(n)\n",
    "    q = - np.ones(n)\n",
    "    G = np.vstack([-np.eye(n), np.eye(n)])\n",
    "    h = np.hstack([np.zeros(n), C * np.ones(n)])\n",
    "    A = y[np.newaxis, :]\n",
    "    A = A.astype('float')\n",
    "    b = np.array([0.])\n",
    "    return P, q, G, h, A, b\n",
    "\n",
    "# SVM primal soft\n",
    "class KernelSVM():\n",
    "    def __init__(self, X, y, C=0.1, lam = 0.1, sigma = 4, tol = 1e-1, kernel=rbf_kernel):\n",
    "        self.alpha = None\n",
    "        self.X = X\n",
    "        self.y = y\n",
    "        self.w = None\n",
    "        self.b = None\n",
    "        self.C = C\n",
    "        self.kernel = kernel\n",
    "        self.lam = lam        \n",
    "        self.sigma = sigma\n",
    "        self.tol = tol\n",
    "    \n",
    "    def fit(self):\n",
    "        \n",
    "        X = self.X\n",
    "        y = self.y\n",
    "        C = self.C\n",
    "        \n",
    "        n, p = X.shape\n",
    "        assert (len(y) == n)\n",
    "        K = self.kernel(X, X)\n",
    "        \n",
    "        # Solve dual problem\n",
    "        self.alpha = solve_qp(*svm_dual_soft_to_qp_kernel(K, y, C=self.C))\n",
    "        \n",
    "        \n",
    "       # Compute support vectors and bias b\n",
    "        sv = np.logical_and((self.alpha>self.tol), (self.C - self.alpha > self.tol))\n",
    "        self.bias = y[sv] - K[sv].dot(self.alpha*y)\n",
    "        self.bias =  self.bias.mean()\n",
    "\n",
    "        self.support_vector_indices = np.nonzero(sv)[0]\n",
    "        \n",
    "        return self\n",
    "        \n",
    "        \n",
    "        \n",
    "    def predict(self, X, threshold):\n",
    "#         y_pred = self.kernel(X, self.X_).dot(self.alphas* seld.y_)\n",
    "        K_x = self.kernel(X, self.X)\n",
    "        return np.where((K_x.dot(self.alpha * self.y) +  self.bias) >= threshold, 1, 0)\n",
    "        \n",
    "          \n",
    "    def Accuracy_check(self,X, y, threshold=.5):\n",
    "        return np.mean(self.predict(X, threshold)==y)"
   ]
  },
  {
   "cell_type": "markdown",
   "metadata": {},
   "source": [
    "# Cross Validation"
   ]
  },
  {
   "cell_type": "code",
   "execution_count": 17,
   "metadata": {},
   "outputs": [
    {
     "name": "stdout",
     "output_type": "stream",
     "text": [
      "time: 68 ms\n"
     ]
    }
   ],
   "source": [
    "X_train_ = pd.read_csv('./data/Xtr.csv', sep=',') #we use this dataset to train our model\n",
    "Y_train_ = pd.read_csv('./data/Ytr.csv', sep=',') #we use this dataset to train our model\n",
    "X_test_ = pd.read_csv('./data/Xte.csv', sep=',')\n",
    "\n",
    "kfold=KFold(n_splits=5)\n",
    "\n",
    "def spectrum_kernal(X_train, y, X_test, n=2, encoder=4, one_hot = True, normalise = False):\n",
    "    \n",
    "    d = {'A': 0.1, 'C':0.2, 'G':0.3, 'T':0.4}\n",
    "    \n",
    "    for i in range(0, 101-n+1, 1):\n",
    "        X_train['seq_'+str(i)] = X_train.seq.apply(lambda x :x[i:i+n])\n",
    "        X_test['seq_'+str(i)] = X_test.seq.apply(lambda x :x[i:i+n])\n",
    "        \n",
    "        X_train['seq_'+str(i)] = X_train['seq_'+str(i)].apply(lambda x : sum([d[x[ii]]*encoder**(ii+1) for ii in range(n)]))\n",
    "        X_test['seq_'+str(i)] = X_test['seq_'+str(i)].apply(lambda x : sum([d[x[ii]]*encoder**(ii+1) for ii in range(n)]))\n",
    "        \n",
    "        \n",
    "        \n",
    "    X = X_train.drop(['seq', 'Id'], axis=1)\n",
    "    X_t = X_test.drop(['seq', 'Id'], axis=1)\n",
    "    y = Y_train.Bound\n",
    "    \n",
    "#     print(f'Train: \\n{X.tail()}\\n -----------------------\\n')\n",
    "#     print(f'Test: \\n {X_t.tail()}')\n",
    "\n",
    "    if one_hot:\n",
    "        onehot_encoder = OneHotEncoder(sparse=False, categories='auto', handle_unknown='ignore')\n",
    "\n",
    "        X_cross = X.values\n",
    "        X_t = X_t.values\n",
    "        \n",
    "        enc = onehot_encoder.fit(X)\n",
    "        X_cross = enc.transform(X)\n",
    "        X_t_enc = enc.transform(X_t)\n",
    "        \n",
    "    elif normalise:\n",
    "        scaler = MinMaxScaler()#MinMaxScaler() # StandardScaler()\n",
    "        scaler.fit(X)\n",
    "        \n",
    "        X_cross = scaler.transform(X)\n",
    "        X_t_enc = scaler.transform(X_t)\n",
    "        \n",
    "    else :\n",
    "        \n",
    "        X_cross = X.values\n",
    "        X_t_enc = X_t.values\n",
    "    \n",
    "    y_cross = y.values\n",
    "    \n",
    "    return X_cross, y_cross, X_t_enc\n",
    "\n",
    "# X_cross, y_cross, X_t_enc = spectrum_kernal(X_train, Y_train, X_test, n=5, encoder=3, one_hot = True, normalise = False)"
   ]
  },
  {
   "cell_type": "code",
   "execution_count": 18,
   "metadata": {},
   "outputs": [
    {
     "name": "stdout",
     "output_type": "stream",
     "text": [
      "time: 1.36 ms\n"
     ]
    }
   ],
   "source": [
    "# X_train_ = pd.read_csv('./data/Xtr.csv', sep=',') #we use this dataset to train our model\n",
    "# Y_train_ = pd.read_csv('./data/Ytr.csv', sep=',') #we use this dataset to train our model\n",
    "# X_test_ = pd.read_csv('./data/Xte.csv', sep=',')\n",
    "\n",
    "# X_cross, y_cross, X_t_enc = spectrum_kernal(X_train_, Y_train_, X_test_, n=1, encoder=8, one_hot = True, normalise = False)"
   ]
  },
  {
   "cell_type": "code",
   "execution_count": 19,
   "metadata": {},
   "outputs": [
    {
     "name": "stdout",
     "output_type": "stream",
     "text": [
      "time: 843 µs\n"
     ]
    }
   ],
   "source": [
    "# rbf_kernel(X_cross, X_cross)"
   ]
  },
  {
   "cell_type": "code",
   "execution_count": 20,
   "metadata": {},
   "outputs": [
    {
     "name": "stdout",
     "output_type": "stream",
     "text": [
      "time: 857 µs\n"
     ]
    }
   ],
   "source": [
    "# k = RBF(gamma=2)\n",
    "# k(X_cross, X_cross)"
   ]
  },
  {
   "cell_type": "code",
   "execution_count": 21,
   "metadata": {},
   "outputs": [
    {
     "name": "stdout",
     "output_type": "stream",
     "text": [
      "time: 822 µs\n"
     ]
    }
   ],
   "source": [
    "# Laplacian"
   ]
  },
  {
   "cell_type": "code",
   "execution_count": 24,
   "metadata": {},
   "outputs": [
    {
     "name": "stdout",
     "output_type": "stream",
     "text": [
      "time: 2.13 ms\n"
     ]
    }
   ],
   "source": [
    "from kernels.basic import RBF, Linear, Polynomial\n",
    "from kernels.regular import Exponential, Laplacian, RationalQuadratic, \\\n",
    "                            InverseMultiquadratic, Cauchy, TStudent, ANOVA, Fourier, Tanimoto, Sorensen\n"
   ]
  },
  {
   "cell_type": "code",
   "execution_count": null,
   "metadata": {},
   "outputs": [
    {
     "name": "stderr",
     "output_type": "stream",
     "text": [
      "/usr/local/lib/python3.6/dist-packages/optuna/_experimental.py:90: ExperimentalWarning:\n",
      "\n",
      "Progress bar is experimental (supported from v1.2.0). The interface can change in the future.\n",
      "\n"
     ]
    },
    {
     "data": {
      "application/vnd.jupyter.widget-view+json": {
       "model_id": "70b0c8aa0858419fa202b32d49460ee7",
       "version_major": 2,
       "version_minor": 0
      },
      "text/plain": [
       "HBox(children=(FloatProgress(value=0.0, max=1500.0), HTML(value='')))"
      ]
     },
     "metadata": {},
     "output_type": "display_data"
    },
    {
     "name": "stdout",
     "output_type": "stream",
     "text": [
      "\u001b[32m[I 2020-05-30 13:01:06,627]\u001b[0m Finished trial#0 with value: 0.501 with parameters: {'q': 0.07431035450949094, 'sigma': 7.80343879602723, 'kenel': 0, 'lam': 0.4091486433821229, 'd': 6, 'c': 3, 'degree': 7}. Best is trial#0 with value: 0.501.\u001b[0m\n",
      "\u001b[32m[I 2020-05-30 13:01:08,732]\u001b[0m Finished trial#1 with value: 0.634 with parameters: {'q': 0.016010466835291438, 'sigma': 0.2997452411870344, 'kenel': 9, 'lam': 1.6223238047265018e-09, 'd': 4, 'c': 5, 'degree': 4}. Best is trial#1 with value: 0.634.\u001b[0m\n",
      "\u001b[32m[I 2020-05-30 13:01:10,854]\u001b[0m Finished trial#2 with value: 0.6345 with parameters: {'q': 0.07011785899885914, 'sigma': 0.2837303377657494, 'kenel': 6, 'lam': 6.592565533347583e-07, 'd': 6, 'c': 10, 'degree': 4}. Best is trial#2 with value: 0.6345.\u001b[0m\n",
      "\u001b[32m[I 2020-05-30 13:01:12,992]\u001b[0m Finished trial#3 with value: 0.6365000000000001 with parameters: {'q': 0.0009599480548089342, 'sigma': 1.3293017236805007, 'kenel': 9, 'lam': 0.001882849374312678, 'd': 2, 'c': 1, 'degree': 9}. Best is trial#3 with value: 0.6365000000000001.\u001b[0m\n",
      "\u001b[32m[I 2020-05-30 13:01:15,090]\u001b[0m Finished trial#4 with value: 0.636 with parameters: {'q': 0.0007630004766886335, 'sigma': 8.833416191204833, 'kenel': 1, 'lam': 1.5091743108819401e-05, 'd': 7, 'c': 5, 'degree': 2}. Best is trial#3 with value: 0.6365000000000001.\u001b[0m\n",
      "\u001b[32m[I 2020-05-30 13:01:17,206]\u001b[0m Finished trial#5 with value: 0.633 with parameters: {'q': 2.3865785364491406e-05, 'sigma': 0.8728181905063279, 'kenel': 7, 'lam': 0.008257577600186661, 'd': 13, 'c': 6, 'degree': 10}. Best is trial#3 with value: 0.6365000000000001.\u001b[0m\n",
      "\u001b[32m[I 2020-05-30 13:01:19,320]\u001b[0m Finished trial#6 with value: 0.6369999999999999 with parameters: {'q': 0.00025876634505832844, 'sigma': 4.2382365190220535, 'kenel': 1, 'lam': 2.5689377388472747e-05, 'd': 6, 'c': 1, 'degree': 6}. Best is trial#6 with value: 0.6369999999999999.\u001b[0m\n",
      "\u001b[32m[I 2020-05-30 13:01:21,462]\u001b[0m Finished trial#7 with value: 0.6365 with parameters: {'q': 0.07553356467091267, 'sigma': 0.23714819988668925, 'kenel': 7, 'lam': 4.71780528133726e-06, 'd': 3, 'c': 9, 'degree': 6}. Best is trial#6 with value: 0.6369999999999999.\u001b[0m\n",
      "\u001b[32m[I 2020-05-30 13:01:23,616]\u001b[0m Finished trial#8 with value: 0.634 with parameters: {'q': 4.501618184866626e-05, 'sigma': 2.738738205250651, 'kenel': 2, 'lam': 2.2662331942752223e-13, 'd': 8, 'c': 9, 'degree': 4}. Best is trial#6 with value: 0.6369999999999999.\u001b[0m\n",
      "\u001b[32m[I 2020-05-30 13:01:25,707]\u001b[0m Finished trial#9 with value: 0.6355000000000001 with parameters: {'q': 0.0053297465996914005, 'sigma': 0.23410410582779148, 'kenel': 4, 'lam': 9.739646794949567e-05, 'd': 15, 'c': 5, 'degree': 2}. Best is trial#6 with value: 0.6369999999999999.\u001b[0m\n",
      "\u001b[32m[I 2020-05-30 13:01:27,815]\u001b[0m Finished trial#10 with value: 0.634 with parameters: {'q': 0.00012988052094008357, 'sigma': 3.7431902864061666, 'kenel': 5, 'lam': 1.4029656645426572e-09, 'd': 11, 'c': 1, 'degree': 8}. Best is trial#6 with value: 0.6369999999999999.\u001b[0m\n",
      "\u001b[32m[I 2020-05-30 13:01:29,914]\u001b[0m Finished trial#11 with value: 0.501 with parameters: {'q': 0.0004517451720606, 'sigma': 1.1521574173731735, 'kenel': 1, 'lam': 0.235204961070399, 'd': 2, 'c': 1, 'degree': 10}. Best is trial#6 with value: 0.6369999999999999.\u001b[0m\n",
      "\u001b[32m[I 2020-05-30 13:01:32,020]\u001b[0m Finished trial#12 with value: 0.6355 with parameters: {'q': 0.0012607520919087289, 'sigma': 1.3972649596354358, 'kenel': 9, 'lam': 0.002261078480234049, 'd': 4, 'c': 2, 'degree': 8}. Best is trial#6 with value: 0.6369999999999999.\u001b[0m\n",
      "\u001b[32m[I 2020-05-30 13:01:34,151]\u001b[0m Finished trial#13 with value: 0.634 with parameters: {'q': 0.9531025788333634, 'sigma': 3.3567928186544553, 'kenel': 3, 'lam': 1.7760806993748414e-08, 'd': 10, 'c': 3, 'degree': 9}. Best is trial#6 with value: 0.6369999999999999.\u001b[0m\n",
      "\u001b[32m[I 2020-05-30 13:01:36,276]\u001b[0m Finished trial#14 with value: 0.634 with parameters: {'q': 0.00019153337700485642, 'sigma': 0.6897462240250054, 'kenel': 8, 'lam': 3.1341553599256982e-12, 'd': 2, 'c': 1, 'degree': 6}. Best is trial#6 with value: 0.6369999999999999.\u001b[0m\n",
      "\u001b[32m[I 2020-05-30 13:01:38,402]\u001b[0m Finished trial#15 with value: 0.6335 with parameters: {'q': 0.004811068050486976, 'sigma': 0.10414377341583612, 'kenel': 9, 'lam': 0.002657763730058679, 'd': 5, 'c': 3, 'degree': 5}. Best is trial#6 with value: 0.6369999999999999.\u001b[0m\n",
      "\u001b[32m[I 2020-05-30 13:01:40,508]\u001b[0m Finished trial#16 with value: 0.634 with parameters: {'q': 8.386600823918352e-05, 'sigma': 1.9427291648962413, 'kenel': 1, 'lam': 2.1354895889079277e-07, 'd': 9, 'c': 7, 'degree': 8}. Best is trial#6 with value: 0.6369999999999999.\u001b[0m\n",
      "\u001b[32m[I 2020-05-30 13:01:42,613]\u001b[0m Finished trial#17 with value: 0.6335 with parameters: {'q': 1.3107053118263445e-05, 'sigma': 5.634268734093301, 'kenel': 0, 'lam': 7.889450321037706e-05, 'd': 2, 'c': 2, 'degree': 9}. Best is trial#6 with value: 0.6369999999999999.\u001b[0m\n",
      "\u001b[32m[I 2020-05-30 13:01:44,731]\u001b[0m Finished trial#18 with value: 0.501 with parameters: {'q': 0.0015416421919658898, 'sigma': 0.539395210771047, 'kenel': 1, 'lam': 0.7575520730413217, 'd': 4, 'c': 4, 'degree': 7}. Best is trial#6 with value: 0.6369999999999999.\u001b[0m\n",
      "\u001b[32m[I 2020-05-30 13:01:46,880]\u001b[0m Finished trial#19 with value: 0.6275000000000001 with parameters: {'q': 0.00032534604332604106, 'sigma': 2.09007121517964, 'kenel': 9, 'lam': 0.01039287233552783, 'd': 7, 'c': 2, 'degree': 5}. Best is trial#6 with value: 0.6369999999999999.\u001b[0m\n",
      "\u001b[32m[I 2020-05-30 13:01:49,031]\u001b[0m Finished trial#20 with value: 0.634 with parameters: {'q': 0.014884193027727003, 'sigma': 5.309928155137702, 'kenel': 5, 'lam': 3.5483491998179766e-11, 'd': 11, 'c': 7, 'degree': 3}. Best is trial#6 with value: 0.6369999999999999.\u001b[0m\n",
      "\u001b[32m[I 2020-05-30 13:01:51,157]\u001b[0m Finished trial#21 with value: 0.6365 with parameters: {'q': 0.3887106801099226, 'sigma': 0.11917356862229762, 'kenel': 7, 'lam': 3.9732085730530226e-06, 'd': 3, 'c': 9, 'degree': 6}. Best is trial#6 with value: 0.6369999999999999.\u001b[0m\n",
      "\u001b[32m[I 2020-05-30 13:01:53,297]\u001b[0m Finished trial#22 with value: 0.6325 with parameters: {'q': 0.5539944694271342, 'sigma': 0.1049103896970882, 'kenel': 7, 'lam': 0.00030927560888025765, 'd': 3, 'c': 8, 'degree': 7}. Best is trial#6 with value: 0.6369999999999999.\u001b[0m\n",
      "\u001b[32m[I 2020-05-30 13:01:55,415]\u001b[0m Finished trial#23 with value: 0.6355 with parameters: {'q': 0.0024795813319328564, 'sigma': 0.38069834271952474, 'kenel': 7, 'lam': 2.785884069409259e-06, 'd': 5, 'c': 1, 'degree': 5}. Best is trial#6 with value: 0.6369999999999999.\u001b[0m\n",
      "\u001b[32m[I 2020-05-30 13:01:57,529]\u001b[0m Finished trial#24 with value: 0.634 with parameters: {'q': 0.000494737769517188, 'sigma': 1.5658055695986601, 'kenel': 3, 'lam': 2.6965437641412306e-07, 'd': 3, 'c': 10, 'degree': 6}. Best is trial#6 with value: 0.6369999999999999.\u001b[0m\n",
      "\u001b[32m[I 2020-05-30 13:01:59,642]\u001b[0m Finished trial#25 with value: 0.501 with parameters: {'q': 0.29913876861215993, 'sigma': 0.1732018953954103, 'kenel': 8, 'lam': 0.052745504847926, 'd': 5, 'c': 4, 'degree': 9}. Best is trial#6 with value: 0.6369999999999999.\u001b[0m\n",
      "\u001b[32m[I 2020-05-30 13:02:01,757]\u001b[0m Finished trial#26 with value: 0.6329999999999999 with parameters: {'q': 0.014299936815440496, 'sigma': 0.5245658168724018, 'kenel': 2, 'lam': 0.00038788595235136967, 'd': 2, 'c': 8, 'degree': 7}. Best is trial#6 with value: 0.6369999999999999.\u001b[0m\n",
      "\u001b[32m[I 2020-05-30 13:02:03,864]\u001b[0m Finished trial#27 with value: 0.634 with parameters: {'q': 0.10973070923381037, 'sigma': 0.9401910847467772, 'kenel': 4, 'lam': 1.4247125467954855e-08, 'd': 6, 'c': 2, 'degree': 5}. Best is trial#6 with value: 0.6369999999999999.\u001b[0m\n",
      "\u001b[32m[I 2020-05-30 13:02:05,975]\u001b[0m Finished trial#28 with value: 0.6365 with parameters: {'q': 6.118232170100493e-05, 'sigma': 5.309480207672606, 'kenel': 6, 'lam': 2.0205340994496315e-05, 'd': 8, 'c': 6, 'degree': 3}. Best is trial#6 with value: 0.6369999999999999.\u001b[0m\n",
      "\u001b[32m[I 2020-05-30 13:02:08,145]\u001b[0m Finished trial#29 with value: 0.501 with parameters: {'q': 4.952710511491528e-05, 'sigma': 5.457498686423502, 'kenel': 6, 'lam': 0.06226101118054551, 'd': 8, 'c': 6, 'degree': 3}. Best is trial#6 with value: 0.6369999999999999.\u001b[0m\n",
      "\u001b[32m[I 2020-05-30 13:02:10,258]\u001b[0m Finished trial#30 with value: 0.638 with parameters: {'q': 0.00018741473014932325, 'sigma': 0.1495804941375857, 'kenel': 7, 'lam': 0.0008565158020961281, 'd': 6, 'c': 4, 'degree': 8}. Best is trial#30 with value: 0.638.\u001b[0m\n",
      "\u001b[32m[I 2020-05-30 13:02:12,376]\u001b[0m Finished trial#31 with value: 0.6395000000000001 with parameters: {'q': 0.0002367846546145483, 'sigma': 0.14835160427925495, 'kenel': 7, 'lam': 0.0005981096765514094, 'd': 6, 'c': 4, 'degree': 8}. Best is trial#31 with value: 0.6395000000000001.\u001b[0m\n",
      "\u001b[32m[I 2020-05-30 13:02:14,482]\u001b[0m Finished trial#32 with value: 0.639 with parameters: {'q': 0.0002558362714855712, 'sigma': 0.15559713151585455, 'kenel': 7, 'lam': 0.0005650832763469005, 'd': 6, 'c': 4, 'degree': 8}. Best is trial#31 with value: 0.6395000000000001.\u001b[0m\n",
      "\u001b[32m[I 2020-05-30 13:02:16,584]\u001b[0m Finished trial#33 with value: 0.632 with parameters: {'q': 0.00023254689606815572, 'sigma': 0.14625812225805318, 'kenel': 7, 'lam': 0.00031267730123028337, 'd': 6, 'c': 3, 'degree': 8}. Best is trial#31 with value: 0.6395000000000001.\u001b[0m\n",
      "\u001b[32m[I 2020-05-30 13:02:18,702]\u001b[0m Finished trial#34 with value: 0.5105 with parameters: {'q': 2.394886271804018e-05, 'sigma': 0.1795898367017023, 'kenel': 7, 'lam': 0.03598932762815371, 'd': 7, 'c': 4, 'degree': 7}. Best is trial#31 with value: 0.6395000000000001.\u001b[0m\n",
      "\u001b[32m[I 2020-05-30 13:02:20,907]\u001b[0m Finished trial#35 with value: 0.634 with parameters: {'q': 0.00010480614395333211, 'sigma': 0.13421661130429366, 'kenel': 7, 'lam': 6.491675331366478e-05, 'd': 6, 'c': 4, 'degree': 8}. Best is trial#31 with value: 0.6395000000000001.\u001b[0m\n",
      "\u001b[32m[I 2020-05-30 13:02:23,060]\u001b[0m Finished trial#36 with value: 0.636 with parameters: {'q': 0.0006832454186129789, 'sigma': 0.39272316866474916, 'kenel': 7, 'lam': 0.0007622249373461991, 'd': 7, 'c': 5, 'degree': 9}. Best is trial#31 with value: 0.6395000000000001.\u001b[0m\n",
      "\u001b[32m[I 2020-05-30 13:02:25,160]\u001b[0m Finished trial#37 with value: 0.6345 with parameters: {'q': 0.00014714965441131895, 'sigma': 0.2580926053569575, 'kenel': 0, 'lam': 1.2503942461597485e-06, 'd': 9, 'c': 4, 'degree': 10}. Best is trial#31 with value: 0.6395000000000001.\u001b[0m\n",
      "\u001b[32m[I 2020-05-30 13:02:27,283]\u001b[0m Finished trial#38 with value: 0.635 with parameters: {'q': 0.00028819232768523354, 'sigma': 0.18405993870231166, 'kenel': 1, 'lam': 1.7134012895614652e-05, 'd': 5, 'c': 5, 'degree': 7}. Best is trial#31 with value: 0.6395000000000001.\u001b[0m\n",
      "\u001b[32m[I 2020-05-30 13:02:29,387]\u001b[0m Finished trial#39 with value: 0.6359999999999999 with parameters: {'q': 2.6674005247412e-05, 'sigma': 0.20306097489453398, 'kenel': 7, 'lam': 0.007026374842107197, 'd': 4, 'c': 3, 'degree': 8}. Best is trial#31 with value: 0.6395000000000001.\u001b[0m\n",
      "\u001b[32m[I 2020-05-30 13:02:31,506]\u001b[0m Finished trial#40 with value: 0.501 with parameters: {'q': 1.1760799983384406e-05, 'sigma': 0.3251747999075251, 'kenel': 7, 'lam': 0.3198364014693872, 'd': 7, 'c': 5, 'degree': 9}. Best is trial#31 with value: 0.6395000000000001.\u001b[0m\n",
      "\u001b[32m[I 2020-05-30 13:02:33,696]\u001b[0m Finished trial#41 with value: 0.636 with parameters: {'q': 0.0012142277698525433, 'sigma': 7.030152724400905, 'kenel': 9, 'lam': 0.0018646497286012162, 'd': 6, 'c': 3, 'degree': 10}. Best is trial#31 with value: 0.6395000000000001.\u001b[0m\n",
      "\u001b[32m[I 2020-05-30 13:02:35,796]\u001b[0m Finished trial#42 with value: 0.6270000000000001 with parameters: {'q': 0.0008458837486842077, 'sigma': 0.14337545771794286, 'kenel': 9, 'lam': 0.010289235906640482, 'd': 4, 'c': 2, 'degree': 9}. Best is trial#31 with value: 0.6395000000000001.\u001b[0m\n",
      "\u001b[32m[I 2020-05-30 13:02:37,911]\u001b[0m Finished trial#43 with value: 0.636 with parameters: {'q': 0.002776230641177775, 'sigma': 2.3897868888340184, 'kenel': 2, 'lam': 4.684030881689411e-05, 'd': 6, 'c': 1, 'degree': 8}. Best is trial#31 with value: 0.6395000000000001.\u001b[0m\n",
      "\u001b[32m[I 2020-05-30 13:02:40,072]\u001b[0m Finished trial#44 with value: 0.634 with parameters: {'q': 0.00044363532109610674, 'sigma': 3.2754213247091526, 'kenel': 1, 'lam': 1.6580337443348668e-15, 'd': 8, 'c': 4, 'degree': 7}. Best is trial#31 with value: 0.6395000000000001.\u001b[0m\n",
      "\u001b[32m[I 2020-05-30 13:02:42,218]\u001b[0m Finished trial#45 with value: 0.6335 with parameters: {'q': 0.0001690224309375239, 'sigma': 0.7103276820633139, 'kenel': 4, 'lam': 0.00039009024889302045, 'd': 14, 'c': 2, 'degree': 9}. Best is trial#31 with value: 0.6395000000000001.\u001b[0m\n",
      "\u001b[32m[I 2020-05-30 13:02:44,327]\u001b[0m Finished trial#46 with value: 0.6355 with parameters: {'q': 0.0007495766143103354, 'sigma': 1.215171100935229, 'kenel': 5, 'lam': 1.1003645447984283e-05, 'd': 5, 'c': 3, 'degree': 10}. Best is trial#31 with value: 0.6395000000000001.\u001b[0m\n",
      "\u001b[32m[I 2020-05-30 13:02:46,435]\u001b[0m Finished trial#47 with value: 0.634 with parameters: {'q': 9.447797671769977e-05, 'sigma': 0.10007128549069363, 'kenel': 7, 'lam': 0.003400524474389053, 'd': 10, 'c': 5, 'degree': 8}. Best is trial#31 with value: 0.6395000000000001.\u001b[0m\n",
      "\u001b[32m[I 2020-05-30 13:02:48,547]\u001b[0m Finished trial#48 with value: 0.501 with parameters: {'q': 0.006229009779875184, 'sigma': 4.025407477818513, 'kenel': 3, 'lam': 0.11629880478869017, 'd': 9, 'c': 6, 'degree': 9}. Best is trial#31 with value: 0.6395000000000001.\u001b[0m\n",
      "\u001b[32m[I 2020-05-30 13:02:50,677]\u001b[0m Finished trial#49 with value: 0.634 with parameters: {'q': 0.001658442329958931, 'sigma': 8.917022354798203, 'kenel': 9, 'lam': 6.61572204009718e-08, 'd': 5, 'c': 1, 'degree': 7}. Best is trial#31 with value: 0.6395000000000001.\u001b[0m\n",
      "\u001b[32m[I 2020-05-30 13:02:52,780]\u001b[0m Finished trial#50 with value: 0.6335 with parameters: {'q': 0.0003421032778131239, 'sigma': 0.22876147821819823, 'kenel': 1, 'lam': 0.00011878768592939327, 'd': 7, 'c': 3, 'degree': 8}. Best is trial#31 with value: 0.6395000000000001.\u001b[0m\n",
      "\u001b[32m[I 2020-05-30 13:02:54,903]\u001b[0m Finished trial#51 with value: 0.6375 with parameters: {'q': 4.456522775268589e-05, 'sigma': 4.429243442423428, 'kenel': 6, 'lam': 2.5271640586005907e-05, 'd': 8, 'c': 7, 'degree': 4}. Best is trial#31 with value: 0.6395000000000001.\u001b[0m\n",
      "\u001b[32m[I 2020-05-30 13:02:57,044]\u001b[0m Finished trial#52 with value: 0.6385 with parameters: {'q': 3.6901551400536035e-05, 'sigma': 6.799972802276791, 'kenel': 6, 'lam': 0.0014242577919481136, 'd': 7, 'c': 7, 'degree': 2}. Best is trial#31 with value: 0.6395000000000001.\u001b[0m\n",
      "\u001b[32m[I 2020-05-30 13:02:59,157]\u001b[0m Finished trial#53 with value: 0.635 with parameters: {'q': 3.9374174450927295e-05, 'sigma': 7.025715597768537, 'kenel': 6, 'lam': 0.001233776063297843, 'd': 7, 'c': 7, 'degree': 2}. Best is trial#31 with value: 0.6395000000000001.\u001b[0m\n",
      "\u001b[32m[I 2020-05-30 13:03:01,252]\u001b[0m Finished trial#54 with value: 0.6335 with parameters: {'q': 7.215827038122632e-05, 'sigma': 4.500768461434419, 'kenel': 6, 'lam': 0.00013030703458738655, 'd': 8, 'c': 8, 'degree': 4}. Best is trial#31 with value: 0.6395000000000001.\u001b[0m\n",
      "\u001b[32m[I 2020-05-30 13:03:03,398]\u001b[0m Finished trial#55 with value: 0.617 with parameters: {'q': 3.437427761804921e-05, 'sigma': 3.077744602354971, 'kenel': 6, 'lam': 0.01494686365393693, 'd': 6, 'c': 7, 'degree': 3}. Best is trial#31 with value: 0.6395000000000001.\u001b[0m\n",
      "\u001b[32m[I 2020-05-30 13:03:05,516]\u001b[0m Finished trial#56 with value: 0.6355 with parameters: {'q': 1.5026225005358471e-05, 'sigma': 4.449559340917728, 'kenel': 6, 'lam': 1.9117188844541233e-06, 'd': 8, 'c': 8, 'degree': 4}. Best is trial#31 with value: 0.6395000000000001.\u001b[0m\n",
      "\u001b[32m[I 2020-05-30 13:03:07,628]\u001b[0m Finished trial#57 with value: 0.6359999999999999 with parameters: {'q': 0.00017325429157974702, 'sigma': 7.478279611920264, 'kenel': 6, 'lam': 8.336706903926233e-06, 'd': 7, 'c': 6, 'degree': 2}. Best is trial#31 with value: 0.6395000000000001.\u001b[0m\n",
      "\u001b[32m[I 2020-05-30 13:03:09,798]\u001b[0m Finished trial#58 with value: 0.634 with parameters: {'q': 0.00010092792988858411, 'sigma': 6.374889992914084, 'kenel': 0, 'lam': 2.907730383339558e-07, 'd': 9, 'c': 7, 'degree': 6}. Best is trial#31 with value: 0.6395000000000001.\u001b[0m\n",
      "\u001b[32m[I 2020-05-30 13:03:11,916]\u001b[0m Finished trial#59 with value: 0.6385 with parameters: {'q': 1.704575687108045e-05, 'sigma': 2.6133270178383774, 'kenel': 8, 'lam': 3.2470221384413676e-05, 'd': 5, 'c': 7, 'degree': 5}. Best is trial#31 with value: 0.6395000000000001.\u001b[0m\n",
      "\u001b[32m[I 2020-05-30 13:03:14,030]\u001b[0m Finished trial#60 with value: 0.638 with parameters: {'q': 1.5116888812736527e-05, 'sigma': 1.6191285806667697, 'kenel': 8, 'lam': 0.0016108490221167038, 'd': 10, 'c': 9, 'degree': 5}. Best is trial#31 with value: 0.6395000000000001.\u001b[0m\n",
      "\u001b[32m[I 2020-05-30 13:03:16,164]\u001b[0m Finished trial#61 with value: 0.636 with parameters: {'q': 1.6940307375286635e-05, 'sigma': 2.0285734802521675, 'kenel': 8, 'lam': 0.000759103835118702, 'd': 10, 'c': 9, 'degree': 5}. Best is trial#31 with value: 0.6395000000000001.\u001b[0m\n",
      "\u001b[32m[I 2020-05-30 13:03:18,285]\u001b[0m Finished trial#62 with value: 0.6125 with parameters: {'q': 1.0661761195716334e-05, 'sigma': 2.459571063926168, 'kenel': 8, 'lam': 0.01696945303906883, 'd': 11, 'c': 9, 'degree': 5}. Best is trial#31 with value: 0.6395000000000001.\u001b[0m\n",
      "\u001b[32m[I 2020-05-30 13:03:20,398]\u001b[0m Finished trial#63 with value: 0.634 with parameters: {'q': 2.0015821186665235e-05, 'sigma': 1.4398403778825561, 'kenel': 8, 'lam': 0.0032389425486655044, 'd': 11, 'c': 7, 'degree': 4}. Best is trial#31 with value: 0.6395000000000001.\u001b[0m\n",
      "\u001b[32m[I 2020-05-30 13:03:22,593]\u001b[0m Finished trial#64 with value: 0.6325000000000001 with parameters: {'q': 6.176164276443182e-05, 'sigma': 1.733210733430606, 'kenel': 8, 'lam': 0.0001646475342510348, 'd': 12, 'c': 6, 'degree': 5}. Best is trial#31 with value: 0.6395000000000001.\u001b[0m\n",
      "\u001b[32m[I 2020-05-30 13:03:24,719]\u001b[0m Finished trial#65 with value: 0.501 with parameters: {'q': 3.6325869814389584e-05, 'sigma': 0.12689628180093432, 'kenel': 8, 'lam': 0.8091504535073878, 'd': 6, 'c': 10, 'degree': 6}. Best is trial#31 with value: 0.6395000000000001.\u001b[0m\n",
      "\u001b[32m[I 2020-05-30 13:03:26,837]\u001b[0m Finished trial#66 with value: 0.6375 with parameters: {'q': 2.6866646753405805e-05, 'sigma': 3.669468836087548, 'kenel': 8, 'lam': 4.143545603626535e-05, 'd': 5, 'c': 8, 'degree': 4}. Best is trial#31 with value: 0.6395000000000001.\u001b[0m\n",
      "\u001b[32m[I 2020-05-30 13:03:28,950]\u001b[0m Finished trial#67 with value: 0.6325000000000001 with parameters: {'q': 0.00012510998412937612, 'sigma': 2.8175449477765073, 'kenel': 7, 'lam': 0.003693495290770228, 'd': 9, 'c': 5, 'degree': 5}. Best is trial#31 with value: 0.6395000000000001.\u001b[0m\n",
      "\u001b[32m[I 2020-05-30 13:03:31,069]\u001b[0m Finished trial#68 with value: 0.6365000000000001 with parameters: {'q': 5.796078642887693e-05, 'sigma': 1.6456118670082285, 'kenel': 6, 'lam': 0.0006922232973061262, 'd': 6, 'c': 4, 'degree': 4}. Best is trial#31 with value: 0.6395000000000001.\u001b[0m\n",
      "\u001b[32m[I 2020-05-30 13:03:33,182]\u001b[0m Finished trial#69 with value: 0.6379999999999999 with parameters: {'q': 1.008891214977236e-05, 'sigma': 1.059964008689461, 'kenel': 7, 'lam': 2.6616496217637337e-05, 'd': 8, 'c': 8, 'degree': 3}. Best is trial#31 with value: 0.6395000000000001.\u001b[0m\n",
      "\u001b[32m[I 2020-05-30 13:03:35,288]\u001b[0m Finished trial#70 with value: 0.5275000000000001 with parameters: {'q': 1.0038752215852001e-05, 'sigma': 1.2349455390330013, 'kenel': 7, 'lam': 0.031490134710698045, 'd': 7, 'c': 8, 'degree': 2}. Best is trial#31 with value: 0.6395000000000001.\u001b[0m\n",
      "\u001b[32m[I 2020-05-30 13:03:37,408]\u001b[0m Finished trial#71 with value: 0.6359999999999999 with parameters: {'q': 2.4504323645836874e-05, 'sigma': 1.0422263305237776, 'kenel': 8, 'lam': 5.558194156586674e-05, 'd': 5, 'c': 8, 'degree': 3}. Best is trial#31 with value: 0.6395000000000001.\u001b[0m\n",
      "\u001b[32m[I 2020-05-30 13:03:39,522]\u001b[0m Finished trial#72 with value: 0.6355000000000001 with parameters: {'q': 1.6504573308874705e-05, 'sigma': 2.4273957904096903, 'kenel': 8, 'lam': 6.01156612889859e-06, 'd': 5, 'c': 9, 'degree': 3}. Best is trial#31 with value: 0.6395000000000001.\u001b[0m\n",
      "\u001b[32m[I 2020-05-30 13:03:41,676]\u001b[0m Finished trial#73 with value: 0.6369999999999999 with parameters: {'q': 3.0417312391551924e-05, 'sigma': 0.8442315472718206, 'kenel': 7, 'lam': 4.349162273905762e-05, 'd': 4, 'c': 8, 'degree': 3}. Best is trial#31 with value: 0.6395000000000001.\u001b[0m\n",
      "\u001b[32m[I 2020-05-30 13:03:43,775]\u001b[0m Finished trial#74 with value: 0.6345000000000001 with parameters: {'q': 1.1754994352360853e-05, 'sigma': 0.11429540011951232, 'kenel': 8, 'lam': 0.00023716722886399466, 'd': 4, 'c': 9, 'degree': 4}. Best is trial#31 with value: 0.6395000000000001.\u001b[0m\n",
      "\u001b[32m[I 2020-05-30 13:03:45,883]\u001b[0m Finished trial#75 with value: 0.634 with parameters: {'q': 2.057930715641524e-05, 'sigma': 0.15681147765377595, 'kenel': 7, 'lam': 2.069861246665892e-09, 'd': 6, 'c': 8, 'degree': 2}. Best is trial#31 with value: 0.6395000000000001.\u001b[0m\n",
      "\u001b[32m[I 2020-05-30 13:03:47,997]\u001b[0m Finished trial#76 with value: 0.6345 with parameters: {'q': 4.795792308757116e-05, 'sigma': 0.8017706778942735, 'kenel': 7, 'lam': 1.104979260983615e-06, 'd': 10, 'c': 7, 'degree': 5}. Best is trial#31 with value: 0.6395000000000001.\u001b[0m\n",
      "\u001b[32m[I 2020-05-30 13:03:50,139]\u001b[0m Finished trial#77 with value: 0.635 with parameters: {'q': 0.0005297325079453019, 'sigma': 1.0416901858063485, 'kenel': 7, 'lam': 1.701650385484468e-05, 'd': 8, 'c': 10, 'degree': 8}. Best is trial#31 with value: 0.6395000000000001.\u001b[0m\n",
      "\u001b[32m[I 2020-05-30 13:03:52,271]\u001b[0m Finished trial#78 with value: 0.6335000000000001 with parameters: {'q': 1.4717805864400838e-05, 'sigma': 3.722413146271143, 'kenel': 8, 'lam': 0.0009580332384771898, 'd': 5, 'c': 4, 'degree': 4}. Best is trial#31 with value: 0.6395000000000001.\u001b[0m\n",
      "\u001b[32m[I 2020-05-30 13:03:54,469]\u001b[0m Finished trial#79 with value: 0.501 with parameters: {'q': 0.00019931914782678775, 'sigma': 1.87368616828018, 'kenel': 2, 'lam': 0.11644848753910227, 'd': 8, 'c': 7, 'degree': 3}. Best is trial#31 with value: 0.6395000000000001.\u001b[0m\n",
      "\u001b[32m[I 2020-05-30 13:03:56,609]\u001b[0m Finished trial#80 with value: 0.6339999999999999 with parameters: {'q': 4.631063203368739e-05, 'sigma': 6.077790464117676, 'kenel': 4, 'lam': 0.00594498726973452, 'd': 7, 'c': 7, 'degree': 7}. Best is trial#31 with value: 0.6395000000000001.\u001b[0m\n",
      "\u001b[32m[I 2020-05-30 13:03:58,737]\u001b[0m Finished trial#81 with value: 0.637 with parameters: {'q': 7.785504817059275e-05, 'sigma': 2.9875041627503127, 'kenel': 8, 'lam': 2.3904473720108683e-05, 'd': 6, 'c': 8, 'degree': 4}. Best is trial#31 with value: 0.6395000000000001.\u001b[0m\n",
      "\u001b[32m[I 2020-05-30 13:04:00,861]\u001b[0m Finished trial#82 with value: 0.632 with parameters: {'q': 2.7309685508637406e-05, 'sigma': 4.480469884162207, 'kenel': 5, 'lam': 0.0003108882612549289, 'd': 5, 'c': 9, 'degree': 4}. Best is trial#31 with value: 0.6395000000000001.\u001b[0m\n",
      "\u001b[32m[I 2020-05-30 13:04:03,029]\u001b[0m Finished trial#83 with value: 0.6365 with parameters: {'q': 0.00012682069876233576, 'sigma': 4.972220011832472, 'kenel': 3, 'lam': 4.096185155419233e-06, 'd': 7, 'c': 6, 'degree': 6}. Best is trial#31 with value: 0.6395000000000001.\u001b[0m\n",
      "\u001b[32m[I 2020-05-30 13:04:05,215]\u001b[0m Finished trial#84 with value: 0.638 with parameters: {'q': 1.0083185856869438e-05, 'sigma': 3.611601680754582, 'kenel': 7, 'lam': 0.0016340863305585492, 'd': 3, 'c': 7, 'degree': 5}. Best is trial#31 with value: 0.6395000000000001.\u001b[0m\n",
      "\u001b[32m[I 2020-05-30 13:04:07,354]\u001b[0m Finished trial#85 with value: 0.6375 with parameters: {'q': 1.0229554871315551e-05, 'sigma': 3.7586981415293894, 'kenel': 7, 'lam': 0.0013218760754418666, 'd': 3, 'c': 8, 'degree': 5}. Best is trial#31 with value: 0.6395000000000001.\u001b[0m\n",
      "\u001b[32m[I 2020-05-30 13:04:09,471]\u001b[0m Finished trial#86 with value: 0.638 with parameters: {'q': 1.0929158629341835e-05, 'sigma': 0.5674212832752461, 'kenel': 7, 'lam': 0.0015490922018026748, 'd': 3, 'c': 4, 'degree': 5}. Best is trial#31 with value: 0.6395000000000001.\u001b[0m\n",
      "\u001b[32m[I 2020-05-30 13:04:11,635]\u001b[0m Finished trial#87 with value: 0.5765 with parameters: {'q': 1.8696920685512372e-05, 'sigma': 0.19860263127385366, 'kenel': 7, 'lam': 0.02302390301657031, 'd': 2, 'c': 4, 'degree': 5}. Best is trial#31 with value: 0.6395000000000001.\u001b[0m\n",
      "\u001b[32m[I 2020-05-30 13:04:13,813]\u001b[0m Finished trial#88 with value: 0.6355000000000001 with parameters: {'q': 1.2805166107729407e-05, 'sigma': 0.6022645756204297, 'kenel': 7, 'lam': 0.007909909420662066, 'd': 3, 'c': 4, 'degree': 6}. Best is trial#31 with value: 0.6395000000000001.\u001b[0m\n",
      "\u001b[32m[I 2020-05-30 13:04:15,954]\u001b[0m Finished trial#89 with value: 0.6385 with parameters: {'q': 0.00033234089327885836, 'sigma': 0.35423144947983365, 'kenel': 7, 'lam': 0.0021296758948075325, 'd': 3, 'c': 5, 'degree': 6}. Best is trial#31 with value: 0.6395000000000001.\u001b[0m\n",
      "\u001b[32m[I 2020-05-30 13:04:18,114]\u001b[0m Finished trial#90 with value: 0.6355000000000001 with parameters: {'q': 0.0002663636782235071, 'sigma': 0.42095365750404706, 'kenel': 7, 'lam': 0.0023977645407158503, 'd': 3, 'c': 5, 'degree': 7}. Best is trial#31 with value: 0.6395000000000001.\u001b[0m\n",
      "\u001b[32m[I 2020-05-30 13:04:20,242]\u001b[0m Finished trial#91 with value: 0.6395000000000001 with parameters: {'q': 0.0003681588083181862, 'sigma': 0.29926064319339957, 'kenel': 7, 'lam': 0.0005975475038377412, 'd': 4, 'c': 5, 'degree': 5}. Best is trial#31 with value: 0.6395000000000001.\u001b[0m\n",
      "\u001b[32m[I 2020-05-30 13:04:22,359]\u001b[0m Finished trial#92 with value: 0.6385 with parameters: {'q': 0.0003381815914593104, 'sigma': 0.3136811053830224, 'kenel': 7, 'lam': 0.0005510740036813442, 'd': 4, 'c': 5, 'degree': 5}. Best is trial#31 with value: 0.6395000000000001.\u001b[0m\n",
      "\u001b[32m[I 2020-05-30 13:04:24,528]\u001b[0m Finished trial#93 with value: 0.6375 with parameters: {'q': 0.00039541667776236934, 'sigma': 0.3169129710961689, 'kenel': 7, 'lam': 0.0005354426138155119, 'd': 4, 'c': 5, 'degree': 5}. Best is trial#31 with value: 0.6395000000000001.\u001b[0m\n",
      "\u001b[32m[I 2020-05-30 13:04:26,734]\u001b[0m Finished trial#94 with value: 0.6325 with parameters: {'q': 0.0010600028452353411, 'sigma': 0.48957402798421473, 'kenel': 7, 'lam': 0.004771792111425249, 'd': 4, 'c': 5, 'degree': 6}. Best is trial#31 with value: 0.6395000000000001.\u001b[0m\n",
      "\u001b[32m[I 2020-05-30 13:04:28,884]\u001b[0m Finished trial#95 with value: 0.634 with parameters: {'q': 0.0006018916493225638, 'sigma': 0.24665805533221946, 'kenel': 7, 'lam': 0.00013788338889010411, 'd': 3, 'c': 5, 'degree': 6}. Best is trial#31 with value: 0.6395000000000001.\u001b[0m\n",
      "\u001b[32m[I 2020-05-30 13:04:31,005]\u001b[0m Finished trial#96 with value: 0.501 with parameters: {'q': 0.00018590768222052825, 'sigma': 0.3565006878559047, 'kenel': 7, 'lam': 0.11344192224623052, 'd': 2, 'c': 4, 'degree': 8}. Best is trial#31 with value: 0.6395000000000001.\u001b[0m\n",
      "\u001b[32m[I 2020-05-30 13:04:33,172]\u001b[0m Finished trial#97 with value: 0.635 with parameters: {'q': 0.0002527322645846576, 'sigma': 0.2135891945988297, 'kenel': 0, 'lam': 0.00044897256242855014, 'd': 4, 'c': 6, 'degree': 8}. Best is trial#31 with value: 0.6395000000000001.\u001b[0m\n",
      "\u001b[32m[I 2020-05-30 13:04:35,322]\u001b[0m Finished trial#98 with value: 0.638 with parameters: {'q': 0.0003925203302938411, 'sigma': 0.27784165134729005, 'kenel': 7, 'lam': 0.0015542344678646136, 'd': 3, 'c': 4, 'degree': 5}. Best is trial#31 with value: 0.6395000000000001.\u001b[0m\n",
      "\u001b[32m[I 2020-05-30 13:04:37,449]\u001b[0m Finished trial#99 with value: 0.6345 with parameters: {'q': 0.00044355717952106514, 'sigma': 0.2887294958737935, 'kenel': 7, 'lam': 0.00010707412722390554, 'd': 4, 'c': 4, 'degree': 5}. Best is trial#31 with value: 0.6395000000000001.\u001b[0m\n",
      "\u001b[32m[I 2020-05-30 13:04:39,571]\u001b[0m Finished trial#100 with value: 0.6315 with parameters: {'q': 0.0016547517766388334, 'sigma': 0.2708847024031763, 'kenel': 7, 'lam': 0.0002802279461885472, 'd': 4, 'c': 3, 'degree': 7}. Best is trial#31 with value: 0.6395000000000001.\u001b[0m\n",
      "\u001b[32m[I 2020-05-30 13:04:41,686]\u001b[0m Finished trial#101 with value: 0.6255000000000001 with parameters: {'q': 0.0002840523350614005, 'sigma': 0.6488094494095522, 'kenel': 7, 'lam': 0.009680236582186544, 'd': 3, 'c': 5, 'degree': 5}. Best is trial#31 with value: 0.6395000000000001.\u001b[0m\n",
      "\u001b[32m[I 2020-05-30 13:04:43,837]\u001b[0m Finished trial#102 with value: 0.6375 with parameters: {'q': 0.0006301704274408132, 'sigma': 0.48774210239326277, 'kenel': 7, 'lam': 0.0016592587105737988, 'd': 3, 'c': 5, 'degree': 5}. Best is trial#31 with value: 0.6395000000000001.\u001b[0m\n",
      "\u001b[32m[I 2020-05-30 13:04:45,969]\u001b[0m Finished trial#103 with value: 0.6375 with parameters: {'q': 0.0002239875548057417, 'sigma': 0.16267140894364754, 'kenel': 7, 'lam': 0.0008512926908058902, 'd': 2, 'c': 4, 'degree': 5}. Best is trial#31 with value: 0.6395000000000001.\u001b[0m\n",
      "\u001b[32m[I 2020-05-30 13:04:48,105]\u001b[0m Finished trial#104 with value: 0.6345 with parameters: {'q': 0.0008222195874065572, 'sigma': 0.40228956636633084, 'kenel': 7, 'lam': 0.0026012907435325125, 'd': 5, 'c': 6, 'degree': 5}. Best is trial#31 with value: 0.6395000000000001.\u001b[0m\n",
      "\u001b[32m[I 2020-05-30 13:04:50,231]\u001b[0m Finished trial#105 with value: 0.501 with parameters: {'q': 0.00041277758465513504, 'sigma': 0.34985543088115606, 'kenel': 7, 'lam': 0.046303128977280825, 'd': 4, 'c': 5, 'degree': 6}. Best is trial#31 with value: 0.6395000000000001.\u001b[0m\n",
      "\u001b[32m[I 2020-05-30 13:04:52,337]\u001b[0m Finished trial#106 with value: 0.633 with parameters: {'q': 0.0003135544594001917, 'sigma': 0.13313145473193846, 'kenel': 2, 'lam': 0.00019357722775895425, 'd': 6, 'c': 4, 'degree': 8}. Best is trial#31 with value: 0.6395000000000001.\u001b[0m\n",
      "\u001b[32m[I 2020-05-30 13:04:54,535]\u001b[0m Finished trial#107 with value: 0.627 with parameters: {'q': 0.0001442471326172912, 'sigma': 0.4333310381652862, 'kenel': 7, 'lam': 0.012989845691675748, 'd': 3, 'c': 4, 'degree': 6}. Best is trial#31 with value: 0.6395000000000001.\u001b[0m\n",
      "\u001b[32m[I 2020-05-30 13:04:56,654]\u001b[0m Finished trial#108 with value: 0.634 with parameters: {'q': 0.00010100728578095159, 'sigma': 0.10940976758021152, 'kenel': 5, 'lam': 0.005318231255783518, 'd': 5, 'c': 6, 'degree': 5}. Best is trial#31 with value: 0.6395000000000001.\u001b[0m\n",
      "\u001b[32m[I 2020-05-30 13:04:58,769]\u001b[0m Finished trial#109 with value: 0.634 with parameters: {'q': 0.00035602743573632866, 'sigma': 0.18968589887578716, 'kenel': 3, 'lam': 8.500182505519927e-05, 'd': 6, 'c': 3, 'degree': 9}. Best is trial#31 with value: 0.6395000000000001.\u001b[0m\n",
      "\u001b[32m[I 2020-05-30 13:05:00,882]\u001b[0m Finished trial#110 with value: 0.639 with parameters: {'q': 0.0005131393086077069, 'sigma': 0.23326123767271545, 'kenel': 4, 'lam': 0.0005650181927658238, 'd': 2, 'c': 4, 'degree': 8}. Best is trial#31 with value: 0.6395000000000001.\u001b[0m\n",
      "\u001b[32m[I 2020-05-30 13:05:03,023]\u001b[0m Finished trial#111 with value: 0.64 with parameters: {'q': 0.000505326745777614, 'sigma': 0.2945995755121013, 'kenel': 4, 'lam': 0.0006097547995068559, 'd': 2, 'c': 4, 'degree': 8}. Best is trial#111 with value: 0.64.\u001b[0m\n",
      "\u001b[32m[I 2020-05-30 13:05:05,155]\u001b[0m Finished trial#112 with value: 0.637 with parameters: {'q': 0.0005062022879042716, 'sigma': 0.21730441972172296, 'kenel': 4, 'lam': 0.0005121522119651089, 'd': 2, 'c': 4, 'degree': 8}. Best is trial#111 with value: 0.64.\u001b[0m\n",
      "\u001b[32m[I 2020-05-30 13:05:07,274]\u001b[0m Finished trial#113 with value: 0.636 with parameters: {'q': 0.0010490652573931494, 'sigma': 0.3006488161302344, 'kenel': 4, 'lam': 0.0009087528610793429, 'd': 2, 'c': 3, 'degree': 8}. Best is trial#111 with value: 0.64.\u001b[0m\n",
      "\u001b[32m[I 2020-05-30 13:05:09,390]\u001b[0m Finished trial#114 with value: 0.6325000000000001 with parameters: {'q': 0.00020469880429676822, 'sigma': 0.17263280110411602, 'kenel': 6, 'lam': 0.00019532507665371665, 'd': 2, 'c': 5, 'degree': 8}. Best is trial#111 with value: 0.64.\u001b[0m\n",
      "\u001b[32m[I 2020-05-30 13:05:11,529]\u001b[0m Finished trial#115 with value: 0.634 with parameters: {'q': 0.0005989018644996537, 'sigma': 0.25131093506148444, 'kenel': 4, 'lam': 0.003285501410633915, 'd': 3, 'c': 4, 'degree': 8}. Best is trial#111 with value: 0.64.\u001b[0m\n",
      "\u001b[32m[I 2020-05-30 13:05:13,655]\u001b[0m Finished trial#116 with value: 0.6344999999999998 with parameters: {'q': 0.0007996267888390989, 'sigma': 0.3362595638333767, 'kenel': 4, 'lam': 0.00045722891058780563, 'd': 2, 'c': 4, 'degree': 9}. Best is trial#111 with value: 0.64.\u001b[0m\n",
      "\u001b[32m[I 2020-05-30 13:05:15,785]\u001b[0m Finished trial#117 with value: 0.6375 with parameters: {'q': 0.003725626265048631, 'sigma': 0.15277078940898206, 'kenel': 4, 'lam': 0.0015952728009733677, 'd': 4, 'c': 5, 'degree': 7}. Best is trial#111 with value: 0.64.\u001b[0m\n",
      "\u001b[32m[I 2020-05-30 13:05:17,928]\u001b[0m Finished trial#118 with value: 0.601 with parameters: {'q': 0.00016685613974635406, 'sigma': 0.228889031055686, 'kenel': 4, 'lam': 0.019302049863527217, 'd': 5, 'c': 3, 'degree': 8}. Best is trial#111 with value: 0.64.\u001b[0m\n",
      "\u001b[32m[I 2020-05-30 13:05:20,120]\u001b[0m Finished trial#119 with value: 0.634 with parameters: {'q': 0.0014547008829495797, 'sigma': 0.17151132686588114, 'kenel': 4, 'lam': 7.071927688228793e-05, 'd': 5, 'c': 5, 'degree': 8}. Best is trial#111 with value: 0.64.\u001b[0m\n",
      "\u001b[32m[I 2020-05-30 13:05:22,290]\u001b[0m Finished trial#120 with value: 0.6325 with parameters: {'q': 0.00011950328867791553, 'sigma': 0.4523848173956813, 'kenel': 7, 'lam': 0.000261395824483902, 'd': 6, 'c': 4, 'degree': 7}. Best is trial#111 with value: 0.64.\u001b[0m\n",
      "\u001b[32m[I 2020-05-30 13:05:24,449]\u001b[0m Finished trial#121 with value: 0.6345 with parameters: {'q': 0.0003533254233218515, 'sigma': 0.27376438533364617, 'kenel': 9, 'lam': 0.0010592991518148104, 'd': 3, 'c': 4, 'degree': 8}. Best is trial#111 with value: 0.64.\u001b[0m\n",
      "\u001b[32m[I 2020-05-30 13:05:26,559]\u001b[0m Finished trial#122 with value: 0.6325 with parameters: {'q': 0.0004923727928537437, 'sigma': 0.3850458881391633, 'kenel': 7, 'lam': 0.00469956373730392, 'd': 2, 'c': 4, 'degree': 5}. Best is trial#111 with value: 0.64.\u001b[0m\n",
      "\u001b[32m[I 2020-05-30 13:05:28,684]\u001b[0m Finished trial#123 with value: 0.6365000000000001 with parameters: {'q': 0.00024140157440895757, 'sigma': 0.3048162588673103, 'kenel': 7, 'lam': 0.0017678945176329685, 'd': 3, 'c': 3, 'degree': 9}. Best is trial#111 with value: 0.64.\u001b[0m\n",
      "\u001b[32m[I 2020-05-30 13:05:30,814]\u001b[0m Finished trial#124 with value: 0.63 with parameters: {'q': 0.00036814773179884514, 'sigma': 0.2763772151982333, 'kenel': 7, 'lam': 0.008795392065599372, 'd': 3, 'c': 4, 'degree': 5}. Best is trial#111 with value: 0.64.\u001b[0m\n",
      "\u001b[32m[I 2020-05-30 13:05:32,959]\u001b[0m Finished trial#125 with value: 0.6375 with parameters: {'q': 1.4195089223814772e-05, 'sigma': 0.12381991790702082, 'kenel': 1, 'lam': 0.000522173870059137, 'd': 4, 'c': 5, 'degree': 8}. Best is trial#111 with value: 0.64.\u001b[0m\n",
      "\u001b[32m[I 2020-05-30 13:05:35,085]\u001b[0m Finished trial#126 with value: 0.6329999999999999 with parameters: {'q': 0.0002968915037006501, 'sigma': 0.1448492329702711, 'kenel': 8, 'lam': 0.00012735910297019952, 'd': 6, 'c': 4, 'degree': 5}. Best is trial#111 with value: 0.64.\u001b[0m\n",
      "\u001b[32m[I 2020-05-30 13:05:37,260]\u001b[0m Finished trial#127 with value: 0.6340000000000001 with parameters: {'q': 0.002161186618838446, 'sigma': 2.282692148906106, 'kenel': 0, 'lam': 0.0030425952685555124, 'd': 7, 'c': 6, 'degree': 4}. Best is trial#111 with value: 0.64.\u001b[0m\n",
      "\u001b[32m[I 2020-05-30 13:05:39,378]\u001b[0m Finished trial#128 with value: 0.638 with parameters: {'q': 0.0007260268705806198, 'sigma': 8.248693079758748, 'kenel': 4, 'lam': 0.0008691514519907434, 'd': 12, 'c': 5, 'degree': 8}. Best is trial#111 with value: 0.64.\u001b[0m\n",
      "\u001b[32m[I 2020-05-30 13:05:41,496]\u001b[0m Finished trial#129 with value: 0.637 with parameters: {'q': 0.0005567571291737522, 'sigma': 8.10580228912895, 'kenel': 4, 'lam': 0.0007897686156013641, 'd': 13, 'c': 5, 'degree': 9}. Best is trial#111 with value: 0.64.\u001b[0m\n",
      "\u001b[32m[I 2020-05-30 13:05:43,693]\u001b[0m Finished trial#130 with value: 0.6335000000000001 with parameters: {'q': 0.000697871812708875, 'sigma': 0.21416706287422796, 'kenel': 4, 'lam': 7.488577682391495e-05, 'd': 13, 'c': 5, 'degree': 8}. Best is trial#111 with value: 0.64.\u001b[0m\n",
      "\u001b[32m[I 2020-05-30 13:05:45,821]\u001b[0m Finished trial#131 with value: 0.6375 with parameters: {'q': 0.0010092917172739226, 'sigma': 8.062965022609857, 'kenel': 7, 'lam': 0.0017070094236465083, 'd': 3, 'c': 7, 'degree': 8}. Best is trial#111 with value: 0.64.\u001b[0m\n",
      "\u001b[32m[I 2020-05-30 13:05:47,973]\u001b[0m Finished trial#132 with value: 0.6315 with parameters: {'q': 0.0004347933679360974, 'sigma': 0.35990026509433765, 'kenel': 4, 'lam': 0.00028486671565960395, 'd': 11, 'c': 5, 'degree': 5}. Best is trial#111 with value: 0.64.\u001b[0m\n",
      "\u001b[32m[I 2020-05-30 13:05:50,175]\u001b[0m Finished trial#133 with value: 0.638 with parameters: {'q': 0.0003221637068021627, 'sigma': 0.2456690070477646, 'kenel': 4, 'lam': 0.0015297000022060402, 'd': 14, 'c': 4, 'degree': 5}. Best is trial#111 with value: 0.64.\u001b[0m\n",
      "\u001b[32m[I 2020-05-30 13:05:52,422]\u001b[0m Finished trial#134 with value: 0.636 with parameters: {'q': 0.0002368948602260069, 'sigma': 0.24258458502824726, 'kenel': 7, 'lam': 0.0024174157188729525, 'd': 14, 'c': 4, 'degree': 5}. Best is trial#111 with value: 0.64.\u001b[0m\n",
      "\u001b[32m[I 2020-05-30 13:05:54,578]\u001b[0m Finished trial#135 with value: 0.6395000000000001 with parameters: {'q': 0.00014678246870719538, 'sigma': 8.978750603146551, 'kenel': 7, 'lam': 0.000587195574660476, 'd': 3, 'c': 4, 'degree': 8}. Best is trial#111 with value: 0.64.\u001b[0m\n",
      "\u001b[32m[I 2020-05-30 13:05:56,803]\u001b[0m Finished trial#136 with value: 0.633 with parameters: {'q': 2.106126712876716e-05, 'sigma': 1.3717465684216223, 'kenel': 8, 'lam': 0.006797197894151047, 'd': 4, 'c': 4, 'degree': 5}. Best is trial#111 with value: 0.64.\u001b[0m\n",
      "\u001b[32m[I 2020-05-30 13:05:58,960]\u001b[0m Finished trial#137 with value: 0.6355000000000001 with parameters: {'q': 0.0003058370020009959, 'sigma': 8.829333884633366, 'kenel': 4, 'lam': 0.00048588015110050836, 'd': 15, 'c': 7, 'degree': 8}. Best is trial#111 with value: 0.64.\u001b[0m\n",
      "\u001b[32m[I 2020-05-30 13:06:01,129]\u001b[0m Finished trial#138 with value: 0.6335 with parameters: {'q': 0.00016370073953821473, 'sigma': 6.909561144003321, 'kenel': 4, 'lam': 0.0002110327967253709, 'd': 14, 'c': 5, 'degree': 7}. Best is trial#111 with value: 0.64.\u001b[0m\n",
      "\u001b[32m[I 2020-05-30 13:06:03,280]\u001b[0m Finished trial#139 with value: 0.6355000000000001 with parameters: {'q': 0.008239359329920795, 'sigma': 0.30488185395901424, 'kenel': 7, 'lam': 0.001110891666248182, 'd': 3, 'c': 3, 'degree': 8}. Best is trial#111 with value: 0.64.\u001b[0m\n",
      "\u001b[32m[I 2020-05-30 13:06:05,427]\u001b[0m Finished trial#140 with value: 0.6355000000000001 with parameters: {'q': 6.664294501059359e-05, 'sigma': 6.0687272833932635, 'kenel': 6, 'lam': 5.337140308006473e-05, 'd': 12, 'c': 6, 'degree': 8}. Best is trial#111 with value: 0.64.\u001b[0m\n",
      "\u001b[32m[I 2020-05-30 13:06:07,559]\u001b[0m Finished trial#141 with value: 0.6315 with parameters: {'q': 0.0002373015100918152, 'sigma': 8.858813008020565, 'kenel': 4, 'lam': 0.004617602285945361, 'd': 12, 'c': 4, 'degree': 5}. Best is trial#111 with value: 0.64.\u001b[0m\n",
      "\u001b[32m[I 2020-05-30 13:06:09,694]\u001b[0m Finished trial#142 with value: 0.634 with parameters: {'q': 0.00013035711407689276, 'sigma': 0.18529165091573893, 'kenel': 7, 'lam': 2.5408232311248335e-11, 'd': 2, 'c': 4, 'degree': 6}. Best is trial#111 with value: 0.64.\u001b[0m\n",
      "\u001b[32m[I 2020-05-30 13:06:11,834]\u001b[0m Finished trial#143 with value: 0.638 with parameters: {'q': 0.00018345093714688702, 'sigma': 0.5790858411484132, 'kenel': 4, 'lam': 0.0006570598194658476, 'd': 4, 'c': 4, 'degree': 8}. Best is trial#111 with value: 0.64.\u001b[0m\n",
      "\u001b[32m[I 2020-05-30 13:06:13,963]\u001b[0m Finished trial#144 with value: 0.5765 with parameters: {'q': 9.2646345719646e-05, 'sigma': 0.32209179514586017, 'kenel': 7, 'lam': 0.023196273627796082, 'd': 3, 'c': 3, 'degree': 4}. Best is trial#111 with value: 0.64.\u001b[0m\n",
      "\u001b[32m[I 2020-05-30 13:06:16,127]\u001b[0m Finished trial#145 with value: 0.6345000000000001 with parameters: {'q': 0.0003492800997353596, 'sigma': 0.26715736412482266, 'kenel': 7, 'lam': 0.0009353588076984913, 'd': 6, 'c': 4, 'degree': 9}. Best is trial#111 with value: 0.64.\u001b[0m\n",
      "\u001b[32m[I 2020-05-30 13:06:18,254]\u001b[0m Finished trial#146 with value: 0.635 with parameters: {'q': 0.0004930209614764936, 'sigma': 0.7627621109793999, 'kenel': 4, 'lam': 0.00042903929034604916, 'd': 13, 'c': 5, 'degree': 8}. Best is trial#111 with value: 0.64.\u001b[0m\n",
      "\u001b[32m[I 2020-05-30 13:06:20,440]\u001b[0m Finished trial#147 with value: 0.6335 with parameters: {'q': 0.000698175725765208, 'sigma': 0.13939767555412041, 'kenel': 8, 'lam': 0.00014454387556536204, 'd': 12, 'c': 5, 'degree': 7}. Best is trial#111 with value: 0.64.\u001b[0m\n",
      "\u001b[32m[I 2020-05-30 13:06:22,582]\u001b[0m Finished trial#148 with value: 0.637 with parameters: {'q': 0.00016202261585007363, 'sigma': 0.22922012961993615, 'kenel': 4, 'lam': 0.0019278495407748647, 'd': 4, 'c': 4, 'degree': 5}. Best is trial#111 with value: 0.64.\u001b[0m\n",
      "\u001b[32m[I 2020-05-30 13:06:24,725]\u001b[0m Finished trial#149 with value: 0.634 with parameters: {'q': 0.0002944355485177391, 'sigma': 0.37343930203153447, 'kenel': 7, 'lam': 2.051326295768539e-15, 'd': 5, 'c': 7, 'degree': 8}. Best is trial#111 with value: 0.64.\u001b[0m\n",
      "\u001b[32m[I 2020-05-30 13:06:26,839]\u001b[0m Finished trial#150 with value: 0.638 with parameters: {'q': 0.0002015449984830901, 'sigma': 5.1637393492394486, 'kenel': 5, 'lam': 0.0005448868745570706, 'd': 4, 'c': 5, 'degree': 8}. Best is trial#111 with value: 0.64.\u001b[0m\n",
      "\u001b[32m[I 2020-05-30 13:06:29,014]\u001b[0m Finished trial#151 with value: 0.6315 with parameters: {'q': 0.00040411730731188374, 'sigma': 7.649050615618163, 'kenel': 6, 'lam': 0.00028606246487367017, 'd': 5, 'c': 5, 'degree': 8}. Best is trial#111 with value: 0.64.\u001b[0m\n",
      "\u001b[32m[I 2020-05-30 13:06:31,146]\u001b[0m Finished trial#152 with value: 0.6365000000000001 with parameters: {'q': 0.0002055931107427917, 'sigma': 0.19534418942359574, 'kenel': 4, 'lam': 0.0008886463937485262, 'd': 4, 'c': 4, 'degree': 8}. Best is trial#111 with value: 0.64.\u001b[0m\n",
      "\u001b[32m[I 2020-05-30 13:06:33,352]\u001b[0m Finished trial#153 with value: 0.6325000000000001 with parameters: {'q': 0.0005977833846634873, 'sigma': 0.25982156758243863, 'kenel': 7, 'lam': 0.003529811283043785, 'd': 15, 'c': 4, 'degree': 5}. Best is trial#111 with value: 0.64.\u001b[0m\n",
      "\u001b[32m[I 2020-05-30 13:06:35,464]\u001b[0m Finished trial#154 with value: 0.628 with parameters: {'q': 0.0002839337599746458, 'sigma': 0.9487233707277475, 'kenel': 4, 'lam': 0.009086810739853297, 'd': 6, 'c': 4, 'degree': 8}. Best is trial#111 with value: 0.64.\u001b[0m\n",
      "\u001b[32m[I 2020-05-30 13:06:37,613]\u001b[0m Finished trial#155 with value: 0.635 with parameters: {'q': 0.00011765696884021994, 'sigma': 4.66361456402942, 'kenel': 5, 'lam': 0.0004412955514960439, 'd': 4, 'c': 4, 'degree': 8}. Best is trial#111 with value: 0.64.\u001b[0m\n",
      "\u001b[32m[I 2020-05-30 13:06:39,752]\u001b[0m Finished trial#156 with value: 0.6380000000000001 with parameters: {'q': 0.00017916630793689349, 'sigma': 0.5315817010572808, 'kenel': 5, 'lam': 3.4272489638572106e-05, 'd': 3, 'c': 4, 'degree': 9}. Best is trial#111 with value: 0.64.\u001b[0m\n",
      "\u001b[32m[I 2020-05-30 13:06:41,885]\u001b[0m Finished trial#157 with value: 0.6369999999999999 with parameters: {'q': 8.539729662179097e-05, 'sigma': 5.474196795318802, 'kenel': 5, 'lam': 4.3353545771734016e-05, 'd': 2, 'c': 5, 'degree': 10}. Best is trial#111 with value: 0.64.\u001b[0m\n",
      "\u001b[32m[I 2020-05-30 13:06:44,030]\u001b[0m Finished trial#158 with value: 0.6335 with parameters: {'q': 0.03796409733525583, 'sigma': 0.5471314706757858, 'kenel': 5, 'lam': 0.00014659059936791068, 'd': 3, 'c': 4, 'degree': 9}. Best is trial#111 with value: 0.64.\u001b[0m\n",
      "\u001b[32m[I 2020-05-30 13:06:46,171]\u001b[0m Finished trial#159 with value: 0.635 with parameters: {'q': 0.0004235996692328347, 'sigma': 0.5807455766694198, 'kenel': 4, 'lam': 1.2422439189892882e-05, 'd': 3, 'c': 4, 'degree': 9}. Best is trial#111 with value: 0.64.\u001b[0m\n",
      "\u001b[32m[I 2020-05-30 13:06:48,324]\u001b[0m Finished trial#160 with value: 0.635 with parameters: {'q': 0.00021974305685021255, 'sigma': 0.33053140140212856, 'kenel': 5, 'lam': 9.137351060367683e-05, 'd': 7, 'c': 5, 'degree': 7}. Best is trial#111 with value: 0.64.\u001b[0m\n",
      "\u001b[32m[I 2020-05-30 13:06:50,475]\u001b[0m Finished trial#161 with value: 0.6359999999999999 with parameters: {'q': 0.00014680369761125867, 'sigma': 0.46759249500193273, 'kenel': 5, 'lam': 0.0005052511567066783, 'd': 4, 'c': 4, 'degree': 9}. Best is trial#111 with value: 0.64.\u001b[0m\n",
      "\u001b[32m[I 2020-05-30 13:06:52,671]\u001b[0m Finished trial#162 with value: 0.6375 with parameters: {'q': 0.00018682552134699452, 'sigma': 7.063091365756742, 'kenel': 5, 'lam': 0.0008499828539439615, 'd': 4, 'c': 5, 'degree': 8}. Best is trial#111 with value: 0.64.\u001b[0m\n",
      "\u001b[32m[I 2020-05-30 13:06:54,809]\u001b[0m Finished trial#163 with value: 0.636 with parameters: {'q': 1.0665411427002276e-05, 'sigma': 3.2586891664350266, 'kenel': 7, 'lam': 0.0018708345094115917, 'd': 2, 'c': 3, 'degree': 5}. Best is trial#111 with value: 0.64.\u001b[0m\n",
      "\u001b[32m[I 2020-05-30 13:06:56,948]\u001b[0m Finished trial#164 with value: 0.6315000000000001 with parameters: {'q': 0.0003403788119410558, 'sigma': 0.2891914532934659, 'kenel': 2, 'lam': 0.0036542506947952365, 'd': 3, 'c': 4, 'degree': 8}. Best is trial#111 with value: 0.64.\u001b[0m\n",
      "\u001b[32m[I 2020-05-30 13:06:59,090]\u001b[0m Finished trial#165 with value: 0.6345 with parameters: {'q': 0.00026282738681170055, 'sigma': 0.7201898437806336, 'kenel': 7, 'lam': 5.071076922470321e-07, 'd': 3, 'c': 4, 'degree': 10}. Best is trial#111 with value: 0.64.\u001b[0m\n",
      "\u001b[32m[I 2020-05-30 13:07:01,222]\u001b[0m Finished trial#166 with value: 0.632 with parameters: {'q': 0.00039422353899107727, 'sigma': 0.24672384440447886, 'kenel': 5, 'lam': 0.0003043616593468035, 'd': 5, 'c': 10, 'degree': 8}. Best is trial#111 with value: 0.64.\u001b[0m\n",
      "\u001b[32m[I 2020-05-30 13:07:03,358]\u001b[0m Finished trial#167 with value: 0.6365000000000001 with parameters: {'q': 1.6966720313976458e-05, 'sigma': 2.665793190605837, 'kenel': 7, 'lam': 0.0019141591287081875, 'd': 3, 'c': 4, 'degree': 5}. Best is trial#111 with value: 0.64.\u001b[0m\n",
      "\u001b[32m[I 2020-05-30 13:07:05,475]\u001b[0m Finished trial#168 with value: 0.6365000000000001 with parameters: {'q': 0.00018566350012847244, 'sigma': 0.5768833617722643, 'kenel': 4, 'lam': 0.0007038405849685179, 'd': 4, 'c': 5, 'degree': 7}. Best is trial#111 with value: 0.64.\u001b[0m\n",
      "\u001b[32m[I 2020-05-30 13:07:07,602]\u001b[0m Finished trial#169 with value: 0.6325 with parameters: {'q': 0.00014101559210111388, 'sigma': 5.042906374001879, 'kenel': 3, 'lam': 0.0001520262903179876, 'd': 4, 'c': 7, 'degree': 8}. Best is trial#111 with value: 0.64.\u001b[0m\n",
      "\u001b[32m[I 2020-05-30 13:07:09,796]\u001b[0m Finished trial#170 with value: 0.6375 with parameters: {'q': 0.0008538886843175048, 'sigma': 0.6369874628685569, 'kenel': 8, 'lam': 0.001288053626516703, 'd': 2, 'c': 6, 'degree': 6}. Best is trial#111 with value: 0.64.\u001b[0m\n",
      "\u001b[32m[I 2020-05-30 13:07:11,933]\u001b[0m Finished trial#171 with value: 0.6375 with parameters: {'q': 0.0005777774237822764, 'sigma': 0.28635146072344075, 'kenel': 7, 'lam': 0.0016892109220055275, 'd': 3, 'c': 4, 'degree': 5}. Best is trial#111 with value: 0.64.\u001b[0m\n",
      "\u001b[32m[I 2020-05-30 13:07:14,066]\u001b[0m Finished trial#172 with value: 0.634 with parameters: {'q': 0.0004904405437627728, 'sigma': 0.16111962827390347, 'kenel': 7, 'lam': 0.00531443162792919, 'd': 2, 'c': 4, 'degree': 5}. Best is trial#111 with value: 0.64.\u001b[0m\n",
      "\u001b[32m[I 2020-05-30 13:07:16,240]\u001b[0m Finished trial#173 with value: 0.6395 with parameters: {'q': 0.00022541698979413523, 'sigma': 6.599960252318936, 'kenel': 9, 'lam': 0.000619851082771213, 'd': 4, 'c': 5, 'degree': 8}. Best is trial#111 with value: 0.64.\u001b[0m\n",
      "\u001b[32m[I 2020-05-30 13:07:18,430]\u001b[0m Finished trial#174 with value: 0.635 with parameters: {'q': 0.0002442781161526786, 'sigma': 6.267811587942219, 'kenel': 9, 'lam': 0.00022795833444965447, 'd': 4, 'c': 5, 'degree': 8}. Best is trial#111 with value: 0.64.\u001b[0m\n",
      "\u001b[32m[I 2020-05-30 13:07:20,595]\u001b[0m Finished trial#175 with value: 0.6335 with parameters: {'q': 0.00029807708987321813, 'sigma': 0.4097820885620762, 'kenel': 9, 'lam': 0.0026753838260613373, 'd': 6, 'c': 4, 'degree': 5}. Best is trial#111 with value: 0.64.\u001b[0m\n",
      "\u001b[32m[I 2020-05-30 13:07:22,814]\u001b[0m Finished trial#176 with value: 0.6375 with parameters: {'q': 0.0001935192636095846, 'sigma': 0.2093119389367675, 'kenel': 9, 'lam': 0.0005298370734501987, 'd': 4, 'c': 7, 'degree': 8}. Best is trial#111 with value: 0.64.\u001b[0m\n",
      "\u001b[32m[I 2020-05-30 13:07:24,979]\u001b[0m Finished trial#177 with value: 0.637 with parameters: {'q': 3.38947378187606e-05, 'sigma': 8.276918276772724, 'kenel': 9, 'lam': 0.0007903879876847102, 'd': 10, 'c': 5, 'degree': 8}. Best is trial#111 with value: 0.64.\u001b[0m\n",
      "\u001b[32m[I 2020-05-30 13:07:27,095]\u001b[0m Finished trial#178 with value: 0.6385 with parameters: {'q': 0.00023155501042031203, 'sigma': 6.795673187962348, 'kenel': 1, 'lam': 3.060006454295344e-05, 'd': 5, 'c': 5, 'degree': 8}. Best is trial#111 with value: 0.64.\u001b[0m\n",
      "\u001b[32m[I 2020-05-30 13:07:29,316]\u001b[0m Finished trial#179 with value: 0.6379999999999999 with parameters: {'q': 0.000421454709253112, 'sigma': 6.68481872775734, 'kenel': 1, 'lam': 2.7294243575832792e-05, 'd': 5, 'c': 5, 'degree': 8}. Best is trial#111 with value: 0.64.\u001b[0m\n",
      "\u001b[32m[I 2020-05-30 13:07:31,451]\u001b[0m Finished trial#180 with value: 0.6355 with parameters: {'q': 1.246332867731654e-05, 'sigma': 1.7787140205075764, 'kenel': 0, 'lam': 2.670398565005926e-06, 'd': 3, 'c': 6, 'degree': 5}. Best is trial#111 with value: 0.64.\u001b[0m\n",
      "\u001b[32m[I 2020-05-30 13:07:33,588]\u001b[0m Finished trial#181 with value: 0.632 with parameters: {'q': 0.00010912158968100956, 'sigma': 5.677785202268529, 'kenel': 1, 'lam': 0.00027130017464971145, 'd': 5, 'c': 4, 'degree': 7}. Best is trial#111 with value: 0.64.\u001b[0m\n",
      "\u001b[32m[I 2020-05-30 13:07:35,763]\u001b[0m Finished trial#182 with value: 0.6359999999999999 with parameters: {'q': 0.0003028827327889874, 'sigma': 8.964830220834939, 'kenel': 1, 'lam': 8.25950216337663e-06, 'd': 9, 'c': 5, 'degree': 8}. Best is trial#111 with value: 0.64.\u001b[0m\n",
      "\u001b[32m[I 2020-05-30 13:07:37,889]\u001b[0m Finished trial#183 with value: 0.6355000000000001 with parameters: {'q': 0.00023364602653861558, 'sigma': 3.9980077311535984, 'kenel': 1, 'lam': 9.73669369114203e-05, 'd': 6, 'c': 5, 'degree': 8}. Best is trial#111 with value: 0.64.\u001b[0m\n",
      "\u001b[32m[I 2020-05-30 13:07:40,033]\u001b[0m Finished trial#184 with value: 0.6355000000000001 with parameters: {'q': 0.00017978529611349913, 'sigma': 7.282816779604716, 'kenel': 4, 'lam': 0.00047998900877845333, 'd': 5, 'c': 5, 'degree': 8}. Best is trial#111 with value: 0.64.\u001b[0m\n",
      "\u001b[32m[I 2020-05-30 13:07:42,160]\u001b[0m Finished trial#185 with value: 0.6385 with parameters: {'q': 0.000146608077660415, 'sigma': 7.6256758718950595, 'kenel': 4, 'lam': 3.03176109915118e-05, 'd': 4, 'c': 5, 'degree': 8}. Best is trial#111 with value: 0.64.\u001b[0m\n",
      "\u001b[32m[I 2020-05-30 13:07:44,290]\u001b[0m Finished trial#186 with value: 0.634 with parameters: {'q': 0.00013785018448264782, 'sigma': 5.845868684339129, 'kenel': 5, 'lam': 1.222793810859992e-07, 'd': 4, 'c': 5, 'degree': 8}. Best is trial#111 with value: 0.64.\u001b[0m\n",
      "\u001b[32m[I 2020-05-30 13:07:46,415]\u001b[0m Finished trial#187 with value: 0.6379999999999999 with parameters: {'q': 0.0001596012950604813, 'sigma': 1.5398980330320566, 'kenel': 8, 'lam': 2.7315214883534667e-05, 'd': 4, 'c': 5, 'degree': 8}. Best is trial#111 with value: 0.64.\u001b[0m\n",
      "\u001b[32m[I 2020-05-30 13:07:48,613]\u001b[0m Finished trial#188 with value: 0.6355 with parameters: {'q': 0.0003569192579031938, 'sigma': 7.368100139789092, 'kenel': 4, 'lam': 1.7670354061889764e-05, 'd': 5, 'c': 5, 'degree': 8}. Best is trial#111 with value: 0.64.\u001b[0m\n",
      "\u001b[32m[I 2020-05-30 13:07:50,753]\u001b[0m Finished trial#189 with value: 0.638 with parameters: {'q': 0.0002638550478435656, 'sigma': 0.12118998909440636, 'kenel': 7, 'lam': 0.0015608163237521167, 'd': 3, 'c': 4, 'degree': 9}. Best is trial#111 with value: 0.64.\u001b[0m\n",
      "\u001b[32m[I 2020-05-30 13:07:52,886]\u001b[0m Finished trial#190 with value: 0.6365 with parameters: {'q': 0.0002531206849602708, 'sigma': 0.11736184224094794, 'kenel': 7, 'lam': 4.478717603640677e-05, 'd': 3, 'c': 4, 'degree': 9}. Best is trial#111 with value: 0.64.\u001b[0m\n",
      "\u001b[32m[I 2020-05-30 13:07:55,014]\u001b[0m Finished trial#191 with value: 0.633 with parameters: {'q': 0.00021356170601563644, 'sigma': 6.817456413747627, 'kenel': 6, 'lam': 0.0001945085925515047, 'd': 7, 'c': 5, 'degree': 8}. Best is trial#111 with value: 0.64.\u001b[0m\n",
      "\u001b[32m[I 2020-05-30 13:07:57,143]\u001b[0m Finished trial#192 with value: 0.6345000000000001 with parameters: {'q': 0.0001088676534271788, 'sigma': 0.49976919332645187, 'kenel': 7, 'lam': 0.0009923172321138528, 'd': 3, 'c': 4, 'degree': 8}. Best is trial#111 with value: 0.64.\u001b[0m\n",
      "\u001b[32m[I 2020-05-30 13:07:59,301]\u001b[0m Finished trial#193 with value: 0.634 with parameters: {'q': 0.0003602355074708486, 'sigma': 0.3218783935069366, 'kenel': 7, 'lam': 8.465572401237143e-09, 'd': 4, 'c': 4, 'degree': 5}. Best is trial#111 with value: 0.64.\u001b[0m\n",
      "\u001b[32m[I 2020-05-30 13:08:01,502]\u001b[0m Finished trial#194 with value: 0.635 with parameters: {'q': 0.00020485650178769587, 'sigma': 0.12410956533458943, 'kenel': 7, 'lam': 9.3288908410788e-05, 'd': 4, 'c': 4, 'degree': 9}. Best is trial#111 with value: 0.64.\u001b[0m\n"
     ]
    }
   ],
   "source": [
    "# from kernels.basic import RBF, Linear, Polynomial\n",
    "# from kernels.regular import Exponential, Laplacian, RationalQuadratic, \\\n",
    "#                             InverseMultiquadratic, Cauchy, TStudent, ANOVA, Fourier, Tanimoto, Sorensen\n",
    "\n",
    "def objective_sgd(trial):\n",
    "    \n",
    "    q  = trial.suggest_loguniform('q', 1e-5, 1e+0)\n",
    "    \n",
    "    sigma  = trial.suggest_loguniform('sigma', 1e-1, 9e+0) # trial.suggest_float('sigma', 1e-5, 1e-3, log=True)\n",
    "    \n",
    "    kenel = trial.suggest_categorical('kenel', [0, 1, 2, 3, 4, 5, 6, 7, 8, 9])#[Exponential, Laplacian, RationalQuadratic, InverseMultiquadratic, \\\n",
    "                                               #Cauchy, TStudent, ANOVA, Fourier, Tanimoto, Sorensen])\n",
    "    \n",
    "    lam = trial.suggest_loguniform('lam', 1e-15, 1e-0)\n",
    "    \n",
    "    d = trial.suggest_int('d', 2, 15)\n",
    "    c = trial.suggest_int('c', 1, 10)\n",
    "    \n",
    "    degree = trial.suggest_int('degree', 2, 10)\n",
    "    \n",
    "    # trick to avoid warnning from opma that support only basic datatype\n",
    "    trick_list = [Exponential, Laplacian, RationalQuadratic, InverseMultiquadratic, \\\n",
    "                        Cauchy, TStudent, ANOVA, Fourier, Tanimoto, Sorensen]\n",
    "    \n",
    "#     tol = trial.suggest_loguniform('tol', 1e-7, 1e-0)\n",
    "\n",
    "#     sigma=10, d=2, rbf=1.0, poly=1.0\n",
    "    \n",
    "#     lr  = trial.suggest_loguniform('lr', 2e-5, 1e-1)\n",
    "    \n",
    "#     normalise = trial.suggest_categorical('normalise', [False , True])\n",
    "    \n",
    "#     rbf = trial.suggest_loguniform('rbf', 1e-3, 3e+0)\n",
    "    \n",
    "#     poly = trial.suggest_loguniform('poly', 1e-3, 3e+0)\n",
    "    \n",
    "    \n",
    "#     model = trial.suggest_categorical('models', [ksolveRR , ksolveRR_2, ksolveLRR, KernelSVM])\n",
    "    \n",
    "    # ksolveRR (self, X, y, lam= 0.0001, sigma=0.5, kernel=rbf_kernel)\n",
    "    # ksolveRR_2 (self, X, y, lam= 0.0001, sigma=0.5, sample_weights = None, kernel = rbf_kernel\n",
    "    # ksolveLRR (self, X, y, lam = 0.1, sigma = 4, max_iter=100, tol=1e-5, kernel=rbf_kernel\n",
    "    # KernelSVM (self, X, y, C=0.1, lam = 0.1, sigma = 4, tol = 1e-1, kernel=rbf_kernel\n",
    "    \n",
    "#     models = {ksolveRR : 'k Ridge Reg', ksolveRR_2: 'weigh Ridge Reg', \\\n",
    "#               ksolveLRR: 'k Logistic Ridge Reg', KernelSVM : 'Kernal SVM', LogisticRegressionBinary: 'log reg'} \n",
    "#     \n",
    "    kernels = {Exponential : 'Exponential kernel (self, sigma=None)',\n",
    "               Laplacian : 'Laplacian kernel (self, sigma=None)',\n",
    "               Cauchy : 'Cauchy kernel (self, sigma=None)',\n",
    "               \n",
    "               RationalQuadratic : 'Rational quadratic kernel (self, c=1)',\n",
    "               InverseMultiquadratic : 'Inverse multiquadratic kernel (self, c=1)',\n",
    "               \n",
    "               TStudent : 'T-Student kernel (self, degree=2)',\n",
    "               \n",
    "               ANOVA : 'ANOVA kernel (self, sigma=1., d=2)',\n",
    "               \n",
    "               Fourier : 'Fourier kernel (self, q=0.1)',\n",
    "               \n",
    "               Tanimoto : 'Tanimoto kernel',\n",
    "               Sorensen : 'Sorensen kernel'\n",
    "              }\n",
    "    \n",
    "    if kernels[trick_list[kenel]] == 'ANOVA kernel (self, sigma=sigma, d=d)':\n",
    "        kenel = trick_list[kenel](sigma=sigma, d=d)\n",
    "        \n",
    "    elif kernels[trick_list[kenel]] == 'Exponential kernel (self, sigma=None)' or \\\n",
    "                        kernels[trick_list[kenel]] == 'Laplacian kernel (self, sigma=None)' or \\\n",
    "                        kernels[trick_list[kenel]] == 'Cauchy kernel (self, sigma=None)':\n",
    "        kenel = trick_list[kenel](sigma=sigma)\n",
    "        \n",
    "    elif kernels[trick_list[kenel]] == 'Rational quadratic kernel (self, c=1)' or \\\n",
    "                        kernels[trick_list[kenel]] == 'Inverse multiquadratic kernel (self, c=1)':\n",
    "        kenel = trick_list[kenel](c=c)\n",
    "        \n",
    "    elif kernels[trick_list[kenel]] == 'T-Student kernel (self, degree=2)':\n",
    "        kenel = trick_list[kenel](degree=degree)\n",
    "        \n",
    "    elif kernels[trick_list[kenel]] == 'Fourier kernel (self, q=0.1)':\n",
    "        kenel = trick_list[kenel](q=q)\n",
    "        \n",
    "    else:\n",
    "        kenel = trick_list[kenel]()\n",
    "        \n",
    "    \n",
    "    n = 1\n",
    "    \n",
    "    models = {ksolveRR : 'k Ridge Reg'} \n",
    "      \n",
    "#     accuracy = []\n",
    "#     for model in models:\n",
    "#     ipdb.set_trace()\n",
    "    \n",
    "\n",
    "    X_cross, y_cross, X_t_enc = spectrum_kernal(X_train_, Y_train_, X_test_, n=n, encoder=8, one_hot = True, normalise = False)\n",
    "    \n",
    "    for model in models:\n",
    "        accuracy = []\n",
    "        for i, (train_index, validate_index) in enumerate(kfold.split(X_cross)):\n",
    "            X_train, y_train = X_cross[train_index], y_cross[train_index]\n",
    "            X_valid, y_valid = X_cross[validate_index], y_cross[validate_index]\n",
    "\n",
    "    #             ipdb.set_trace()\n",
    "            if models[model] == 'weigh Ridge Reg':\n",
    "                sample_weights = np.random.rand(len(y_train))\n",
    "                model_curr = model(X_train, y_train, lam = lam, sigma = sigma, sample_weights = sample_weights, kernel = kenel)\n",
    "\n",
    "            elif models[model] == 'k Logistic Ridge Reg':\n",
    "                model_curr = model(X_train, y_train, lam = lam, sigma = sigma, max_iter=100, tol = tol, kernel = kenel)\n",
    "            elif models[model] == 'k Ridge Reg':\n",
    "#                 model_curr = model(X_train, y_train, lam= lam, sigma = sigma, d=d, rbf=rbf, poly=poly, kernel=rbf_kernel)\n",
    "                \n",
    "                model_curr = model(X_train, y_train, lam= lam, kernel=rbf_kernel)\n",
    "            elif models[model] == 'log reg':\n",
    "                model_curr = model(lr=lr, num_iter=5000, batch_size=1)\n",
    "            else:\n",
    "                model_curr = model(X_train, y_train, C=c, lam = lam, sigma = sigma, tol= tol, kernel = kenel)\n",
    "                \n",
    "            if models[model] == 'log reg':\n",
    "                model_curr.fit(X_train, y_train)\n",
    "            else:\n",
    "                model_curr.fit()\n",
    "            \n",
    "\n",
    "            accuracy.append(model_curr.Accuracy_check(X_valid, y_valid, threshold=0.5))\n",
    "                \n",
    "    #       print(f'accurracy fold {i}: {accuracy[i]}')\n",
    "\n",
    "    #         print(f'\\nAverage accuracy {models[model]} is : {np.mean(accuracy)}\\n')\n",
    "\n",
    "    return np.mean(accuracy)\n",
    "\n",
    "sampler = optuna.samplers.TPESampler()\n",
    "\n",
    "study = optuna.create_study(sampler=sampler, direction='maximize')\n",
    "study.optimize(func=objective_sgd, n_trials=1500, show_progress_bar=True)\n",
    "\n",
    "\n",
    "trial = study.best_trial\n",
    "\n",
    "print('Accuracy: {}'.format(trial.value))\n",
    "print(\"Best hyperparameters: {}\".format(trial.params))"
   ]
  },
  {
   "cell_type": "code",
   "execution_count": 44,
   "metadata": {},
   "outputs": [
    {
     "name": "stdout",
     "output_type": "stream",
     "text": [
      "Accuracy: 0.657\n",
      "Best hyperparameters: {'sigma': 3.9997730778324994, 'lam': 1.9185820060536564e-15}\n",
      "time: 1.71 ms\n"
     ]
    }
   ],
   "source": [
    "print('Accuracy: {}'.format(trial.value))\n",
    "print(\"Best hyperparameters: {}\".format(trial.params))"
   ]
  },
  {
   "cell_type": "code",
   "execution_count": null,
   "metadata": {},
   "outputs": [],
   "source": []
  },
  {
   "cell_type": "code",
   "execution_count": null,
   "metadata": {},
   "outputs": [],
   "source": [
    "def objective_sgd(trial):\n",
    "#     c  = trial.suggest_loguniform('c', 1e-20, 2e1)\n",
    "    sigma  = trial.suggest_float('sigma', 1e-25, 25) # trial.suggest_float('sigma', 1e-5, 1e-3, log=True)\n",
    "#     kenel = trial.suggest_categorical('kenel', [rbf_kernel, quadratic_kernel])\n",
    "    lam = trial.suggest_float('lam', 1e-30, 1e-0)\n",
    "    tol = trial.suggest_loguniform('tol', 1e-10, 1e-0)\n",
    "    \n",
    "    # ksolveRR (self, X, y, lam= 0.0001, sigma=0.5, kernel=rbf_kernel)\n",
    "    # ksolveRR_2 (self, X, y, lam= 0.0001, sigma=0.5, sample_weights = None, kernel = rbf_kernel\n",
    "    # ksolveLRR (self, X, y, lam = 0.1, sigma = 4, max_iter=100, tol=1e-5, kernel=rbf_kernel\n",
    "    # KernelSVM (self, X, y, C=0.1, lam = 0.1, sigma = 4, tol = 1e-1, kernel=rbf_kernel\n",
    "    \n",
    "#     models = {ksolveRR : 'k Ridge Reg', ksolveRR_2: 'weigh Ridge Reg', \\\n",
    "#               ksolveLRR: 'k Logistic Ridge Reg', KernelSVM : 'Kernal SVM'} \n",
    "#     \n",
    "    kenel = rbf_kernel\n",
    "    models = {ksolveRR : 'k Ridge Reg} \n",
    "      \n",
    "#     accuracy = []\n",
    "    for model in models:\n",
    "        accuracy = []\n",
    "        for i, (train_index, validate_index) in enumerate(kfold.split(X_cross)):\n",
    "            X_train, y_train = X_cross[train_index], y_cross[train_index]\n",
    "            X_valid, y_valid = X_cross[validate_index], y_cross[validate_index]\n",
    "            \n",
    "            \n",
    "#             ipdb.set_trace()\n",
    "            if models[model] == 'weigh Ridge Reg':\n",
    "                sample_weights = np.random.rand(len(y_train))\n",
    "                model_curr = model(X_train, y_train, lam = lam, sigma = sigma, sample_weights = sample_weights, kernel = kenel)\n",
    "                \n",
    "            elif models[model] == 'k Logistic Ridge Reg':\n",
    "                model_curr = model(X_train, y_train, lam = lam, sigma = sigma, max_iter=500, tol = tol, kernel = kenel)\n",
    "            elif models[model] == 'k Ridge Reg':\n",
    "                model_curr = model(X_train, y_train, lam = lam, sigma = sigma, kernel = kenel)\n",
    "            else:\n",
    "                model_curr = model(X_train, y_train, C=c, lam = lam, sigma = sigma, tol= tol, kernel = kenel)\n",
    "            \n",
    "            model_curr.fit()\n",
    "            accuracy.append(model_curr.Accuracy_check(X_valid, y_valid, threshold=0.5))\n",
    "#             print(f'accurracy fold {i}: {accuracy[i]}')\n",
    "        \n",
    "#         print(f'\\nAverage accuracy {models[model]} is : {np.mean(accuracy)}\\n')\n",
    "\n",
    "    return np.mean(accuracy)\n",
    "\n",
    "sampler = optuna.samplers.TPESampler()\n",
    "\n",
    "study = optuna.create_study(sampler=sampler, direction='maximize')\n",
    "study.optimize(func=objective_sgd, n_trials=5500,show_progress_bar=True)\n",
    "\n",
    "\n",
    "trial = study.best_trial\n",
    "\n",
    "print('Accuracy: {}'.format(trial.value))\n",
    "print(\"Best hyperparameters: {}\".format(trial.params))"
   ]
  },
  {
   "cell_type": "code",
   "execution_count": null,
   "metadata": {},
   "outputs": [],
   "source": [
    "# Accuracy: 0.7025 (overfitting on accuracy 4)\n",
    "# Best hyperparameters: {'sigma': 4.133127895830191, 'lam': 6.196055115305764e-14}"
   ]
  },
  {
   "cell_type": "code",
   "execution_count": null,
   "metadata": {},
   "outputs": [],
   "source": [
    "# Augmented data\n",
    "\n",
    "# sigma  = trial.suggest_loguniform('sigma', 1e-20, 20)\n",
    "# lam = trial.suggest_loguniform('lam', 1e-20, 1e-1)\n",
    "\n",
    "# models = {ksolveRR: 'k Ridge Reg'} (Augmented data)\n",
    "    # kenel = quadratic_kernel\n",
    "    # Accuracy: 0.6555\n",
    "    # Best hyperparameters: {'sigma': 4.065620491225982, 'lam': 0.013374107290659768}\n",
    "    # time: 49min 21s\n",
    "    #----\n",
    "    # kenel = rbf_kernel\n",
    "    # Accuracy: 0.6575 # 0.6575000000000001\n",
    "    # Best hyperparameters: {'sigma': 4.119788517147901, 'lam': 1.2752298700618223e-14}, {'sigma': 4.063158315715049, 'lam': 8.30834772639223e-05}\n",
    "    # time: 32min 57s\n",
    "    \n",
    "    # ------\n",
    "    # kenel = rbf_kernel\n",
    "    # Accuracy: 0.6595000000000001\n",
    "    # Best hyperparameters: {'sigma': 4.1032895001889464, 'lam': 0.00014526367793975609}\n",
    "    # time: --\n",
    "\n",
    "    \n",
    "# sigma  = trial.suggest_loguniform('sigma', 1e-3, 20)\n",
    "# lam = trial.suggest_loguniform('lam', 1e-15, 1e-0)\n",
    "\n",
    "# models = {ksolveRR: 'k Ridge Reg'} (Non-Augmented data)\n",
    "    # kenel = quadratic_kernel\n",
    "    # Accuracy: 0.6555\n",
    "    # Best hyperparameters: {'sigma': 4.069738272304652, 'lam': 0.053817561640154984}\n",
    "    # time: 48min 12s\n",
    "    #----\n",
    "    # kenel = rbf_kernel\n",
    "    # Accuracy: 0.6575000000000001\n",
    "    # Best hyperparameters: {'sigma': 4.001185698777986, 'lam': 1.9770379950513775e-10}\n",
    "    # time: 29min 58s\n",
    "    \n",
    "\n",
    "# Accuracy: 0.6605000000000001\n",
    "# Best hyperparameters: {'sigma': 4.538118805230398, 'lam': 8.583924705371449e-15}\n",
    "# time: 1.32 ms\n",
    "\n",
    "# Original data\n",
    "\n",
    "# sigma  = trial.suggest_loguniform('sigma', 1e-3, 20)\n",
    "# lam = trial.suggest_loguniform('lam', 1e-15, 1e-0)\n",
    "  \n",
    "# models = {ksolveRR: 'k Ridge Reg'} (Non-Augmented data standardize)\n",
    "    # kenel = rbf_kernel\n",
    "    # Accuracy: 0.612\n",
    "    # Best hyperparameters: {'sigma': 2.8925324917718167, 'lam': 1.2575244169567934e-08}\n",
    "    # time: 28min 33s \n",
    "    #----\n",
    "    # kenel = quadratic_kernel\n",
    "    # Accuracy: EROOR LinearAlg\n",
    "    # Best hyperparameters: \n",
    "    # time: "
   ]
  },
  {
   "cell_type": "code",
   "execution_count": null,
   "metadata": {},
   "outputs": [],
   "source": [
    "# {'sigma': 4.119788517147901, 'lam': 1.2752298700618223e-14}    # time: 32min 57s BEST(69.4)\n",
    "# ksolveRR_65_cv_0.00000000001_4.csv Second (69.2)\n"
   ]
  },
  {
   "cell_type": "code",
   "execution_count": 44,
   "metadata": {},
   "outputs": [
    {
     "data": {
      "text/plain": [
       "{'sigma': 4.001616944273439, 'lam': 4.873253388094652e-09}"
      ]
     },
     "execution_count": 44,
     "metadata": {},
     "output_type": "execute_result"
    },
    {
     "name": "stdout",
     "output_type": "stream",
     "text": [
      "time: 6.78 ms\n"
     ]
    }
   ],
   "source": [
    "trial.params"
   ]
  },
  {
   "cell_type": "code",
   "execution_count": 45,
   "metadata": {},
   "outputs": [
    {
     "name": "stdout",
     "output_type": "stream",
     "text": [
      "accurracy fold 0: 0.6075\n",
      "accurracy fold 1: 0.6575\n",
      "accurracy fold 2: 0.675\n",
      "accurracy fold 3: 0.65\n",
      "accurracy fold 4: 0.6975\n",
      "\n",
      "Average accuracy k Ridge Reg is : 0.6575000000000001\n",
      "\n",
      "time: 1.89 s\n"
     ]
    }
   ],
   "source": [
    "#     models = {ksolveRR : 'k Ridge Reg', ksolveRR_2: 'weigh Ridge Reg', \\\n",
    "#               ksolveLRR: 'k Logistic Ridge Reg', KernelSVM : 'Kernal SVM'\n",
    "\n",
    "# c  = \n",
    "\n",
    "trial.params\n",
    "sigma  = trial.params['sigma'] #4.133127895830191 #4#4.119788517147901 #4.538118805230398\n",
    "kenel = rbf_kernel\n",
    "lam = trial.params['lam'] #6.196055115305764e-14#0.00000000001#1.2752298700618223e-14#8.583924705371449e-15 8.583924705371449e-15 #\n",
    "# tol = \n",
    "    \n",
    "#     ksolveRR (self, X, y, lam= 0.0001, sigma=0.5, kernel=rbf_kernel)\n",
    "#     ksolveRR_2 (self, X, y, lam= 0.0001, sigma=0.5, sample_weights = None, kernel = rbf_kernel\n",
    "#     ksolveLRR (self, X, y, lam = 0.1, sigma = 4, max_iter=100, tol=1e-5, kernel=rbf_kernel\n",
    "#     KernelSVM (self, X, y, C=0.1, lam = 0.1, sigma = 4, tol = 1e-1, kernel=rbf_kernel\n",
    "\n",
    "X_train_ = pd.read_csv('./data/Xtr.csv', sep=',') #we use this dataset to train our model\n",
    "Y_train_ = pd.read_csv('./data/Ytr.csv', sep=',') #we use this dataset to train our model\n",
    "X_test_ = pd.read_csv('./data/Xte.csv', sep=',')\n",
    "\n",
    "X_cross, y_cross, X_t_enc = spectrum_kernal(X_train_, Y_train_, X_test_, n=1, encoder=8, one_hot = True, normalise = False)\n",
    "\n",
    "    \n",
    "models = {ksolveRR : 'k Ridge Reg'}\n",
    "\n",
    "for model in models:\n",
    "    accuracy = []\n",
    "    for i, (train_index, validate_index) in enumerate(kfold.split(X_cross)):\n",
    "\n",
    "        X_train, y_train = X_cross[train_index], y_cross[train_index]\n",
    "        X_valid, y_valid = X_cross[validate_index], y_cross[validate_index]\n",
    "\n",
    "        if models[model] == 'weigh Ridge Reg':\n",
    "            sample_weights = np.random.rand(len(y_train))\n",
    "            model_curr = model(X_train, y_train, lam = lam, sigma = sigma, sample_weights = sample_weights, kernel = kenel)\n",
    "        elif models[model] == 'k Logistic Ridge Reg':\n",
    "            model_curr = model(X_train, y_train, lam = lam, sigma = sigma, max_iter=500, tol = tol, kernel = kenel)\n",
    "        \n",
    "        elif models[model] == 'k Ridge Reg':\n",
    "            model_curr = model(X_train, y_train, lam = lam, sigma = sigma, kernel = kenel)\n",
    "        else:\n",
    "            model_curr = model(X_train, y_train, C=c, lam = lam, sigma = sigma, tol= tol, kernel = kenel)\n",
    "            \n",
    "        model_curr.fit()\n",
    "\n",
    "        accuracy.append(model_curr.Accuracy_check(X_valid, y_valid, threshold=0.5))\n",
    "        print(f'accurracy fold {i}: {accuracy[i]}')\n",
    "    \n",
    "    print(f'\\nAverage accuracy {models[model]} is : {np.mean(accuracy)}\\n')"
   ]
  },
  {
   "cell_type": "code",
   "execution_count": 56,
   "metadata": {},
   "outputs": [
    {
     "name": "stdout",
     "output_type": "stream",
     "text": [
      "time: 525 µs\n"
     ]
    }
   ],
   "source": [
    "# 0.6535 = 0.68800\n",
    "# 0.657 = 0.69200"
   ]
  },
  {
   "cell_type": "code",
   "execution_count": 74,
   "metadata": {},
   "outputs": [
    {
     "data": {
      "text/plain": [
       "1.0"
      ]
     },
     "execution_count": 74,
     "metadata": {},
     "output_type": "execute_result"
    },
    {
     "name": "stdout",
     "output_type": "stream",
     "text": [
      "time: 544 ms\n"
     ]
    }
   ],
   "source": [
    "# Cehckinf full model\n",
    "model = ksolveRR(X_cross, y_cross, lam = lam, sigma = sigma, kernel = kenel)\n",
    "# model = svm_primal_soft_to_qp(X_cross, y_cross, C=1)\n",
    "\n",
    "model.fit()\n",
    "\n",
    "model.Accuracy_check(X_cross, y_cross, threshold=0.5)"
   ]
  },
  {
   "cell_type": "markdown",
   "metadata": {},
   "source": [
    "# Predictions"
   ]
  },
  {
   "cell_type": "code",
   "execution_count": 75,
   "metadata": {},
   "outputs": [
    {
     "name": "stdout",
     "output_type": "stream",
     "text": [
      "time: 443 ms\n"
     ]
    }
   ],
   "source": [
    "model = ksolveRR(X_cross, y_cross, lam = lam, sigma = sigma, kernel = kenel)\n",
    "model.fit()\n",
    "y_pred = model.predict(X_t_enc, 0.5)"
   ]
  },
  {
   "cell_type": "code",
   "execution_count": 76,
   "metadata": {},
   "outputs": [
    {
     "data": {
      "text/html": [
       "<div>\n",
       "<style scoped>\n",
       "    .dataframe tbody tr th:only-of-type {\n",
       "        vertical-align: middle;\n",
       "    }\n",
       "\n",
       "    .dataframe tbody tr th {\n",
       "        vertical-align: top;\n",
       "    }\n",
       "\n",
       "    .dataframe thead th {\n",
       "        text-align: right;\n",
       "    }\n",
       "</style>\n",
       "<table border=\"1\" class=\"dataframe\">\n",
       "  <thead>\n",
       "    <tr style=\"text-align: right;\">\n",
       "      <th></th>\n",
       "      <th>Id</th>\n",
       "    </tr>\n",
       "  </thead>\n",
       "  <tbody>\n",
       "    <tr>\n",
       "      <th>0</th>\n",
       "      <td>0</td>\n",
       "    </tr>\n",
       "    <tr>\n",
       "      <th>1</th>\n",
       "      <td>1</td>\n",
       "    </tr>\n",
       "    <tr>\n",
       "      <th>2</th>\n",
       "      <td>2</td>\n",
       "    </tr>\n",
       "    <tr>\n",
       "      <th>3</th>\n",
       "      <td>3</td>\n",
       "    </tr>\n",
       "    <tr>\n",
       "      <th>4</th>\n",
       "      <td>4</td>\n",
       "    </tr>\n",
       "  </tbody>\n",
       "</table>\n",
       "</div>"
      ],
      "text/plain": [
       "   Id\n",
       "0   0\n",
       "1   1\n",
       "2   2\n",
       "3   3\n",
       "4   4"
      ]
     },
     "execution_count": 76,
     "metadata": {},
     "output_type": "execute_result"
    },
    {
     "name": "stdout",
     "output_type": "stream",
     "text": [
      "time: 9.91 ms\n"
     ]
    }
   ],
   "source": [
    "X = np.arange(1000).reshape(-1, 1)\n",
    "sample = pd.DataFrame(data=X, columns=['Id'])\n",
    "sample.head()"
   ]
  },
  {
   "cell_type": "code",
   "execution_count": 77,
   "metadata": {},
   "outputs": [
    {
     "name": "stdout",
     "output_type": "stream",
     "text": [
      "time: 1.85 ms\n"
     ]
    }
   ],
   "source": [
    "sample['Bound'] = y_pred"
   ]
  },
  {
   "cell_type": "code",
   "execution_count": 78,
   "metadata": {},
   "outputs": [
    {
     "data": {
      "text/html": [
       "<div>\n",
       "<style scoped>\n",
       "    .dataframe tbody tr th:only-of-type {\n",
       "        vertical-align: middle;\n",
       "    }\n",
       "\n",
       "    .dataframe tbody tr th {\n",
       "        vertical-align: top;\n",
       "    }\n",
       "\n",
       "    .dataframe thead th {\n",
       "        text-align: right;\n",
       "    }\n",
       "</style>\n",
       "<table border=\"1\" class=\"dataframe\">\n",
       "  <thead>\n",
       "    <tr style=\"text-align: right;\">\n",
       "      <th></th>\n",
       "      <th>Id</th>\n",
       "      <th>Bound</th>\n",
       "    </tr>\n",
       "  </thead>\n",
       "  <tbody>\n",
       "    <tr>\n",
       "      <th>995</th>\n",
       "      <td>995</td>\n",
       "      <td>0</td>\n",
       "    </tr>\n",
       "    <tr>\n",
       "      <th>996</th>\n",
       "      <td>996</td>\n",
       "      <td>0</td>\n",
       "    </tr>\n",
       "    <tr>\n",
       "      <th>997</th>\n",
       "      <td>997</td>\n",
       "      <td>1</td>\n",
       "    </tr>\n",
       "    <tr>\n",
       "      <th>998</th>\n",
       "      <td>998</td>\n",
       "      <td>1</td>\n",
       "    </tr>\n",
       "    <tr>\n",
       "      <th>999</th>\n",
       "      <td>999</td>\n",
       "      <td>1</td>\n",
       "    </tr>\n",
       "  </tbody>\n",
       "</table>\n",
       "</div>"
      ],
      "text/plain": [
       "      Id  Bound\n",
       "995  995      0\n",
       "996  996      0\n",
       "997  997      1\n",
       "998  998      1\n",
       "999  999      1"
      ]
     },
     "execution_count": 78,
     "metadata": {},
     "output_type": "execute_result"
    },
    {
     "name": "stdout",
     "output_type": "stream",
     "text": [
      "time: 9.87 ms\n"
     ]
    }
   ],
   "source": [
    "sample.tail()"
   ]
  },
  {
   "cell_type": "code",
   "execution_count": 79,
   "metadata": {},
   "outputs": [
    {
     "name": "stdout",
     "output_type": "stream",
     "text": [
      "time: 3.99 ms\n"
     ]
    }
   ],
   "source": [
    "sample.to_csv('./ksolveRR_0.6625000000000001_cv_rbf_kernel_sigma_'+str(sigma)+'_lam_'+str(lam)+'.csv', index=False)"
   ]
  },
  {
   "cell_type": "code",
   "execution_count": null,
   "metadata": {},
   "outputs": [],
   "source": []
  }
 ],
 "metadata": {
  "kernelspec": {
   "display_name": "Python 3",
   "language": "python",
   "name": "python3"
  },
  "language_info": {
   "codemirror_mode": {
    "name": "ipython",
    "version": 3
   },
   "file_extension": ".py",
   "mimetype": "text/x-python",
   "name": "python",
   "nbconvert_exporter": "python",
   "pygments_lexer": "ipython3",
   "version": "3.6.9"
  }
 },
 "nbformat": 4,
 "nbformat_minor": 4
}
