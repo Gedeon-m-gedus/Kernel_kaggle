{
 "cells": [
  {
   "cell_type": "code",
   "execution_count": 1,
   "metadata": {
    "_cell_guid": "b1076dfc-b9ad-4769-8c92-a6c4dae69d19",
    "_uuid": "8f2839f25d086af736a60e9eeb907d3b93b6e0e5"
   },
   "outputs": [],
   "source": [
    "# This Python 3 environment comes with many helpful analytics libraries installed\n",
    "# It is defined by the kaggle/python Docker image: https://github.com/kaggle/docker-python\n",
    "# For example, here's several helpful packages to load\n",
    "\n",
    "import numpy as np # linear algebra\n",
    "import pandas as pd # data processing, CSV file I/O (e.g. pd.read_csv)\n",
    "\n",
    "# Input data files are available in the read-only \"../input/\" directory\n",
    "# For example, running this (by clicking run or pressing Shift+Enter) will list all files under the input directory\n",
    "\n",
    "# import os\n",
    "# for dirname, _, filenames in os.walk('/kaggle/input'):\n",
    "#     for filename in filenames:\n",
    "#         print(os.path.join(dirname, filename))\n",
    "\n",
    "# You can write up to 5GB to the current directory (/kaggle/working/) that gets preserved as output when you create a version using \"Save & Run All\" \n",
    "# You can also write temporary files to /kaggle/temp/, but they won't be saved outside of the current session"
   ]
  },
  {
   "cell_type": "code",
   "execution_count": 2,
   "metadata": {
    "_cell_guid": "79c7e3d0-c299-4dcb-8224-4455121ee9b0",
    "_uuid": "d629ff2d2480ee46fbb7e2d37f6b5fab8052498a"
   },
   "outputs": [],
   "source": [
    "import pandas as pd\n",
    "import seaborn as sns\n",
    "import numpy as np\n",
    "import matplotlib.pyplot as plt"
   ]
  },
  {
   "cell_type": "code",
<<<<<<< HEAD:GENE CLASSIFICATION_Salomon.ipynb
   "execution_count": 604,
||||||| merged common ancestors:GENE CLASSIFICATION.ipynb
   "execution_count": 307,
=======
   "execution_count": 3,
>>>>>>> 4336c50ed242c8c3907077803d996e022c6ed339:GENE CLASSIFICATION.ipynb
   "metadata": {},
   "outputs": [],
   "source": [
    "X_train=pd.read_csv('./data/Xtr.csv', sep=',') #we use this dataset to train our model\n",
    "Y_train=pd.read_csv('./data/Ytr.csv', sep=',') #we use this dataset to train our model\n",
    "X_test=pd.read_csv('./data/Xte.csv', sep=',') #we will use this data set later to validate our model\n",
    "\n",
    "X_train_mat=pd.read_csv('./data/Xtr_mat100.csv', sep=',') #we use this dataset to train our model\n",
    "X_test_mat=pd.read_csv('./data/Xte_mat100.csv', sep=',') #we will use this data set later to validate our model"
   ]
  },
  {
   "cell_type": "code",
<<<<<<< HEAD:GENE CLASSIFICATION_Salomon.ipynb
   "execution_count": 605,
||||||| merged common ancestors:GENE CLASSIFICATION.ipynb
   "execution_count": 308,
=======
   "execution_count": 4,
>>>>>>> 4336c50ed242c8c3907077803d996e022c6ed339:GENE CLASSIFICATION.ipynb
   "metadata": {},
   "outputs": [],
   "source": [
    "# X_train=pd.read_csv('/kaggle/input/kernel-methods-ammi-2020/Xtr.csv', sep=',') #we use this dataset to train our model\n",
    "# Y_train=pd.read_csv('/kaggle/input/kernel-methods-ammi-2020/Ytr.csv', sep=',') #we use this dataset to train our model\n",
    "# X_test=pd.read_csv('/kaggle/input/kernel-methods-ammi-2020/Xte.csv', sep=',') #we will use this data set later to validate our model"
   ]
  },
  {
   "cell_type": "code",
<<<<<<< HEAD:GENE CLASSIFICATION_Salomon.ipynb
   "execution_count": 606,
||||||| merged common ancestors:GENE CLASSIFICATION.ipynb
   "execution_count": 309,
=======
   "execution_count": 5,
>>>>>>> 4336c50ed242c8c3907077803d996e022c6ed339:GENE CLASSIFICATION.ipynb
   "metadata": {},
   "outputs": [
    {
     "data": {
      "text/html": [
       "<div>\n",
       "<style scoped>\n",
       "    .dataframe tbody tr th:only-of-type {\n",
       "        vertical-align: middle;\n",
       "    }\n",
       "\n",
       "    .dataframe tbody tr th {\n",
       "        vertical-align: top;\n",
       "    }\n",
       "\n",
       "    .dataframe thead th {\n",
       "        text-align: right;\n",
       "    }\n",
       "</style>\n",
       "<table border=\"1\" class=\"dataframe\">\n",
       "  <thead>\n",
       "    <tr style=\"text-align: right;\">\n",
       "      <th></th>\n",
       "      <th>Id</th>\n",
       "      <th>seq</th>\n",
       "    </tr>\n",
       "  </thead>\n",
       "  <tbody>\n",
       "    <tr>\n",
       "      <th>1995</th>\n",
       "      <td>1995</td>\n",
       "      <td>TAACTTTTGACAGGTCAGAATACAAAACTGATTTATTTACAGTGTC...</td>\n",
       "    </tr>\n",
       "    <tr>\n",
       "      <th>1996</th>\n",
       "      <td>1996</td>\n",
       "      <td>ACGCCCATTCCGCCCTGCTAAGCCTCGCCCATTACATCCAGACTGC...</td>\n",
       "    </tr>\n",
       "    <tr>\n",
       "      <th>1997</th>\n",
       "      <td>1997</td>\n",
       "      <td>TGGCTACTAGCTAGAGATAGCATCTCTCTGTGGACAACTCTCCAGC...</td>\n",
       "    </tr>\n",
       "    <tr>\n",
       "      <th>1998</th>\n",
       "      <td>1998</td>\n",
       "      <td>CCCAGCTGTCAAAAAGCAGCCCAAAGGAAGCTCACGGTGTGCCGGC...</td>\n",
       "    </tr>\n",
       "    <tr>\n",
       "      <th>1999</th>\n",
       "      <td>1999</td>\n",
       "      <td>TGCTAGTTGATGAAACAATAACTGCTAAAAGGTATACAGCCATGTC...</td>\n",
       "    </tr>\n",
       "  </tbody>\n",
       "</table>\n",
       "</div>"
      ],
      "text/plain": [
       "        Id                                                seq\n",
       "1995  1995  TAACTTTTGACAGGTCAGAATACAAAACTGATTTATTTACAGTGTC...\n",
       "1996  1996  ACGCCCATTCCGCCCTGCTAAGCCTCGCCCATTACATCCAGACTGC...\n",
       "1997  1997  TGGCTACTAGCTAGAGATAGCATCTCTCTGTGGACAACTCTCCAGC...\n",
       "1998  1998  CCCAGCTGTCAAAAAGCAGCCCAAAGGAAGCTCACGGTGTGCCGGC...\n",
       "1999  1999  TGCTAGTTGATGAAACAATAACTGCTAAAAGGTATACAGCCATGTC..."
      ]
     },
<<<<<<< HEAD:GENE CLASSIFICATION_Salomon.ipynb
     "execution_count": 606,
||||||| merged common ancestors:GENE CLASSIFICATION.ipynb
     "execution_count": 309,
=======
     "execution_count": 5,
>>>>>>> 4336c50ed242c8c3907077803d996e022c6ed339:GENE CLASSIFICATION.ipynb
     "metadata": {},
     "output_type": "execute_result"
    }
   ],
   "source": [
    "X_train.tail()"
   ]
  },
  {
   "cell_type": "code",
<<<<<<< HEAD:GENE CLASSIFICATION_Salomon.ipynb
   "execution_count": 607,
||||||| merged common ancestors:GENE CLASSIFICATION.ipynb
   "execution_count": 310,
=======
   "execution_count": 6,
>>>>>>> 4336c50ed242c8c3907077803d996e022c6ed339:GENE CLASSIFICATION.ipynb
   "metadata": {},
   "outputs": [
    {
     "name": "stdout",
     "output_type": "stream",
     "text": [
      "The shape of the X_train dataset is: (2000, 2)\n",
      "The shape of the Y_train dataset is: (2000, 2)\n"
     ]
    }
   ],
   "source": [
    "print('The shape of the X_train dataset is:',X_train.shape)\n",
    "print('The shape of the Y_train dataset is:',Y_train.shape)"
   ]
  },
  {
   "cell_type": "code",
<<<<<<< HEAD:GENE CLASSIFICATION_Salomon.ipynb
   "execution_count": 608,
||||||| merged common ancestors:GENE CLASSIFICATION.ipynb
   "execution_count": 311,
=======
   "execution_count": 7,
>>>>>>> 4336c50ed242c8c3907077803d996e022c6ed339:GENE CLASSIFICATION.ipynb
   "metadata": {},
   "outputs": [],
   "source": [
    "# X_train['len'] = X_train.seq.apply(lambda x : len(x))"
   ]
  },
  {
   "cell_type": "code",
<<<<<<< HEAD:GENE CLASSIFICATION_Salomon.ipynb
   "execution_count": 609,
||||||| merged common ancestors:GENE CLASSIFICATION.ipynb
   "execution_count": 312,
=======
   "execution_count": 8,
>>>>>>> 4336c50ed242c8c3907077803d996e022c6ed339:GENE CLASSIFICATION.ipynb
   "metadata": {},
   "outputs": [
    {
     "data": {
      "text/html": [
       "<div>\n",
       "<style scoped>\n",
       "    .dataframe tbody tr th:only-of-type {\n",
       "        vertical-align: middle;\n",
       "    }\n",
       "\n",
       "    .dataframe tbody tr th {\n",
       "        vertical-align: top;\n",
       "    }\n",
       "\n",
       "    .dataframe thead th {\n",
       "        text-align: right;\n",
       "    }\n",
       "</style>\n",
       "<table border=\"1\" class=\"dataframe\">\n",
       "  <thead>\n",
       "    <tr style=\"text-align: right;\">\n",
       "      <th></th>\n",
       "      <th>Id</th>\n",
       "      <th>seq</th>\n",
       "    </tr>\n",
       "  </thead>\n",
       "  <tbody>\n",
       "    <tr>\n",
       "      <th>0</th>\n",
       "      <td>0</td>\n",
       "      <td>GAGGGGCTGGGGAGGGGGCTGGCCCAGAGGCACCAGACTCTGCAGA...</td>\n",
       "    </tr>\n",
       "    <tr>\n",
       "      <th>1</th>\n",
       "      <td>1</td>\n",
       "      <td>CGGCCTGGGGGCCACATGTGAGTGCTTACCTGTGTGGGGATGAGGG...</td>\n",
       "    </tr>\n",
       "    <tr>\n",
       "      <th>2</th>\n",
       "      <td>2</td>\n",
       "      <td>GACAACGCCGCTGTCAGCCGCCTTCGACTCACCTGGGAGGTGATGA...</td>\n",
       "    </tr>\n",
       "    <tr>\n",
       "      <th>3</th>\n",
       "      <td>3</td>\n",
       "      <td>GCCTCCCTTGGCACCACGGGAGACCAGTTTTGGAGGGGCGGGGCTG...</td>\n",
       "    </tr>\n",
       "    <tr>\n",
       "      <th>4</th>\n",
       "      <td>4</td>\n",
       "      <td>GCACTACTACACCCATTGCTGTAATAGTAAGTGCCGGTGCCTTCAC...</td>\n",
       "    </tr>\n",
       "  </tbody>\n",
       "</table>\n",
       "</div>"
      ],
      "text/plain": [
       "   Id                                                seq\n",
       "0   0  GAGGGGCTGGGGAGGGGGCTGGCCCAGAGGCACCAGACTCTGCAGA...\n",
       "1   1  CGGCCTGGGGGCCACATGTGAGTGCTTACCTGTGTGGGGATGAGGG...\n",
       "2   2  GACAACGCCGCTGTCAGCCGCCTTCGACTCACCTGGGAGGTGATGA...\n",
       "3   3  GCCTCCCTTGGCACCACGGGAGACCAGTTTTGGAGGGGCGGGGCTG...\n",
       "4   4  GCACTACTACACCCATTGCTGTAATAGTAAGTGCCGGTGCCTTCAC..."
      ]
     },
<<<<<<< HEAD:GENE CLASSIFICATION_Salomon.ipynb
     "execution_count": 609,
||||||| merged common ancestors:GENE CLASSIFICATION.ipynb
     "execution_count": 312,
=======
     "execution_count": 8,
>>>>>>> 4336c50ed242c8c3907077803d996e022c6ed339:GENE CLASSIFICATION.ipynb
     "metadata": {},
     "output_type": "execute_result"
    }
   ],
   "source": [
    "X_train.head()"
   ]
  },
  {
   "cell_type": "code",
<<<<<<< HEAD:GENE CLASSIFICATION_Salomon.ipynb
   "execution_count": 610,
||||||| merged common ancestors:GENE CLASSIFICATION.ipynb
   "execution_count": 313,
=======
   "execution_count": 9,
>>>>>>> 4336c50ed242c8c3907077803d996e022c6ed339:GENE CLASSIFICATION.ipynb
   "metadata": {},
   "outputs": [],
   "source": [
    "import string\n",
    "Alphabet_dict = dict(zip(string.ascii_uppercase, range(1,27)))"
   ]
  },
  {
   "cell_type": "code",
<<<<<<< HEAD:GENE CLASSIFICATION_Salomon.ipynb
   "execution_count": 611,
||||||| merged common ancestors:GENE CLASSIFICATION.ipynb
   "execution_count": 314,
=======
   "execution_count": 10,
>>>>>>> 4336c50ed242c8c3907077803d996e022c6ed339:GENE CLASSIFICATION.ipynb
   "metadata": {},
   "outputs": [],
   "source": [
    "#  X_train['seq_1'] = X_train.seq.apply(lambda x : (' '.join(map(str, list(x))))[0])\n",
    "for i in range(101):\n",
    "    X_train['seq_'+str(i)] = X_train.seq.apply(lambda x :Alphabet_dict[x[i]])\n",
    "    X_test['seq_'+str(i)] = X_test.seq.apply(lambda x :Alphabet_dict[x[i]])\n",
    "    \n",
    "#     X_train['seq_'+str(i)] = X_train.seq.apply(lambda x :x[i])\n",
    "#     X_test['seq_'+str(i)] = X_test.seq.apply(lambda x :x[i])\n",
    "\n"
   ]
  },
  {
   "cell_type": "code",
<<<<<<< HEAD:GENE CLASSIFICATION_Salomon.ipynb
   "execution_count": 612,
||||||| merged common ancestors:GENE CLASSIFICATION.ipynb
   "execution_count": 315,
=======
   "execution_count": 11,
>>>>>>> 4336c50ed242c8c3907077803d996e022c6ed339:GENE CLASSIFICATION.ipynb
   "metadata": {},
   "outputs": [
    {
     "data": {
      "text/html": [
       "<div>\n",
       "<style scoped>\n",
       "    .dataframe tbody tr th:only-of-type {\n",
       "        vertical-align: middle;\n",
       "    }\n",
       "\n",
       "    .dataframe tbody tr th {\n",
       "        vertical-align: top;\n",
       "    }\n",
       "\n",
       "    .dataframe thead th {\n",
       "        text-align: right;\n",
       "    }\n",
       "</style>\n",
       "<table border=\"1\" class=\"dataframe\">\n",
       "  <thead>\n",
       "    <tr style=\"text-align: right;\">\n",
       "      <th></th>\n",
       "      <th>Id</th>\n",
       "      <th>seq</th>\n",
       "      <th>seq_0</th>\n",
       "      <th>seq_1</th>\n",
       "      <th>seq_2</th>\n",
       "      <th>seq_3</th>\n",
       "      <th>seq_4</th>\n",
       "      <th>seq_5</th>\n",
       "      <th>seq_6</th>\n",
       "      <th>seq_7</th>\n",
       "      <th>...</th>\n",
       "      <th>seq_91</th>\n",
       "      <th>seq_92</th>\n",
       "      <th>seq_93</th>\n",
       "      <th>seq_94</th>\n",
       "      <th>seq_95</th>\n",
       "      <th>seq_96</th>\n",
       "      <th>seq_97</th>\n",
       "      <th>seq_98</th>\n",
       "      <th>seq_99</th>\n",
       "      <th>seq_100</th>\n",
       "    </tr>\n",
       "  </thead>\n",
       "  <tbody>\n",
       "    <tr>\n",
       "      <th>0</th>\n",
       "      <td>0</td>\n",
       "      <td>GAGGGGCTGGGGAGGGGGCTGGCCCAGAGGCACCAGACTCTGCAGA...</td>\n",
       "      <td>7</td>\n",
       "      <td>1</td>\n",
       "      <td>7</td>\n",
       "      <td>7</td>\n",
       "      <td>7</td>\n",
       "      <td>7</td>\n",
       "      <td>3</td>\n",
       "      <td>20</td>\n",
       "      <td>...</td>\n",
       "      <td>3</td>\n",
       "      <td>20</td>\n",
       "      <td>7</td>\n",
       "      <td>7</td>\n",
       "      <td>20</td>\n",
       "      <td>7</td>\n",
       "      <td>7</td>\n",
       "      <td>3</td>\n",
       "      <td>1</td>\n",
       "      <td>7</td>\n",
       "    </tr>\n",
       "    <tr>\n",
       "      <th>1</th>\n",
       "      <td>1</td>\n",
       "      <td>CGGCCTGGGGGCCACATGTGAGTGCTTACCTGTGTGGGGATGAGGG...</td>\n",
       "      <td>3</td>\n",
       "      <td>7</td>\n",
       "      <td>7</td>\n",
       "      <td>3</td>\n",
       "      <td>3</td>\n",
       "      <td>20</td>\n",
       "      <td>7</td>\n",
       "      <td>7</td>\n",
       "      <td>...</td>\n",
       "      <td>7</td>\n",
       "      <td>20</td>\n",
       "      <td>3</td>\n",
       "      <td>3</td>\n",
       "      <td>1</td>\n",
       "      <td>7</td>\n",
       "      <td>7</td>\n",
       "      <td>20</td>\n",
       "      <td>7</td>\n",
       "      <td>7</td>\n",
       "    </tr>\n",
       "    <tr>\n",
       "      <th>2</th>\n",
       "      <td>2</td>\n",
       "      <td>GACAACGCCGCTGTCAGCCGCCTTCGACTCACCTGGGAGGTGATGA...</td>\n",
       "      <td>7</td>\n",
       "      <td>1</td>\n",
       "      <td>3</td>\n",
       "      <td>1</td>\n",
       "      <td>1</td>\n",
       "      <td>3</td>\n",
       "      <td>7</td>\n",
       "      <td>3</td>\n",
       "      <td>...</td>\n",
       "      <td>3</td>\n",
       "      <td>7</td>\n",
       "      <td>1</td>\n",
       "      <td>1</td>\n",
       "      <td>7</td>\n",
       "      <td>20</td>\n",
       "      <td>7</td>\n",
       "      <td>3</td>\n",
       "      <td>7</td>\n",
       "      <td>20</td>\n",
       "    </tr>\n",
       "    <tr>\n",
       "      <th>3</th>\n",
       "      <td>3</td>\n",
       "      <td>GCCTCCCTTGGCACCACGGGAGACCAGTTTTGGAGGGGCGGGGCTG...</td>\n",
       "      <td>7</td>\n",
       "      <td>3</td>\n",
       "      <td>3</td>\n",
       "      <td>20</td>\n",
       "      <td>3</td>\n",
       "      <td>3</td>\n",
       "      <td>3</td>\n",
       "      <td>20</td>\n",
       "      <td>...</td>\n",
       "      <td>7</td>\n",
       "      <td>1</td>\n",
       "      <td>7</td>\n",
       "      <td>20</td>\n",
       "      <td>7</td>\n",
       "      <td>3</td>\n",
       "      <td>20</td>\n",
       "      <td>1</td>\n",
       "      <td>1</td>\n",
       "      <td>1</td>\n",
       "    </tr>\n",
       "    <tr>\n",
       "      <th>4</th>\n",
       "      <td>4</td>\n",
       "      <td>GCACTACTACACCCATTGCTGTAATAGTAAGTGCCGGTGCCTTCAC...</td>\n",
       "      <td>7</td>\n",
       "      <td>3</td>\n",
       "      <td>1</td>\n",
       "      <td>3</td>\n",
       "      <td>20</td>\n",
       "      <td>1</td>\n",
       "      <td>3</td>\n",
       "      <td>20</td>\n",
       "      <td>...</td>\n",
       "      <td>1</td>\n",
       "      <td>3</td>\n",
       "      <td>20</td>\n",
       "      <td>7</td>\n",
       "      <td>20</td>\n",
       "      <td>20</td>\n",
       "      <td>1</td>\n",
       "      <td>3</td>\n",
       "      <td>3</td>\n",
       "      <td>3</td>\n",
       "    </tr>\n",
       "  </tbody>\n",
       "</table>\n",
       "<p>5 rows × 103 columns</p>\n",
       "</div>"
      ],
      "text/plain": [
       "   Id                                                seq  seq_0  seq_1  seq_2  \\\n",
       "0   0  GAGGGGCTGGGGAGGGGGCTGGCCCAGAGGCACCAGACTCTGCAGA...      7      1      7   \n",
       "1   1  CGGCCTGGGGGCCACATGTGAGTGCTTACCTGTGTGGGGATGAGGG...      3      7      7   \n",
       "2   2  GACAACGCCGCTGTCAGCCGCCTTCGACTCACCTGGGAGGTGATGA...      7      1      3   \n",
       "3   3  GCCTCCCTTGGCACCACGGGAGACCAGTTTTGGAGGGGCGGGGCTG...      7      3      3   \n",
       "4   4  GCACTACTACACCCATTGCTGTAATAGTAAGTGCCGGTGCCTTCAC...      7      3      1   \n",
       "\n",
       "   seq_3  seq_4  seq_5  seq_6  seq_7   ...     seq_91  seq_92  seq_93  seq_94  \\\n",
       "0      7      7      7      3     20   ...          3      20       7       7   \n",
       "1      3      3     20      7      7   ...          7      20       3       3   \n",
       "2      1      1      3      7      3   ...          3       7       1       1   \n",
       "3     20      3      3      3     20   ...          7       1       7      20   \n",
       "4      3     20      1      3     20   ...          1       3      20       7   \n",
       "\n",
       "   seq_95  seq_96  seq_97  seq_98  seq_99  seq_100  \n",
       "0      20       7       7       3       1        7  \n",
       "1       1       7       7      20       7        7  \n",
       "2       7      20       7       3       7       20  \n",
       "3       7       3      20       1       1        1  \n",
       "4      20      20       1       3       3        3  \n",
       "\n",
       "[5 rows x 103 columns]"
      ]
     },
<<<<<<< HEAD:GENE CLASSIFICATION_Salomon.ipynb
     "execution_count": 612,
||||||| merged common ancestors:GENE CLASSIFICATION.ipynb
     "execution_count": 315,
=======
     "execution_count": 11,
>>>>>>> 4336c50ed242c8c3907077803d996e022c6ed339:GENE CLASSIFICATION.ipynb
     "metadata": {},
     "output_type": "execute_result"
    }
   ],
   "source": [
    "X_train.head()"
   ]
  },
  {
   "cell_type": "markdown",
   "metadata": {},
   "source": [
    "## What about counting number of different caracters \n",
    "\n",
    "#### I agree with this adea, but there have to be relation between model complexity and the number of features, what do you think about using the sklearn features selector? \n",
    "I mean after doing preprocessing sklearn could help us to do feature selection"
   ]
  },
  {
   "cell_type": "code",
<<<<<<< HEAD:GENE CLASSIFICATION_Salomon.ipynb
   "execution_count": 613,
||||||| merged common ancestors:GENE CLASSIFICATION.ipynb
   "execution_count": 316,
=======
   "execution_count": 12,
>>>>>>> 4336c50ed242c8c3907077803d996e022c6ed339:GENE CLASSIFICATION.ipynb
   "metadata": {},
   "outputs": [],
   "source": [
    "# A, C, G, T"
   ]
  },
  {
   "cell_type": "markdown",
   "metadata": {},
   "source": [
    "By using your preprocessing, I have combined it with Bio sequence model preprocessing, so on the training data, I have added 5 columns, you can visuarize this file"
   ]
  },
  {
   "cell_type": "code",
<<<<<<< HEAD:GENE CLASSIFICATION_Salomon.ipynb
   "execution_count": 614,
||||||| merged common ancestors:GENE CLASSIFICATION.ipynb
   "execution_count": null,
   "metadata": {},
   "outputs": [],
   "source": []
  },
  {
   "cell_type": "code",
   "execution_count": 317,
=======
   "execution_count": 13,
   "metadata": {},
   "outputs": [],
   "source": [
    "X_train_prepo=pd.read_csv('./train_data_preprocessing1.csv', sep=',') #we use this dataset to train our model\n",
    "X_test_prepo=pd.read_csv('./test_data_preprocessing1.csv', sep=',') #we use this dataset to train our model"
   ]
  },
  {
   "cell_type": "code",
   "execution_count": 14,
>>>>>>> 4336c50ed242c8c3907077803d996e022c6ed339:GENE CLASSIFICATION.ipynb
   "metadata": {},
   "outputs": [],
   "source": [
    "X_train = X_train_prepo\n",
    "X_test = X_test_prepo"
   ]
  },
  {
   "cell_type": "code",
<<<<<<< HEAD:GENE CLASSIFICATION_Salomon.ipynb
   "execution_count": 615,
||||||| merged common ancestors:GENE CLASSIFICATION.ipynb
   "execution_count": null,
=======
   "execution_count": 15,
>>>>>>> 4336c50ed242c8c3907077803d996e022c6ed339:GENE CLASSIFICATION.ipynb
   "metadata": {},
   "outputs": [],
<<<<<<< HEAD:GENE CLASSIFICATION_Salomon.ipynb
   "source": [
    "X = X_train.drop(['seq', 'Id'], axis=1)\n",
    "X_t = X_test.drop(['seq', 'Id'], axis=1)\n",
    "y = Y_train.Bound"
   ]
||||||| merged common ancestors:GENE CLASSIFICATION.ipynb
   "source": []
  },
  {
   "cell_type": "code",
   "execution_count": null,
   "metadata": {},
   "outputs": [],
   "source": []
=======
   "source": [
    "X = X_train.drop(['seq', 'Id'], axis=1)\n",
    "X_t = X_test.drop(['seq', 'Id'], axis=1)\n",
    "y = Y_train.Bound"
   ]
  },
  {
   "cell_type": "code",
   "execution_count": null,
   "metadata": {},
   "outputs": [],
   "source": []
>>>>>>> 4336c50ed242c8c3907077803d996e022c6ed339:GENE CLASSIFICATION.ipynb
  },
  {
   "cell_type": "code",
<<<<<<< HEAD:GENE CLASSIFICATION_Salomon.ipynb
   "execution_count": 674,
||||||| merged common ancestors:GENE CLASSIFICATION.ipynb
   "execution_count": 318,
=======
   "execution_count": null,
>>>>>>> 4336c50ed242c8c3907077803d996e022c6ed339:GENE CLASSIFICATION.ipynb
   "metadata": {},
<<<<<<< HEAD:GENE CLASSIFICATION_Salomon.ipynb
   "outputs": [
    {
     "data": {
      "text/plain": [
       "0       1\n",
       "1       0\n",
       "2       1\n",
       "3       0\n",
       "4       1\n",
       "       ..\n",
       "1995    1\n",
       "1996    0\n",
       "1997    1\n",
       "1998    1\n",
       "1999    1\n",
       "Name: Bound, Length: 2000, dtype: int64"
      ]
     },
     "execution_count": 674,
     "metadata": {},
     "output_type": "execute_result"
    }
   ],
   "source": [
    "y"
   ]
||||||| merged common ancestors:GENE CLASSIFICATION.ipynb
   "outputs": [],
   "source": [
    "X = X_train.drop(['seq', 'Id'], axis=1)\n",
    "X_t = X_test.drop(['seq', 'Id'], axis=1)\n",
    "y = Y_train.Bound"
   ]
=======
   "outputs": [],
   "source": []
>>>>>>> 4336c50ed242c8c3907077803d996e022c6ed339:GENE CLASSIFICATION.ipynb
  },
  {
   "cell_type": "markdown",
   "metadata": {},
   "source": [
    "## Models"
   ]
  },
  {
   "cell_type": "code",
<<<<<<< HEAD:GENE CLASSIFICATION_Salomon.ipynb
   "execution_count": 616,
||||||| merged common ancestors:GENE CLASSIFICATION.ipynb
   "execution_count": 319,
=======
   "execution_count": 20,
>>>>>>> 4336c50ed242c8c3907077803d996e022c6ed339:GENE CLASSIFICATION.ipynb
   "metadata": {},
   "outputs": [],
   "source": [
    "# class LogisticRegressionBinary():\n",
    "#     def __init__(self, lr=0.1, num_iter=100000, batch_size=1, verbose=False):\n",
    "#         self.lr = lr\n",
    "#         self.num_iter = num_iter\n",
    "#         self.batch_size = batch_size\n",
    "#         self.verbose = verbose\n",
    "    \n",
    "#     def __add_intercept(self, X):\n",
    "#         intercept = np.ones((X.shape[0], 1))\n",
    "#         return np.concatenate((intercept, X), axis=1)\n",
    "    \n",
    "#     def __sigmoid_func(self, z):\n",
    "#         return 1 / (1 + np.exp(-z))\n",
    "    \n",
    "#     def __loss(self, h, y):\n",
    "#         return (-y * np.log(h) - (1 - y) * np.log(1 - h)).mean()\n",
    "    \n",
    "#     def fit(self, X, y):\n",
    "#         y = self.trans_y(y)\n",
    "#         X = self.__add_intercept(X)\n",
    "#         self.theta = np.zeros(X.shape[1])\n",
    "        \n",
    "#         for i in range(self.num_iter):\n",
    "#             z = np.dot(X, self.theta)\n",
    "#             h = self.__sigmoid_func(z)\n",
    "                        \n",
    "#             rand = np.random.choice(y.size, self.batch_size).squeeze()\n",
    "#             gradient = np.dot(X[rand].T, (h[rand] - y[rand]))/y.size   \n",
    "        \n",
    "#             self.theta -= self.lr * gradient\n",
    "#             #print('theta and grad',self.theta.shape ,  gradient.shape )\n",
    "#             if(self.verbose == True and i % 100 == 0):\n",
    "#                 z = np.dot(X, self.theta)\n",
    "#                 h = self.__sigmoid(z)\n",
    "#                 print(f'loss: {self.__loss(h, y)} \\t')\n",
    "    \n",
    "#     def predict_probability(self, X):\n",
    "#         X = self.__add_intercept(X)\n",
    "    \n",
    "#         return self.__sigmoid_func(np.dot(X, self.theta))\n",
    "    \n",
    "#     def predict(self, X, threshold=.5):\n",
    "#           return np.where(self.predict_probability(X) >= 0.5, 1, 0)\n",
    "        \n",
    "          \n",
    "#     def Accuracy_check(self,X,y):\n",
    "#         return np.mean(self.predict(X)==y)\n",
    "    \n",
    "#     def trans_y(self, y):\n",
    "#         if isinstance(y, pd.Series):\n",
    "#             y = y.values\n",
    "#         if isinstance(y, list):\n",
    "#             y = np.array(y)\n",
    "#         return y"
   ]
  },
  {
   "cell_type": "code",
<<<<<<< HEAD:GENE CLASSIFICATION_Salomon.ipynb
   "execution_count": 617,
||||||| merged common ancestors:GENE CLASSIFICATION.ipynb
   "execution_count": 397,
=======
   "execution_count": 21,
>>>>>>> 4336c50ed242c8c3907077803d996e022c6ed339:GENE CLASSIFICATION.ipynb
   "metadata": {},
   "outputs": [],
   "source": [
    "# Ridge Regression (RR)\n",
    "\n",
    "class solveRR():\n",
    "    def __init__(self, X, y, lam=0.1):\n",
    "        self.beta = None\n",
    "        self.X = X\n",
    "        self.y = y\n",
    "        self.lam = lam\n",
    "            \n",
    "    def fit(self):\n",
    "        \n",
    "        X = self.X\n",
    "        y = self.y\n",
    "        lam = self.lam \n",
    "        \n",
    "        n, p = X.shape\n",
    "        assert (len(y) == n)\n",
    "\n",
    "        A = (X.T.dot(X)) + np.eye(p)*lam*n\n",
    "        b = X.T.dot(y)\n",
    "        \n",
    "        self.beta = np.linalg.solve(A, b)\n",
    "        \n",
    "        return self.beta\n",
    "    \n",
    "        \n",
    "    def predict(self, X, threshold=.5):\n",
    "        return np.where(X.dot(self.beta) >= threshold, 1, 0)\n",
    "        \n",
    "          \n",
    "    def Accuracy_check(self,X, y, threshold=.5):\n",
    "        return np.mean(self.predict(X, threshold)==y)\n",
    "    \n",
    "\n",
    "\n",
    "\n",
    "# Weighted Ridge Regression (WRR)\n",
    "class solveWRR():\n",
    "    def __init__(self, X, y, w, lam=0.1):\n",
    "        self.beta = None\n",
    "        self.X = X\n",
    "        self.y = y\n",
    "        self.lam = lam\n",
    "        self.w = w\n",
    "    \n",
    "    def fit(self):\n",
    "        \n",
    "        X = self.X\n",
    "        y = self.y\n",
    "        lam = self.lam \n",
    "        w = self.w\n",
    "        \n",
    "        n, p = X.shape\n",
    "        assert (len(y) == len(w) == n)\n",
    "\n",
    "        y1 = np.sqrt(w) * y\n",
    "        X1 = (np.sqrt(w) * X.T).T\n",
    "        \n",
    "        # Hint:\n",
    "        # Find y1 and X1 such that:\n",
    "        \n",
    "        self.beta = solveRR(X1, y1, lam).fit()\n",
    "                \n",
    "        return self.beta\n",
    "    \n",
    "        \n",
    "    def predict(self, X, threshold):\n",
    "        return np.where(X.dot(self.beta) >= threshold, 1, 0)\n",
    "        \n",
    "          \n",
    "    def Accuracy_check(self,X, y, threshold=.5):\n",
    "        return np.mean(self.predict(X, threshold)==y)\n",
    "    \n",
    "\n",
    "# Logistic Ridge Regression (LRR)\n",
    "class solveLRR():\n",
    "    def __init__(self, X, y, lam=0.1):\n",
    "        self.beta = None\n",
    "        self.X = X\n",
    "        self.y = y\n",
    "        self.lam = lam\n",
    "    \n",
    "    def fit(self):\n",
    "        \n",
    "        X = self.X\n",
    "        y = self.y\n",
    "        \n",
    "        n, p = X.shape\n",
    "        assert (len(y) == n)\n",
    "    \n",
    "        lam = self.lam \n",
    "        max_iter = 50\n",
    "        eps = 1e-3\n",
    "        sigmoid = lambda a: 1/(1 + np.exp(-a))\n",
    "        \n",
    "        \n",
    "        \n",
    "        # Initialize\n",
    "        self.beta = np.zeros(p)\n",
    "\n",
    "        # Hint: Use IRLS\n",
    "        for i in range(max_iter):\n",
    "            beta_old = self.beta\n",
    "            f = X.dot(beta_old)\n",
    "            w = sigmoid(f) * sigmoid(-f)\n",
    "            z = f + y / sigmoid(y*f)\n",
    "            self.beta = solveWRR(X, z, w, 2*lam).fit()\n",
    "            # Break condition (achieved convergence)\n",
    "            #if np.sum((beta-beta_old)**2) < eps:\n",
    "            #    break                \n",
    "        return self.beta\n",
    "    \n",
    "        \n",
    "    def predict(self, X, threshold):\n",
    "        return np.where(X.dot(self.beta) >= threshold, 1, 0)\n",
    "        \n",
    "          \n",
    "    def Accuracy_check(self,X, y, threshold=.5):\n",
    "        return np.mean(self.predict(X, threshold)==y)\n"
   ]
  },
  {
   "cell_type": "markdown",
   "metadata": {},
   "source": [
    "## Kernel"
   ]
  },
  {
   "cell_type": "code",
<<<<<<< HEAD:GENE CLASSIFICATION_Salomon.ipynb
   "execution_count": 721,
   "metadata": {},
   "outputs": [
    {
     "data": {
      "text/plain": [
       "6.995879868253351"
      ]
     },
     "execution_count": 721,
     "metadata": {},
     "output_type": "execute_result"
    }
   ],
   "source": [
    "X.std().mean()"
   ]
  },
  {
   "cell_type": "code",
   "execution_count": 618,
||||||| merged common ancestors:GENE CLASSIFICATION.ipynb
   "execution_count": 398,
=======
   "execution_count": 22,
>>>>>>> 4336c50ed242c8c3907077803d996e022c6ed339:GENE CLASSIFICATION.ipynb
   "metadata": {},
   "outputs": [],
   "source": [
    "import ipdb"
   ]
  },
  {
   "cell_type": "code",
<<<<<<< HEAD:GENE CLASSIFICATION_Salomon.ipynb
   "execution_count": 722,
||||||| merged common ancestors:GENE CLASSIFICATION.ipynb
   "execution_count": 399,
=======
   "execution_count": 23,
>>>>>>> 4336c50ed242c8c3907077803d996e022c6ed339:GENE CLASSIFICATION.ipynb
   "metadata": {},
   "outputs": [],
   "source": [
    "class ksolveRR():\n",
    "    def __init__(self, X, y, lam= 0.0001):\n",
    "        self.beta = None\n",
    "        self.X = X\n",
    "        self.y = y\n",
    "        self.lam = lam\n",
    "            \n",
    "    \n",
    "    def K(self, x, x_prime):\n",
    "        return (x.T.dot(x_prime))**2\n",
    "    \n",
    "    def fit(self):\n",
    "        \n",
    "        X = self.X\n",
    "        y = self.y\n",
    "        lam = self.lam \n",
    "        \n",
    "        n, p = X.shape\n",
    "        assert (len(y) == n)\n",
    "        \n",
    "#         ipdb.set_trace()\n",
    "#         A = X.T.dot(X) + np.eye(p)*lam*n\n",
    "#         A = (X.T.dot((X.dot(X.T) + 1 )**2) + np.eye(n)*lam*n\n",
    "\n",
    "#         b = y\n",
    "        \n",
    "        K = np.exp(-(1/(2*(6.995879868253351)))*np.linalg.norm(X-X)**2)\n",
    "        \n",
    "#         K = (X.dot(X.T)+1)**(300)\n",
    "        \n",
    "        self.beta = (X.T.dot(\\\n",
    "                             np.linalg.inv(K + np.eye(n)*lam*n))\\\n",
    "                             .dot(y))\n",
    "        \n",
    "        return self.beta\n",
    "    \n",
    "        \n",
    "    def predict(self, X, threshold=.5):\n",
    "        return np.where(X.dot(self.beta) >= threshold, 1, 0)\n",
    "        \n",
    "          \n",
    "    def Accuracy_check(self,X, y, threshold=.5):\n",
    "        return np.mean(self.predict(X, threshold)==y)\n",
    "    "
   ]
  },
  {
   "cell_type": "markdown",
   "metadata": {},
   "source": [
    "# Cross Validation"
   ]
  },
  {
   "cell_type": "code",
<<<<<<< HEAD:GENE CLASSIFICATION_Salomon.ipynb
   "execution_count": 723,
||||||| merged common ancestors:GENE CLASSIFICATION.ipynb
   "execution_count": 400,
=======
   "execution_count": 24,
>>>>>>> 4336c50ed242c8c3907077803d996e022c6ed339:GENE CLASSIFICATION.ipynb
   "metadata": {},
   "outputs": [],
   "source": [
    "from sklearn.model_selection import KFold \n",
    "from sklearn.preprocessing import MinMaxScaler, StandardScaler\n",
    "\n",
    "from sklearn.preprocessing import OneHotEncoder\n",
    "from sklearn.feature_extraction.text import TfidfVectorizer\n",
    "from sklearn.feature_extraction.text import CountVectorizer\n"
   ]
  },
  {
   "cell_type": "code",
<<<<<<< HEAD:GENE CLASSIFICATION_Salomon.ipynb
   "execution_count": 724,
||||||| merged common ancestors:GENE CLASSIFICATION.ipynb
   "execution_count": 401,
=======
   "execution_count": 25,
>>>>>>> 4336c50ed242c8c3907077803d996e022c6ed339:GENE CLASSIFICATION.ipynb
   "metadata": {},
   "outputs": [],
   "source": [
    "# vectorizer = CountVectorizer(max_features=2000)\n",
    "# vectorizer.fit_transform(X[:10])\n",
    "# # vectorizer.get_feature_names()"
   ]
  },
  {
   "cell_type": "code",
   "execution_count": null,
   "metadata": {},
   "outputs": [],
   "source": []
  },
  {
   "cell_type": "code",
<<<<<<< HEAD:GENE CLASSIFICATION_Salomon.ipynb
   "execution_count": 725,
||||||| merged common ancestors:GENE CLASSIFICATION.ipynb
   "execution_count": 402,
=======
   "execution_count": 26,
>>>>>>> 4336c50ed242c8c3907077803d996e022c6ed339:GENE CLASSIFICATION.ipynb
   "metadata": {},
   "outputs": [],
   "source": [
    "kfold=KFold(n_splits=5)\n",
    "onehot_encoder = OneHotEncoder(sparse=False, categories='auto')\n",
    "\n",
    "# X_cross = X.values\n",
    "# X_t = X_t.values\n",
    "\n",
    "y_cross = y.values\n",
    "\n",
    "# vectorizer = TfidfVectorizer()\n",
    "# X_cross = vectorizer.fit_transform(X)\n",
    "\n",
    "X_cross = onehot_encoder.fit_transform(X.values)\n",
    "X_t_enc = onehot_encoder.fit_transform(X_t.values)\n",
    "\n",
    "\n",
    "# scaler = StandardScaler()#MinMaxScaler() # StandardScaler()\n",
    "# scaler.fit(X_cross)\n",
    "\n",
    "# X_cross = scaler.transform(X_cross)"
   ]
  },
  {
   "cell_type": "code",
<<<<<<< HEAD:GENE CLASSIFICATION_Salomon.ipynb
   "execution_count": 726,
||||||| merged common ancestors:GENE CLASSIFICATION.ipynb
   "execution_count": 403,
=======
   "execution_count": 27,
>>>>>>> 4336c50ed242c8c3907077803d996e022c6ed339:GENE CLASSIFICATION.ipynb
   "metadata": {},
   "outputs": [],
   "source": [
    "# X_cross.shape"
   ]
  },
  {
   "cell_type": "code",
<<<<<<< HEAD:GENE CLASSIFICATION_Salomon.ipynb
   "execution_count": 727,
||||||| merged common ancestors:GENE CLASSIFICATION.ipynb
   "execution_count": 404,
=======
   "execution_count": 28,
>>>>>>> 4336c50ed242c8c3907077803d996e022c6ed339:GENE CLASSIFICATION.ipynb
   "metadata": {},
   "outputs": [],
   "source": [
    "from sklearn import linear_model as lm\n",
<<<<<<< HEAD:GENE CLASSIFICATION_Salomon.ipynb
    "from sklearn.metrics import accuracy_score, roc_auc_score\n",
||||||| merged common ancestors:GENE CLASSIFICATION.ipynb
    "from sklearn.metrics import accuracy_score, roc_auc_score"
   ]
  },
  {
   "cell_type": "code",
   "execution_count": 405,
   "metadata": {},
   "outputs": [],
   "source": [
    "# lam = 0.1\n",
    "\n",
    "# alpha = lam * X.shape[0]\n",
    "\n",
    "# models = [lm.Ridge(alpha=alpha, fit_intercept=False, normalize=False)]\n",
    "# for model in models:\n",
    "\n",
    "#     accuracy = []\n",
    "#     for i, (train_index, validate_index) in enumerate(kfold.split(X)):\n",
    "\n",
    "#     #     ipdb.set_trace()\n",
    "#         X_train, y_train = X_cross[train_index], y_cross[train_index]\n",
    "#         X_valid, y_valid = X_cross[validate_index], y_cross[validate_index]\n",
    "\n",
    "#         # Ridge Regression (RR)\n",
    "#         if model ==solveWRR:\n",
    "#             w = np.random.rand(len(y_train))\n",
    "#             model_curr = solveWRR(X_train, y_train, w, lam=0.01)\n",
    "#         else:\n",
    "#             model_curr = model\n",
    "\n",
    "#         # Weighted Ridge Regression (WRR)\n",
    "        \n",
    "\n",
=======
    "from sklearn.metrics import accuracy_score, roc_auc_score"
   ]
  },
  {
   "cell_type": "code",
   "execution_count": 29,
   "metadata": {},
   "outputs": [],
   "source": [
    "# lam = 0.1\n",
    "\n",
    "# alpha = lam * X.shape[0]\n",
    "\n",
    "# models = [lm.Ridge(alpha=alpha, fit_intercept=False, normalize=False)]\n",
    "# for model in models:\n",
    "\n",
    "#     accuracy = []\n",
    "#     for i, (train_index, validate_index) in enumerate(kfold.split(X)):\n",
    "\n",
    "#     #     ipdb.set_trace()\n",
    "#         X_train, y_train = X_cross[train_index], y_cross[train_index]\n",
    "#         X_valid, y_valid = X_cross[validate_index], y_cross[validate_index]\n",
    "\n",
    "#         # Ridge Regression (RR)\n",
    "#         if model ==solveWRR:\n",
    "#             w = np.random.rand(len(y_train))\n",
    "#             model_curr = solveWRR(X_train, y_train, w, lam=0.01)\n",
    "#         else:\n",
    "#             model_curr = model\n",
    "\n",
    "#         # Weighted Ridge Regression (WRR)\n",
    "        \n",
    "\n",
>>>>>>> 4336c50ed242c8c3907077803d996e022c6ed339:GENE CLASSIFICATION.ipynb
    "\n",
    "# from np.line"
   ]
  },
  {
   "cell_type": "code",
   "execution_count": 731,
   "metadata": {},
   "outputs": [
    {
     "name": "stdout",
     "output_type": "stream",
     "text": [
      "accurracy fold 0: 0.6125\n",
      "accurracy fold 1: 0.6475\n",
      "accurracy fold 2: 0.62\n",
      "accurracy fold 3: 0.62\n",
      "accurracy fold 4: 0.655\n",
      "\n",
      "Average accuracy Kernal Ridge Regression is : 0.631\n",
      "\n"
     ]
    }
   ],
   "source": [
    "# models = {solveRR: 'Ridge Regression (RR)', solveWRR:'Weighted Ridge Regression (WRR)', \\\n",
    "#           solveLRR : 'Logistic Ridge Regression (LRR)', ksolveRR : 'Kernal Ridge Regression'}\n",
    "\n",
    "models = {ksolveRR : 'Kernal Ridge Regression'}\n",
    "for model in models:\n",
    "    accuracy = []\n",
    "    for i, (train_index, validate_index) in enumerate(kfold.split(X)):\n",
    "\n",
    "        X_train, y_train = X_cross[train_index], y_cross[train_index]\n",
    "        X_valid, y_valid = X_cross[validate_index], y_cross[validate_index]\n",
    "\n",
    "        if model ==solveWRR:\n",
    "            w = np.random.rand(len(y_train))\n",
    "            model_curr = solveWRR(X_train, y_train, w, lam=0.0001)\n",
    "        else:\n",
    "            model_curr = model(X_train, y_train, lam=0.0001)\n",
    "            \n",
    "        model_curr.fit()\n",
    "\n",
    "        accuracy.append(model_curr.Accuracy_check(X_valid, y_valid, threshold=0.5))\n",
    "        print(f'accurracy fold {i}: {accuracy[i]}')\n",
    "    \n",
    "    print(f'\\nAverage accuracy {models[model]} is : {np.mean(accuracy)}\\n')"
   ]
  },
  {
   "cell_type": "code",
   "execution_count": 704,
   "metadata": {},
   "outputs": [
    {
     "data": {
      "text/plain": [
       "0.682"
      ]
     },
     "execution_count": 704,
     "metadata": {},
     "output_type": "execute_result"
    }
   ],
   "source": [
    "# Cehckinf full model\n",
    "model = ksolveRR(X_cross, y_cross, lam=0.0001)\n",
    "model.fit()\n",
    "\n",
    "model.Accuracy_check(X_cross, y_cross, threshold=0.5)\n",
    "##### adding those features improves accuracy by 2"
   ]
  },
  {
   "cell_type": "markdown",
   "metadata": {},
   "source": [
    "# Predictions"
   ]
  },
  {
   "cell_type": "code",
   "execution_count": 593,
   "metadata": {},
   "outputs": [],
   "source": [
    "model = ksolveRR(X_cross, y_cross, lam=0.0001)\n",
    "model.fit()\n",
    "y_pred = model.predict(X_t_enc, 0.5)"
   ]
  },
  {
   "cell_type": "code",
   "execution_count": 594,
   "metadata": {},
   "outputs": [
    {
     "data": {
      "text/html": [
       "<div>\n",
       "<style scoped>\n",
       "    .dataframe tbody tr th:only-of-type {\n",
       "        vertical-align: middle;\n",
       "    }\n",
       "\n",
       "    .dataframe tbody tr th {\n",
       "        vertical-align: top;\n",
       "    }\n",
       "\n",
       "    .dataframe thead th {\n",
       "        text-align: right;\n",
       "    }\n",
       "</style>\n",
       "<table border=\"1\" class=\"dataframe\">\n",
       "  <thead>\n",
       "    <tr style=\"text-align: right;\">\n",
       "      <th></th>\n",
       "      <th>Id</th>\n",
       "    </tr>\n",
       "  </thead>\n",
       "  <tbody>\n",
       "    <tr>\n",
       "      <th>0</th>\n",
       "      <td>0</td>\n",
       "    </tr>\n",
       "    <tr>\n",
       "      <th>1</th>\n",
       "      <td>1</td>\n",
       "    </tr>\n",
       "    <tr>\n",
       "      <th>2</th>\n",
       "      <td>2</td>\n",
       "    </tr>\n",
       "    <tr>\n",
       "      <th>3</th>\n",
       "      <td>3</td>\n",
       "    </tr>\n",
       "    <tr>\n",
       "      <th>4</th>\n",
       "      <td>4</td>\n",
       "    </tr>\n",
       "  </tbody>\n",
       "</table>\n",
       "</div>"
      ],
      "text/plain": [
       "   Id\n",
       "0   0\n",
       "1   1\n",
       "2   2\n",
       "3   3\n",
       "4   4"
      ]
     },
     "execution_count": 594,
     "metadata": {},
     "output_type": "execute_result"
    }
   ],
   "source": [
    "X = np.arange(1000).reshape(-1, 1)\n",
    "sample = pd.DataFrame(data=X, columns=['Id'])\n",
    "sample.head()"
   ]
  },
  {
   "cell_type": "code",
   "execution_count": 595,
   "metadata": {},
   "outputs": [],
   "source": [
    "sample['Bound'] = y_pred"
   ]
  },
  {
   "cell_type": "code",
   "execution_count": 596,
   "metadata": {},
   "outputs": [
    {
     "data": {
      "text/html": [
       "<div>\n",
       "<style scoped>\n",
       "    .dataframe tbody tr th:only-of-type {\n",
       "        vertical-align: middle;\n",
       "    }\n",
       "\n",
       "    .dataframe tbody tr th {\n",
       "        vertical-align: top;\n",
       "    }\n",
       "\n",
       "    .dataframe thead th {\n",
       "        text-align: right;\n",
       "    }\n",
       "</style>\n",
       "<table border=\"1\" class=\"dataframe\">\n",
       "  <thead>\n",
       "    <tr style=\"text-align: right;\">\n",
       "      <th></th>\n",
       "      <th>Id</th>\n",
       "      <th>Bound</th>\n",
       "    </tr>\n",
       "  </thead>\n",
       "  <tbody>\n",
       "    <tr>\n",
       "      <th>995</th>\n",
       "      <td>995</td>\n",
       "      <td>0</td>\n",
       "    </tr>\n",
       "    <tr>\n",
       "      <th>996</th>\n",
       "      <td>996</td>\n",
       "      <td>0</td>\n",
       "    </tr>\n",
       "    <tr>\n",
       "      <th>997</th>\n",
       "      <td>997</td>\n",
       "      <td>0</td>\n",
       "    </tr>\n",
       "    <tr>\n",
       "      <th>998</th>\n",
       "      <td>998</td>\n",
       "      <td>1</td>\n",
       "    </tr>\n",
       "    <tr>\n",
       "      <th>999</th>\n",
       "      <td>999</td>\n",
       "      <td>1</td>\n",
       "    </tr>\n",
       "  </tbody>\n",
       "</table>\n",
       "</div>"
      ],
      "text/plain": [
       "      Id  Bound\n",
       "995  995      0\n",
       "996  996      0\n",
       "997  997      0\n",
       "998  998      1\n",
       "999  999      1"
      ]
     },
     "execution_count": 596,
     "metadata": {},
     "output_type": "execute_result"
    }
   ],
   "source": [
    "sample.tail()"
   ]
  },
  {
   "cell_type": "code",
   "execution_count": 597,
   "metadata": {},
   "outputs": [],
   "source": [
    "sample.to_csv('./ksolveRR_63_cv.csv', index=False)"
   ]
  },
  {
   "cell_type": "code",
   "execution_count": null,
   "metadata": {},
   "outputs": [],
   "source": []
  }
 ],
 "metadata": {
  "kernelspec": {
   "display_name": "Python 3",
   "language": "python",
   "name": "python3"
  },
  "language_info": {
   "codemirror_mode": {
    "name": "ipython",
    "version": 3
   },
   "file_extension": ".py",
   "mimetype": "text/x-python",
   "name": "python",
   "nbconvert_exporter": "python",
   "pygments_lexer": "ipython3",
   "version": "3.7.3"
  }
 },
 "nbformat": 4,
 "nbformat_minor": 4
}
