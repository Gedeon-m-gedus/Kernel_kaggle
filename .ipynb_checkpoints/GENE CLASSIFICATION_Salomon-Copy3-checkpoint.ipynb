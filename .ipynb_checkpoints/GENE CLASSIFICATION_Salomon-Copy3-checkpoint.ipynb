{
 "cells": [
  {
   "cell_type": "code",
   "execution_count": 1,
   "metadata": {
    "_cell_guid": "79c7e3d0-c299-4dcb-8224-4455121ee9b0",
    "_uuid": "d629ff2d2480ee46fbb7e2d37f6b5fab8052498a"
   },
   "outputs": [],
   "source": [
    "#@title Installation\n",
    "!pip install --quie ipdb # debug\n",
    "!pip install --quie ipython-autotime  # timming\n",
    "!pip install --quie optuna  # hyperparaeters"
   ]
  },
  {
   "cell_type": "code",
   "execution_count": 2,
   "metadata": {},
   "outputs": [
    {
     "name": "stderr",
     "output_type": "stream",
     "text": [
      "/usr/local/lib/python3.6/dist-packages/statsmodels/tools/_testing.py:19: FutureWarning: pandas.util.testing is deprecated. Use the functions in the public API at pandas.testing instead.\n",
      "  import pandas.util.testing as tm\n"
     ]
    }
   ],
   "source": [
    "# @title Imports\n",
    "\n",
    "import pandas as pd\n",
    "import seaborn as sns\n",
    "import numpy as np\n",
    "import matplotlib.pyplot as plt\n",
    "import cvxopt\n",
    "np.random.seed(54321)\n",
    "\n",
    "import ipdb\n",
    "\n",
    "import optuna\n",
    "\n",
    "from sklearn.model_selection import KFold \n",
    "from sklearn.preprocessing import MinMaxScaler, StandardScaler\n",
    "\n",
    "from sklearn.preprocessing import OneHotEncoder\n",
    "\n",
    "%load_ext autotime"
   ]
  },
  {
   "cell_type": "code",
   "execution_count": 3,
   "metadata": {},
   "outputs": [
    {
     "name": "stdout",
     "output_type": "stream",
     "text": [
      "time: 15.9 ms\n"
     ]
    }
   ],
   "source": [
    "X_train=pd.read_csv('./data/Xtr.csv', sep=',') #we use this dataset to train our model\n",
    "Y_train=pd.read_csv('./data/Ytr.csv', sep=',') #we use this dataset to train our model\n",
    "X_test=pd.read_csv('./data/Xte.csv', sep=',') #we will use this data set later to validate our model\n",
    "\n",
    "# X_train_mat=pd.read_csv('./data/Xtr_mat100.csv', sep=',') #we use this dataset to train our model\n",
    "# X_test_mat=pd.read_csv('./data/Xte_mat100.csv', sep=',') #we will use this data set later to validate our model"
   ]
  },
  {
   "cell_type": "code",
   "execution_count": 4,
   "metadata": {},
   "outputs": [
    {
     "data": {
      "text/html": [
       "<div>\n",
       "<style scoped>\n",
       "    .dataframe tbody tr th:only-of-type {\n",
       "        vertical-align: middle;\n",
       "    }\n",
       "\n",
       "    .dataframe tbody tr th {\n",
       "        vertical-align: top;\n",
       "    }\n",
       "\n",
       "    .dataframe thead th {\n",
       "        text-align: right;\n",
       "    }\n",
       "</style>\n",
       "<table border=\"1\" class=\"dataframe\">\n",
       "  <thead>\n",
       "    <tr style=\"text-align: right;\">\n",
       "      <th></th>\n",
       "      <th>Id</th>\n",
       "      <th>seq</th>\n",
       "    </tr>\n",
       "  </thead>\n",
       "  <tbody>\n",
       "    <tr>\n",
       "      <th>1995</th>\n",
       "      <td>1995</td>\n",
       "      <td>TAACTTTTGACAGGTCAGAATACAAAACTGATTTATTTACAGTGTC...</td>\n",
       "    </tr>\n",
       "    <tr>\n",
       "      <th>1996</th>\n",
       "      <td>1996</td>\n",
       "      <td>ACGCCCATTCCGCCCTGCTAAGCCTCGCCCATTACATCCAGACTGC...</td>\n",
       "    </tr>\n",
       "    <tr>\n",
       "      <th>1997</th>\n",
       "      <td>1997</td>\n",
       "      <td>TGGCTACTAGCTAGAGATAGCATCTCTCTGTGGACAACTCTCCAGC...</td>\n",
       "    </tr>\n",
       "    <tr>\n",
       "      <th>1998</th>\n",
       "      <td>1998</td>\n",
       "      <td>CCCAGCTGTCAAAAAGCAGCCCAAAGGAAGCTCACGGTGTGCCGGC...</td>\n",
       "    </tr>\n",
       "    <tr>\n",
       "      <th>1999</th>\n",
       "      <td>1999</td>\n",
       "      <td>TGCTAGTTGATGAAACAATAACTGCTAAAAGGTATACAGCCATGTC...</td>\n",
       "    </tr>\n",
       "  </tbody>\n",
       "</table>\n",
       "</div>"
      ],
      "text/plain": [
       "        Id                                                seq\n",
       "1995  1995  TAACTTTTGACAGGTCAGAATACAAAACTGATTTATTTACAGTGTC...\n",
       "1996  1996  ACGCCCATTCCGCCCTGCTAAGCCTCGCCCATTACATCCAGACTGC...\n",
       "1997  1997  TGGCTACTAGCTAGAGATAGCATCTCTCTGTGGACAACTCTCCAGC...\n",
       "1998  1998  CCCAGCTGTCAAAAAGCAGCCCAAAGGAAGCTCACGGTGTGCCGGC...\n",
       "1999  1999  TGCTAGTTGATGAAACAATAACTGCTAAAAGGTATACAGCCATGTC..."
      ]
     },
     "execution_count": 4,
     "metadata": {},
     "output_type": "execute_result"
    },
    {
     "name": "stdout",
     "output_type": "stream",
     "text": [
      "time: 15.5 ms\n"
     ]
    }
   ],
   "source": [
    "X_train.tail()"
   ]
  },
  {
   "cell_type": "code",
   "execution_count": 5,
   "metadata": {},
   "outputs": [
    {
     "name": "stdout",
     "output_type": "stream",
     "text": [
      "The shape of the X_train dataset is: (2000, 2)\n",
      "The shape of the Y_train dataset is: (2000, 2)\n",
      "time: 1.5 ms\n"
     ]
    }
   ],
   "source": [
    "print('The shape of the X_train dataset is:',X_train.shape)\n",
    "print('The shape of the Y_train dataset is:',Y_train.shape)"
   ]
  },
  {
   "cell_type": "code",
   "execution_count": 6,
   "metadata": {},
   "outputs": [
    {
     "name": "stdout",
     "output_type": "stream",
     "text": [
      "time: 626 µs\n"
     ]
    }
   ],
   "source": [
    "# X_train['len'] = X_train.seq.apply(lambda x : len(x))"
   ]
  },
  {
   "cell_type": "code",
   "execution_count": 7,
   "metadata": {},
   "outputs": [
    {
     "data": {
      "text/html": [
       "<div>\n",
       "<style scoped>\n",
       "    .dataframe tbody tr th:only-of-type {\n",
       "        vertical-align: middle;\n",
       "    }\n",
       "\n",
       "    .dataframe tbody tr th {\n",
       "        vertical-align: top;\n",
       "    }\n",
       "\n",
       "    .dataframe thead th {\n",
       "        text-align: right;\n",
       "    }\n",
       "</style>\n",
       "<table border=\"1\" class=\"dataframe\">\n",
       "  <thead>\n",
       "    <tr style=\"text-align: right;\">\n",
       "      <th></th>\n",
       "      <th>Id</th>\n",
       "      <th>seq</th>\n",
       "    </tr>\n",
       "  </thead>\n",
       "  <tbody>\n",
       "    <tr>\n",
       "      <th>0</th>\n",
       "      <td>0</td>\n",
       "      <td>GAGGGGCTGGGGAGGGGGCTGGCCCAGAGGCACCAGACTCTGCAGA...</td>\n",
       "    </tr>\n",
       "    <tr>\n",
       "      <th>1</th>\n",
       "      <td>1</td>\n",
       "      <td>CGGCCTGGGGGCCACATGTGAGTGCTTACCTGTGTGGGGATGAGGG...</td>\n",
       "    </tr>\n",
       "    <tr>\n",
       "      <th>2</th>\n",
       "      <td>2</td>\n",
       "      <td>GACAACGCCGCTGTCAGCCGCCTTCGACTCACCTGGGAGGTGATGA...</td>\n",
       "    </tr>\n",
       "    <tr>\n",
       "      <th>3</th>\n",
       "      <td>3</td>\n",
       "      <td>GCCTCCCTTGGCACCACGGGAGACCAGTTTTGGAGGGGCGGGGCTG...</td>\n",
       "    </tr>\n",
       "    <tr>\n",
       "      <th>4</th>\n",
       "      <td>4</td>\n",
       "      <td>GCACTACTACACCCATTGCTGTAATAGTAAGTGCCGGTGCCTTCAC...</td>\n",
       "    </tr>\n",
       "  </tbody>\n",
       "</table>\n",
       "</div>"
      ],
      "text/plain": [
       "   Id                                                seq\n",
       "0   0  GAGGGGCTGGGGAGGGGGCTGGCCCAGAGGCACCAGACTCTGCAGA...\n",
       "1   1  CGGCCTGGGGGCCACATGTGAGTGCTTACCTGTGTGGGGATGAGGG...\n",
       "2   2  GACAACGCCGCTGTCAGCCGCCTTCGACTCACCTGGGAGGTGATGA...\n",
       "3   3  GCCTCCCTTGGCACCACGGGAGACCAGTTTTGGAGGGGCGGGGCTG...\n",
       "4   4  GCACTACTACACCCATTGCTGTAATAGTAAGTGCCGGTGCCTTCAC..."
      ]
     },
     "execution_count": 7,
     "metadata": {},
     "output_type": "execute_result"
    },
    {
     "name": "stdout",
     "output_type": "stream",
     "text": [
      "time: 10.5 ms\n"
     ]
    }
   ],
   "source": [
    "X_train.head()"
   ]
  },
  {
   "cell_type": "code",
   "execution_count": 8,
   "metadata": {},
   "outputs": [
    {
     "data": {
      "text/html": [
       "<div>\n",
       "<style scoped>\n",
       "    .dataframe tbody tr th:only-of-type {\n",
       "        vertical-align: middle;\n",
       "    }\n",
       "\n",
       "    .dataframe tbody tr th {\n",
       "        vertical-align: top;\n",
       "    }\n",
       "\n",
       "    .dataframe thead th {\n",
       "        text-align: right;\n",
       "    }\n",
       "</style>\n",
       "<table border=\"1\" class=\"dataframe\">\n",
       "  <thead>\n",
       "    <tr style=\"text-align: right;\">\n",
       "      <th></th>\n",
       "      <th>Id</th>\n",
       "      <th>seq</th>\n",
       "    </tr>\n",
       "  </thead>\n",
       "  <tbody>\n",
       "    <tr>\n",
       "      <th>0</th>\n",
       "      <td>0</td>\n",
       "      <td>GAGGGGCTGGGGAGGGGGCTGGCCCAGAGGCACCAGACTCTGCAGA...</td>\n",
       "    </tr>\n",
       "    <tr>\n",
       "      <th>1</th>\n",
       "      <td>1</td>\n",
       "      <td>CGGCCTGGGGGCCACATGTGAGTGCTTACCTGTGTGGGGATGAGGG...</td>\n",
       "    </tr>\n",
       "    <tr>\n",
       "      <th>2</th>\n",
       "      <td>2</td>\n",
       "      <td>GACAACGCCGCTGTCAGCCGCCTTCGACTCACCTGGGAGGTGATGA...</td>\n",
       "    </tr>\n",
       "    <tr>\n",
       "      <th>3</th>\n",
       "      <td>3</td>\n",
       "      <td>GCCTCCCTTGGCACCACGGGAGACCAGTTTTGGAGGGGCGGGGCTG...</td>\n",
       "    </tr>\n",
       "    <tr>\n",
       "      <th>4</th>\n",
       "      <td>4</td>\n",
       "      <td>GCACTACTACACCCATTGCTGTAATAGTAAGTGCCGGTGCCTTCAC...</td>\n",
       "    </tr>\n",
       "  </tbody>\n",
       "</table>\n",
       "</div>"
      ],
      "text/plain": [
       "   Id                                                seq\n",
       "0   0  GAGGGGCTGGGGAGGGGGCTGGCCCAGAGGCACCAGACTCTGCAGA...\n",
       "1   1  CGGCCTGGGGGCCACATGTGAGTGCTTACCTGTGTGGGGATGAGGG...\n",
       "2   2  GACAACGCCGCTGTCAGCCGCCTTCGACTCACCTGGGAGGTGATGA...\n",
       "3   3  GCCTCCCTTGGCACCACGGGAGACCAGTTTTGGAGGGGCGGGGCTG...\n",
       "4   4  GCACTACTACACCCATTGCTGTAATAGTAAGTGCCGGTGCCTTCAC..."
      ]
     },
     "execution_count": 8,
     "metadata": {},
     "output_type": "execute_result"
    },
    {
     "name": "stdout",
     "output_type": "stream",
     "text": [
      "time: 8.18 ms\n"
     ]
    }
   ],
   "source": [
    "X_train.head()"
   ]
  },
  {
   "cell_type": "code",
   "execution_count": 9,
   "metadata": {},
   "outputs": [
    {
     "name": "stdout",
     "output_type": "stream",
     "text": [
      "time: 685 µs\n"
     ]
    }
   ],
   "source": [
    "# X = X_train.drop(['seq', 'Id'], axis=1)\n",
    "# X_t = X_test.drop(['seq', 'Id'], axis=1)\n",
    "# y = Y_train.Bound"
   ]
  },
  {
   "cell_type": "markdown",
   "metadata": {},
   "source": [
    "## Models"
   ]
  },
  {
   "cell_type": "code",
   "execution_count": 10,
   "metadata": {},
   "outputs": [
    {
     "name": "stdout",
     "output_type": "stream",
     "text": [
      "time: 52.1 ms\n"
     ]
    }
   ],
   "source": [
    "class LogisticRegressionBinary():\n",
    "    def __init__(self, lr=0.1, num_iter=100000, batch_size=1, verbose=False):\n",
    "        self.lr = lr\n",
    "        self.num_iter = num_iter\n",
    "        self.batch_size = batch_size\n",
    "        self.verbose = verbose\n",
    "    \n",
    "    def __add_intercept(self, X):\n",
    "        intercept = np.ones((X.shape[0], 1))\n",
    "        return np.concatenate((intercept, X), axis=1)\n",
    "    \n",
    "    def __sigmoid_func(self, z):\n",
    "        return 1 / (1 + np.exp(-z))\n",
    "    \n",
    "    def __loss(self, h, y):\n",
    "        return (-y * np.log(h) - (1 - y) * np.log(1 - h)).mean()\n",
    "    \n",
    "    def fit(self, X, y):\n",
    "        y = self.trans_y(y)\n",
    "        X = self.__add_intercept(X)\n",
    "        self.theta = np.zeros(X.shape[1])\n",
    "        \n",
    "        for i in range(self.num_iter):\n",
    "            z = np.dot(X, self.theta)\n",
    "            h = self.__sigmoid_func(z)\n",
    "                        \n",
    "            rand = np.random.choice(y.size, self.batch_size).squeeze()\n",
    "            gradient = np.dot(X[rand].T, (h[rand] - y[rand]))/y.size   \n",
    "        \n",
    "            self.theta -= self.lr * gradient\n",
    "            #print('theta and grad',self.theta.shape ,  gradient.shape )\n",
    "            if(self.verbose == True and i % 100 == 0):\n",
    "                z = np.dot(X, self.theta)\n",
    "                h = self.__sigmoid(z)\n",
    "                print(f'loss: {self.__loss(h, y)} \\t')\n",
    "    \n",
    "    def predict_probability(self, X):\n",
    "        X = self.__add_intercept(X)\n",
    "    \n",
    "        return self.__sigmoid_func(np.dot(X, self.theta))\n",
    "    \n",
    "    def predict(self, X, threshold=.5):\n",
    "          return np.where(self.predict_probability(X) >= 0.5, 1, 0)\n",
    "        \n",
    "          \n",
    "    def Accuracy_check(self, X, y, threshold = 0.5):\n",
    "        return np.mean(self.predict(X, threshold)==y)\n",
    "    \n",
    "    def trans_y(self, y):\n",
    "        if isinstance(y, pd.Series):\n",
    "            y = y.values\n",
    "        if isinstance(y, list):\n",
    "            y = np.array(y)\n",
    "        return y"
   ]
  },
  {
   "cell_type": "code",
   "execution_count": 11,
   "metadata": {},
   "outputs": [
    {
     "name": "stdout",
     "output_type": "stream",
     "text": [
      "time: 108 ms\n"
     ]
    }
   ],
   "source": [
    "# Ridge Regression (RR)\n",
    "\n",
    "class solveRR():\n",
    "    def __init__(self, X, y, lam=0.1):\n",
    "        self.beta = None\n",
    "        self.X = X\n",
    "        self.y = y\n",
    "        self.lam = lam\n",
    "            \n",
    "    def fit(self):\n",
    "        \n",
    "        X = self.X\n",
    "        y = self.y\n",
    "        lam = self.lam \n",
    "        \n",
    "        n, p = X.shape\n",
    "        assert (len(y) == n)\n",
    "\n",
    "        A = (X.T.dot(X)) + np.eye(p)*lam*n\n",
    "        b = X.T.dot(y)\n",
    "        \n",
    "        self.beta = np.linalg.solve(A, b)\n",
    "        \n",
    "        return self.beta\n",
    "    \n",
    "        \n",
    "    def predict(self, X, threshold=.5):\n",
    "        return np.where(X.dot(self.beta) >= threshold, 1, 0)\n",
    "        \n",
    "          \n",
    "    def Accuracy_check(self,X, y, threshold=.5):\n",
    "        return np.mean(self.predict(X, threshold)==y)\n",
    "    \n",
    "\n",
    "# Weighted Ridge Regression (WRR)\n",
    "class solveWRR():\n",
    "    def __init__(self, X, y, w, lam=0.1):\n",
    "        self.beta = None\n",
    "        self.X = X\n",
    "        self.y = y\n",
    "        self.lam = lam\n",
    "        self.w = w\n",
    "    \n",
    "    def fit(self):\n",
    "        \n",
    "        X = self.X\n",
    "        y = self.y\n",
    "        lam = self.lam \n",
    "        w = self.w\n",
    "        \n",
    "        n, p = X.shape\n",
    "        assert (len(y) == len(w) == n)\n",
    "\n",
    "        y1 = np.sqrt(w) * y\n",
    "        X1 = (np.sqrt(w) * X.T).T\n",
    "        \n",
    "        # Hint:\n",
    "        # Find y1 and X1 such that:\n",
    "        \n",
    "        self.beta = solveRR(X1, y1, lam).fit()\n",
    "                \n",
    "        return self.beta\n",
    "    \n",
    "        \n",
    "    def predict(self, X, threshold):\n",
    "        return np.where(X.dot(self.beta) >= threshold, 1, 0)\n",
    "        \n",
    "          \n",
    "    def Accuracy_check(self,X, y, threshold=.5):\n",
    "        return np.mean(self.predict(X, threshold)==y)\n",
    "    \n",
    "\n",
    "# Logistic Ridge Regression (LRR)\n",
    "class solveLRR():\n",
    "    def __init__(self, X, y, lam=0.1):\n",
    "        self.beta = None\n",
    "        self.X = X\n",
    "        self.y = y\n",
    "        self.lam = lam\n",
    "    \n",
    "    def fit(self):\n",
    "        \n",
    "        X = self.X\n",
    "        y = self.y\n",
    "        \n",
    "        n, p = X.shape\n",
    "        assert (len(y) == n)\n",
    "    \n",
    "        lam = self.lam \n",
    "        max_iter = 50\n",
    "        eps = 1e-3\n",
    "        sigmoid = lambda a: 1/(1 + np.exp(-a))\n",
    "        \n",
    "        \n",
    "        \n",
    "        # Initialize\n",
    "        self.beta = np.zeros(p)\n",
    "\n",
    "        # Hint: Use IRLS\n",
    "        for i in range(max_iter):\n",
    "            beta_old = self.beta\n",
    "            f = X.dot(beta_old)\n",
    "            w = sigmoid(f) * sigmoid(-f)\n",
    "            z = f + y / sigmoid(y*f)\n",
    "            self.beta = solveWRR(X, z, w, 2*lam).fit()\n",
    "            # Break condition (achieved convergence)\n",
    "            #if np.sum((beta-beta_old)**2) < eps:\n",
    "            #    break                \n",
    "        return self.beta\n",
    "    \n",
    "        \n",
    "    def predict(self, X, threshold):\n",
    "        return np.where(X.dot(self.beta) >= threshold, 1, 0)\n",
    "        \n",
    "          \n",
    "    def Accuracy_check(self,X, y, threshold=.5):\n",
    "        return np.mean(self.predict(X, threshold)==y)"
   ]
  },
  {
   "cell_type": "markdown",
   "metadata": {},
   "source": [
    "# Kernel"
   ]
  },
  {
   "cell_type": "code",
   "execution_count": 12,
   "metadata": {},
   "outputs": [
    {
     "name": "stdout",
     "output_type": "stream",
     "text": [
      "time: 30.3 ms\n"
     ]
    }
   ],
   "source": [
    "import numpy as np\n",
    "\n",
    "### Functions for you to fill in ###\n",
    "\n",
    "def polynomial_kernel(X, Y, c, p):\n",
    "    \"\"\"\n",
    "        Compute the polynomial kernel between two matrices X and Y::\n",
    "            K(x, y) = (<x, y> + c)^p\n",
    "        for each pair of rows x in X and y in Y.\n",
    "\n",
    "        Args:\n",
    "            X - (n, d) NumPy array (n datapoints each with d features)\n",
    "            Y - (m, d) NumPy array (m datapoints each with d features)\n",
    "            c - a coefficient to trade off high-order and low-order terms (scalar)\n",
    "            p - the degree of the polynomial kernel\n",
    "\n",
    "        Returns:\n",
    "            kernel_matrix - (n, m) Numpy array containing the kernel matrix\n",
    "    \"\"\"\n",
    "    # YOUR CODE HERE\n",
    "    # raise NotImplementedError\n",
    "    kernel_matrix = (X.dot(Y.T) + c)**p\n",
    "    \n",
    "    return kernel_matrix\n",
    "\n",
    "\n",
    "def rbf_kernel_element_wise(x, y, sigma=1):\n",
    "    '''\n",
    "    returns the RBF (Gaussian) kernel k(x, y)\n",
    "    \n",
    "    Input:\n",
    "    ------\n",
    "    x and y are p-dimensional vectors \n",
    "    '''\n",
    "    K = np.exp(- np.sum((x - y)**2) / (2 * sigma ** 2))\n",
    "    return K\n",
    "\n",
    "# def rbf_kernel(X1, X2, sigma=10):\n",
    "#     '''\n",
    "#     Returns the kernel matrix K(X1_i, X2_j): size (n1, n2)\n",
    "    \n",
    "#     Input:\n",
    "#     ------\n",
    "#     X1: an (n1, p) matrix\n",
    "#     X2: an (n2, p) matrix\n",
    "#     '''\n",
    "#     # For loop with rbf_kernel_element works but is slow in python\n",
    "#     # Use matrix operations!\n",
    "#     X2_norm = np.sum(X2 ** 2, axis=-1)\n",
    "#     X1_norm = np.sum(X1 ** 2, axis=-1)\n",
    "#     gamma = 1 / (2 * sigma ** 2)\n",
    "#     K = np.exp(- gamma * (X1_norm[:, None] + X2_norm[None, :] - 2 * np.dot(X1, X2.T)))\n",
    "#     return K\n",
    "\n",
    "# class rbf_kernel():\n",
    "#     '''\n",
    "#     Returns the kernel matrix K(X1_i, X2_j): size (n1, n2)\n",
    "    \n",
    "#     Input:\n",
    "#     ------\n",
    "#     X1: an (n1, p) matrix\n",
    "#     X2: a\n",
    "#     '''\n",
    "\n",
    "#     def __init__(self, sigma=2.0):\n",
    "#         self.sigma = sigma\n",
    "\n",
    "#     def _compute(self, X1, X2):\n",
    "#         # For loop with rbf_kernel_element works but is slow in python\n",
    "#         # Use matrix operations!\n",
    "#         X2_norm = np.sum(X2 ** 2, axis=-1)\n",
    "#         X1_norm = np.sum(X1 ** 2, axis=-1)\n",
    "#         gamma = 1 / (2 * self.sigma ** 2)\n",
    "#         K = np.exp(- gamma * (X1_norm[:, None] + X2_norm[None, :] - 2 * np.dot(X1, X2.T)))\n",
    "#         return K\n",
    "\n",
    "\n",
    "\n",
    "def laplace(X1, X2, alpha=10):\n",
    "    return np.exp(-alpha*np.abs(X1-X2))\n",
    "\n",
    "\n",
    "def linear_kernel(X1, X2):\n",
    "    '''\n",
    "    Returns the kernel matrix K(X1_i, X2_j): size (n1, n2)\n",
    "    where K is the linear kernel\n",
    "    \n",
    "    Input:\n",
    "    ------\n",
    "    X1: an (n1, p) matrix\n",
    "    X2: an (n2, p) matrix\n",
    "    '''\n",
    "    return X1.dot(X2.T)\n",
    "\n",
    "def quadratic_kernel(X1, X2, power=2):\n",
    "    '''\n",
    "    Returns the kernel matrix K(X1_i, X2_j): size (n1, n2)\n",
    "    where K is the quadratic kernel\n",
    "    \n",
    "    Input:\n",
    "    ------\n",
    "    X1: an (n1, p) matrix\n",
    "    X2: an (n2, p) matrix\n",
    "    '''\n",
    "    return (1 + linear_kernel(X1, X2))**power\n",
    "\n",
    "def rbf_poly_kernel(X1, X2, sigma=10, d=2, rbf=1.0, poly=1.0):\n",
    "    '''\n",
    "    Returns the kernel matrix K(X1_i, X2_j): size (n1, n2)\n",
    "    \n",
    "    Input:\n",
    "    ------\n",
    "    X1: an (n1, p) matrix\n",
    "    X2: an (n2, p) matrix\n",
    "    '''\n",
    "    # For loop with rbf_kernel_element works but is slow in python\n",
    "    # Use matrix operations!\n",
    "    X2_norm = np.sum(X2 ** 2, axis=-1)\n",
    "    X1_norm = np.sum(X1 ** 2, axis=-1)\n",
    "    gamma = 1 / (2 * sigma ** 2)\n",
    "    K = np.exp(- gamma * (X1_norm[:, None] + X2_norm[None, :] - 2 * np.dot(X1, X2.T)))\n",
    "    \n",
    "    return rbf*K + poly*(X1.dot(X2.T) +1)**d"
   ]
  },
  {
   "cell_type": "code",
   "execution_count": 13,
   "metadata": {},
   "outputs": [
    {
     "name": "stdout",
     "output_type": "stream",
     "text": [
      "time: 17.2 ms\n"
     ]
    }
   ],
   "source": [
    "class ksolveRR_2():\n",
    "    def __init__(self, X, y, lam= 0.0001, sigma=0.5, sample_weights = None, kernel = None):\n",
    "        self.alpha = None\n",
    "        self.X = X\n",
    "        self.y = y\n",
    "        self.lam = lam\n",
    "        self.sigma = sigma\n",
    "        self.kernel = kernel\n",
    "        self.sample_weights = sample_weights\n",
    "            \n",
    "    \n",
    "    def fit(self):\n",
    "        if self.sample_weights is not None:\n",
    "            self.X *= self.sample_weights[:, None]\n",
    "        \n",
    "        X = self.X\n",
    "        y = self.y\n",
    "        lam = self.lam\n",
    "        \n",
    "        n, p = X.shape\n",
    "        assert (len(y) == n)\n",
    "        \n",
    "        A = self.kernel(X, X)+n*self.lam*np.eye(n)\n",
    "        self.alpha = np.linalg.solve(A, y)\n",
    "        \n",
    "        return self\n",
    "    \n",
    "        \n",
    "    def predict(self, X, threshold=.5):\n",
    "        K_x = self.kernel(X, self.X)\n",
    "        return np.where(K_x.dot(self.alpha) >= threshold, 1, 0)\n",
    "        \n",
    "          \n",
    "    def Accuracy_check(self,X, y, threshold=.5):\n",
    "        return np.mean(self.predict(X, threshold)==y)"
   ]
  },
  {
   "cell_type": "code",
   "execution_count": 14,
   "metadata": {},
   "outputs": [
    {
     "name": "stdout",
     "output_type": "stream",
     "text": [
      "time: 12.9 ms\n"
     ]
    }
   ],
   "source": [
    "class ksolveRR():\n",
    "    def __init__(self, X, y, lam= 0.0001, kernel=None):\n",
    "        self.beta = None\n",
    "        self.X = X\n",
    "        self.y = y\n",
    "        self.lam = lam\n",
    "        self.kernel = kernel\n",
    "            \n",
    "    \n",
    "    def fit(self):\n",
    "        X = self.X\n",
    "        y = self.y\n",
    "        lam = self.lam \n",
    "        \n",
    "        n, p = X.shape\n",
    "        assert (len(y) == n)\n",
    "        \n",
    "#         if self.sigma is None:\n",
    "#             self.sigma = sigma_from_median(X)\n",
    "            \n",
    "#         A = self.kernel(X, X, self.sigma)+n*self.lam*np.eye(n)\n",
    "        A = self.kernel(X, X) + n*self.lam*np.eye(n)\n",
    "        self.alpha = np.linalg.solve(A, y)\n",
    "        \n",
    "        return self.beta\n",
    "    \n",
    "        \n",
    "    def predict(self, X, threshold=.5):\n",
    "#         K_x = self.kernel(X, self.X, self.sigma)\n",
    "        K_x = self.kernel(X, self.X)\n",
    "        return np.where(K_x.dot(self.alpha) >= threshold, 1, 0)\n",
    "        \n",
    "          \n",
    "    def Accuracy_check(self,X, y, threshold=.5):\n",
    "        return np.mean(self.predict(X, threshold)==y)"
   ]
  },
  {
   "cell_type": "code",
   "execution_count": 36,
   "metadata": {},
   "outputs": [
    {
     "name": "stdout",
     "output_type": "stream",
     "text": [
      "time: 103 ms\n"
     ]
    }
   ],
   "source": [
    "# Logistic Ridge Regression (LRR)\n",
    "class ksolveLRR():\n",
    "    def __init__(self, X, y, lam = 0.1, max_iter=100, tol=1e-5, kernel=None):\n",
    "        self.alpha = None\n",
    "        self.X = X\n",
    "        self.y = y\n",
    "        self.lam = lam\n",
    "        \n",
    "        self.kernel = kernel\n",
    "        \n",
    "        self.max_iter = max_iter\n",
    "        self.tol = tol\n",
    "        \n",
    "    \n",
    "    def fit(self):\n",
    "        \n",
    "        X = self.X\n",
    "        y = self.y\n",
    "        \n",
    "        n, p = X.shape\n",
    "        assert (len(y) == n)\n",
    "\n",
    "        sigmoid = lambda a: 1/(1 + np.exp(-a))\n",
    "        \n",
    "        K = self.kernel(X, X)\n",
    "\n",
    "        # Initialize\n",
    "        alpha = np.zeros(n)\n",
    "        \n",
    "        # Hint: Use IRLS\n",
    "        for n_iter in range(self.max_iter):\n",
    "            alpha_old = alpha\n",
    "            f = K.dot(alpha_old)\n",
    "            w = sigmoid(f) * sigmoid(-f)\n",
    "            z = f + y / sigmoid(y*(f))\n",
    "            \n",
    "            alpha = ksolveRR_2(X, y, lam = 2*self.lam, \\\n",
    "                            sample_weights = w, kernel = self.kernel).fit().alpha\n",
    "            \n",
    "            # Break condition (achieved convergence)\n",
    "            if np.sum((alpha-alpha_old)**2) < self.tol:\n",
    "                break  \n",
    "                \n",
    "                \n",
    "        self.n_iter = n_iter\n",
    "        self.alpha = alpha\n",
    "        \n",
    "        return self\n",
    "    \n",
    "        \n",
    "    def predict(self, X, threshold):\n",
    "        K_x = self.kernel(X, self.X)\n",
    "        return np.where(K_x.dot(self.alpha) >= threshold, 1, 0)\n",
    "        \n",
    "          \n",
    "    def Accuracy_check(self,X, y, threshold=.5):\n",
    "        return np.mean(self.predict(X, threshold)==y)"
   ]
  },
  {
   "cell_type": "code",
   "execution_count": 27,
   "metadata": {},
   "outputs": [
    {
     "name": "stdout",
     "output_type": "stream",
     "text": [
      "time: 314 ms\n"
     ]
    }
   ],
   "source": [
    "# You don't need to look at this, this is just to adapt our matrices\n",
    "# to the solver being used\n",
    "solver='cvxopt'\n",
    "\n",
    "import cvxopt\n",
    "\n",
    "def cvxopt_qp(P, q, G, h, A, b):\n",
    "    P = .5 * (P + P.T)\n",
    "    cvx_matrices = [\n",
    "        cvxopt.matrix(M) if M is not None else None for M in [P, q, G, h, A, b] \n",
    "    ]\n",
    "    #cvxopt.solvers.options['show_progress'] = False\n",
    "    solution = cvxopt.solvers.qp(*cvx_matrices, options={'show_progress': False})\n",
    "    return np.array(solution['x']).flatten()\n",
    "\n",
    "solve_qp = cvxopt_qp\n",
    "\n",
    "def quadprog_solve_qp(P, q, G=None, h=None, A=None, b=None):\n",
    "    qp_G = .5 * (P + P.T)   # make sure P is symmetric\n",
    "    qp_a = -q\n",
    "    if A is not None:\n",
    "        qp_C = -np.vstack([A, G]).T\n",
    "        qp_b = -np.hstack([b, h])\n",
    "        meq = A.shape[0]\n",
    "    else:  # no equality constraint\n",
    "        qp_C = - G.T\n",
    "        qp_b = - h\n",
    "        meq = 0\n",
    "    return quadprog.solve_qp(qp_G, qp_a, qp_C, qp_b, meq)[0]\n",
    "\n",
    "def cvxopt_qp(P, q, G, h, A, b):\n",
    "    P = .5 * (P + P.T)\n",
    "    cvx_matrices = [\n",
    "        cvxopt.matrix(M) if M is not None else None for M in [P, q, G, h, A, b] \n",
    "    ]\n",
    "    solution = cvxopt.solvers.qp(*cvx_matrices)\n",
    "    return np.array(solution['x']).flatten()\n",
    "\n",
    "solve_qp = {'quadprog': quadprog_solve_qp, 'cvxopt': cvxopt_qp}[solver]\n",
    "\n",
    "def svm_dual_soft_to_qp_kernel(K, y, C=1):\n",
    "    n = K.shape[0]\n",
    "    assert (len(y) == n)\n",
    "        \n",
    "    # Dual formulation, soft margin\n",
    "    P = np.diag(y).dot(K).dot(np.diag(y))\n",
    "    # As a regularization, we add epsilon * identity to P\n",
    "    eps = 1e-12\n",
    "    P += eps * np.eye(n)\n",
    "    q = - np.ones(n)\n",
    "    G = np.vstack([-np.eye(n), np.eye(n)])\n",
    "    h = np.hstack([np.zeros(n), C * np.ones(n)])\n",
    "    A = y[np.newaxis, :]\n",
    "    A = A.astype('float')\n",
    "    b = np.array([0.])\n",
    "    return P, q, G, h, A, b\n",
    "\n",
    "# SVM primal soft\n",
    "class KernelSVM():\n",
    "    def __init__(self, X, y, C=0.1, lam = 0.1, sigma = 4, tol = 1e-1, kernel=None):\n",
    "        self.alpha = None\n",
    "        self.X = X\n",
    "        self.y = y\n",
    "        self.w = None\n",
    "        self.b = None\n",
    "        self.C = C\n",
    "        self.kernel = kernel\n",
    "        self.lam = lam        \n",
    "        self.sigma = sigma\n",
    "        self.tol = tol\n",
    "    \n",
    "    def fit(self):\n",
    "        \n",
    "        X = self.X\n",
    "        y = self.y\n",
    "        C = self.C\n",
    "        \n",
    "        n, p = X.shape\n",
    "        assert (len(y) == n)\n",
    "        K = self.kernel(X, X)\n",
    "        \n",
    "        # Solve dual problem\n",
    "        self.alpha = solve_qp(*svm_dual_soft_to_qp_kernel(K, y, C=self.C))\n",
    "        \n",
    "        \n",
    "       # Compute support vectors and bias b\n",
    "        sv = np.logical_and((self.alpha>self.tol), (self.C - self.alpha > self.tol))\n",
    "        self.bias = y[sv] - K[sv].dot(self.alpha*y)\n",
    "        self.bias =  self.bias.mean()\n",
    "\n",
    "        self.support_vector_indices = np.nonzero(sv)[0]\n",
    "        \n",
    "        return self\n",
    "        \n",
    "        \n",
    "        \n",
    "    def predict(self, X, threshold):\n",
    "#         y_pred = self.kernel(X, self.X_).dot(self.alphas* seld.y_)\n",
    "        K_x = self.kernel(X, self.X)\n",
    "        return np.where((K_x.dot(self.alpha * self.y) +  self.bias) >= threshold, 1, 0)\n",
    "        \n",
    "          \n",
    "    def Accuracy_check(self,X, y, threshold=.5):\n",
    "        return np.mean(self.predict(X, threshold)==y)"
   ]
  },
  {
   "cell_type": "markdown",
   "metadata": {},
   "source": [
    "# Cross Validation"
   ]
  },
  {
   "cell_type": "code",
   "execution_count": 28,
   "metadata": {},
   "outputs": [
    {
     "name": "stdout",
     "output_type": "stream",
     "text": [
      "time: 272 ms\n"
     ]
    }
   ],
   "source": [
    "X_train_ = pd.read_csv('./data/Xtr.csv', sep=',') #we use this dataset to train our model\n",
    "Y_train_ = pd.read_csv('./data/Ytr.csv', sep=',') #we use this dataset to train our model\n",
    "X_test_ = pd.read_csv('./data/Xte.csv', sep=',')\n",
    "\n",
    "kfold=KFold(n_splits=5)\n",
    "\n",
    "def spectrum_kernal(X_train, y, X_test, n=2, encoder=4, one_hot = True, normalise = False):\n",
    "    \n",
    "    d = {'A': 0.1, 'C':0.2, 'G':0.3, 'T':0.4}\n",
    "    \n",
    "    for i in range(0, 101-n+1, 1):\n",
    "        X_train['seq_'+str(i)] = X_train.seq.apply(lambda x :x[i:i+n])\n",
    "        X_test['seq_'+str(i)] = X_test.seq.apply(lambda x :x[i:i+n])\n",
    "        \n",
    "        X_train['seq_'+str(i)] = X_train['seq_'+str(i)].apply(lambda x : sum([d[x[ii]]*encoder**(ii+1) for ii in range(n)]))\n",
    "        X_test['seq_'+str(i)] = X_test['seq_'+str(i)].apply(lambda x : sum([d[x[ii]]*encoder**(ii+1) for ii in range(n)]))\n",
    "        \n",
    "        \n",
    "        \n",
    "    X = X_train.drop(['seq', 'Id'], axis=1)\n",
    "    X_t = X_test.drop(['seq', 'Id'], axis=1)\n",
    "    y = Y_train.Bound\n",
    "    \n",
    "#     print(f'Train: \\n{X.tail()}\\n -----------------------\\n')\n",
    "#     print(f'Test: \\n {X_t.tail()}')\n",
    "\n",
    "    if one_hot:\n",
    "        onehot_encoder = OneHotEncoder(sparse=False, categories='auto', handle_unknown='ignore')\n",
    "\n",
    "        X_cross = X.values\n",
    "        X_t = X_t.values\n",
    "        \n",
    "        enc = onehot_encoder.fit(X)\n",
    "        X_cross = enc.transform(X)\n",
    "        X_t_enc = enc.transform(X_t)\n",
    "        \n",
    "    elif normalise:\n",
    "        scaler = MinMaxScaler()#MinMaxScaler() # StandardScaler()\n",
    "        scaler.fit(X)\n",
    "        \n",
    "        X_cross = scaler.transform(X)\n",
    "        X_t_enc = scaler.transform(X_t)\n",
    "        \n",
    "    else :\n",
    "        \n",
    "        X_cross = X.values\n",
    "        X_t_enc = X_t.values\n",
    "    \n",
    "    y_cross = y.values\n",
    "    \n",
    "    return X_cross, y_cross, X_t_enc\n",
    "\n",
    "# X_cross, y_cross, X_t_enc = spectrum_kernal(X_train, Y_train, X_test, n=5, encoder=3, one_hot = True, normalise = False)"
   ]
  },
  {
   "cell_type": "code",
   "execution_count": 29,
   "metadata": {},
   "outputs": [
    {
     "name": "stdout",
     "output_type": "stream",
     "text": [
      "time: 1.07 ms\n"
     ]
    }
   ],
   "source": [
    "# X_train_ = pd.read_csv('./data/Xtr.csv', sep=',') #we use this dataset to train our model\n",
    "# Y_train_ = pd.read_csv('./data/Ytr.csv', sep=',') #we use this dataset to train our model\n",
    "# X_test_ = pd.read_csv('./data/Xte.csv', sep=',')\n",
    "\n",
    "# X_cross, y_cross, X_t_enc = spectrum_kernal(X_train_, Y_train_, X_test_, n=1, encoder=8, one_hot = True, normalise = False)"
   ]
  },
  {
   "cell_type": "code",
   "execution_count": 30,
   "metadata": {},
   "outputs": [
    {
     "name": "stdout",
     "output_type": "stream",
     "text": [
      "time: 711 µs\n"
     ]
    }
   ],
   "source": [
    "# rbf_kernel(X_cross, X_cross)"
   ]
  },
  {
   "cell_type": "code",
   "execution_count": 31,
   "metadata": {},
   "outputs": [
    {
     "name": "stdout",
     "output_type": "stream",
     "text": [
      "time: 810 µs\n"
     ]
    }
   ],
   "source": [
    "# k = RBF(gamma=2)\n",
    "# k(X_cross, X_cross)"
   ]
  },
  {
   "cell_type": "code",
   "execution_count": 32,
   "metadata": {},
   "outputs": [
    {
     "name": "stdout",
     "output_type": "stream",
     "text": [
      "time: 750 µs\n"
     ]
    }
   ],
   "source": [
    "# Laplacian"
   ]
  },
  {
   "cell_type": "code",
   "execution_count": 33,
   "metadata": {},
   "outputs": [
    {
     "name": "stdout",
     "output_type": "stream",
     "text": [
      "time: 1.84 ms\n"
     ]
    }
   ],
   "source": [
    "from kernels.basic import RBF, Linear, Polynomial\n",
    "from kernels.regular import rbf_kernel, Exponential, Laplacian, RationalQuadratic, \\\n",
    "                            InverseMultiquadratic, Cauchy, TStudent, ANOVA, Fourier, Tanimoto, Sorensen\n"
   ]
  },
  {
   "cell_type": "code",
   "execution_count": null,
   "metadata": {},
   "outputs": [
    {
     "name": "stderr",
     "output_type": "stream",
     "text": [
      "/usr/local/lib/python3.6/dist-packages/optuna/_experimental.py:90: ExperimentalWarning:\n",
      "\n",
      "Progress bar is experimental (supported from v1.2.0). The interface can change in the future.\n",
      "\n"
     ]
    },
    {
     "data": {
      "application/vnd.jupyter.widget-view+json": {
       "model_id": "db9b38d123c6482eac6ff5af4ba80632",
       "version_major": 2,
       "version_minor": 0
      },
      "text/plain": [
       "HBox(children=(FloatProgress(value=0.0, max=1500.0), HTML(value='')))"
      ]
     },
     "metadata": {},
     "output_type": "display_data"
    },
    {
     "name": "stderr",
     "output_type": "stream",
     "text": [
      "/usr/local/lib/python3.6/dist-packages/ipykernel_launcher.py:23: RuntimeWarning:\n",
      "\n",
      "overflow encountered in exp\n",
      "\n",
      "/usr/local/lib/python3.6/dist-packages/ipykernel_launcher.py:35: RuntimeWarning:\n",
      "\n",
      "divide by zero encountered in true_divide\n",
      "\n"
     ]
    },
    {
     "name": "stdout",
     "output_type": "stream",
     "text": [
      "\u001b[32m[I 2020-05-31 19:48:07,762]\u001b[0m Finished trial#0 with value: 0.501 with parameters: {'q': 0.0033539517178231594, 'sigma': 5.175174922023516, 'kenel': 4, 'lam': 3.4135492235510256e-12, 'd': 2, 'c': 5.136948969694324, 'degree': 4, 'models': 2}. Best is trial#0 with value: 0.501.\u001b[0m\n",
      "\u001b[32m[I 2020-05-31 19:48:17,201]\u001b[0m Finished trial#1 with value: 0.501 with parameters: {'q': 0.0742205914350383, 'sigma': 5.256479239161793, 'kenel': 6, 'lam': 1.266029981884217e-06, 'd': 7, 'c': 1.8668443879312662, 'degree': 10, 'models': 0}. Best is trial#0 with value: 0.501.\u001b[0m\n"
     ]
    },
    {
     "name": "stderr",
     "output_type": "stream",
     "text": [
      "/usr/local/lib/python3.6/dist-packages/ipykernel_launcher.py:23: RuntimeWarning:\n",
      "\n",
      "overflow encountered in exp\n",
      "\n",
      "/usr/local/lib/python3.6/dist-packages/ipykernel_launcher.py:35: RuntimeWarning:\n",
      "\n",
      "divide by zero encountered in true_divide\n",
      "\n"
     ]
    },
    {
     "name": "stdout",
     "output_type": "stream",
     "text": [
      "\u001b[32m[I 2020-05-31 19:48:52,989]\u001b[0m Finished trial#2 with value: 0.501 with parameters: {'q': 0.00042454778168854966, 'sigma': 6.449587952364318, 'kenel': 6, 'lam': 1.5583936196947108e-14, 'd': 2, 'c': 3.3558129806277925, 'degree': 5, 'models': 2}. Best is trial#0 with value: 0.501.\u001b[0m\n",
      "\u001b[32m[I 2020-05-31 19:54:40,499]\u001b[0m Finished trial#3 with value: 0.624 with parameters: {'q': 0.006302591957594163, 'sigma': 3.0868792628392376, 'kenel': 7, 'lam': 6.298605765927448e-08, 'd': 3, 'c': 3.1137598732662686, 'degree': 10, 'models': 0}. Best is trial#3 with value: 0.624.\u001b[0m\n",
      "\u001b[32m[I 2020-05-31 19:54:47,542]\u001b[0m Finished trial#4 with value: 0.6469999999999999 with parameters: {'q': 7.089647577677001e-05, 'sigma': 4.087873100803296, 'kenel': 4, 'lam': 1.187298274347308e-08, 'd': 4, 'c': 1.4412685833377243, 'degree': 3, 'models': 0}. Best is trial#4 with value: 0.6469999999999999.\u001b[0m\n",
      "\u001b[32m[I 2020-05-31 19:54:55,165]\u001b[0m Finished trial#5 with value: 0.6440000000000001 with parameters: {'q': 0.0016796010226451917, 'sigma': 3.311696080210207, 'kenel': 4, 'lam': 6.40733823732897e-08, 'd': 2, 'c': 1.737387146690807, 'degree': 8, 'models': 0}. Best is trial#4 with value: 0.6469999999999999.\u001b[0m\n",
      "\u001b[32m[I 2020-05-31 19:55:25,523]\u001b[0m Finished trial#6 with value: 0.501 with parameters: {'q': 0.0002711372140170788, 'sigma': 4.190496667611391, 'kenel': 4, 'lam': 1.1839385900247541e-06, 'd': 5, 'c': 4.660677092331316, 'degree': 4, 'models': 2}. Best is trial#4 with value: 0.6469999999999999.\u001b[0m\n",
      "\u001b[32m[I 2020-05-31 19:55:33,766]\u001b[0m Finished trial#7 with value: 0.6405 with parameters: {'q': 1.642424107078544e-05, 'sigma': 7.1241012847637775, 'kenel': 5, 'lam': 1.106921546657743e-09, 'd': 4, 'c': 1.24005628243413, 'degree': 9, 'models': 0}. Best is trial#4 with value: 0.6469999999999999.\u001b[0m\n",
      "\u001b[32m[I 2020-05-31 20:11:36,780]\u001b[0m Finished trial#8 with value: 0.501 with parameters: {'q': 0.009372281062082129, 'sigma': 4.305111045524843, 'kenel': 8, 'lam': 8.043252780850706e-14, 'd': 4, 'c': 1.4838848503131479, 'degree': 7, 'models': 2}. Best is trial#4 with value: 0.6469999999999999.\u001b[0m\n",
      "\u001b[32m[I 2020-05-31 20:17:17,803]\u001b[0m Finished trial#9 with value: 0.49050000000000005 with parameters: {'q': 0.16945364463725734, 'sigma': 7.6593048652340245, 'kenel': 7, 'lam': 4.7537066988402375e-15, 'd': 3, 'c': 3.668263612628968, 'degree': 3, 'models': 0}. Best is trial#4 with value: 0.6469999999999999.\u001b[0m\n",
      "\u001b[32m[I 2020-05-31 20:23:05,808]\u001b[0m Finished trial#10 with value: 0.501 with parameters: {'q': 1.0213748921793202e-05, 'sigma': 3.742270380803051, 'kenel': 8, 'lam': 9.514538580177807e-11, 'd': 7, 'c': 1.0013522298181532, 'degree': 2, 'models': 0}. Best is trial#4 with value: 0.6469999999999999.\u001b[0m\n",
      "\u001b[32m[I 2020-05-31 20:23:13,200]\u001b[0m Finished trial#11 with value: 0.6455 with parameters: {'q': 0.00012747133997714674, 'sigma': 3.017762591629342, 'kenel': 4, 'lam': 4.446742010084426e-05, 'd': 5, 'c': 2.1264139861587354, 'degree': 7, 'models': 0}. Best is trial#4 with value: 0.6469999999999999.\u001b[0m\n",
      "\u001b[32m[I 2020-05-31 20:23:20,491]\u001b[0m Finished trial#12 with value: 0.6439999999999999 with parameters: {'q': 5.196179634574031e-05, 'sigma': 3.0300145585502936, 'kenel': 4, 'lam': 1.7942850983983356e-05, 'd': 6, 'c': 2.102740227009877, 'degree': 6, 'models': 0}. Best is trial#4 with value: 0.6469999999999999.\u001b[0m\n",
      "\u001b[32m[I 2020-05-31 20:23:26,946]\u001b[0m Finished trial#13 with value: 0.6445000000000001 with parameters: {'q': 8.587525776740565e-05, 'sigma': 3.913045278329869, 'kenel': 4, 'lam': 6.9773591909894e-05, 'd': 5, 'c': 2.334737549605764, 'degree': 7, 'models': 0}. Best is trial#4 with value: 0.6469999999999999.\u001b[0m\n",
      "\u001b[32m[I 2020-05-31 20:23:33,674]\u001b[0m Finished trial#14 with value: 0.641 with parameters: {'q': 1.9048090172708556, 'sigma': 3.565875404821947, 'kenel': 4, 'lam': 2.6522781639645186e-09, 'd': 6, 'c': 1.1057995233086366, 'degree': 2, 'models': 0}. Best is trial#4 with value: 0.6469999999999999.\u001b[0m\n",
      "\u001b[32m[I 2020-05-31 20:23:40,265]\u001b[0m Finished trial#15 with value: 0.6465 with parameters: {'q': 4.86098933415591e-05, 'sigma': 4.641924748701324, 'kenel': 5, 'lam': 2.583545783030138e-11, 'd': 4, 'c': 7.799484156383117, 'degree': 6, 'models': 0}. Best is trial#4 with value: 0.6469999999999999.\u001b[0m\n",
      "\u001b[32m[I 2020-05-31 20:23:46,931]\u001b[0m Finished trial#16 with value: 0.6460000000000001 with parameters: {'q': 3.1170968550903984e-05, 'sigma': 4.6466467813530015, 'kenel': 5, 'lam': 4.694764990011961e-12, 'd': 4, 'c': 7.276406900500901, 'degree': 5, 'models': 0}. Best is trial#4 with value: 0.6469999999999999.\u001b[0m\n",
      "\u001b[32m[I 2020-05-31 20:23:54,080]\u001b[0m Finished trial#17 with value: 0.643 with parameters: {'q': 0.0009080402448482595, 'sigma': 5.798207222527296, 'kenel': 5, 'lam': 9.177149827578115e-12, 'd': 3, 'c': 5.420132674373428, 'degree': 5, 'models': 0}. Best is trial#4 with value: 0.6469999999999999.\u001b[0m\n",
      "\u001b[32m[I 2020-05-31 20:24:00,241]\u001b[0m Finished trial#18 with value: 0.6455 with parameters: {'q': 1.0270463973387332e-05, 'sigma': 4.71638902476276, 'kenel': 5, 'lam': 1.223050130467218e-10, 'd': 4, 'c': 7.619681554612858, 'degree': 3, 'models': 0}. Best is trial#4 with value: 0.6469999999999999.\u001b[0m\n",
      "\u001b[32m[I 2020-05-31 20:24:06,796]\u001b[0m Finished trial#19 with value: 0.643 with parameters: {'q': 0.0002471796035940021, 'sigma': 5.872268387837576, 'kenel': 5, 'lam': 1.5398255660800252e-13, 'd': 6, 'c': 2.6180991251844308, 'degree': 6, 'models': 0}. Best is trial#4 with value: 0.6469999999999999.\u001b[0m\n",
      "\u001b[32m[I 2020-05-31 20:29:49,424]\u001b[0m Finished trial#20 with value: 0.624 with parameters: {'q': 0.028637588551929556, 'sigma': 4.268574313916711, 'kenel': 7, 'lam': 9.283165004173435e-09, 'd': 8, 'c': 1.397088777851886, 'degree': 4, 'models': 0}. Best is trial#4 with value: 0.6469999999999999.\u001b[0m\n",
      "\u001b[32m[I 2020-05-31 20:29:55,490]\u001b[0m Finished trial#21 with value: 0.6455 with parameters: {'q': 3.2246876344927705e-05, 'sigma': 4.723104688574701, 'kenel': 5, 'lam': 6.142424386134229e-12, 'd': 4, 'c': 7.9330815706917885, 'degree': 5, 'models': 0}. Best is trial#4 with value: 0.6469999999999999.\u001b[0m\n",
      "\u001b[32m[I 2020-05-31 20:30:01,887]\u001b[0m Finished trial#22 with value: 0.6460000000000001 with parameters: {'q': 2.8083170452313903e-05, 'sigma': 4.672374518206921, 'kenel': 5, 'lam': 7.95253021082194e-13, 'd': 3, 'c': 6.563905456594917, 'degree': 3, 'models': 0}. Best is trial#4 with value: 0.6469999999999999.\u001b[0m\n",
      "\u001b[32m[I 2020-05-31 20:30:07,535]\u001b[0m Finished trial#23 with value: 0.642 with parameters: {'q': 1.1230192390464678e-05, 'sigma': 5.249227789957003, 'kenel': 5, 'lam': 4.3396711351577564e-13, 'd': 3, 'c': 6.043594305171836, 'degree': 3, 'models': 0}. Best is trial#4 with value: 0.6469999999999999.\u001b[0m\n",
      "\u001b[32m[I 2020-05-31 20:30:13,847]\u001b[0m Finished trial#24 with value: 0.6445 with parameters: {'q': 5.539559253144799e-05, 'sigma': 3.99635549706416, 'kenel': 5, 'lam': 1.3146455131976435e-10, 'd': 4, 'c': 4.406114945916801, 'degree': 5, 'models': 0}. Best is trial#4 with value: 0.6469999999999999.\u001b[0m\n",
      "\u001b[32m[I 2020-05-31 20:30:20,014]\u001b[0m Finished trial#25 with value: 0.5109999999999999 with parameters: {'q': 0.0006122824635284135, 'sigma': 3.5595182014532947, 'kenel': 6, 'lam': 1.1592607987180082e-15, 'd': 3, 'c': 6.292266150196874, 'degree': 2, 'models': 0}. Best is trial#4 with value: 0.6469999999999999.\u001b[0m\n",
      "\u001b[32m[I 2020-05-31 20:44:04,020]\u001b[0m Finished trial#26 with value: 0.501 with parameters: {'q': 0.00011415745286124887, 'sigma': 4.580573903330718, 'kenel': 8, 'lam': 2.9294538340042995e-08, 'd': 3, 'c': 3.915877917129389, 'degree': 3, 'models': 2}. Best is trial#4 with value: 0.6469999999999999.\u001b[0m\n",
      "\u001b[32m[I 2020-05-31 20:44:09,282]\u001b[0m Finished trial#27 with value: 0.6435000000000001 with parameters: {'q': 0.00016393459984221677, 'sigma': 5.729938226183628, 'kenel': 5, 'lam': 3.242183695847406e-11, 'd': 5, 'c': 7.305815000526287, 'degree': 6, 'models': 0}. Best is trial#4 with value: 0.6469999999999999.\u001b[0m\n",
      "\u001b[32m[I 2020-05-31 20:44:14,718]\u001b[0m Finished trial#28 with value: 0.6450000000000001 with parameters: {'q': 2.07141936175354e-05, 'sigma': 4.944175304789598, 'kenel': 5, 'lam': 6.270340023643722e-13, 'd': 2, 'c': 6.390397971623661, 'degree': 4, 'models': 0}. Best is trial#4 with value: 0.6469999999999999.\u001b[0m\n"
     ]
    },
    {
     "name": "stderr",
     "output_type": "stream",
     "text": [
      "/usr/local/lib/python3.6/dist-packages/ipykernel_launcher.py:23: RuntimeWarning:\n",
      "\n",
      "overflow encountered in exp\n",
      "\n",
      "/usr/local/lib/python3.6/dist-packages/ipykernel_launcher.py:35: RuntimeWarning:\n",
      "\n",
      "divide by zero encountered in true_divide\n",
      "\n"
     ]
    },
    {
     "name": "stdout",
     "output_type": "stream",
     "text": [
      "\u001b[32m[I 2020-05-31 20:44:32,986]\u001b[0m Finished trial#29 with value: 0.501 with parameters: {'q': 0.0012598691660435839, 'sigma': 5.0994992095793465, 'kenel': 4, 'lam': 9.524530762776943e-10, 'd': 2, 'c': 5.138033972864018, 'degree': 4, 'models': 2}. Best is trial#4 with value: 0.6469999999999999.\u001b[0m\n",
      "\u001b[32m[I 2020-05-31 20:44:38,801]\u001b[0m Finished trial#30 with value: 0.6455 with parameters: {'q': 0.0033309915872585774, 'sigma': 4.403870783183804, 'kenel': 5, 'lam': 1.0381824769488752e-12, 'd': 4, 'c': 2.756043105356326, 'degree': 8, 'models': 0}. Best is trial#4 with value: 0.6469999999999999.\u001b[0m\n",
      "\u001b[32m[I 2020-05-31 20:44:44,930]\u001b[0m Finished trial#31 with value: 0.6445000000000001 with parameters: {'q': 2.904576925033007e-05, 'sigma': 3.9764166505601275, 'kenel': 5, 'lam': 2.8975969296731156e-12, 'd': 4, 'c': 6.960992929331008, 'degree': 3, 'models': 0}. Best is trial#4 with value: 0.6469999999999999.\u001b[0m\n",
      "\u001b[32m[I 2020-05-31 20:44:50,295]\u001b[0m Finished trial#32 with value: 0.6425 with parameters: {'q': 5.4213708493222793e-05, 'sigma': 5.486185389436367, 'kenel': 5, 'lam': 3.9677034097686294e-11, 'd': 3, 'c': 5.687911627525325, 'degree': 5, 'models': 0}. Best is trial#4 with value: 0.6469999999999999.\u001b[0m\n",
      "\u001b[32m[I 2020-05-31 20:44:55,561]\u001b[0m Finished trial#33 with value: 0.5109999999999999 with parameters: {'q': 2.248263267252571e-05, 'sigma': 4.575931531673893, 'kenel': 6, 'lam': 2.1266865652495317e-14, 'd': 4, 'c': 7.7224522446352495, 'degree': 2, 'models': 0}. Best is trial#4 with value: 0.6469999999999999.\u001b[0m\n",
      "\u001b[32m[I 2020-05-31 20:45:02,115]\u001b[0m Finished trial#34 with value: 0.6450000000000001 with parameters: {'q': 0.0003122585191365957, 'sigma': 4.969031400585539, 'kenel': 5, 'lam': 1.4176368474596783e-11, 'd': 5, 'c': 4.530519254975509, 'degree': 4, 'models': 0}. Best is trial#4 with value: 0.6469999999999999.\u001b[0m\n",
      "\u001b[32m[I 2020-05-31 20:45:07,399]\u001b[0m Finished trial#35 with value: 0.6455 with parameters: {'q': 5.9914405377712005e-05, 'sigma': 4.128995157731502, 'kenel': 5, 'lam': 1.1544376225764542e-12, 'd': 3, 'c': 6.771161022450328, 'degree': 5, 'models': 0}. Best is trial#4 with value: 0.6469999999999999.\u001b[0m\n",
      "\u001b[32m[I 2020-05-31 20:49:55,451]\u001b[0m Finished trial#36 with value: 0.624 with parameters: {'q': 3.292420470180926e-05, 'sigma': 4.473037590034231, 'kenel': 7, 'lam': 6.799045061160635e-07, 'd': 2, 'c': 1.678190906233727, 'degree': 6, 'models': 0}. Best is trial#4 with value: 0.6469999999999999.\u001b[0m\n"
     ]
    },
    {
     "name": "stderr",
     "output_type": "stream",
     "text": [
      "/usr/local/lib/python3.6/dist-packages/ipykernel_launcher.py:23: RuntimeWarning:\n",
      "\n",
      "overflow encountered in exp\n",
      "\n",
      "/usr/local/lib/python3.6/dist-packages/ipykernel_launcher.py:35: RuntimeWarning:\n",
      "\n",
      "divide by zero encountered in true_divide\n",
      "\n"
     ]
    },
    {
     "name": "stdout",
     "output_type": "stream",
     "text": [
      "\u001b[32m[I 2020-05-31 20:50:29,112]\u001b[0m Finished trial#37 with value: 0.501 with parameters: {'q': 1.1009993183229729e-05, 'sigma': 6.304814984781388, 'kenel': 6, 'lam': 3.4954009375729014e-10, 'd': 4, 'c': 3.145408009190301, 'degree': 8, 'models': 2}. Best is trial#4 with value: 0.6469999999999999.\u001b[0m\n",
      "\u001b[32m[I 2020-05-31 20:50:36,218]\u001b[0m Finished trial#38 with value: 0.635 with parameters: {'q': 0.00018552225917502435, 'sigma': 3.301263671010629, 'kenel': 4, 'lam': 1.3422602271933507e-13, 'd': 5, 'c': 7.902225758338789, 'degree': 4, 'models': 0}. Best is trial#4 with value: 0.6469999999999999.\u001b[0m\n",
      "\u001b[32m[I 2020-05-31 20:50:42,377]\u001b[0m Finished trial#39 with value: 0.6415 with parameters: {'q': 0.0005964762596847563, 'sigma': 5.455410931320611, 'kenel': 5, 'lam': 2.5806537751963184e-07, 'd': 3, 'c': 4.861080441981414, 'degree': 7, 'models': 0}. Best is trial#4 with value: 0.6469999999999999.\u001b[0m\n",
      "\u001b[32m[I 2020-05-31 20:50:48,380]\u001b[0m Finished trial#40 with value: 0.6450000000000001 with parameters: {'q': 0.002773564693726911, 'sigma': 3.8179637983381234, 'kenel': 5, 'lam': 4.828213936223426e-09, 'd': 4, 'c': 3.7419480495215764, 'degree': 3, 'models': 0}. Best is trial#4 with value: 0.6469999999999999.\u001b[0m\n",
      "\u001b[32m[I 2020-05-31 20:50:54,107]\u001b[0m Finished trial#41 with value: 0.6455 with parameters: {'q': 3.079186137589187e-05, 'sigma': 4.719778138939824, 'kenel': 5, 'lam': 6.369895807339871e-12, 'd': 4, 'c': 7.9893491841705275, 'degree': 5, 'models': 0}. Best is trial#4 with value: 0.6469999999999999.\u001b[0m\n",
      "\u001b[32m[I 2020-05-31 20:50:59,860]\u001b[0m Finished trial#42 with value: 0.6450000000000001 with parameters: {'q': 1.8202047198669008e-05, 'sigma': 4.759139974203648, 'kenel': 5, 'lam': 2.904889718465997e-12, 'd': 4, 'c': 6.75552485086232, 'degree': 5, 'models': 0}. Best is trial#4 with value: 0.6469999999999999.\u001b[0m\n",
      "\u001b[32m[I 2020-05-31 20:55:45,762]\u001b[0m Finished trial#43 with value: 0.501 with parameters: {'q': 8.372760953872877e-05, 'sigma': 4.306641457039591, 'kenel': 8, 'lam': 3.655926131890563e-14, 'd': 4, 'c': 5.771950034829212, 'degree': 6, 'models': 0}. Best is trial#4 with value: 0.6469999999999999.\u001b[0m\n",
      "\u001b[32m[I 2020-05-31 20:55:52,203]\u001b[0m Finished trial#44 with value: 0.6445000000000001 with parameters: {'q': 0.00728520493352717, 'sigma': 4.335740894799537, 'kenel': 5, 'lam': 5.017349705388931e-15, 'd': 5, 'c': 1.938250346476383, 'degree': 9, 'models': 0}. Best is trial#4 with value: 0.6469999999999999.\u001b[0m\n",
      "\u001b[32m[I 2020-05-31 20:55:57,877]\u001b[0m Finished trial#45 with value: 0.6355000000000001 with parameters: {'q': 3.579360661084019e-05, 'sigma': 4.126400086694278, 'kenel': 4, 'lam': 4.507251211873258e-10, 'd': 3, 'c': 7.337497438320609, 'degree': 5, 'models': 0}. Best is trial#4 with value: 0.6469999999999999.\u001b[0m\n"
     ]
    },
    {
     "name": "stderr",
     "output_type": "stream",
     "text": [
      "/usr/local/lib/python3.6/dist-packages/ipykernel_launcher.py:23: RuntimeWarning:\n",
      "\n",
      "overflow encountered in exp\n",
      "\n",
      "/usr/local/lib/python3.6/dist-packages/ipykernel_launcher.py:35: RuntimeWarning:\n",
      "\n",
      "divide by zero encountered in true_divide\n",
      "\n"
     ]
    },
    {
     "name": "stdout",
     "output_type": "stream",
     "text": [
      "\u001b[32m[I 2020-05-31 20:56:14,887]\u001b[0m Finished trial#46 with value: 0.501 with parameters: {'q': 0.0001005934229780754, 'sigma': 4.834541416181051, 'kenel': 5, 'lam': 2.271445698974399e-11, 'd': 4, 'c': 1.128397245745463, 'degree': 7, 'models': 2}. Best is trial#4 with value: 0.6469999999999999.\u001b[0m\n",
      "\u001b[32m[I 2020-05-31 21:01:31,680]\u001b[0m Finished trial#47 with value: 0.624 with parameters: {'q': 1.2005344727762272e-05, 'sigma': 5.132969879296797, 'kenel': 7, 'lam': 2.370151395471665e-10, 'd': 5, 'c': 6.4433357417180535, 'degree': 3, 'models': 0}. Best is trial#4 with value: 0.6469999999999999.\u001b[0m\n",
      "\u001b[32m[I 2020-05-31 21:01:37,449]\u001b[0m Finished trial#48 with value: 0.637 with parameters: {'q': 0.28036163339168335, 'sigma': 3.5875384438123548, 'kenel': 4, 'lam': 1.7928027192860108e-12, 'd': 2, 'c': 4.079153796057843, 'degree': 6, 'models': 0}. Best is trial#4 with value: 0.6469999999999999.\u001b[0m\n",
      "\u001b[32m[I 2020-05-31 21:01:42,642]\u001b[0m Finished trial#49 with value: 0.6465 with parameters: {'q': 3.5499678815493443, 'sigma': 4.464985651417939, 'kenel': 5, 'lam': 2.897807827524743e-13, 'd': 6, 'c': 2.9132670345987988, 'degree': 8, 'models': 0}. Best is trial#4 with value: 0.6469999999999999.\u001b[0m\n",
      "\u001b[32m[I 2020-05-31 21:08:19,592]\u001b[0m Finished trial#50 with value: 0.501 with parameters: {'q': 1.45001606245133, 'sigma': 4.4939431252804125, 'kenel': 8, 'lam': 5.793801870870017e-06, 'd': 6, 'c': 1.3431013509976955, 'degree': 9, 'models': 0}. Best is trial#4 with value: 0.6469999999999999.\u001b[0m\n",
      "\u001b[32m[I 2020-05-31 21:08:26,019]\u001b[0m Finished trial#51 with value: 0.6465 with parameters: {'q': 3.3839920574924047, 'sigma': 4.61361505888543, 'kenel': 5, 'lam': 2.0322315984148367e-13, 'd': 7, 'c': 3.4434915539908846, 'degree': 10, 'models': 0}. Best is trial#4 with value: 0.6469999999999999.\u001b[0m\n",
      "\u001b[32m[I 2020-05-31 21:08:32,987]\u001b[0m Finished trial#52 with value: 0.6455 with parameters: {'q': 3.885477051963449, 'sigma': 4.149531661769732, 'kenel': 5, 'lam': 3.5266195998310483e-13, 'd': 7, 'c': 2.4944641476194285, 'degree': 10, 'models': 0}. Best is trial#4 with value: 0.6469999999999999.\u001b[0m\n",
      "\u001b[32m[I 2020-05-31 21:08:38,515]\u001b[0m Finished trial#53 with value: 0.6460000000000001 with parameters: {'q': 0.6190197427047919, 'sigma': 4.595925654011177, 'kenel': 5, 'lam': 7.382960943030993e-14, 'd': 7, 'c': 3.264365911543927, 'degree': 8, 'models': 0}. Best is trial#4 with value: 0.6469999999999999.\u001b[0m\n",
      "\u001b[32m[I 2020-05-31 21:08:44,896]\u001b[0m Finished trial#54 with value: 0.6450000000000001 with parameters: {'q': 0.7458073010564447, 'sigma': 5.014878486780788, 'kenel': 5, 'lam': 5.236804087662736e-15, 'd': 8, 'c': 3.3179833281965996, 'degree': 10, 'models': 0}. Best is trial#4 with value: 0.6469999999999999.\u001b[0m\n",
      "\u001b[32m[I 2020-05-31 21:08:50,832]\u001b[0m Finished trial#55 with value: 0.642 with parameters: {'q': 0.019330818751941866, 'sigma': 5.3418967361131005, 'kenel': 5, 'lam': 2.945634344389912e-13, 'd': 6, 'c': 2.888626713933477, 'degree': 9, 'models': 0}. Best is trial#4 with value: 0.6469999999999999.\u001b[0m\n",
      "\u001b[32m[I 2020-05-31 21:08:57,238]\u001b[0m Finished trial#56 with value: 0.6399999999999999 with parameters: {'q': 3.474677466776389, 'sigma': 3.7887670258561537, 'kenel': 4, 'lam': 5.273820674436039e-14, 'd': 7, 'c': 3.507013812364908, 'degree': 8, 'models': 0}. Best is trial#4 with value: 0.6469999999999999.\u001b[0m\n",
      "\u001b[32m[I 2020-05-31 21:09:03,968]\u001b[0m Finished trial#57 with value: 0.6459999999999999 with parameters: {'q': 0.6195969712126371, 'sigma': 4.473234759062625, 'kenel': 5, 'lam': 6.050557806808599e-11, 'd': 7, 'c': 2.284333038236488, 'degree': 8, 'models': 0}. Best is trial#4 with value: 0.6469999999999999.\u001b[0m\n",
      "\u001b[32m[I 2020-05-31 21:09:09,444]\u001b[0m Finished trial#58 with value: 0.6445 with parameters: {'q': 2.0067440376040975, 'sigma': 3.9985502698924473, 'kenel': 5, 'lam': 1.206365275708629e-15, 'd': 7, 'c': 2.8811089770203737, 'degree': 9, 'models': 0}. Best is trial#4 with value: 0.6469999999999999.\u001b[0m\n",
      "\u001b[32m[I 2020-05-31 21:09:18,055]\u001b[0m Finished trial#59 with value: 0.501 with parameters: {'q': 0.07992506364116524, 'sigma': 4.892513234645752, 'kenel': 6, 'lam': 1.8371161198498748e-08, 'd': 6, 'c': 2.1218180425588553, 'degree': 10, 'models': 0}. Best is trial#4 with value: 0.6469999999999999.\u001b[0m\n",
      "\u001b[32m[I 2020-05-31 21:09:24,135]\u001b[0m Finished trial#60 with value: 0.6445000000000001 with parameters: {'q': 0.00043584002583834557, 'sigma': 4.22146675609625, 'kenel': 5, 'lam': 1.4323482696072526e-13, 'd': 8, 'c': 4.262078293425857, 'degree': 2, 'models': 0}. Best is trial#4 with value: 0.6469999999999999.\u001b[0m\n",
      "\u001b[32m[I 2020-05-31 21:09:30,538]\u001b[0m Finished trial#61 with value: 0.6465 with parameters: {'q': 1.0280241938642745, 'sigma': 4.609796449059719, 'kenel': 5, 'lam': 6.380274577951903e-13, 'd': 6, 'c': 3.087780416222322, 'degree': 7, 'models': 0}. Best is trial#4 with value: 0.6469999999999999.\u001b[0m\n",
      "\u001b[32m[I 2020-05-31 21:09:36,951]\u001b[0m Finished trial#62 with value: 0.6460000000000001 with parameters: {'q': 0.9604193683208754, 'sigma': 4.646692682765497, 'kenel': 5, 'lam': 1.464885634765343e-14, 'd': 6, 'c': 3.010731059663636, 'degree': 7, 'models': 0}. Best is trial#4 with value: 0.6469999999999999.\u001b[0m\n",
      "\u001b[32m[I 2020-05-31 21:09:41,750]\u001b[0m Finished trial#63 with value: 0.6465 with parameters: {'q': 0.6776498273128646, 'sigma': 4.557649524880196, 'kenel': 5, 'lam': 1.068959613184487e-14, 'd': 6, 'c': 3.1700554142511153, 'degree': 7, 'models': 0}. Best is trial#4 with value: 0.6469999999999999.\u001b[0m\n",
      "\u001b[32m[I 2020-05-31 21:09:47,652]\u001b[0m Finished trial#64 with value: 0.6450000000000001 with parameters: {'q': 0.4005414432482806, 'sigma': 4.371720875200486, 'kenel': 5, 'lam': 1.26375002251141e-14, 'd': 6, 'c': 2.6224419796135585, 'degree': 7, 'models': 0}. Best is trial#4 with value: 0.6469999999999999.\u001b[0m\n",
      "\u001b[32m[I 2020-05-31 21:09:53,124]\u001b[0m Finished trial#65 with value: 0.6455 with parameters: {'q': 1.3735077977930004, 'sigma': 4.849344894887834, 'kenel': 5, 'lam': 2.6060892901594413e-15, 'd': 6, 'c': 3.08682328681029, 'degree': 7, 'models': 0}. Best is trial#4 with value: 0.6469999999999999.\u001b[0m\n",
      "\u001b[32m[I 2020-05-31 21:09:58,674]\u001b[0m Finished trial#66 with value: 0.6399999999999999 with parameters: {'q': 2.8841629606274988, 'sigma': 4.071425794331955, 'kenel': 4, 'lam': 9.796621984600906e-15, 'd': 6, 'c': 3.561330291932171, 'degree': 7, 'models': 0}. Best is trial#4 with value: 0.6469999999999999.\u001b[0m\n",
      "\u001b[32m[I 2020-05-31 21:10:04,233]\u001b[0m Finished trial#67 with value: 0.6465 with parameters: {'q': 0.3549079353403272, 'sigma': 4.556925264395809, 'kenel': 5, 'lam': 7.257867784993045e-14, 'd': 7, 'c': 3.310328079127934, 'degree': 8, 'models': 0}. Best is trial#4 with value: 0.6469999999999999.\u001b[0m\n"
     ]
    },
    {
     "name": "stderr",
     "output_type": "stream",
     "text": [
      "/usr/local/lib/python3.6/dist-packages/ipykernel_launcher.py:23: RuntimeWarning:\n",
      "\n",
      "overflow encountered in exp\n",
      "\n",
      "/usr/local/lib/python3.6/dist-packages/ipykernel_launcher.py:35: RuntimeWarning:\n",
      "\n",
      "divide by zero encountered in true_divide\n",
      "\n"
     ]
    }
   ],
   "source": [
    "# from kernels.basic import RBF, Linear, Polynomial\n",
    "# from kernels.regular import Exponential, Laplacian, RationalQuadratic, \\\n",
    "#                             InverseMultiquadratic, Cauchy, TStudent, ANOVA, Fourier, Tanimoto, Sorensen\n",
    "\n",
    "def objective_sgd(trial):\n",
    "    \n",
    "    q  = trial.suggest_loguniform('q', 1e-5, 4e+0)\n",
    "    \n",
    "    sigma  = trial.suggest_loguniform('sigma', 3e-0, 8e+0) # trial.suggest_float('sigma', 1e-5, 1e-3, log=True)\n",
    "    \n",
    "    kenel = trial.suggest_categorical('kenel', [4, 5, 6, 7, 8])#[Exponential, Laplacian, RationalQuadratic, InverseMultiquadratic, \\\n",
    "                                               #Cauchy, TStudent, ANOVA, Fourier, Tanimoto, Sorensen])\n",
    "    \n",
    "    lam = trial.suggest_loguniform('lam', 1e-15, 1e-4)\n",
    "    \n",
    "    d = trial.suggest_int('d', 2, 8)\n",
    "    c = trial.suggest_loguniform('c', 1, 8)\n",
    "    \n",
    "    degree = trial.suggest_int('degree', 2, 10)\n",
    "    \n",
    "    # trick to avoid warnning from opma that support only basic datatype\n",
    "    trick_list = [rbf_kernel, Exponential, Laplacian, RationalQuadratic, InverseMultiquadratic, \\\n",
    "                        Cauchy, TStudent, ANOVA, Fourier, Tanimoto, Sorensen]\n",
    "    \n",
    "    tol = 1e-7 # trial.suggest_loguniform('tol', 1e-7, 1e-0)\n",
    "    \n",
    "    n = 1 #trial.suggest_int('n', 2, 5)\n",
    "\n",
    "#     sigma=10, d=2, rbf=1.0, poly=1.0\n",
    "    \n",
    "#     lr  = trial.suggest_loguniform('lr', 2e-5, 1e-1)\n",
    "    \n",
    "#     normalise = trial.suggest_categorical('normalise', [False , True])\n",
    "    \n",
    "#     rbf = trial.suggest_loguniform('rbf', 1e-3, 3e+0)\n",
    "    \n",
    "#     poly = trial.suggest_loguniform('poly', 1e-3, 3e+0)\n",
    "    \n",
    "    \n",
    "    model = trial.suggest_categorical('models', [0, 2])\n",
    "    \n",
    "    trick_kernel_list = [ksolveRR , ksolveRR_2, ksolveLRR]#, KernelSVM]\n",
    "    \n",
    "    \n",
    "    \n",
    "    \n",
    "    # ksolveRR (self, X, y, lam= 0.0001, sigma=0.5, kernel=rbf_kernel)\n",
    "    # ksolveRR_2 (self, X, y, lam= 0.0001, sigma=0.5, sample_weights = None, kernel = rbf_kernel\n",
    "    # ksolveLRR (self, X, y, lam = 0.1, sigma = 4, max_iter=100, tol=1e-5, kernel=rbf_kernel\n",
    "    # KernelSVM (self, X, y, C=0.1, lam = 0.1, sigma = 4, tol = 1e-1, kernel=rbf_kernel\n",
    "    \n",
    "    models = {ksolveRR : 'k Ridge Reg', ksolveRR_2: 'weigh Ridge Reg', \\\n",
    "              ksolveLRR: 'k Logistic Ridge Reg', KernelSVM : 'Kernal SVM'}#, LogisticRegressionBinary: 'log reg'} \n",
    "     \n",
    "    kernels = {Exponential : 'Exponential kernel (self, sigma=None)',\n",
    "               Laplacian : 'Laplacian kernel (self, sigma=None)',\n",
    "               Cauchy : 'Cauchy kernel (self, sigma=None)',\n",
    "               \n",
    "               RationalQuadratic : 'Rational quadratic kernel (self, c=1)',\n",
    "               InverseMultiquadratic : 'Inverse multiquadratic kernel (self, c=1)',\n",
    "               \n",
    "               TStudent : 'T-Student kernel (self, degree=2)',\n",
    "               \n",
    "               ANOVA : 'ANOVA kernel (self, sigma=1., d=2)',\n",
    "               \n",
    "               Fourier : 'Fourier kernel (self, q=0.1)',\n",
    "               \n",
    "               Tanimoto : 'Tanimoto kernel',\n",
    "               Sorensen : 'Sorensen kernel'\n",
    "              }\n",
    "    \n",
    "    if kernels[trick_list[kenel]] == 'ANOVA kernel (self, sigma=sigma, d=d)':\n",
    "        kenel = trick_list[kenel](sigma=sigma, d=d)\n",
    "        \n",
    "    elif kernels[trick_list[kenel]] == 'Exponential kernel (self, sigma=None)' or \\\n",
    "                        kernels[trick_list[kenel]] == 'Laplacian kernel (self, sigma=None)' or \\\n",
    "                        kernels[trick_list[kenel]] == 'Cauchy kernel (self, sigma=None)':\n",
    "        kenel = trick_list[kenel](sigma=sigma)\n",
    "        \n",
    "    elif kernels[trick_list[kenel]] == 'Rational quadratic kernel (self, c=1)' or \\\n",
    "                        kernels[trick_list[kenel]] == 'Inverse multiquadratic kernel (self, c=1)':\n",
    "        kenel = trick_list[kenel](c=c)\n",
    "        \n",
    "    elif kernels[trick_list[kenel]] == 'T-Student kernel (self, degree=2)':\n",
    "        kenel = trick_list[kenel](degree=degree)\n",
    "        \n",
    "    elif kernels[trick_list[kenel]] == 'Fourier kernel (self, q=0.1)':\n",
    "        kenel = trick_list[kenel](q=q)\n",
    "        \n",
    "    else:\n",
    "        kenel = trick_list[kenel]()\n",
    "        \n",
    "    \n",
    "#     n = 1\n",
    "    \n",
    "#     models = {ksolveRR : 'k Ridge Reg'} \n",
    "      \n",
    "    \n",
    "\n",
    "    X_cross, y_cross, X_t_enc = spectrum_kernal(X_train_, Y_train_, X_test_, n=n, encoder=8, one_hot = True, normalise = False)\n",
    "    \n",
    "#     for model in models:\n",
    "    accuracy = []\n",
    "    for i, (train_index, validate_index) in enumerate(kfold.split(X_cross)):\n",
    "        X_train, y_train = X_cross[train_index], y_cross[train_index]\n",
    "        X_valid, y_valid = X_cross[validate_index], y_cross[validate_index]\n",
    "\n",
    "#             ipdb.set_trace()\n",
    "        if models[trick_kernel_list[model]] == 'weigh Ridge Reg':\n",
    "            sample_weights = np.random.rand(len(y_train))\n",
    "            model_curr = trick_kernel_list[model](X_train, y_train, lam = lam, sample_weights = sample_weights, kernel = kenel)\n",
    "\n",
    "        elif models[trick_kernel_list[model]] == 'k Logistic Ridge Reg':\n",
    "#             ipdb.set_trace()\n",
    "            model_curr = trick_kernel_list[model](X_train, y_train, lam = lam, max_iter=100, tol = tol, kernel = kenel)\n",
    "        \n",
    "        elif models[trick_kernel_list[model]] == 'k Ridge Reg':\n",
    "#                 model_curr = model(X_train, y_train, lam= lam, sigma = sigma, d=d, rbf=rbf, poly=poly, kernel=rbf_kernel)\n",
    "\n",
    "            model_curr = trick_kernel_list[model](X_train, y_train, lam= lam, kernel=kenel)\n",
    "        \n",
    "        elif models[trick_kernel_list[model]] == 'log reg':\n",
    "            model_curr = trick_kernel_list[model](lr=lr, num_iter=5000, batch_size=1)\n",
    "        \n",
    "        else:\n",
    "            model_curr = trick_kernel_list[model](X_train, y_train, C=c, lam = lam, tol= tol, kernel = kenel)\n",
    "\n",
    "        if models[trick_kernel_list[model]] == 'log reg':\n",
    "            model_curr.fit(X_train, y_train)\n",
    "        else:\n",
    "            model_curr.fit()\n",
    "\n",
    "\n",
    "        accuracy.append(model_curr.Accuracy_check(X_valid, y_valid, threshold=0.5))\n",
    "                \n",
    "    #       print(f'accurracy fold {i}: {accuracy[i]}')\n",
    "\n",
    "    #         print(f'\\nAverage accuracy {models[model]} is : {np.mean(accuracy)}\\n')\n",
    "\n",
    "    return np.mean(accuracy)\n",
    "\n",
    "sampler = optuna.samplers.TPESampler()\n",
    "\n",
    "study = optuna.create_study(sampler=sampler, direction='maximize')\n",
    "study.optimize(func=objective_sgd, n_trials=1500, show_progress_bar=True)\n",
    "\n",
    "\n",
    "trial = study.best_trial\n",
    "\n",
    "print('Accuracy: {}'.format(trial.value))\n",
    "print(\"Best hyperparameters: {}\".format(trial.params))"
   ]
  },
  {
   "cell_type": "code",
   "execution_count": null,
   "metadata": {},
   "outputs": [],
   "source": [
    "print('Accuracy: {}'.format(trial.value))\n",
    "print(\"Best hyperparameters: {}\".format(trial.params))"
   ]
  },
  {
   "cell_type": "code",
   "execution_count": null,
   "metadata": {},
   "outputs": [],
   "source": []
  },
  {
   "cell_type": "code",
   "execution_count": null,
   "metadata": {},
   "outputs": [],
   "source": [
    "def objective_sgd(trial):\n",
    "#     c  = trial.suggest_loguniform('c', 1e-20, 2e1)\n",
    "    sigma  = trial.suggest_float('sigma', 1e-25, 25) # trial.suggest_float('sigma', 1e-5, 1e-3, log=True)\n",
    "#     kenel = trial.suggest_categorical('kenel', [rbf_kernel, quadratic_kernel])\n",
    "    lam = trial.suggest_float('lam', 1e-30, 1e-0)\n",
    "    tol = trial.suggest_loguniform('tol', 1e-10, 1e-0)\n",
    "    \n",
    "    # ksolveRR (self, X, y, lam= 0.0001, sigma=0.5, kernel=rbf_kernel)\n",
    "    # ksolveRR_2 (self, X, y, lam= 0.0001, sigma=0.5, sample_weights = None, kernel = rbf_kernel\n",
    "    # ksolveLRR (self, X, y, lam = 0.1, sigma = 4, max_iter=100, tol=1e-5, kernel=rbf_kernel\n",
    "    # KernelSVM (self, X, y, C=0.1, lam = 0.1, sigma = 4, tol = 1e-1, kernel=rbf_kernel\n",
    "    \n",
    "#     models = {ksolveRR : 'k Ridge Reg', ksolveRR_2: 'weigh Ridge Reg', \\\n",
    "#               ksolveLRR: 'k Logistic Ridge Reg', KernelSVM : 'Kernal SVM'} \n",
    "#     \n",
    "    kenel = rbf_kernel\n",
    "    models = {ksolveRR : 'k Ridge Reg} \n",
    "      \n",
    "#     accuracy = []\n",
    "    for model in models:\n",
    "        accuracy = []\n",
    "        for i, (train_index, validate_index) in enumerate(kfold.split(X_cross)):\n",
    "            X_train, y_train = X_cross[train_index], y_cross[train_index]\n",
    "            X_valid, y_valid = X_cross[validate_index], y_cross[validate_index]\n",
    "            \n",
    "            \n",
    "#             ipdb.set_trace()\n",
    "            if models[model] == 'weigh Ridge Reg':\n",
    "                sample_weights = np.random.rand(len(y_train))\n",
    "                model_curr = model(X_train, y_train, lam = lam, sigma = sigma, sample_weights = sample_weights, kernel = kenel)\n",
    "                \n",
    "            elif models[model] == 'k Logistic Ridge Reg':\n",
    "                model_curr = model(X_train, y_train, lam = lam, sigma = sigma, max_iter=500, tol = tol, kernel = kenel)\n",
    "            elif models[model] == 'k Ridge Reg':\n",
    "                model_curr = model(X_train, y_train, lam = lam, sigma = sigma, kernel = kenel)\n",
    "            else:\n",
    "                model_curr = model(X_train, y_train, C=c, lam = lam, sigma = sigma, tol= tol, kernel = kenel)\n",
    "            \n",
    "            model_curr.fit()\n",
    "            accuracy.append(model_curr.Accuracy_check(X_valid, y_valid, threshold=0.5))\n",
    "#             print(f'accurracy fold {i}: {accuracy[i]}')\n",
    "        \n",
    "#         print(f'\\nAverage accuracy {models[model]} is : {np.mean(accuracy)}\\n')\n",
    "\n",
    "    return np.mean(accuracy)\n",
    "\n",
    "sampler = optuna.samplers.TPESampler()\n",
    "\n",
    "study = optuna.create_study(sampler=sampler, direction='maximize')\n",
    "study.optimize(func=objective_sgd, n_trials=5500,show_progress_bar=True)\n",
    "\n",
    "\n",
    "trial = study.best_trial\n",
    "\n",
    "print('Accuracy: {}'.format(trial.value))\n",
    "print(\"Best hyperparameters: {}\".format(trial.params))"
   ]
  },
  {
   "cell_type": "code",
   "execution_count": null,
   "metadata": {},
   "outputs": [],
   "source": [
    "# Accuracy: 0.7025 (overfitting on accuracy 4)\n",
    "# Best hyperparameters: {'sigma': 4.133127895830191, 'lam': 6.196055115305764e-14}"
   ]
  },
  {
   "cell_type": "code",
   "execution_count": null,
   "metadata": {},
   "outputs": [],
   "source": [
    "# Augmented data\n",
    "\n",
    "# sigma  = trial.suggest_loguniform('sigma', 1e-20, 20)\n",
    "# lam = trial.suggest_loguniform('lam', 1e-20, 1e-1)\n",
    "\n",
    "# models = {ksolveRR: 'k Ridge Reg'} (Augmented data)\n",
    "    # kenel = quadratic_kernel\n",
    "    # Accuracy: 0.6555\n",
    "    # Best hyperparameters: {'sigma': 4.065620491225982, 'lam': 0.013374107290659768}\n",
    "    # time: 49min 21s\n",
    "    #----\n",
    "    # kenel = rbf_kernel\n",
    "    # Accuracy: 0.6575 # 0.6575000000000001\n",
    "    # Best hyperparameters: {'sigma': 4.119788517147901, 'lam': 1.2752298700618223e-14}, {'sigma': 4.063158315715049, 'lam': 8.30834772639223e-05}\n",
    "    # time: 32min 57s\n",
    "    \n",
    "    # ------\n",
    "    # kenel = rbf_kernel\n",
    "    # Accuracy: 0.6595000000000001\n",
    "    # Best hyperparameters: {'sigma': 4.1032895001889464, 'lam': 0.00014526367793975609}\n",
    "    # time: --\n",
    "\n",
    "    \n",
    "# sigma  = trial.suggest_loguniform('sigma', 1e-3, 20)\n",
    "# lam = trial.suggest_loguniform('lam', 1e-15, 1e-0)\n",
    "\n",
    "# models = {ksolveRR: 'k Ridge Reg'} (Non-Augmented data)\n",
    "    # kenel = quadratic_kernel\n",
    "    # Accuracy: 0.6555\n",
    "    # Best hyperparameters: {'sigma': 4.069738272304652, 'lam': 0.053817561640154984}\n",
    "    # time: 48min 12s\n",
    "    #----\n",
    "    # kenel = rbf_kernel\n",
    "    # Accuracy: 0.6575000000000001\n",
    "    # Best hyperparameters: {'sigma': 4.001185698777986, 'lam': 1.9770379950513775e-10}\n",
    "    # time: 29min 58s\n",
    "    \n",
    "\n",
    "# Accuracy: 0.6605000000000001\n",
    "# Best hyperparameters: {'sigma': 4.538118805230398, 'lam': 8.583924705371449e-15}\n",
    "# time: 1.32 ms\n",
    "\n",
    "# Original data\n",
    "\n",
    "# sigma  = trial.suggest_loguniform('sigma', 1e-3, 20)\n",
    "# lam = trial.suggest_loguniform('lam', 1e-15, 1e-0)\n",
    "  \n",
    "# models = {ksolveRR: 'k Ridge Reg'} (Non-Augmented data standardize)\n",
    "    # kenel = rbf_kernel\n",
    "    # Accuracy: 0.612\n",
    "    # Best hyperparameters: {'sigma': 2.8925324917718167, 'lam': 1.2575244169567934e-08}\n",
    "    # time: 28min 33s \n",
    "    #----\n",
    "    # kenel = quadratic_kernel\n",
    "    # Accuracy: EROOR LinearAlg\n",
    "    # Best hyperparameters: \n",
    "    # time: "
   ]
  },
  {
   "cell_type": "code",
   "execution_count": null,
   "metadata": {},
   "outputs": [],
   "source": [
    "# {'sigma': 4.119788517147901, 'lam': 1.2752298700618223e-14}    # time: 32min 57s BEST(69.4)\n",
    "# ksolveRR_65_cv_0.00000000001_4.csv Second (69.2)\n"
   ]
  },
  {
   "cell_type": "code",
   "execution_count": 44,
   "metadata": {},
   "outputs": [
    {
     "data": {
      "text/plain": [
       "{'sigma': 4.001616944273439, 'lam': 4.873253388094652e-09}"
      ]
     },
     "execution_count": 44,
     "metadata": {},
     "output_type": "execute_result"
    },
    {
     "name": "stdout",
     "output_type": "stream",
     "text": [
      "time: 6.78 ms\n"
     ]
    }
   ],
   "source": [
    "trial.params"
   ]
  },
  {
   "cell_type": "code",
   "execution_count": 45,
   "metadata": {},
   "outputs": [
    {
     "name": "stdout",
     "output_type": "stream",
     "text": [
      "accurracy fold 0: 0.6075\n",
      "accurracy fold 1: 0.6575\n",
      "accurracy fold 2: 0.675\n",
      "accurracy fold 3: 0.65\n",
      "accurracy fold 4: 0.6975\n",
      "\n",
      "Average accuracy k Ridge Reg is : 0.6575000000000001\n",
      "\n",
      "time: 1.89 s\n"
     ]
    }
   ],
   "source": [
    "#     models = {ksolveRR : 'k Ridge Reg', ksolveRR_2: 'weigh Ridge Reg', \\\n",
    "#               ksolveLRR: 'k Logistic Ridge Reg', KernelSVM : 'Kernal SVM'\n",
    "\n",
    "# c  = \n",
    "\n",
    "trial.params\n",
    "sigma  = trial.params['sigma'] #4.133127895830191 #4#4.119788517147901 #4.538118805230398\n",
    "kenel = rbf_kernel\n",
    "lam = trial.params['lam'] #6.196055115305764e-14#0.00000000001#1.2752298700618223e-14#8.583924705371449e-15 8.583924705371449e-15 #\n",
    "# tol = \n",
    "    \n",
    "#     ksolveRR (self, X, y, lam= 0.0001, sigma=0.5, kernel=rbf_kernel)\n",
    "#     ksolveRR_2 (self, X, y, lam= 0.0001, sigma=0.5, sample_weights = None, kernel = rbf_kernel\n",
    "#     ksolveLRR (self, X, y, lam = 0.1, sigma = 4, max_iter=100, tol=1e-5, kernel=rbf_kernel\n",
    "#     KernelSVM (self, X, y, C=0.1, lam = 0.1, sigma = 4, tol = 1e-1, kernel=rbf_kernel\n",
    "\n",
    "X_train_ = pd.read_csv('./data/Xtr.csv', sep=',') #we use this dataset to train our model\n",
    "Y_train_ = pd.read_csv('./data/Ytr.csv', sep=',') #we use this dataset to train our model\n",
    "X_test_ = pd.read_csv('./data/Xte.csv', sep=',')\n",
    "\n",
    "X_cross, y_cross, X_t_enc = spectrum_kernal(X_train_, Y_train_, X_test_, n=1, encoder=8, one_hot = True, normalise = False)\n",
    "\n",
    "    \n",
    "models = {ksolveRR : 'k Ridge Reg'}\n",
    "\n",
    "for model in models:\n",
    "    accuracy = []\n",
    "    for i, (train_index, validate_index) in enumerate(kfold.split(X_cross)):\n",
    "\n",
    "        X_train, y_train = X_cross[train_index], y_cross[train_index]\n",
    "        X_valid, y_valid = X_cross[validate_index], y_cross[validate_index]\n",
    "\n",
    "        if models[model] == 'weigh Ridge Reg':\n",
    "            sample_weights = np.random.rand(len(y_train))\n",
    "            model_curr = model(X_train, y_train, lam = lam, sigma = sigma, sample_weights = sample_weights, kernel = kenel)\n",
    "        elif models[model] == 'k Logistic Ridge Reg':\n",
    "            model_curr = model(X_train, y_train, lam = lam, sigma = sigma, max_iter=500, tol = tol, kernel = kenel)\n",
    "        \n",
    "        elif models[model] == 'k Ridge Reg':\n",
    "            model_curr = model(X_train, y_train, lam = lam, sigma = sigma, kernel = kenel)\n",
    "        else:\n",
    "            model_curr = model(X_train, y_train, C=c, lam = lam, sigma = sigma, tol= tol, kernel = kenel)\n",
    "            \n",
    "        model_curr.fit()\n",
    "\n",
    "        accuracy.append(model_curr.Accuracy_check(X_valid, y_valid, threshold=0.5))\n",
    "        print(f'accurracy fold {i}: {accuracy[i]}')\n",
    "    \n",
    "    print(f'\\nAverage accuracy {models[model]} is : {np.mean(accuracy)}\\n')"
   ]
  },
  {
   "cell_type": "code",
   "execution_count": 56,
   "metadata": {},
   "outputs": [
    {
     "name": "stdout",
     "output_type": "stream",
     "text": [
      "time: 525 µs\n"
     ]
    }
   ],
   "source": [
    "# 0.6535 = 0.68800\n",
    "# 0.657 = 0.69200"
   ]
  },
  {
   "cell_type": "code",
   "execution_count": 74,
   "metadata": {},
   "outputs": [
    {
     "data": {
      "text/plain": [
       "1.0"
      ]
     },
     "execution_count": 74,
     "metadata": {},
     "output_type": "execute_result"
    },
    {
     "name": "stdout",
     "output_type": "stream",
     "text": [
      "time: 544 ms\n"
     ]
    }
   ],
   "source": [
    "# Cehckinf full model\n",
    "model = ksolveRR(X_cross, y_cross, lam = lam, sigma = sigma, kernel = kenel)\n",
    "# model = svm_primal_soft_to_qp(X_cross, y_cross, C=1)\n",
    "\n",
    "model.fit()\n",
    "\n",
    "model.Accuracy_check(X_cross, y_cross, threshold=0.5)"
   ]
  },
  {
   "cell_type": "markdown",
   "metadata": {},
   "source": [
    "# Predictions"
   ]
  },
  {
   "cell_type": "code",
   "execution_count": 75,
   "metadata": {},
   "outputs": [
    {
     "name": "stdout",
     "output_type": "stream",
     "text": [
      "time: 443 ms\n"
     ]
    }
   ],
   "source": [
    "model = ksolveRR(X_cross, y_cross, lam = lam, sigma = sigma, kernel = kenel)\n",
    "model.fit()\n",
    "y_pred = model.predict(X_t_enc, 0.5)"
   ]
  },
  {
   "cell_type": "code",
   "execution_count": 76,
   "metadata": {},
   "outputs": [
    {
     "data": {
      "text/html": [
       "<div>\n",
       "<style scoped>\n",
       "    .dataframe tbody tr th:only-of-type {\n",
       "        vertical-align: middle;\n",
       "    }\n",
       "\n",
       "    .dataframe tbody tr th {\n",
       "        vertical-align: top;\n",
       "    }\n",
       "\n",
       "    .dataframe thead th {\n",
       "        text-align: right;\n",
       "    }\n",
       "</style>\n",
       "<table border=\"1\" class=\"dataframe\">\n",
       "  <thead>\n",
       "    <tr style=\"text-align: right;\">\n",
       "      <th></th>\n",
       "      <th>Id</th>\n",
       "    </tr>\n",
       "  </thead>\n",
       "  <tbody>\n",
       "    <tr>\n",
       "      <th>0</th>\n",
       "      <td>0</td>\n",
       "    </tr>\n",
       "    <tr>\n",
       "      <th>1</th>\n",
       "      <td>1</td>\n",
       "    </tr>\n",
       "    <tr>\n",
       "      <th>2</th>\n",
       "      <td>2</td>\n",
       "    </tr>\n",
       "    <tr>\n",
       "      <th>3</th>\n",
       "      <td>3</td>\n",
       "    </tr>\n",
       "    <tr>\n",
       "      <th>4</th>\n",
       "      <td>4</td>\n",
       "    </tr>\n",
       "  </tbody>\n",
       "</table>\n",
       "</div>"
      ],
      "text/plain": [
       "   Id\n",
       "0   0\n",
       "1   1\n",
       "2   2\n",
       "3   3\n",
       "4   4"
      ]
     },
     "execution_count": 76,
     "metadata": {},
     "output_type": "execute_result"
    },
    {
     "name": "stdout",
     "output_type": "stream",
     "text": [
      "time: 9.91 ms\n"
     ]
    }
   ],
   "source": [
    "X = np.arange(1000).reshape(-1, 1)\n",
    "sample = pd.DataFrame(data=X, columns=['Id'])\n",
    "sample.head()"
   ]
  },
  {
   "cell_type": "code",
   "execution_count": 77,
   "metadata": {},
   "outputs": [
    {
     "name": "stdout",
     "output_type": "stream",
     "text": [
      "time: 1.85 ms\n"
     ]
    }
   ],
   "source": [
    "sample['Bound'] = y_pred"
   ]
  },
  {
   "cell_type": "code",
   "execution_count": 78,
   "metadata": {},
   "outputs": [
    {
     "data": {
      "text/html": [
       "<div>\n",
       "<style scoped>\n",
       "    .dataframe tbody tr th:only-of-type {\n",
       "        vertical-align: middle;\n",
       "    }\n",
       "\n",
       "    .dataframe tbody tr th {\n",
       "        vertical-align: top;\n",
       "    }\n",
       "\n",
       "    .dataframe thead th {\n",
       "        text-align: right;\n",
       "    }\n",
       "</style>\n",
       "<table border=\"1\" class=\"dataframe\">\n",
       "  <thead>\n",
       "    <tr style=\"text-align: right;\">\n",
       "      <th></th>\n",
       "      <th>Id</th>\n",
       "      <th>Bound</th>\n",
       "    </tr>\n",
       "  </thead>\n",
       "  <tbody>\n",
       "    <tr>\n",
       "      <th>995</th>\n",
       "      <td>995</td>\n",
       "      <td>0</td>\n",
       "    </tr>\n",
       "    <tr>\n",
       "      <th>996</th>\n",
       "      <td>996</td>\n",
       "      <td>0</td>\n",
       "    </tr>\n",
       "    <tr>\n",
       "      <th>997</th>\n",
       "      <td>997</td>\n",
       "      <td>1</td>\n",
       "    </tr>\n",
       "    <tr>\n",
       "      <th>998</th>\n",
       "      <td>998</td>\n",
       "      <td>1</td>\n",
       "    </tr>\n",
       "    <tr>\n",
       "      <th>999</th>\n",
       "      <td>999</td>\n",
       "      <td>1</td>\n",
       "    </tr>\n",
       "  </tbody>\n",
       "</table>\n",
       "</div>"
      ],
      "text/plain": [
       "      Id  Bound\n",
       "995  995      0\n",
       "996  996      0\n",
       "997  997      1\n",
       "998  998      1\n",
       "999  999      1"
      ]
     },
     "execution_count": 78,
     "metadata": {},
     "output_type": "execute_result"
    },
    {
     "name": "stdout",
     "output_type": "stream",
     "text": [
      "time: 9.87 ms\n"
     ]
    }
   ],
   "source": [
    "sample.tail()"
   ]
  },
  {
   "cell_type": "code",
   "execution_count": 79,
   "metadata": {},
   "outputs": [
    {
     "name": "stdout",
     "output_type": "stream",
     "text": [
      "time: 3.99 ms\n"
     ]
    }
   ],
   "source": [
    "sample.to_csv('./ksolveRR_0.6625000000000001_cv_rbf_kernel_sigma_'+str(sigma)+'_lam_'+str(lam)+'.csv', index=False)"
   ]
  },
  {
   "cell_type": "code",
   "execution_count": null,
   "metadata": {},
   "outputs": [],
   "source": []
  }
 ],
 "metadata": {
  "kernelspec": {
   "display_name": "Python 3",
   "language": "python",
   "name": "python3"
  },
  "language_info": {
   "codemirror_mode": {
    "name": "ipython",
    "version": 3
   },
   "file_extension": ".py",
   "mimetype": "text/x-python",
   "name": "python",
   "nbconvert_exporter": "python",
   "pygments_lexer": "ipython3",
   "version": "3.6.9"
  }
 },
 "nbformat": 4,
 "nbformat_minor": 4
}
